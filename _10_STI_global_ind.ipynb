{
  "nbformat": 4,
  "nbformat_minor": 0,
  "metadata": {
    "colab": {
      "name": "*10_STI_global_ind.ipynb",
      "provenance": [],
      "collapsed_sections": [],
      "authorship_tag": "ABX9TyMmrLMNRBiEBDCj83ZGfWZv",
      "include_colab_link": true
    },
    "kernelspec": {
      "display_name": "Python 3",
      "name": "python3"
    },
    "language_info": {
      "name": "python"
    }
  },
  "cells": [
    {
      "cell_type": "markdown",
      "metadata": {
        "id": "view-in-github",
        "colab_type": "text"
      },
      "source": [
        "<a href=\"https://colab.research.google.com/github/vinayakkgarg/HybridLSTM_For_NIFTY_predictions/blob/main/_10_STI_global_ind.ipynb\" target=\"_parent\"><img src=\"https://colab.research.google.com/assets/colab-badge.svg\" alt=\"Open In Colab\"/></a>"
      ]
    },
    {
      "cell_type": "markdown",
      "metadata": {
        "id": "C94TMfUeFMzT"
      },
      "source": [
        "## 1. Importing the libraries"
      ]
    },
    {
      "cell_type": "code",
      "metadata": {
        "id": "erpPxIj2_2_v"
      },
      "source": [
        "import pandas as pd\n",
        "import os\n",
        "from sklearn import preprocessing\n",
        "from sklearn.model_selection import train_test_split\n",
        "import matplotlib.pyplot as plt\n",
        "import pandas as pd\n",
        "import datetime as dt\n",
        "import numpy as np\n",
        "from sklearn.preprocessing import StandardScaler\n",
        "from sklearn.metrics import mean_squared_error"
      ],
      "execution_count": null,
      "outputs": []
    },
    {
      "cell_type": "markdown",
      "metadata": {
        "id": "KT2IzpFhFSxG"
      },
      "source": [
        "## 2. Loading the Data"
      ]
    },
    {
      "cell_type": "code",
      "metadata": {
        "colab": {
          "base_uri": "https://localhost:8080/"
        },
        "id": "cX35Ywlf_9Oh",
        "outputId": "eb4b5686-4a41-4788-8618-64f4b971e411"
      },
      "source": [
        "from google.colab import drive\n",
        "drive.mount('/content/gdrive')"
      ],
      "execution_count": null,
      "outputs": [
        {
          "output_type": "stream",
          "text": [
            "Mounted at /content/gdrive\n"
          ],
          "name": "stdout"
        }
      ]
    },
    {
      "cell_type": "code",
      "metadata": {
        "colab": {
          "base_uri": "https://localhost:8080/"
        },
        "id": "r3408zT4ARZP",
        "outputId": "d03ace00-7433-4e3c-e05c-9da158f63184"
      },
      "source": [
        "%cd /content/gdrive/My Drive/StockDataset-Daily-10yrs\n",
        "!ls\n",
        "\n"
      ],
      "execution_count": null,
      "outputs": [
        {
          "output_type": "stream",
          "text": [
            "/content/gdrive/My Drive/StockDataset-Daily-10yrs\n",
            "dax.csv  ftse.csv   nasdaq.csv\tsnp.csv\t\t    twse.csv\n",
            "dji.csv  hsi.csv    nifty.csv\tsti.csv\t\t    us10y.csv\n",
            "dxy.csv  kospi.csv  nikkei.csv\ttech_ind_final.csv  usdinr.csv\n"
          ],
          "name": "stdout"
        }
      ]
    },
    {
      "cell_type": "code",
      "metadata": {
        "id": "btWnAx3nj_uE"
      },
      "source": [
        "# tech_ind = pd.read_csv('./tech-ind.csv')"
      ],
      "execution_count": null,
      "outputs": []
    },
    {
      "cell_type": "code",
      "metadata": {
        "id": "bYfN7ZCIROFl"
      },
      "source": [
        "# tech_ind = pd.read_csv('tech_ind_final.csv')"
      ],
      "execution_count": null,
      "outputs": []
    },
    {
      "cell_type": "code",
      "metadata": {
        "id": "8gWMNApeF5xg"
      },
      "source": [
        ""
      ],
      "execution_count": null,
      "outputs": []
    },
    {
      "cell_type": "markdown",
      "metadata": {
        "id": "HjFLsd_fFlz2"
      },
      "source": [
        "Reading the names of all dataframes into a list"
      ]
    },
    {
      "cell_type": "code",
      "metadata": {
        "id": "p8p0lkzB7Bbx"
      },
      "source": [
        "\n",
        "list_of_dfs = []\n",
        "for x in os.listdir():\n",
        "  if(x=='tech_ind_final.csv'):\n",
        "    tech_ind = pd.read_csv('./tech_ind_final.csv')\n",
        "    continue\n",
        "  list_of_dfs.append(x[:-4])"
      ],
      "execution_count": null,
      "outputs": []
    },
    {
      "cell_type": "code",
      "metadata": {
        "colab": {
          "base_uri": "https://localhost:8080/",
          "height": 626
        },
        "id": "U27ScUXz2CTl",
        "outputId": "a23d0a32-ce65-422c-e607-6c574fd20744"
      },
      "source": [
        "tech_ind"
      ],
      "execution_count": null,
      "outputs": [
        {
          "output_type": "execute_result",
          "data": {
            "text/html": [
              "<div>\n",
              "<style scoped>\n",
              "    .dataframe tbody tr th:only-of-type {\n",
              "        vertical-align: middle;\n",
              "    }\n",
              "\n",
              "    .dataframe tbody tr th {\n",
              "        vertical-align: top;\n",
              "    }\n",
              "\n",
              "    .dataframe thead th {\n",
              "        text-align: right;\n",
              "    }\n",
              "</style>\n",
              "<table border=\"1\" class=\"dataframe\">\n",
              "  <thead>\n",
              "    <tr style=\"text-align: right;\">\n",
              "      <th></th>\n",
              "      <th>Unnamed: 0</th>\n",
              "      <th>Date</th>\n",
              "      <th>Open</th>\n",
              "      <th>High</th>\n",
              "      <th>Low</th>\n",
              "      <th>Close</th>\n",
              "      <th>daily_return</th>\n",
              "      <th>cum_daily_return</th>\n",
              "      <th>H-L</th>\n",
              "      <th>C-O</th>\n",
              "      <th>10day MA</th>\n",
              "      <th>50day MA</th>\n",
              "      <th>200day MA</th>\n",
              "      <th>rsi</th>\n",
              "      <th>ma7</th>\n",
              "      <th>ma21</th>\n",
              "      <th>ema_26</th>\n",
              "      <th>ema_12</th>\n",
              "      <th>macd</th>\n",
              "      <th>bb_high</th>\n",
              "      <th>bb_low</th>\n",
              "      <th>ema</th>\n",
              "      <th>momentum</th>\n",
              "    </tr>\n",
              "  </thead>\n",
              "  <tbody>\n",
              "    <tr>\n",
              "      <th>0</th>\n",
              "      <td>0</td>\n",
              "      <td>2000-01-03</td>\n",
              "      <td>1482.15</td>\n",
              "      <td>1592.90</td>\n",
              "      <td>1482.15</td>\n",
              "      <td>1592.20</td>\n",
              "      <td>0.000000</td>\n",
              "      <td>1.000000</td>\n",
              "      <td>110.75</td>\n",
              "      <td>110.05</td>\n",
              "      <td>0.000</td>\n",
              "      <td>0.000</td>\n",
              "      <td>0.00000</td>\n",
              "      <td>0.000000</td>\n",
              "      <td>0.000000</td>\n",
              "      <td>0.000000</td>\n",
              "      <td>1592.200000</td>\n",
              "      <td>1592.200000</td>\n",
              "      <td>0.000000</td>\n",
              "      <td>0.000000</td>\n",
              "      <td>0.000000</td>\n",
              "      <td>1592.200000</td>\n",
              "      <td>1591.20</td>\n",
              "    </tr>\n",
              "    <tr>\n",
              "      <th>1</th>\n",
              "      <td>1</td>\n",
              "      <td>2000-01-04</td>\n",
              "      <td>1594.40</td>\n",
              "      <td>1641.95</td>\n",
              "      <td>1594.40</td>\n",
              "      <td>1638.70</td>\n",
              "      <td>0.029205</td>\n",
              "      <td>1.029205</td>\n",
              "      <td>47.55</td>\n",
              "      <td>44.30</td>\n",
              "      <td>0.000</td>\n",
              "      <td>0.000</td>\n",
              "      <td>0.00000</td>\n",
              "      <td>0.000000</td>\n",
              "      <td>0.000000</td>\n",
              "      <td>0.000000</td>\n",
              "      <td>1616.344231</td>\n",
              "      <td>1617.387500</td>\n",
              "      <td>1.043269</td>\n",
              "      <td>0.000000</td>\n",
              "      <td>0.000000</td>\n",
              "      <td>1627.075000</td>\n",
              "      <td>1637.70</td>\n",
              "    </tr>\n",
              "    <tr>\n",
              "      <th>2</th>\n",
              "      <td>2</td>\n",
              "      <td>2000-01-05</td>\n",
              "      <td>1634.55</td>\n",
              "      <td>1635.50</td>\n",
              "      <td>1555.05</td>\n",
              "      <td>1595.80</td>\n",
              "      <td>-0.026179</td>\n",
              "      <td>1.002261</td>\n",
              "      <td>80.45</td>\n",
              "      <td>-38.75</td>\n",
              "      <td>0.000</td>\n",
              "      <td>0.000</td>\n",
              "      <td>0.00000</td>\n",
              "      <td>0.000000</td>\n",
              "      <td>0.000000</td>\n",
              "      <td>0.000000</td>\n",
              "      <td>1608.962888</td>\n",
              "      <td>1608.961894</td>\n",
              "      <td>-0.000994</td>\n",
              "      <td>0.000000</td>\n",
              "      <td>0.000000</td>\n",
              "      <td>1605.423077</td>\n",
              "      <td>1594.80</td>\n",
              "    </tr>\n",
              "    <tr>\n",
              "      <th>3</th>\n",
              "      <td>3</td>\n",
              "      <td>2000-01-06</td>\n",
              "      <td>1595.80</td>\n",
              "      <td>1639.00</td>\n",
              "      <td>1595.80</td>\n",
              "      <td>1617.60</td>\n",
              "      <td>0.013661</td>\n",
              "      <td>1.015953</td>\n",
              "      <td>43.20</td>\n",
              "      <td>21.80</td>\n",
              "      <td>0.000</td>\n",
              "      <td>0.000</td>\n",
              "      <td>0.00000</td>\n",
              "      <td>0.000000</td>\n",
              "      <td>0.000000</td>\n",
              "      <td>0.000000</td>\n",
              "      <td>1611.377447</td>\n",
              "      <td>1611.688606</td>\n",
              "      <td>0.311159</td>\n",
              "      <td>0.000000</td>\n",
              "      <td>0.000000</td>\n",
              "      <td>1613.642500</td>\n",
              "      <td>1616.60</td>\n",
              "    </tr>\n",
              "    <tr>\n",
              "      <th>4</th>\n",
              "      <td>4</td>\n",
              "      <td>2000-01-07</td>\n",
              "      <td>1616.60</td>\n",
              "      <td>1628.25</td>\n",
              "      <td>1597.20</td>\n",
              "      <td>1613.30</td>\n",
              "      <td>-0.002658</td>\n",
              "      <td>1.013252</td>\n",
              "      <td>31.05</td>\n",
              "      <td>-3.30</td>\n",
              "      <td>0.000</td>\n",
              "      <td>0.000</td>\n",
              "      <td>0.00000</td>\n",
              "      <td>0.000000</td>\n",
              "      <td>0.000000</td>\n",
              "      <td>0.000000</td>\n",
              "      <td>1611.823295</td>\n",
              "      <td>1612.126416</td>\n",
              "      <td>0.303121</td>\n",
              "      <td>0.000000</td>\n",
              "      <td>0.000000</td>\n",
              "      <td>1613.413223</td>\n",
              "      <td>1612.30</td>\n",
              "    </tr>\n",
              "    <tr>\n",
              "      <th>...</th>\n",
              "      <td>...</td>\n",
              "      <td>...</td>\n",
              "      <td>...</td>\n",
              "      <td>...</td>\n",
              "      <td>...</td>\n",
              "      <td>...</td>\n",
              "      <td>...</td>\n",
              "      <td>...</td>\n",
              "      <td>...</td>\n",
              "      <td>...</td>\n",
              "      <td>...</td>\n",
              "      <td>...</td>\n",
              "      <td>...</td>\n",
              "      <td>...</td>\n",
              "      <td>...</td>\n",
              "      <td>...</td>\n",
              "      <td>...</td>\n",
              "      <td>...</td>\n",
              "      <td>...</td>\n",
              "      <td>...</td>\n",
              "      <td>...</td>\n",
              "      <td>...</td>\n",
              "      <td>...</td>\n",
              "    </tr>\n",
              "    <tr>\n",
              "      <th>5288</th>\n",
              "      <td>5288</td>\n",
              "      <td>2021-04-05</td>\n",
              "      <td>14837.70</td>\n",
              "      <td>14849.85</td>\n",
              "      <td>14459.50</td>\n",
              "      <td>14637.80</td>\n",
              "      <td>-0.015440</td>\n",
              "      <td>9.193443</td>\n",
              "      <td>390.35</td>\n",
              "      <td>-199.90</td>\n",
              "      <td>14663.775</td>\n",
              "      <td>14786.559</td>\n",
              "      <td>12697.13850</td>\n",
              "      <td>47.189889</td>\n",
              "      <td>14631.792857</td>\n",
              "      <td>14826.742857</td>\n",
              "      <td>14763.131021</td>\n",
              "      <td>14719.366878</td>\n",
              "      <td>-43.764142</td>\n",
              "      <td>15297.678945</td>\n",
              "      <td>14355.806769</td>\n",
              "      <td>14695.902317</td>\n",
              "      <td>14636.80</td>\n",
              "    </tr>\n",
              "    <tr>\n",
              "      <th>5289</th>\n",
              "      <td>5289</td>\n",
              "      <td>2021-04-06</td>\n",
              "      <td>14737.00</td>\n",
              "      <td>14779.10</td>\n",
              "      <td>14573.90</td>\n",
              "      <td>14683.50</td>\n",
              "      <td>0.003122</td>\n",
              "      <td>9.222145</td>\n",
              "      <td>205.20</td>\n",
              "      <td>-53.50</td>\n",
              "      <td>14671.770</td>\n",
              "      <td>14788.892</td>\n",
              "      <td>12719.86925</td>\n",
              "      <td>48.256235</td>\n",
              "      <td>14650.950000</td>\n",
              "      <td>14799.976190</td>\n",
              "      <td>14757.232426</td>\n",
              "      <td>14713.848897</td>\n",
              "      <td>-43.383529</td>\n",
              "      <td>15233.320318</td>\n",
              "      <td>14366.632063</td>\n",
              "      <td>14687.634106</td>\n",
              "      <td>14682.50</td>\n",
              "    </tr>\n",
              "    <tr>\n",
              "      <th>5290</th>\n",
              "      <td>5290</td>\n",
              "      <td>2021-04-07</td>\n",
              "      <td>14716.45</td>\n",
              "      <td>14879.80</td>\n",
              "      <td>14649.85</td>\n",
              "      <td>14819.05</td>\n",
              "      <td>0.009231</td>\n",
              "      <td>9.307279</td>\n",
              "      <td>229.95</td>\n",
              "      <td>102.60</td>\n",
              "      <td>14665.720</td>\n",
              "      <td>14789.668</td>\n",
              "      <td>12742.06475</td>\n",
              "      <td>51.391409</td>\n",
              "      <td>14721.542857</td>\n",
              "      <td>14787.514286</td>\n",
              "      <td>14761.811506</td>\n",
              "      <td>14730.033682</td>\n",
              "      <td>-31.777824</td>\n",
              "      <td>15201.568451</td>\n",
              "      <td>14373.460120</td>\n",
              "      <td>14775.244702</td>\n",
              "      <td>14818.05</td>\n",
              "    </tr>\n",
              "    <tr>\n",
              "      <th>5291</th>\n",
              "      <td>5291</td>\n",
              "      <td>2021-04-08</td>\n",
              "      <td>14875.65</td>\n",
              "      <td>14984.15</td>\n",
              "      <td>14821.10</td>\n",
              "      <td>14873.80</td>\n",
              "      <td>0.003695</td>\n",
              "      <td>9.341666</td>\n",
              "      <td>163.05</td>\n",
              "      <td>-1.85</td>\n",
              "      <td>14673.985</td>\n",
              "      <td>14794.242</td>\n",
              "      <td>12764.60400</td>\n",
              "      <td>52.639621</td>\n",
              "      <td>14773.900000</td>\n",
              "      <td>14784.452381</td>\n",
              "      <td>14770.106950</td>\n",
              "      <td>14752.151577</td>\n",
              "      <td>-17.955373</td>\n",
              "      <td>15194.763616</td>\n",
              "      <td>14374.141146</td>\n",
              "      <td>14840.948234</td>\n",
              "      <td>14872.80</td>\n",
              "    </tr>\n",
              "    <tr>\n",
              "      <th>5292</th>\n",
              "      <td>5292</td>\n",
              "      <td>2021-04-09</td>\n",
              "      <td>14882.65</td>\n",
              "      <td>14918.45</td>\n",
              "      <td>14785.65</td>\n",
              "      <td>14834.85</td>\n",
              "      <td>-0.002619</td>\n",
              "      <td>9.317203</td>\n",
              "      <td>132.80</td>\n",
              "      <td>-47.80</td>\n",
              "      <td>14679.890</td>\n",
              "      <td>14804.280</td>\n",
              "      <td>12786.61800</td>\n",
              "      <td>51.623992</td>\n",
              "      <td>14772.435714</td>\n",
              "      <td>14778.673810</td>\n",
              "      <td>14774.902731</td>\n",
              "      <td>14764.874412</td>\n",
              "      <td>-10.028320</td>\n",
              "      <td>15182.187872</td>\n",
              "      <td>14375.159747</td>\n",
              "      <td>14836.882745</td>\n",
              "      <td>14833.85</td>\n",
              "    </tr>\n",
              "  </tbody>\n",
              "</table>\n",
              "<p>5293 rows × 23 columns</p>\n",
              "</div>"
            ],
            "text/plain": [
              "      Unnamed: 0        Date      Open  ...        bb_low           ema  momentum\n",
              "0              0  2000-01-03   1482.15  ...      0.000000   1592.200000   1591.20\n",
              "1              1  2000-01-04   1594.40  ...      0.000000   1627.075000   1637.70\n",
              "2              2  2000-01-05   1634.55  ...      0.000000   1605.423077   1594.80\n",
              "3              3  2000-01-06   1595.80  ...      0.000000   1613.642500   1616.60\n",
              "4              4  2000-01-07   1616.60  ...      0.000000   1613.413223   1612.30\n",
              "...          ...         ...       ...  ...           ...           ...       ...\n",
              "5288        5288  2021-04-05  14837.70  ...  14355.806769  14695.902317  14636.80\n",
              "5289        5289  2021-04-06  14737.00  ...  14366.632063  14687.634106  14682.50\n",
              "5290        5290  2021-04-07  14716.45  ...  14373.460120  14775.244702  14818.05\n",
              "5291        5291  2021-04-08  14875.65  ...  14374.141146  14840.948234  14872.80\n",
              "5292        5292  2021-04-09  14882.65  ...  14375.159747  14836.882745  14833.85\n",
              "\n",
              "[5293 rows x 23 columns]"
            ]
          },
          "metadata": {
            "tags": []
          },
          "execution_count": 7
        }
      ]
    },
    {
      "cell_type": "markdown",
      "metadata": {
        "id": "x434UaHsFqNL"
      },
      "source": [
        "Storing all dataframes in a dictionary all_dfs"
      ]
    },
    {
      "cell_type": "code",
      "metadata": {
        "id": "6dz1zMJbyMqj"
      },
      "source": [
        "tech_ind = tech_ind.drop(['Unnamed: 0',],axis=1)"
      ],
      "execution_count": null,
      "outputs": []
    },
    {
      "cell_type": "code",
      "metadata": {
        "colab": {
          "base_uri": "https://localhost:8080/"
        },
        "id": "kygeF29bjYVE",
        "outputId": "9e0b2496-9a2a-4188-e5dc-32edecb6d03f"
      },
      "source": [
        "type(tech_ind['Date'][0])"
      ],
      "execution_count": null,
      "outputs": [
        {
          "output_type": "execute_result",
          "data": {
            "text/plain": [
              "str"
            ]
          },
          "metadata": {
            "tags": []
          },
          "execution_count": 9
        }
      ]
    },
    {
      "cell_type": "code",
      "metadata": {
        "id": "OnSbyrrQ8oqg"
      },
      "source": [
        "all_dfs={}\n",
        "for x in list_of_dfs:\n",
        "  all_dfs[x] = pd.read_csv(x+'.csv',parse_dates=True)\n",
        "  "
      ],
      "execution_count": null,
      "outputs": []
    },
    {
      "cell_type": "code",
      "metadata": {
        "colab": {
          "base_uri": "https://localhost:8080/",
          "height": 419
        },
        "id": "7yiSKQpSVy7X",
        "outputId": "4ae21854-d541-4dc2-f4c6-f25011b6e693"
      },
      "source": [
        "all_dfs['nifty']"
      ],
      "execution_count": null,
      "outputs": [
        {
          "output_type": "execute_result",
          "data": {
            "text/html": [
              "<div>\n",
              "<style scoped>\n",
              "    .dataframe tbody tr th:only-of-type {\n",
              "        vertical-align: middle;\n",
              "    }\n",
              "\n",
              "    .dataframe tbody tr th {\n",
              "        vertical-align: top;\n",
              "    }\n",
              "\n",
              "    .dataframe thead th {\n",
              "        text-align: right;\n",
              "    }\n",
              "</style>\n",
              "<table border=\"1\" class=\"dataframe\">\n",
              "  <thead>\n",
              "    <tr style=\"text-align: right;\">\n",
              "      <th></th>\n",
              "      <th>Date</th>\n",
              "      <th>Open</th>\n",
              "      <th>High</th>\n",
              "      <th>Low</th>\n",
              "      <th>Close</th>\n",
              "      <th>Adj Close</th>\n",
              "      <th>Volume</th>\n",
              "    </tr>\n",
              "  </thead>\n",
              "  <tbody>\n",
              "    <tr>\n",
              "      <th>0</th>\n",
              "      <td>2010-01-04</td>\n",
              "      <td>5200.899902</td>\n",
              "      <td>5238.450195</td>\n",
              "      <td>5167.100098</td>\n",
              "      <td>5232.200195</td>\n",
              "      <td>5232.200195</td>\n",
              "      <td>0.0</td>\n",
              "    </tr>\n",
              "    <tr>\n",
              "      <th>1</th>\n",
              "      <td>2010-01-05</td>\n",
              "      <td>5277.149902</td>\n",
              "      <td>5288.350098</td>\n",
              "      <td>5242.399902</td>\n",
              "      <td>5277.899902</td>\n",
              "      <td>5277.899902</td>\n",
              "      <td>0.0</td>\n",
              "    </tr>\n",
              "    <tr>\n",
              "      <th>2</th>\n",
              "      <td>2010-01-06</td>\n",
              "      <td>5278.149902</td>\n",
              "      <td>5310.850098</td>\n",
              "      <td>5260.049805</td>\n",
              "      <td>5281.799805</td>\n",
              "      <td>5281.799805</td>\n",
              "      <td>0.0</td>\n",
              "    </tr>\n",
              "    <tr>\n",
              "      <th>3</th>\n",
              "      <td>2010-01-07</td>\n",
              "      <td>5281.799805</td>\n",
              "      <td>5302.549805</td>\n",
              "      <td>5244.750000</td>\n",
              "      <td>5263.100098</td>\n",
              "      <td>5263.100098</td>\n",
              "      <td>0.0</td>\n",
              "    </tr>\n",
              "    <tr>\n",
              "      <th>4</th>\n",
              "      <td>2010-01-08</td>\n",
              "      <td>5264.250000</td>\n",
              "      <td>5276.750000</td>\n",
              "      <td>5234.700195</td>\n",
              "      <td>5244.750000</td>\n",
              "      <td>5244.750000</td>\n",
              "      <td>0.0</td>\n",
              "    </tr>\n",
              "    <tr>\n",
              "      <th>...</th>\n",
              "      <td>...</td>\n",
              "      <td>...</td>\n",
              "      <td>...</td>\n",
              "      <td>...</td>\n",
              "      <td>...</td>\n",
              "      <td>...</td>\n",
              "      <td>...</td>\n",
              "    </tr>\n",
              "    <tr>\n",
              "      <th>2770</th>\n",
              "      <td>2021-03-16</td>\n",
              "      <td>14996.099609</td>\n",
              "      <td>15051.599609</td>\n",
              "      <td>14890.650391</td>\n",
              "      <td>14910.450195</td>\n",
              "      <td>14910.450195</td>\n",
              "      <td>100.0</td>\n",
              "    </tr>\n",
              "    <tr>\n",
              "      <th>2771</th>\n",
              "      <td>2021-03-17</td>\n",
              "      <td>14946.549805</td>\n",
              "      <td>14956.549805</td>\n",
              "      <td>14696.049805</td>\n",
              "      <td>14721.299805</td>\n",
              "      <td>14721.299805</td>\n",
              "      <td>100.0</td>\n",
              "    </tr>\n",
              "    <tr>\n",
              "      <th>2772</th>\n",
              "      <td>2021-03-18</td>\n",
              "      <td>14855.500000</td>\n",
              "      <td>14875.200195</td>\n",
              "      <td>14478.599609</td>\n",
              "      <td>14557.849609</td>\n",
              "      <td>14557.849609</td>\n",
              "      <td>542200.0</td>\n",
              "    </tr>\n",
              "    <tr>\n",
              "      <th>2773</th>\n",
              "      <td>2021-03-19</td>\n",
              "      <td>14471.150391</td>\n",
              "      <td>14788.250000</td>\n",
              "      <td>14350.099609</td>\n",
              "      <td>14744.000000</td>\n",
              "      <td>14744.000000</td>\n",
              "      <td>919200.0</td>\n",
              "    </tr>\n",
              "    <tr>\n",
              "      <th>2774</th>\n",
              "      <td>2021-03-22</td>\n",
              "      <td>14736.299805</td>\n",
              "      <td>14763.900391</td>\n",
              "      <td>14597.849609</td>\n",
              "      <td>14736.400391</td>\n",
              "      <td>14736.400391</td>\n",
              "      <td>459000.0</td>\n",
              "    </tr>\n",
              "  </tbody>\n",
              "</table>\n",
              "<p>2775 rows × 7 columns</p>\n",
              "</div>"
            ],
            "text/plain": [
              "            Date          Open  ...     Adj Close    Volume\n",
              "0     2010-01-04   5200.899902  ...   5232.200195       0.0\n",
              "1     2010-01-05   5277.149902  ...   5277.899902       0.0\n",
              "2     2010-01-06   5278.149902  ...   5281.799805       0.0\n",
              "3     2010-01-07   5281.799805  ...   5263.100098       0.0\n",
              "4     2010-01-08   5264.250000  ...   5244.750000       0.0\n",
              "...          ...           ...  ...           ...       ...\n",
              "2770  2021-03-16  14996.099609  ...  14910.450195     100.0\n",
              "2771  2021-03-17  14946.549805  ...  14721.299805     100.0\n",
              "2772  2021-03-18  14855.500000  ...  14557.849609  542200.0\n",
              "2773  2021-03-19  14471.150391  ...  14744.000000  919200.0\n",
              "2774  2021-03-22  14736.299805  ...  14736.400391  459000.0\n",
              "\n",
              "[2775 rows x 7 columns]"
            ]
          },
          "metadata": {
            "tags": []
          },
          "execution_count": 11
        }
      ]
    },
    {
      "cell_type": "markdown",
      "metadata": {
        "id": "TN0zgTkwGdwX"
      },
      "source": [
        "## 3. Preprocessing data"
      ]
    },
    {
      "cell_type": "code",
      "metadata": {
        "id": "TVrYkcg4VUEm",
        "colab": {
          "base_uri": "https://localhost:8080/"
        },
        "outputId": "0e4914b5-ea21-4978-bf7a-4bbbe93680a8"
      },
      "source": [
        "all_dfs.keys()\n"
      ],
      "execution_count": null,
      "outputs": [
        {
          "output_type": "execute_result",
          "data": {
            "text/plain": [
              "dict_keys(['snp', 'nasdaq', 'dji', 'dax', 'us10y', 'dxy', 'hsi', 'nikkei', 'usdinr', 'kospi', 'nifty', 'ftse', 'sti', 'twse'])"
            ]
          },
          "metadata": {
            "tags": []
          },
          "execution_count": 12
        }
      ]
    },
    {
      "cell_type": "markdown",
      "metadata": {
        "id": "AM7LV46iFvw3"
      },
      "source": [
        "Filtering useful columns out of all dfs"
      ]
    },
    {
      "cell_type": "code",
      "metadata": {
        "colab": {
          "base_uri": "https://localhost:8080/"
        },
        "id": "2pZeMiv5IB0X",
        "outputId": "57fc5d32-dc67-477a-803a-b9cb3200f5fd"
      },
      "source": [
        "for i in all_dfs.keys():\n",
        "  \n",
        "  print(i,all_dfs[i].columns)\n",
        "  all_dfs[i]['Date'] = pd.to_datetime(all_dfs[i]['Date'])\n",
        "  if('Close/Last' in all_dfs[i]):\n",
        "    all_dfs[i] = all_dfs[i].filter(['Date','Close/Last'])\n",
        "\n",
        "  if('Close' in all_dfs[i]):\n",
        "    all_dfs[i] = all_dfs[i].filter(['Date','Close'])\n",
        "  if('Price' in all_dfs[i]):\n",
        "    all_dfs[i] = all_dfs[i].filter(['Date','Price'])\n",
        "  if(' Close' in all_dfs[i]):\n",
        "    all_dfs[i] = all_dfs[i].filter(['Date',' Close'])\n",
        "  if('INR' in all_dfs[i]):\n",
        "    all_dfs[i] = all_dfs[i].filter(['Date','INR'])\n",
        "  all_dfs[i].columns = ['Date',i]\n",
        "  \n"
      ],
      "execution_count": null,
      "outputs": [
        {
          "output_type": "stream",
          "text": [
            "snp Index(['Date', 'Close/Last', 'Volume', 'Open', 'High', 'Low'], dtype='object')\n",
            "nasdaq Index(['Date', 'Open', 'High', 'Low', 'Close', 'Adj Close', 'Volume'], dtype='object')\n",
            "dji Index(['Date', 'Price', 'Open', 'High', 'Low', 'Vol.', 'Change %'], dtype='object')\n",
            "dax Index(['Date', 'Price', 'Open', 'High', 'Low', 'Vol.', 'Change %'], dtype='object')\n",
            "us10y Index(['Date', 'Price', 'Open', 'High', 'Low', 'Change %'], dtype='object')\n",
            "dxy Index(['Date', 'Price', 'Open', 'High', 'Low', 'Vol.', 'Change %'], dtype='object')\n",
            "hsi Index(['Date', 'Open', 'High', 'Low', 'Close', 'Adj Close', 'Volume'], dtype='object')\n",
            "nikkei Index(['Date', 'Open', 'High', 'Low', 'Close', 'Adj Close', 'Volume'], dtype='object')\n",
            "usdinr Index(['Date', 'Price', 'Open', 'High', 'Low', 'Change %'], dtype='object')\n",
            "kospi Index(['Date', 'Open', 'High', 'Low', 'Close', 'Adj Close', 'Volume'], dtype='object')\n",
            "nifty Index(['Date', 'Open', 'High', 'Low', 'Close', 'Adj Close', 'Volume'], dtype='object')\n",
            "ftse Index(['Date', ' Open', ' High', ' Low', ' Close'], dtype='object')\n",
            "sti Index(['Date', ' Open', ' High', ' Low', ' Close'], dtype='object')\n",
            "twse Index(['Date', 'Price', 'Open', 'High', 'Low', 'Vol.', 'Change %'], dtype='object')\n"
          ],
          "name": "stdout"
        }
      ]
    },
    {
      "cell_type": "markdown",
      "metadata": {
        "id": "0614s7bUF1As"
      },
      "source": [
        "Viewing the date format of all dfs"
      ]
    },
    {
      "cell_type": "code",
      "metadata": {
        "id": "f3mExfDIAaXq",
        "colab": {
          "base_uri": "https://localhost:8080/"
        },
        "outputId": "b205fb6a-b5db-440f-abcd-f04bd22ee2a5"
      },
      "source": [
        "for i in all_dfs.keys():\n",
        "  print(i,all_dfs[i]['Date'])"
      ],
      "execution_count": null,
      "outputs": [
        {
          "output_type": "stream",
          "text": [
            "snp 0      2021-03-23\n",
            "1      2021-03-22\n",
            "2      2021-03-19\n",
            "3      2021-03-18\n",
            "4      2021-03-17\n",
            "          ...    \n",
            "2556   2011-03-29\n",
            "2557   2011-03-28\n",
            "2558   2011-03-25\n",
            "2559   2011-03-24\n",
            "2560   2011-03-23\n",
            "Name: Date, Length: 2561, dtype: datetime64[ns]\n",
            "nasdaq 0      2010-01-04\n",
            "1      2010-01-05\n",
            "2      2010-01-06\n",
            "3      2010-01-07\n",
            "4      2010-01-08\n",
            "          ...    \n",
            "2818   2021-03-16\n",
            "2819   2021-03-17\n",
            "2820   2021-03-18\n",
            "2821   2021-03-19\n",
            "2822   2021-03-22\n",
            "Name: Date, Length: 2823, dtype: datetime64[ns]\n",
            "dji 0      2021-03-23\n",
            "1      2021-03-22\n",
            "2      2021-03-19\n",
            "3      2021-03-18\n",
            "4      2021-03-17\n",
            "          ...    \n",
            "2818   2010-01-08\n",
            "2819   2010-01-07\n",
            "2820   2010-01-06\n",
            "2821   2010-01-05\n",
            "2822   2010-01-04\n",
            "Name: Date, Length: 2823, dtype: datetime64[ns]\n",
            "dax 0      2021-03-23\n",
            "1      2021-03-22\n",
            "2      2021-03-19\n",
            "3      2021-03-18\n",
            "4      2021-03-17\n",
            "          ...    \n",
            "2842   2010-01-08\n",
            "2843   2010-01-07\n",
            "2844   2010-01-06\n",
            "2845   2010-01-05\n",
            "2846   2010-01-04\n",
            "Name: Date, Length: 2847, dtype: datetime64[ns]\n",
            "us10y 0      2021-03-23\n",
            "1      2021-03-22\n",
            "2      2021-03-21\n",
            "3      2021-03-19\n",
            "4      2021-03-18\n",
            "          ...    \n",
            "3275   2010-01-08\n",
            "3276   2010-01-07\n",
            "3277   2010-01-06\n",
            "3278   2010-01-05\n",
            "3279   2010-01-04\n",
            "Name: Date, Length: 3280, dtype: datetime64[ns]\n",
            "dxy 0      2021-03-23\n",
            "1      2021-03-22\n",
            "2      2021-03-19\n",
            "3      2021-03-18\n",
            "4      2021-03-17\n",
            "          ...    \n",
            "2923   2010-01-08\n",
            "2924   2010-01-07\n",
            "2925   2010-01-06\n",
            "2926   2010-01-05\n",
            "2927   2010-01-04\n",
            "Name: Date, Length: 2928, dtype: datetime64[ns]\n",
            "hsi 0      2010-01-04\n",
            "1      2010-01-05\n",
            "2      2010-01-06\n",
            "3      2010-01-07\n",
            "4      2010-01-08\n",
            "          ...    \n",
            "2765   2021-03-16\n",
            "2766   2021-03-17\n",
            "2767   2021-03-18\n",
            "2768   2021-03-19\n",
            "2769   2021-03-22\n",
            "Name: Date, Length: 2770, dtype: datetime64[ns]\n",
            "nikkei 0      2010-01-04\n",
            "1      2010-01-05\n",
            "2      2010-01-06\n",
            "3      2010-01-07\n",
            "4      2010-01-08\n",
            "          ...    \n",
            "2760   2021-03-17\n",
            "2761   2021-03-18\n",
            "2762   2021-03-19\n",
            "2763   2021-03-22\n",
            "2764   2021-03-23\n",
            "Name: Date, Length: 2765, dtype: datetime64[ns]\n",
            "usdinr 0      2021-03-23\n",
            "1      2021-03-22\n",
            "2      2021-03-19\n",
            "3      2021-03-18\n",
            "4      2021-03-17\n",
            "          ...    \n",
            "2922   2010-01-07\n",
            "2923   2010-01-06\n",
            "2924   2010-01-05\n",
            "2925   2010-01-04\n",
            "2926   2010-01-01\n",
            "Name: Date, Length: 2927, dtype: datetime64[ns]\n",
            "kospi 0      2010-01-04\n",
            "1      2010-01-05\n",
            "2      2010-01-06\n",
            "3      2010-01-07\n",
            "4      2010-01-08\n",
            "          ...    \n",
            "2762   2021-03-17\n",
            "2763   2021-03-18\n",
            "2764   2021-03-19\n",
            "2765   2021-03-22\n",
            "2766   2021-03-23\n",
            "Name: Date, Length: 2767, dtype: datetime64[ns]\n",
            "nifty 0      2010-01-04\n",
            "1      2010-01-05\n",
            "2      2010-01-06\n",
            "3      2010-01-07\n",
            "4      2010-01-08\n",
            "          ...    \n",
            "2770   2021-03-16\n",
            "2771   2021-03-17\n",
            "2772   2021-03-18\n",
            "2773   2021-03-19\n",
            "2774   2021-03-22\n",
            "Name: Date, Length: 2775, dtype: datetime64[ns]\n",
            "ftse 0      2021-03-23\n",
            "1      2021-03-22\n",
            "2      2021-03-19\n",
            "3      2021-03-18\n",
            "4      2021-03-17\n",
            "          ...    \n",
            "2914   2010-01-07\n",
            "2915   2010-01-06\n",
            "2916   2010-01-05\n",
            "2917   2010-01-04\n",
            "2918   2010-01-01\n",
            "Name: Date, Length: 2919, dtype: datetime64[ns]\n",
            "sti 0      2021-03-23\n",
            "1      2021-03-22\n",
            "2      2021-03-19\n",
            "3      2021-03-18\n",
            "4      2021-03-17\n",
            "          ...    \n",
            "2810   2010-01-08\n",
            "2811   2010-01-07\n",
            "2812   2010-01-06\n",
            "2813   2010-01-05\n",
            "2814   2010-01-04\n",
            "Name: Date, Length: 2815, dtype: datetime64[ns]\n",
            "twse 0      2021-03-23\n",
            "1      2021-03-22\n",
            "2      2021-03-19\n",
            "3      2021-03-18\n",
            "4      2021-03-17\n",
            "          ...    \n",
            "2465   2011-03-23\n",
            "2466   2011-03-22\n",
            "2467   2011-03-21\n",
            "2468   2011-03-18\n",
            "2469   2011-03-17\n",
            "Name: Date, Length: 2470, dtype: datetime64[ns]\n"
          ],
          "name": "stdout"
        }
      ]
    },
    {
      "cell_type": "markdown",
      "metadata": {
        "id": "gkC6kxgVF6b6"
      },
      "source": [
        "Viewing columns of all dfs"
      ]
    },
    {
      "cell_type": "code",
      "metadata": {
        "colab": {
          "base_uri": "https://localhost:8080/"
        },
        "id": "qem1Ox9kFkrh",
        "outputId": "9cde4ea5-8a93-4814-b727-8483529ae557"
      },
      "source": [
        "for i in all_dfs.keys():\n",
        "  print(i,all_dfs[i].columns)"
      ],
      "execution_count": null,
      "outputs": [
        {
          "output_type": "stream",
          "text": [
            "snp Index(['Date', 'snp'], dtype='object')\n",
            "nasdaq Index(['Date', 'nasdaq'], dtype='object')\n",
            "dji Index(['Date', 'dji'], dtype='object')\n",
            "dax Index(['Date', 'dax'], dtype='object')\n",
            "us10y Index(['Date', 'us10y'], dtype='object')\n",
            "dxy Index(['Date', 'dxy'], dtype='object')\n",
            "hsi Index(['Date', 'hsi'], dtype='object')\n",
            "nikkei Index(['Date', 'nikkei'], dtype='object')\n",
            "usdinr Index(['Date', 'usdinr'], dtype='object')\n",
            "kospi Index(['Date', 'kospi'], dtype='object')\n",
            "nifty Index(['Date', 'nifty'], dtype='object')\n",
            "ftse Index(['Date', 'ftse'], dtype='object')\n",
            "sti Index(['Date', 'sti'], dtype='object')\n",
            "twse Index(['Date', 'twse'], dtype='object')\n"
          ],
          "name": "stdout"
        }
      ]
    },
    {
      "cell_type": "markdown",
      "metadata": {
        "id": "U8Anf0-LGGp2"
      },
      "source": [
        "Separating NIFTY into a new_df"
      ]
    },
    {
      "cell_type": "code",
      "metadata": {
        "id": "Pa2tWJ4KDAVq"
      },
      "source": [
        "new_df = pd.DataFrame(all_dfs['nifty'])"
      ],
      "execution_count": null,
      "outputs": []
    },
    {
      "cell_type": "markdown",
      "metadata": {
        "id": "g-EZYTJtGJ7z"
      },
      "source": [
        "Merging all dfs using left join on basis of Nifty dates "
      ]
    },
    {
      "cell_type": "code",
      "metadata": {
        "id": "XRclCp2v3tqD"
      },
      "source": [
        "for i in all_dfs:\n",
        "  if(i!='nifty'):\n",
        "    new_df = new_df.merge(all_dfs[i], on=\"Date\", how = 'left')\n"
      ],
      "execution_count": null,
      "outputs": []
    },
    {
      "cell_type": "code",
      "metadata": {
        "id": "HMzeHc6HdKr6",
        "colab": {
          "base_uri": "https://localhost:8080/",
          "height": 419
        },
        "outputId": "c2547f1f-a82a-4c3b-942b-d4bdae9af14c"
      },
      "source": [
        "new_df"
      ],
      "execution_count": null,
      "outputs": [
        {
          "output_type": "execute_result",
          "data": {
            "text/html": [
              "<div>\n",
              "<style scoped>\n",
              "    .dataframe tbody tr th:only-of-type {\n",
              "        vertical-align: middle;\n",
              "    }\n",
              "\n",
              "    .dataframe tbody tr th {\n",
              "        vertical-align: top;\n",
              "    }\n",
              "\n",
              "    .dataframe thead th {\n",
              "        text-align: right;\n",
              "    }\n",
              "</style>\n",
              "<table border=\"1\" class=\"dataframe\">\n",
              "  <thead>\n",
              "    <tr style=\"text-align: right;\">\n",
              "      <th></th>\n",
              "      <th>Date</th>\n",
              "      <th>nifty</th>\n",
              "      <th>snp</th>\n",
              "      <th>nasdaq</th>\n",
              "      <th>dji</th>\n",
              "      <th>dax</th>\n",
              "      <th>us10y</th>\n",
              "      <th>dxy</th>\n",
              "      <th>hsi</th>\n",
              "      <th>nikkei</th>\n",
              "      <th>usdinr</th>\n",
              "      <th>kospi</th>\n",
              "      <th>ftse</th>\n",
              "      <th>sti</th>\n",
              "      <th>twse</th>\n",
              "    </tr>\n",
              "  </thead>\n",
              "  <tbody>\n",
              "    <tr>\n",
              "      <th>0</th>\n",
              "      <td>2010-01-04</td>\n",
              "      <td>5232.200195</td>\n",
              "      <td>NaN</td>\n",
              "      <td>2308.419922</td>\n",
              "      <td>10,583.96</td>\n",
              "      <td>6,048.30</td>\n",
              "      <td>3.823</td>\n",
              "      <td>77.53</td>\n",
              "      <td>21823.279297</td>\n",
              "      <td>10654.790039</td>\n",
              "      <td>46.295</td>\n",
              "      <td>1696.140015</td>\n",
              "      <td>5500.34</td>\n",
              "      <td>2894.55</td>\n",
              "      <td>NaN</td>\n",
              "    </tr>\n",
              "    <tr>\n",
              "      <th>1</th>\n",
              "      <td>2010-01-05</td>\n",
              "      <td>5277.899902</td>\n",
              "      <td>NaN</td>\n",
              "      <td>2308.709961</td>\n",
              "      <td>10,572.02</td>\n",
              "      <td>6,031.86</td>\n",
              "      <td>3.763</td>\n",
              "      <td>77.62</td>\n",
              "      <td>22279.580078</td>\n",
              "      <td>10681.830078</td>\n",
              "      <td>46.205</td>\n",
              "      <td>1690.619995</td>\n",
              "      <td>5522.50</td>\n",
              "      <td>2920.28</td>\n",
              "      <td>NaN</td>\n",
              "    </tr>\n",
              "    <tr>\n",
              "      <th>2</th>\n",
              "      <td>2010-01-06</td>\n",
              "      <td>5281.799805</td>\n",
              "      <td>NaN</td>\n",
              "      <td>2301.090088</td>\n",
              "      <td>10,573.68</td>\n",
              "      <td>6,034.33</td>\n",
              "      <td>3.829</td>\n",
              "      <td>77.49</td>\n",
              "      <td>22416.669922</td>\n",
              "      <td>10731.450195</td>\n",
              "      <td>45.695</td>\n",
              "      <td>1705.319946</td>\n",
              "      <td>5530.04</td>\n",
              "      <td>2930.49</td>\n",
              "      <td>NaN</td>\n",
              "    </tr>\n",
              "    <tr>\n",
              "      <th>3</th>\n",
              "      <td>2010-01-07</td>\n",
              "      <td>5263.100098</td>\n",
              "      <td>NaN</td>\n",
              "      <td>2300.050049</td>\n",
              "      <td>10,606.86</td>\n",
              "      <td>6,019.36</td>\n",
              "      <td>3.827</td>\n",
              "      <td>77.91</td>\n",
              "      <td>22269.449219</td>\n",
              "      <td>10681.660156</td>\n",
              "      <td>45.650</td>\n",
              "      <td>1683.449951</td>\n",
              "      <td>5526.72</td>\n",
              "      <td>2913.25</td>\n",
              "      <td>NaN</td>\n",
              "    </tr>\n",
              "    <tr>\n",
              "      <th>4</th>\n",
              "      <td>2010-01-08</td>\n",
              "      <td>5244.750000</td>\n",
              "      <td>NaN</td>\n",
              "      <td>2317.169922</td>\n",
              "      <td>10,618.19</td>\n",
              "      <td>6,037.61</td>\n",
              "      <td>3.836</td>\n",
              "      <td>77.47</td>\n",
              "      <td>22296.750000</td>\n",
              "      <td>10798.320313</td>\n",
              "      <td>45.470</td>\n",
              "      <td>1695.260010</td>\n",
              "      <td>5534.24</td>\n",
              "      <td>2922.76</td>\n",
              "      <td>NaN</td>\n",
              "    </tr>\n",
              "    <tr>\n",
              "      <th>...</th>\n",
              "      <td>...</td>\n",
              "      <td>...</td>\n",
              "      <td>...</td>\n",
              "      <td>...</td>\n",
              "      <td>...</td>\n",
              "      <td>...</td>\n",
              "      <td>...</td>\n",
              "      <td>...</td>\n",
              "      <td>...</td>\n",
              "      <td>...</td>\n",
              "      <td>...</td>\n",
              "      <td>...</td>\n",
              "      <td>...</td>\n",
              "      <td>...</td>\n",
              "      <td>...</td>\n",
              "    </tr>\n",
              "    <tr>\n",
              "      <th>2770</th>\n",
              "      <td>2021-03-16</td>\n",
              "      <td>14910.450195</td>\n",
              "      <td>3962.71</td>\n",
              "      <td>13471.570313</td>\n",
              "      <td>32,825.95</td>\n",
              "      <td>14,557.58</td>\n",
              "      <td>1.621</td>\n",
              "      <td>91.86</td>\n",
              "      <td>29027.689453</td>\n",
              "      <td>29921.089844</td>\n",
              "      <td>72.510</td>\n",
              "      <td>3067.169922</td>\n",
              "      <td>6803.61</td>\n",
              "      <td>3105.51</td>\n",
              "      <td>16,313.16</td>\n",
              "    </tr>\n",
              "    <tr>\n",
              "      <th>2771</th>\n",
              "      <td>2021-03-17</td>\n",
              "      <td>14721.299805</td>\n",
              "      <td>3974.12</td>\n",
              "      <td>13525.200195</td>\n",
              "      <td>33,015.37</td>\n",
              "      <td>14,596.61</td>\n",
              "      <td>1.646</td>\n",
              "      <td>91.44</td>\n",
              "      <td>29034.119141</td>\n",
              "      <td>29914.330078</td>\n",
              "      <td>72.557</td>\n",
              "      <td>3047.500000</td>\n",
              "      <td>6762.67</td>\n",
              "      <td>3109.65</td>\n",
              "      <td>16,215.82</td>\n",
              "    </tr>\n",
              "    <tr>\n",
              "      <th>2772</th>\n",
              "      <td>2021-03-18</td>\n",
              "      <td>14557.849609</td>\n",
              "      <td>3915.46</td>\n",
              "      <td>13116.169922</td>\n",
              "      <td>32,862.30</td>\n",
              "      <td>14,775.52</td>\n",
              "      <td>1.706</td>\n",
              "      <td>91.86</td>\n",
              "      <td>29405.720703</td>\n",
              "      <td>30216.750000</td>\n",
              "      <td>72.690</td>\n",
              "      <td>3066.010010</td>\n",
              "      <td>6779.68</td>\n",
              "      <td>3137.66</td>\n",
              "      <td>16,287.84</td>\n",
              "    </tr>\n",
              "    <tr>\n",
              "      <th>2773</th>\n",
              "      <td>2021-03-19</td>\n",
              "      <td>14744.000000</td>\n",
              "      <td>3913.10</td>\n",
              "      <td>13215.240234</td>\n",
              "      <td>32,627.97</td>\n",
              "      <td>14,621.00</td>\n",
              "      <td>1.730</td>\n",
              "      <td>91.92</td>\n",
              "      <td>28990.939453</td>\n",
              "      <td>29792.050781</td>\n",
              "      <td>72.401</td>\n",
              "      <td>3039.530029</td>\n",
              "      <td>6708.71</td>\n",
              "      <td>3134.54</td>\n",
              "      <td>16,070.24</td>\n",
              "    </tr>\n",
              "    <tr>\n",
              "      <th>2774</th>\n",
              "      <td>2021-03-22</td>\n",
              "      <td>14736.400391</td>\n",
              "      <td>3940.59</td>\n",
              "      <td>13377.540039</td>\n",
              "      <td>32,731.20</td>\n",
              "      <td>14,657.21</td>\n",
              "      <td>1.695</td>\n",
              "      <td>91.80</td>\n",
              "      <td>28885.339844</td>\n",
              "      <td>29174.150391</td>\n",
              "      <td>72.370</td>\n",
              "      <td>3035.459961</td>\n",
              "      <td>6726.10</td>\n",
              "      <td>3128.08</td>\n",
              "      <td>16,189.22</td>\n",
              "    </tr>\n",
              "  </tbody>\n",
              "</table>\n",
              "<p>2775 rows × 15 columns</p>\n",
              "</div>"
            ],
            "text/plain": [
              "           Date         nifty      snp  ...     ftse      sti       twse\n",
              "0    2010-01-04   5232.200195      NaN  ...  5500.34  2894.55        NaN\n",
              "1    2010-01-05   5277.899902      NaN  ...  5522.50  2920.28        NaN\n",
              "2    2010-01-06   5281.799805      NaN  ...  5530.04  2930.49        NaN\n",
              "3    2010-01-07   5263.100098      NaN  ...  5526.72  2913.25        NaN\n",
              "4    2010-01-08   5244.750000      NaN  ...  5534.24  2922.76        NaN\n",
              "...         ...           ...      ...  ...      ...      ...        ...\n",
              "2770 2021-03-16  14910.450195  3962.71  ...  6803.61  3105.51  16,313.16\n",
              "2771 2021-03-17  14721.299805  3974.12  ...  6762.67  3109.65  16,215.82\n",
              "2772 2021-03-18  14557.849609  3915.46  ...  6779.68  3137.66  16,287.84\n",
              "2773 2021-03-19  14744.000000  3913.10  ...  6708.71  3134.54  16,070.24\n",
              "2774 2021-03-22  14736.400391  3940.59  ...  6726.10  3128.08  16,189.22\n",
              "\n",
              "[2775 rows x 15 columns]"
            ]
          },
          "metadata": {
            "tags": []
          },
          "execution_count": 18
        }
      ]
    },
    {
      "cell_type": "code",
      "metadata": {
        "id": "3dzTnBjUFlqo"
      },
      "source": [
        ""
      ],
      "execution_count": null,
      "outputs": []
    },
    {
      "cell_type": "code",
      "metadata": {
        "id": "cqOzqbuIcr7D"
      },
      "source": [
        ""
      ],
      "execution_count": null,
      "outputs": []
    },
    {
      "cell_type": "code",
      "metadata": {
        "id": "Jy2PRQInjC9Q"
      },
      "source": [
        "# def convertDateString(x):\n",
        "#   if(len(x.split())==1):\n",
        "#     print(x)\n",
        "#   [d,m,y] = x.split()\n",
        "  \n",
        "#   if(m=='Jan'):\n",
        "#     m='01'\n",
        "#   elif(m=='Feb'):\n",
        "#     m='02'\n",
        "#   elif(m=='Mar'):\n",
        "#     m='03'\n",
        "#   elif(m=='Apr'):\n",
        "#     m='04'\n",
        "#   elif(m=='May'):\n",
        "#     m='05'\n",
        "#   elif(m=='Jun'):\n",
        "#     m='06'\n",
        "#   elif(m=='Jul'):\n",
        "#     m='07'\n",
        "#   elif(m=='Aug'):\n",
        "#     m='08'\n",
        "#   elif(m=='Sep'):\n",
        "#     m='09'\n",
        "#   elif(m=='Oct'):\n",
        "#     m='10'\n",
        "#   elif(m=='Nov'):\n",
        "#     m='11'\n",
        "#   elif(m=='Dec'):\n",
        "#     m='12'\n",
        "#   return \"\".join([d,m,y])\n",
        "\n",
        "# convertDateString('03 Jan 2000')  \n",
        "# i = 0\n",
        "# for x in tech_ind['Date']:\n",
        "#   tech_ind['Date'][i] = convertDateString(x)  \n",
        "#   i+=1\n"
      ],
      "execution_count": null,
      "outputs": []
    },
    {
      "cell_type": "code",
      "metadata": {
        "id": "_MQ-qk-NMpq9"
      },
      "source": [
        "tech_ind['Date'] = pd.to_datetime(tech_ind['Date'], format='%Y-%m-%d')"
      ],
      "execution_count": null,
      "outputs": []
    },
    {
      "cell_type": "code",
      "metadata": {
        "colab": {
          "base_uri": "https://localhost:8080/"
        },
        "id": "v45h9zpNkyP7",
        "outputId": "5ac572c7-57ed-4802-bd95-9531fc53e80f"
      },
      "source": [
        "type(tech_ind['Date'][0])"
      ],
      "execution_count": null,
      "outputs": [
        {
          "output_type": "execute_result",
          "data": {
            "text/plain": [
              "pandas._libs.tslibs.timestamps.Timestamp"
            ]
          },
          "metadata": {
            "tags": []
          },
          "execution_count": 21
        }
      ]
    },
    {
      "cell_type": "code",
      "metadata": {
        "id": "EXOxpvEbcWn5"
      },
      "source": [
        "final_df = new_df.merge(tech_ind,on='Date')\n",
        "# final_df = pd.concat([tech_ind,new_df],axis=1,join='outer')"
      ],
      "execution_count": null,
      "outputs": []
    },
    {
      "cell_type": "code",
      "metadata": {
        "id": "12FUqYNIluNh"
      },
      "source": [
        "new_df=final_df"
      ],
      "execution_count": null,
      "outputs": []
    },
    {
      "cell_type": "code",
      "metadata": {
        "id": "jzgGuzZsOzWS",
        "colab": {
          "base_uri": "https://localhost:8080/",
          "height": 626
        },
        "outputId": "0c525120-8eec-4d76-81e0-fd1ed9d45c57"
      },
      "source": [
        "new_df"
      ],
      "execution_count": null,
      "outputs": [
        {
          "output_type": "execute_result",
          "data": {
            "text/html": [
              "<div>\n",
              "<style scoped>\n",
              "    .dataframe tbody tr th:only-of-type {\n",
              "        vertical-align: middle;\n",
              "    }\n",
              "\n",
              "    .dataframe tbody tr th {\n",
              "        vertical-align: top;\n",
              "    }\n",
              "\n",
              "    .dataframe thead th {\n",
              "        text-align: right;\n",
              "    }\n",
              "</style>\n",
              "<table border=\"1\" class=\"dataframe\">\n",
              "  <thead>\n",
              "    <tr style=\"text-align: right;\">\n",
              "      <th></th>\n",
              "      <th>Date</th>\n",
              "      <th>nifty</th>\n",
              "      <th>snp</th>\n",
              "      <th>nasdaq</th>\n",
              "      <th>dji</th>\n",
              "      <th>dax</th>\n",
              "      <th>us10y</th>\n",
              "      <th>dxy</th>\n",
              "      <th>hsi</th>\n",
              "      <th>nikkei</th>\n",
              "      <th>usdinr</th>\n",
              "      <th>kospi</th>\n",
              "      <th>ftse</th>\n",
              "      <th>sti</th>\n",
              "      <th>twse</th>\n",
              "      <th>Open</th>\n",
              "      <th>High</th>\n",
              "      <th>Low</th>\n",
              "      <th>Close</th>\n",
              "      <th>daily_return</th>\n",
              "      <th>cum_daily_return</th>\n",
              "      <th>H-L</th>\n",
              "      <th>C-O</th>\n",
              "      <th>10day MA</th>\n",
              "      <th>50day MA</th>\n",
              "      <th>200day MA</th>\n",
              "      <th>rsi</th>\n",
              "      <th>ma7</th>\n",
              "      <th>ma21</th>\n",
              "      <th>ema_26</th>\n",
              "      <th>ema_12</th>\n",
              "      <th>macd</th>\n",
              "      <th>bb_high</th>\n",
              "      <th>bb_low</th>\n",
              "      <th>ema</th>\n",
              "      <th>momentum</th>\n",
              "    </tr>\n",
              "  </thead>\n",
              "  <tbody>\n",
              "    <tr>\n",
              "      <th>0</th>\n",
              "      <td>2010-01-04</td>\n",
              "      <td>5232.200195</td>\n",
              "      <td>NaN</td>\n",
              "      <td>2308.419922</td>\n",
              "      <td>10,583.96</td>\n",
              "      <td>6,048.30</td>\n",
              "      <td>3.823</td>\n",
              "      <td>77.53</td>\n",
              "      <td>21823.279297</td>\n",
              "      <td>10654.790039</td>\n",
              "      <td>46.295</td>\n",
              "      <td>1696.140015</td>\n",
              "      <td>5500.34</td>\n",
              "      <td>2894.55</td>\n",
              "      <td>NaN</td>\n",
              "      <td>5200.90</td>\n",
              "      <td>5238.45</td>\n",
              "      <td>5167.10</td>\n",
              "      <td>5232.20</td>\n",
              "      <td>0.005989</td>\n",
              "      <td>3.286145</td>\n",
              "      <td>71.35</td>\n",
              "      <td>31.30</td>\n",
              "      <td>5089.140</td>\n",
              "      <td>5008.701</td>\n",
              "      <td>4392.60625</td>\n",
              "      <td>63.340306</td>\n",
              "      <td>5157.071429</td>\n",
              "      <td>5104.990476</td>\n",
              "      <td>5091.885694</td>\n",
              "      <td>5134.781005</td>\n",
              "      <td>42.895311</td>\n",
              "      <td>5255.436588</td>\n",
              "      <td>4954.544364</td>\n",
              "      <td>5218.508974</td>\n",
              "      <td>5231.20</td>\n",
              "    </tr>\n",
              "    <tr>\n",
              "      <th>1</th>\n",
              "      <td>2010-01-05</td>\n",
              "      <td>5277.899902</td>\n",
              "      <td>NaN</td>\n",
              "      <td>2308.709961</td>\n",
              "      <td>10,572.02</td>\n",
              "      <td>6,031.86</td>\n",
              "      <td>3.763</td>\n",
              "      <td>77.62</td>\n",
              "      <td>22279.580078</td>\n",
              "      <td>10681.830078</td>\n",
              "      <td>46.205</td>\n",
              "      <td>1690.619995</td>\n",
              "      <td>5522.50</td>\n",
              "      <td>2920.28</td>\n",
              "      <td>NaN</td>\n",
              "      <td>5277.15</td>\n",
              "      <td>5288.35</td>\n",
              "      <td>5242.40</td>\n",
              "      <td>5277.90</td>\n",
              "      <td>0.008734</td>\n",
              "      <td>3.314847</td>\n",
              "      <td>45.95</td>\n",
              "      <td>0.75</td>\n",
              "      <td>5108.155</td>\n",
              "      <td>5011.056</td>\n",
              "      <td>4405.66650</td>\n",
              "      <td>66.223961</td>\n",
              "      <td>5198.792857</td>\n",
              "      <td>5112.354762</td>\n",
              "      <td>5105.664531</td>\n",
              "      <td>5156.799312</td>\n",
              "      <td>51.134781</td>\n",
              "      <td>5280.637601</td>\n",
              "      <td>4944.071923</td>\n",
              "      <td>5258.102991</td>\n",
              "      <td>5276.90</td>\n",
              "    </tr>\n",
              "    <tr>\n",
              "      <th>2</th>\n",
              "      <td>2010-01-06</td>\n",
              "      <td>5281.799805</td>\n",
              "      <td>NaN</td>\n",
              "      <td>2301.090088</td>\n",
              "      <td>10,573.68</td>\n",
              "      <td>6,034.33</td>\n",
              "      <td>3.829</td>\n",
              "      <td>77.49</td>\n",
              "      <td>22416.669922</td>\n",
              "      <td>10731.450195</td>\n",
              "      <td>45.695</td>\n",
              "      <td>1705.319946</td>\n",
              "      <td>5530.04</td>\n",
              "      <td>2930.49</td>\n",
              "      <td>NaN</td>\n",
              "      <td>5278.15</td>\n",
              "      <td>5310.85</td>\n",
              "      <td>5260.05</td>\n",
              "      <td>5281.80</td>\n",
              "      <td>0.000739</td>\n",
              "      <td>3.317297</td>\n",
              "      <td>50.80</td>\n",
              "      <td>3.65</td>\n",
              "      <td>5131.770</td>\n",
              "      <td>5015.342</td>\n",
              "      <td>4419.19025</td>\n",
              "      <td>66.466381</td>\n",
              "      <td>5218.392857</td>\n",
              "      <td>5119.502381</td>\n",
              "      <td>5118.711603</td>\n",
              "      <td>5176.030187</td>\n",
              "      <td>57.318584</td>\n",
              "      <td>5303.274067</td>\n",
              "      <td>4935.730695</td>\n",
              "      <td>5273.900997</td>\n",
              "      <td>5280.80</td>\n",
              "    </tr>\n",
              "    <tr>\n",
              "      <th>3</th>\n",
              "      <td>2010-01-07</td>\n",
              "      <td>5263.100098</td>\n",
              "      <td>NaN</td>\n",
              "      <td>2300.050049</td>\n",
              "      <td>10,606.86</td>\n",
              "      <td>6,019.36</td>\n",
              "      <td>3.827</td>\n",
              "      <td>77.91</td>\n",
              "      <td>22269.449219</td>\n",
              "      <td>10681.660156</td>\n",
              "      <td>45.650</td>\n",
              "      <td>1683.449951</td>\n",
              "      <td>5526.72</td>\n",
              "      <td>2913.25</td>\n",
              "      <td>NaN</td>\n",
              "      <td>5281.80</td>\n",
              "      <td>5302.55</td>\n",
              "      <td>5244.75</td>\n",
              "      <td>5263.10</td>\n",
              "      <td>-0.003540</td>\n",
              "      <td>3.305552</td>\n",
              "      <td>57.80</td>\n",
              "      <td>-18.70</td>\n",
              "      <td>5161.180</td>\n",
              "      <td>5021.206</td>\n",
              "      <td>4432.51200</td>\n",
              "      <td>64.091081</td>\n",
              "      <td>5230.492857</td>\n",
              "      <td>5126.845238</td>\n",
              "      <td>5129.407040</td>\n",
              "      <td>5189.425543</td>\n",
              "      <td>60.018503</td>\n",
              "      <td>5320.873978</td>\n",
              "      <td>4932.816498</td>\n",
              "      <td>5266.700332</td>\n",
              "      <td>5262.10</td>\n",
              "    </tr>\n",
              "    <tr>\n",
              "      <th>4</th>\n",
              "      <td>2010-01-08</td>\n",
              "      <td>5244.750000</td>\n",
              "      <td>NaN</td>\n",
              "      <td>2317.169922</td>\n",
              "      <td>10,618.19</td>\n",
              "      <td>6,037.61</td>\n",
              "      <td>3.836</td>\n",
              "      <td>77.47</td>\n",
              "      <td>22296.750000</td>\n",
              "      <td>10798.320313</td>\n",
              "      <td>45.470</td>\n",
              "      <td>1695.260010</td>\n",
              "      <td>5534.24</td>\n",
              "      <td>2922.76</td>\n",
              "      <td>NaN</td>\n",
              "      <td>5264.25</td>\n",
              "      <td>5276.75</td>\n",
              "      <td>5234.70</td>\n",
              "      <td>5244.75</td>\n",
              "      <td>-0.003487</td>\n",
              "      <td>3.294027</td>\n",
              "      <td>42.05</td>\n",
              "      <td>-19.50</td>\n",
              "      <td>5192.230</td>\n",
              "      <td>5026.527</td>\n",
              "      <td>4445.23125</td>\n",
              "      <td>61.758729</td>\n",
              "      <td>5238.607143</td>\n",
              "      <td>5135.323810</td>\n",
              "      <td>5137.950963</td>\n",
              "      <td>5197.936998</td>\n",
              "      <td>59.986035</td>\n",
              "      <td>5333.823297</td>\n",
              "      <td>4936.824322</td>\n",
              "      <td>5252.066777</td>\n",
              "      <td>5243.75</td>\n",
              "    </tr>\n",
              "    <tr>\n",
              "      <th>...</th>\n",
              "      <td>...</td>\n",
              "      <td>...</td>\n",
              "      <td>...</td>\n",
              "      <td>...</td>\n",
              "      <td>...</td>\n",
              "      <td>...</td>\n",
              "      <td>...</td>\n",
              "      <td>...</td>\n",
              "      <td>...</td>\n",
              "      <td>...</td>\n",
              "      <td>...</td>\n",
              "      <td>...</td>\n",
              "      <td>...</td>\n",
              "      <td>...</td>\n",
              "      <td>...</td>\n",
              "      <td>...</td>\n",
              "      <td>...</td>\n",
              "      <td>...</td>\n",
              "      <td>...</td>\n",
              "      <td>...</td>\n",
              "      <td>...</td>\n",
              "      <td>...</td>\n",
              "      <td>...</td>\n",
              "      <td>...</td>\n",
              "      <td>...</td>\n",
              "      <td>...</td>\n",
              "      <td>...</td>\n",
              "      <td>...</td>\n",
              "      <td>...</td>\n",
              "      <td>...</td>\n",
              "      <td>...</td>\n",
              "      <td>...</td>\n",
              "      <td>...</td>\n",
              "      <td>...</td>\n",
              "      <td>...</td>\n",
              "      <td>...</td>\n",
              "    </tr>\n",
              "    <tr>\n",
              "      <th>2767</th>\n",
              "      <td>2021-03-16</td>\n",
              "      <td>14910.450195</td>\n",
              "      <td>3962.71</td>\n",
              "      <td>13471.570313</td>\n",
              "      <td>32,825.95</td>\n",
              "      <td>14,557.58</td>\n",
              "      <td>1.621</td>\n",
              "      <td>91.86</td>\n",
              "      <td>29027.689453</td>\n",
              "      <td>29921.089844</td>\n",
              "      <td>72.510</td>\n",
              "      <td>3067.169922</td>\n",
              "      <td>6803.61</td>\n",
              "      <td>3105.51</td>\n",
              "      <td>16,313.16</td>\n",
              "      <td>14996.10</td>\n",
              "      <td>15051.60</td>\n",
              "      <td>14890.65</td>\n",
              "      <td>14910.45</td>\n",
              "      <td>-0.001276</td>\n",
              "      <td>9.364684</td>\n",
              "      <td>160.95</td>\n",
              "      <td>-85.65</td>\n",
              "      <td>15013.495</td>\n",
              "      <td>14699.277</td>\n",
              "      <td>12415.92050</td>\n",
              "      <td>50.430302</td>\n",
              "      <td>15005.485714</td>\n",
              "      <td>14998.816667</td>\n",
              "      <td>14903.731025</td>\n",
              "      <td>14985.931087</td>\n",
              "      <td>82.200062</td>\n",
              "      <td>15415.376189</td>\n",
              "      <td>14582.257145</td>\n",
              "      <td>14931.917506</td>\n",
              "      <td>14909.45</td>\n",
              "    </tr>\n",
              "    <tr>\n",
              "      <th>2768</th>\n",
              "      <td>2021-03-17</td>\n",
              "      <td>14721.299805</td>\n",
              "      <td>3974.12</td>\n",
              "      <td>13525.200195</td>\n",
              "      <td>33,015.37</td>\n",
              "      <td>14,596.61</td>\n",
              "      <td>1.646</td>\n",
              "      <td>91.44</td>\n",
              "      <td>29034.119141</td>\n",
              "      <td>29914.330078</td>\n",
              "      <td>72.557</td>\n",
              "      <td>3047.500000</td>\n",
              "      <td>6762.67</td>\n",
              "      <td>3109.65</td>\n",
              "      <td>16,215.82</td>\n",
              "      <td>14946.55</td>\n",
              "      <td>14956.55</td>\n",
              "      <td>14696.05</td>\n",
              "      <td>14721.30</td>\n",
              "      <td>-0.012686</td>\n",
              "      <td>9.245886</td>\n",
              "      <td>260.50</td>\n",
              "      <td>-225.25</td>\n",
              "      <td>15028.385</td>\n",
              "      <td>14717.116</td>\n",
              "      <td>12440.57725</td>\n",
              "      <td>45.770778</td>\n",
              "      <td>14974.514286</td>\n",
              "      <td>14970.559524</td>\n",
              "      <td>14890.217616</td>\n",
              "      <td>14945.218612</td>\n",
              "      <td>55.000996</td>\n",
              "      <td>15377.517656</td>\n",
              "      <td>14563.601391</td>\n",
              "      <td>14791.505835</td>\n",
              "      <td>14720.30</td>\n",
              "    </tr>\n",
              "    <tr>\n",
              "      <th>2769</th>\n",
              "      <td>2021-03-18</td>\n",
              "      <td>14557.849609</td>\n",
              "      <td>3915.46</td>\n",
              "      <td>13116.169922</td>\n",
              "      <td>32,862.30</td>\n",
              "      <td>14,775.52</td>\n",
              "      <td>1.706</td>\n",
              "      <td>91.86</td>\n",
              "      <td>29405.720703</td>\n",
              "      <td>30216.750000</td>\n",
              "      <td>72.690</td>\n",
              "      <td>3066.010010</td>\n",
              "      <td>6779.68</td>\n",
              "      <td>3137.66</td>\n",
              "      <td>16,287.84</td>\n",
              "      <td>14855.50</td>\n",
              "      <td>14875.20</td>\n",
              "      <td>14478.60</td>\n",
              "      <td>14557.85</td>\n",
              "      <td>-0.011103</td>\n",
              "      <td>9.143229</td>\n",
              "      <td>396.60</td>\n",
              "      <td>-297.65</td>\n",
              "      <td>15008.605</td>\n",
              "      <td>14728.884</td>\n",
              "      <td>12463.87600</td>\n",
              "      <td>42.146859</td>\n",
              "      <td>14917.607143</td>\n",
              "      <td>14934.578571</td>\n",
              "      <td>14865.597792</td>\n",
              "      <td>14885.623441</td>\n",
              "      <td>20.025648</td>\n",
              "      <td>15347.771667</td>\n",
              "      <td>14521.385475</td>\n",
              "      <td>14635.735278</td>\n",
              "      <td>14556.85</td>\n",
              "    </tr>\n",
              "    <tr>\n",
              "      <th>2770</th>\n",
              "      <td>2021-03-19</td>\n",
              "      <td>14744.000000</td>\n",
              "      <td>3913.10</td>\n",
              "      <td>13215.240234</td>\n",
              "      <td>32,627.97</td>\n",
              "      <td>14,621.00</td>\n",
              "      <td>1.730</td>\n",
              "      <td>91.92</td>\n",
              "      <td>28990.939453</td>\n",
              "      <td>29792.050781</td>\n",
              "      <td>72.401</td>\n",
              "      <td>3039.530029</td>\n",
              "      <td>6708.71</td>\n",
              "      <td>3134.54</td>\n",
              "      <td>16,070.24</td>\n",
              "      <td>14471.15</td>\n",
              "      <td>14788.25</td>\n",
              "      <td>14350.10</td>\n",
              "      <td>14744.00</td>\n",
              "      <td>0.012787</td>\n",
              "      <td>9.260143</td>\n",
              "      <td>438.15</td>\n",
              "      <td>272.85</td>\n",
              "      <td>14939.830</td>\n",
              "      <td>14736.051</td>\n",
              "      <td>12486.51975</td>\n",
              "      <td>47.267575</td>\n",
              "      <td>14866.978571</td>\n",
              "      <td>14912.440476</td>\n",
              "      <td>14856.590548</td>\n",
              "      <td>14863.835219</td>\n",
              "      <td>7.244671</td>\n",
              "      <td>15313.543610</td>\n",
              "      <td>14511.337343</td>\n",
              "      <td>14707.911759</td>\n",
              "      <td>14743.00</td>\n",
              "    </tr>\n",
              "    <tr>\n",
              "      <th>2771</th>\n",
              "      <td>2021-03-22</td>\n",
              "      <td>14736.400391</td>\n",
              "      <td>3940.59</td>\n",
              "      <td>13377.540039</td>\n",
              "      <td>32,731.20</td>\n",
              "      <td>14,657.21</td>\n",
              "      <td>1.695</td>\n",
              "      <td>91.80</td>\n",
              "      <td>28885.339844</td>\n",
              "      <td>29174.150391</td>\n",
              "      <td>72.370</td>\n",
              "      <td>3035.459961</td>\n",
              "      <td>6726.10</td>\n",
              "      <td>3128.08</td>\n",
              "      <td>16,189.22</td>\n",
              "      <td>14736.30</td>\n",
              "      <td>14763.90</td>\n",
              "      <td>14597.85</td>\n",
              "      <td>14736.40</td>\n",
              "      <td>-0.000515</td>\n",
              "      <td>9.255370</td>\n",
              "      <td>166.05</td>\n",
              "      <td>0.10</td>\n",
              "      <td>14906.155</td>\n",
              "      <td>14748.006</td>\n",
              "      <td>12509.52900</td>\n",
              "      <td>47.084337</td>\n",
              "      <td>14804.350000</td>\n",
              "      <td>14894.223810</td>\n",
              "      <td>14847.687545</td>\n",
              "      <td>14844.229801</td>\n",
              "      <td>-3.457744</td>\n",
              "      <td>15290.656376</td>\n",
              "      <td>14497.791243</td>\n",
              "      <td>14726.903920</td>\n",
              "      <td>14735.40</td>\n",
              "    </tr>\n",
              "  </tbody>\n",
              "</table>\n",
              "<p>2772 rows × 36 columns</p>\n",
              "</div>"
            ],
            "text/plain": [
              "           Date         nifty      snp  ...        bb_low           ema  momentum\n",
              "0    2010-01-04   5232.200195      NaN  ...   4954.544364   5218.508974   5231.20\n",
              "1    2010-01-05   5277.899902      NaN  ...   4944.071923   5258.102991   5276.90\n",
              "2    2010-01-06   5281.799805      NaN  ...   4935.730695   5273.900997   5280.80\n",
              "3    2010-01-07   5263.100098      NaN  ...   4932.816498   5266.700332   5262.10\n",
              "4    2010-01-08   5244.750000      NaN  ...   4936.824322   5252.066777   5243.75\n",
              "...         ...           ...      ...  ...           ...           ...       ...\n",
              "2767 2021-03-16  14910.450195  3962.71  ...  14582.257145  14931.917506  14909.45\n",
              "2768 2021-03-17  14721.299805  3974.12  ...  14563.601391  14791.505835  14720.30\n",
              "2769 2021-03-18  14557.849609  3915.46  ...  14521.385475  14635.735278  14556.85\n",
              "2770 2021-03-19  14744.000000  3913.10  ...  14511.337343  14707.911759  14743.00\n",
              "2771 2021-03-22  14736.400391  3940.59  ...  14497.791243  14726.903920  14735.40\n",
              "\n",
              "[2772 rows x 36 columns]"
            ]
          },
          "metadata": {
            "tags": []
          },
          "execution_count": 24
        }
      ]
    },
    {
      "cell_type": "markdown",
      "metadata": {
        "id": "_7xAgRUIGWDd"
      },
      "source": [
        "## 4. Preparing data for LSTM"
      ]
    },
    {
      "cell_type": "markdown",
      "metadata": {
        "id": "EwPqevcnGu24"
      },
      "source": [
        "Drop date column as it is not a feature to train the LSTM on"
      ]
    },
    {
      "cell_type": "code",
      "metadata": {
        "id": "klmiO8Le4EpB"
      },
      "source": [
        "new_df_copy = new_df.drop(columns = 'Date')"
      ],
      "execution_count": null,
      "outputs": []
    },
    {
      "cell_type": "markdown",
      "metadata": {
        "id": "uyuqWA9oG3G-"
      },
      "source": [
        "Converting all columns values to float64"
      ]
    },
    {
      "cell_type": "code",
      "metadata": {
        "id": "HvJhlWWYFif6"
      },
      "source": [
        "# import numpy as np\n",
        "new_df_copy['dax'] = new_df_copy['dax'].str.replace(',','').astype(np.float64)\n",
        "new_df_copy['dji'] = new_df_copy['dji'].str.replace(',','').astype(np.float64)\n",
        "new_df_copy['twse'] = new_df_copy['twse'].str.replace(',','').astype(np.float64)\n"
      ],
      "execution_count": null,
      "outputs": []
    },
    {
      "cell_type": "code",
      "metadata": {
        "id": "6glwCH7wIJTd",
        "colab": {
          "base_uri": "https://localhost:8080/"
        },
        "outputId": "af4d4066-d73c-46cf-f997-06eb2685c3c2"
      },
      "source": [
        "print(new_df_copy.dtypes)\n",
        "print(\"Number of days: {}\".format(new_df_copy.shape[0]))"
      ],
      "execution_count": null,
      "outputs": [
        {
          "output_type": "stream",
          "text": [
            "nifty               float64\n",
            "snp                 float64\n",
            "nasdaq              float64\n",
            "dji                 float64\n",
            "dax                 float64\n",
            "us10y               float64\n",
            "dxy                 float64\n",
            "hsi                 float64\n",
            "nikkei              float64\n",
            "usdinr              float64\n",
            "kospi               float64\n",
            "ftse                float64\n",
            "sti                 float64\n",
            "twse                float64\n",
            "Open                float64\n",
            "High                float64\n",
            "Low                 float64\n",
            "Close               float64\n",
            "daily_return        float64\n",
            "cum_daily_return    float64\n",
            "H-L                 float64\n",
            "C-O                 float64\n",
            "10day MA            float64\n",
            "50day MA            float64\n",
            "200day MA           float64\n",
            "rsi                 float64\n",
            "ma7                 float64\n",
            "ma21                float64\n",
            "ema_26              float64\n",
            "ema_12              float64\n",
            "macd                float64\n",
            "bb_high             float64\n",
            "bb_low              float64\n",
            "ema                 float64\n",
            "momentum            float64\n",
            "dtype: object\n",
            "Number of days: 2772\n"
          ],
          "name": "stdout"
        }
      ]
    },
    {
      "cell_type": "markdown",
      "metadata": {
        "id": "ezM1RK-bG8bc"
      },
      "source": [
        "### Handling NaN values"
      ]
    },
    {
      "cell_type": "code",
      "metadata": {
        "id": "ikao3K6LCL7r",
        "colab": {
          "base_uri": "https://localhost:8080/"
        },
        "outputId": "b1f53713-d71b-4f6a-fe00-409709dc1ac5"
      },
      "source": [
        "print(new_df_copy.info())\n",
        "print('\\n')\n",
        "print(new_df_copy.isnull().sum())"
      ],
      "execution_count": null,
      "outputs": [
        {
          "output_type": "stream",
          "text": [
            "<class 'pandas.core.frame.DataFrame'>\n",
            "Int64Index: 2772 entries, 0 to 2771\n",
            "Data columns (total 35 columns):\n",
            " #   Column            Non-Null Count  Dtype  \n",
            "---  ------            --------------  -----  \n",
            " 0   nifty             2748 non-null   float64\n",
            " 1   snp               2422 non-null   float64\n",
            " 2   nasdaq            2684 non-null   float64\n",
            " 3   dji               2683 non-null   float64\n",
            " 4   dax               2712 non-null   float64\n",
            " 5   us10y             2746 non-null   float64\n",
            " 6   dxy               2764 non-null   float64\n",
            " 7   hsi               2629 non-null   float64\n",
            " 8   nikkei            2589 non-null   float64\n",
            " 9   usdinr            2764 non-null   float64\n",
            " 10  kospi             2626 non-null   float64\n",
            " 11  ftse              2757 non-null   float64\n",
            " 12  sti               2696 non-null   float64\n",
            " 13  twse              2322 non-null   float64\n",
            " 14  Open              2772 non-null   float64\n",
            " 15  High              2772 non-null   float64\n",
            " 16  Low               2772 non-null   float64\n",
            " 17  Close             2772 non-null   float64\n",
            " 18  daily_return      2772 non-null   float64\n",
            " 19  cum_daily_return  2772 non-null   float64\n",
            " 20  H-L               2772 non-null   float64\n",
            " 21  C-O               2772 non-null   float64\n",
            " 22  10day MA          2772 non-null   float64\n",
            " 23  50day MA          2772 non-null   float64\n",
            " 24  200day MA         2772 non-null   float64\n",
            " 25  rsi               2772 non-null   float64\n",
            " 26  ma7               2772 non-null   float64\n",
            " 27  ma21              2772 non-null   float64\n",
            " 28  ema_26            2772 non-null   float64\n",
            " 29  ema_12            2772 non-null   float64\n",
            " 30  macd              2772 non-null   float64\n",
            " 31  bb_high           2772 non-null   float64\n",
            " 32  bb_low            2772 non-null   float64\n",
            " 33  ema               2772 non-null   float64\n",
            " 34  momentum          2772 non-null   float64\n",
            "dtypes: float64(35)\n",
            "memory usage: 779.6 KB\n",
            "None\n",
            "\n",
            "\n",
            "nifty                24\n",
            "snp                 350\n",
            "nasdaq               88\n",
            "dji                  89\n",
            "dax                  60\n",
            "us10y                26\n",
            "dxy                   8\n",
            "hsi                 143\n",
            "nikkei              183\n",
            "usdinr                8\n",
            "kospi               146\n",
            "ftse                 15\n",
            "sti                  76\n",
            "twse                450\n",
            "Open                  0\n",
            "High                  0\n",
            "Low                   0\n",
            "Close                 0\n",
            "daily_return          0\n",
            "cum_daily_return      0\n",
            "H-L                   0\n",
            "C-O                   0\n",
            "10day MA              0\n",
            "50day MA              0\n",
            "200day MA             0\n",
            "rsi                   0\n",
            "ma7                   0\n",
            "ma21                  0\n",
            "ema_26                0\n",
            "ema_12                0\n",
            "macd                  0\n",
            "bb_high               0\n",
            "bb_low                0\n",
            "ema                   0\n",
            "momentum              0\n",
            "dtype: int64\n"
          ],
          "name": "stdout"
        }
      ]
    },
    {
      "cell_type": "markdown",
      "metadata": {
        "id": "fUTnD_0YCptO"
      },
      "source": [
        "1. Fill NaN values with mean"
      ]
    },
    {
      "cell_type": "code",
      "metadata": {
        "id": "GwNa44ZB7ULI"
      },
      "source": [
        "# for i in new_df_copy.columns:\n",
        "#   column_mean = new_df_copy[i].mean()\n",
        "#   new_df_copy = new_df_copy.fillna(column_mean)"
      ],
      "execution_count": null,
      "outputs": []
    },
    {
      "cell_type": "markdown",
      "metadata": {
        "id": "DD2X7PC3Cvr2"
      },
      "source": [
        "2. Fill NaN values with padding"
      ]
    },
    {
      "cell_type": "code",
      "metadata": {
        "id": "zQItF9XgCty-",
        "colab": {
          "base_uri": "https://localhost:8080/"
        },
        "outputId": "bdf91bf8-1ae0-4c99-b92e-5924b4e67831"
      },
      "source": [
        "new_df_copy = new_df_copy.fillna(method ='pad') # filling the missing values with previous ones \n",
        "print (new_df_copy.isnull().sum())"
      ],
      "execution_count": null,
      "outputs": [
        {
          "output_type": "stream",
          "text": [
            "nifty                 0\n",
            "snp                 306\n",
            "nasdaq                0\n",
            "dji                   0\n",
            "dax                   0\n",
            "us10y                 0\n",
            "dxy                   0\n",
            "hsi                   0\n",
            "nikkei                0\n",
            "usdinr                0\n",
            "kospi                 0\n",
            "ftse                  0\n",
            "sti                   0\n",
            "twse                302\n",
            "Open                  0\n",
            "High                  0\n",
            "Low                   0\n",
            "Close                 0\n",
            "daily_return          0\n",
            "cum_daily_return      0\n",
            "H-L                   0\n",
            "C-O                   0\n",
            "10day MA              0\n",
            "50day MA              0\n",
            "200day MA             0\n",
            "rsi                   0\n",
            "ma7                   0\n",
            "ma21                  0\n",
            "ema_26                0\n",
            "ema_12                0\n",
            "macd                  0\n",
            "bb_high               0\n",
            "bb_low                0\n",
            "ema                   0\n",
            "momentum              0\n",
            "dtype: int64\n"
          ],
          "name": "stdout"
        }
      ]
    },
    {
      "cell_type": "code",
      "metadata": {
        "id": "NrTlnU6XbJTs"
      },
      "source": [
        "# Drop first row of dataframe\n",
        "new_df_copy = new_df_copy.drop(axis=0,index=0)"
      ],
      "execution_count": null,
      "outputs": []
    },
    {
      "cell_type": "code",
      "metadata": {
        "id": "HRg-rowX7GfO"
      },
      "source": [
        "#Padding doesnt work for twse and snp so dropping these features\n",
        "new_df_copy = new_df_copy.drop(columns=['Close'])"
      ],
      "execution_count": null,
      "outputs": []
    },
    {
      "cell_type": "code",
      "metadata": {
        "id": "nAJ186mnJY-Z",
        "colab": {
          "base_uri": "https://localhost:8080/",
          "height": 456
        },
        "outputId": "fddb823d-9d72-4048-9d29-1eefbb4e0b36"
      },
      "source": [
        "new_df_copy"
      ],
      "execution_count": null,
      "outputs": [
        {
          "output_type": "execute_result",
          "data": {
            "text/html": [
              "<div>\n",
              "<style scoped>\n",
              "    .dataframe tbody tr th:only-of-type {\n",
              "        vertical-align: middle;\n",
              "    }\n",
              "\n",
              "    .dataframe tbody tr th {\n",
              "        vertical-align: top;\n",
              "    }\n",
              "\n",
              "    .dataframe thead th {\n",
              "        text-align: right;\n",
              "    }\n",
              "</style>\n",
              "<table border=\"1\" class=\"dataframe\">\n",
              "  <thead>\n",
              "    <tr style=\"text-align: right;\">\n",
              "      <th></th>\n",
              "      <th>nifty</th>\n",
              "      <th>snp</th>\n",
              "      <th>nasdaq</th>\n",
              "      <th>dji</th>\n",
              "      <th>dax</th>\n",
              "      <th>us10y</th>\n",
              "      <th>dxy</th>\n",
              "      <th>hsi</th>\n",
              "      <th>nikkei</th>\n",
              "      <th>usdinr</th>\n",
              "      <th>kospi</th>\n",
              "      <th>ftse</th>\n",
              "      <th>sti</th>\n",
              "      <th>twse</th>\n",
              "      <th>Open</th>\n",
              "      <th>High</th>\n",
              "      <th>Low</th>\n",
              "      <th>daily_return</th>\n",
              "      <th>cum_daily_return</th>\n",
              "      <th>H-L</th>\n",
              "      <th>C-O</th>\n",
              "      <th>10day MA</th>\n",
              "      <th>50day MA</th>\n",
              "      <th>200day MA</th>\n",
              "      <th>rsi</th>\n",
              "      <th>ma7</th>\n",
              "      <th>ma21</th>\n",
              "      <th>ema_26</th>\n",
              "      <th>ema_12</th>\n",
              "      <th>macd</th>\n",
              "      <th>bb_high</th>\n",
              "      <th>bb_low</th>\n",
              "      <th>ema</th>\n",
              "      <th>momentum</th>\n",
              "    </tr>\n",
              "  </thead>\n",
              "  <tbody>\n",
              "    <tr>\n",
              "      <th>1</th>\n",
              "      <td>5277.899902</td>\n",
              "      <td>NaN</td>\n",
              "      <td>2308.709961</td>\n",
              "      <td>10572.02</td>\n",
              "      <td>6031.86</td>\n",
              "      <td>3.763</td>\n",
              "      <td>77.62</td>\n",
              "      <td>22279.580078</td>\n",
              "      <td>10681.830078</td>\n",
              "      <td>46.205</td>\n",
              "      <td>1690.619995</td>\n",
              "      <td>5522.50</td>\n",
              "      <td>2920.28</td>\n",
              "      <td>NaN</td>\n",
              "      <td>5277.15</td>\n",
              "      <td>5288.35</td>\n",
              "      <td>5242.40</td>\n",
              "      <td>0.008734</td>\n",
              "      <td>3.314847</td>\n",
              "      <td>45.95</td>\n",
              "      <td>0.75</td>\n",
              "      <td>5108.155</td>\n",
              "      <td>5011.056</td>\n",
              "      <td>4405.66650</td>\n",
              "      <td>66.223961</td>\n",
              "      <td>5198.792857</td>\n",
              "      <td>5112.354762</td>\n",
              "      <td>5105.664531</td>\n",
              "      <td>5156.799312</td>\n",
              "      <td>51.134781</td>\n",
              "      <td>5280.637601</td>\n",
              "      <td>4944.071923</td>\n",
              "      <td>5258.102991</td>\n",
              "      <td>5276.90</td>\n",
              "    </tr>\n",
              "    <tr>\n",
              "      <th>2</th>\n",
              "      <td>5281.799805</td>\n",
              "      <td>NaN</td>\n",
              "      <td>2301.090088</td>\n",
              "      <td>10573.68</td>\n",
              "      <td>6034.33</td>\n",
              "      <td>3.829</td>\n",
              "      <td>77.49</td>\n",
              "      <td>22416.669922</td>\n",
              "      <td>10731.450195</td>\n",
              "      <td>45.695</td>\n",
              "      <td>1705.319946</td>\n",
              "      <td>5530.04</td>\n",
              "      <td>2930.49</td>\n",
              "      <td>NaN</td>\n",
              "      <td>5278.15</td>\n",
              "      <td>5310.85</td>\n",
              "      <td>5260.05</td>\n",
              "      <td>0.000739</td>\n",
              "      <td>3.317297</td>\n",
              "      <td>50.80</td>\n",
              "      <td>3.65</td>\n",
              "      <td>5131.770</td>\n",
              "      <td>5015.342</td>\n",
              "      <td>4419.19025</td>\n",
              "      <td>66.466381</td>\n",
              "      <td>5218.392857</td>\n",
              "      <td>5119.502381</td>\n",
              "      <td>5118.711603</td>\n",
              "      <td>5176.030187</td>\n",
              "      <td>57.318584</td>\n",
              "      <td>5303.274067</td>\n",
              "      <td>4935.730695</td>\n",
              "      <td>5273.900997</td>\n",
              "      <td>5280.80</td>\n",
              "    </tr>\n",
              "    <tr>\n",
              "      <th>3</th>\n",
              "      <td>5263.100098</td>\n",
              "      <td>NaN</td>\n",
              "      <td>2300.050049</td>\n",
              "      <td>10606.86</td>\n",
              "      <td>6019.36</td>\n",
              "      <td>3.827</td>\n",
              "      <td>77.91</td>\n",
              "      <td>22269.449219</td>\n",
              "      <td>10681.660156</td>\n",
              "      <td>45.650</td>\n",
              "      <td>1683.449951</td>\n",
              "      <td>5526.72</td>\n",
              "      <td>2913.25</td>\n",
              "      <td>NaN</td>\n",
              "      <td>5281.80</td>\n",
              "      <td>5302.55</td>\n",
              "      <td>5244.75</td>\n",
              "      <td>-0.003540</td>\n",
              "      <td>3.305552</td>\n",
              "      <td>57.80</td>\n",
              "      <td>-18.70</td>\n",
              "      <td>5161.180</td>\n",
              "      <td>5021.206</td>\n",
              "      <td>4432.51200</td>\n",
              "      <td>64.091081</td>\n",
              "      <td>5230.492857</td>\n",
              "      <td>5126.845238</td>\n",
              "      <td>5129.407040</td>\n",
              "      <td>5189.425543</td>\n",
              "      <td>60.018503</td>\n",
              "      <td>5320.873978</td>\n",
              "      <td>4932.816498</td>\n",
              "      <td>5266.700332</td>\n",
              "      <td>5262.10</td>\n",
              "    </tr>\n",
              "    <tr>\n",
              "      <th>4</th>\n",
              "      <td>5244.750000</td>\n",
              "      <td>NaN</td>\n",
              "      <td>2317.169922</td>\n",
              "      <td>10618.19</td>\n",
              "      <td>6037.61</td>\n",
              "      <td>3.836</td>\n",
              "      <td>77.47</td>\n",
              "      <td>22296.750000</td>\n",
              "      <td>10798.320313</td>\n",
              "      <td>45.470</td>\n",
              "      <td>1695.260010</td>\n",
              "      <td>5534.24</td>\n",
              "      <td>2922.76</td>\n",
              "      <td>NaN</td>\n",
              "      <td>5264.25</td>\n",
              "      <td>5276.75</td>\n",
              "      <td>5234.70</td>\n",
              "      <td>-0.003487</td>\n",
              "      <td>3.294027</td>\n",
              "      <td>42.05</td>\n",
              "      <td>-19.50</td>\n",
              "      <td>5192.230</td>\n",
              "      <td>5026.527</td>\n",
              "      <td>4445.23125</td>\n",
              "      <td>61.758729</td>\n",
              "      <td>5238.607143</td>\n",
              "      <td>5135.323810</td>\n",
              "      <td>5137.950963</td>\n",
              "      <td>5197.936998</td>\n",
              "      <td>59.986035</td>\n",
              "      <td>5333.823297</td>\n",
              "      <td>4936.824322</td>\n",
              "      <td>5252.066777</td>\n",
              "      <td>5243.75</td>\n",
              "    </tr>\n",
              "    <tr>\n",
              "      <th>5</th>\n",
              "      <td>5249.399902</td>\n",
              "      <td>NaN</td>\n",
              "      <td>2312.409912</td>\n",
              "      <td>10663.99</td>\n",
              "      <td>6040.50</td>\n",
              "      <td>3.824</td>\n",
              "      <td>77.00</td>\n",
              "      <td>22411.519531</td>\n",
              "      <td>10798.320313</td>\n",
              "      <td>45.260</td>\n",
              "      <td>1694.119995</td>\n",
              "      <td>5538.07</td>\n",
              "      <td>2933.53</td>\n",
              "      <td>NaN</td>\n",
              "      <td>5263.80</td>\n",
              "      <td>5287.20</td>\n",
              "      <td>5227.80</td>\n",
              "      <td>0.000887</td>\n",
              "      <td>3.296948</td>\n",
              "      <td>59.40</td>\n",
              "      <td>-14.40</td>\n",
              "      <td>5218.120</td>\n",
              "      <td>5032.004</td>\n",
              "      <td>4457.56875</td>\n",
              "      <td>62.134773</td>\n",
              "      <td>5250.028571</td>\n",
              "      <td>5140.154762</td>\n",
              "      <td>5146.206447</td>\n",
              "      <td>5205.854383</td>\n",
              "      <td>59.647936</td>\n",
              "      <td>5344.788136</td>\n",
              "      <td>4935.521388</td>\n",
              "      <td>5250.288926</td>\n",
              "      <td>5248.40</td>\n",
              "    </tr>\n",
              "    <tr>\n",
              "      <th>...</th>\n",
              "      <td>...</td>\n",
              "      <td>...</td>\n",
              "      <td>...</td>\n",
              "      <td>...</td>\n",
              "      <td>...</td>\n",
              "      <td>...</td>\n",
              "      <td>...</td>\n",
              "      <td>...</td>\n",
              "      <td>...</td>\n",
              "      <td>...</td>\n",
              "      <td>...</td>\n",
              "      <td>...</td>\n",
              "      <td>...</td>\n",
              "      <td>...</td>\n",
              "      <td>...</td>\n",
              "      <td>...</td>\n",
              "      <td>...</td>\n",
              "      <td>...</td>\n",
              "      <td>...</td>\n",
              "      <td>...</td>\n",
              "      <td>...</td>\n",
              "      <td>...</td>\n",
              "      <td>...</td>\n",
              "      <td>...</td>\n",
              "      <td>...</td>\n",
              "      <td>...</td>\n",
              "      <td>...</td>\n",
              "      <td>...</td>\n",
              "      <td>...</td>\n",
              "      <td>...</td>\n",
              "      <td>...</td>\n",
              "      <td>...</td>\n",
              "      <td>...</td>\n",
              "      <td>...</td>\n",
              "    </tr>\n",
              "    <tr>\n",
              "      <th>2767</th>\n",
              "      <td>14910.450195</td>\n",
              "      <td>3962.71</td>\n",
              "      <td>13471.570313</td>\n",
              "      <td>32825.95</td>\n",
              "      <td>14557.58</td>\n",
              "      <td>1.621</td>\n",
              "      <td>91.86</td>\n",
              "      <td>29027.689453</td>\n",
              "      <td>29921.089844</td>\n",
              "      <td>72.510</td>\n",
              "      <td>3067.169922</td>\n",
              "      <td>6803.61</td>\n",
              "      <td>3105.51</td>\n",
              "      <td>16313.16</td>\n",
              "      <td>14996.10</td>\n",
              "      <td>15051.60</td>\n",
              "      <td>14890.65</td>\n",
              "      <td>-0.001276</td>\n",
              "      <td>9.364684</td>\n",
              "      <td>160.95</td>\n",
              "      <td>-85.65</td>\n",
              "      <td>15013.495</td>\n",
              "      <td>14699.277</td>\n",
              "      <td>12415.92050</td>\n",
              "      <td>50.430302</td>\n",
              "      <td>15005.485714</td>\n",
              "      <td>14998.816667</td>\n",
              "      <td>14903.731025</td>\n",
              "      <td>14985.931087</td>\n",
              "      <td>82.200062</td>\n",
              "      <td>15415.376189</td>\n",
              "      <td>14582.257145</td>\n",
              "      <td>14931.917506</td>\n",
              "      <td>14909.45</td>\n",
              "    </tr>\n",
              "    <tr>\n",
              "      <th>2768</th>\n",
              "      <td>14721.299805</td>\n",
              "      <td>3974.12</td>\n",
              "      <td>13525.200195</td>\n",
              "      <td>33015.37</td>\n",
              "      <td>14596.61</td>\n",
              "      <td>1.646</td>\n",
              "      <td>91.44</td>\n",
              "      <td>29034.119141</td>\n",
              "      <td>29914.330078</td>\n",
              "      <td>72.557</td>\n",
              "      <td>3047.500000</td>\n",
              "      <td>6762.67</td>\n",
              "      <td>3109.65</td>\n",
              "      <td>16215.82</td>\n",
              "      <td>14946.55</td>\n",
              "      <td>14956.55</td>\n",
              "      <td>14696.05</td>\n",
              "      <td>-0.012686</td>\n",
              "      <td>9.245886</td>\n",
              "      <td>260.50</td>\n",
              "      <td>-225.25</td>\n",
              "      <td>15028.385</td>\n",
              "      <td>14717.116</td>\n",
              "      <td>12440.57725</td>\n",
              "      <td>45.770778</td>\n",
              "      <td>14974.514286</td>\n",
              "      <td>14970.559524</td>\n",
              "      <td>14890.217616</td>\n",
              "      <td>14945.218612</td>\n",
              "      <td>55.000996</td>\n",
              "      <td>15377.517656</td>\n",
              "      <td>14563.601391</td>\n",
              "      <td>14791.505835</td>\n",
              "      <td>14720.30</td>\n",
              "    </tr>\n",
              "    <tr>\n",
              "      <th>2769</th>\n",
              "      <td>14557.849609</td>\n",
              "      <td>3915.46</td>\n",
              "      <td>13116.169922</td>\n",
              "      <td>32862.30</td>\n",
              "      <td>14775.52</td>\n",
              "      <td>1.706</td>\n",
              "      <td>91.86</td>\n",
              "      <td>29405.720703</td>\n",
              "      <td>30216.750000</td>\n",
              "      <td>72.690</td>\n",
              "      <td>3066.010010</td>\n",
              "      <td>6779.68</td>\n",
              "      <td>3137.66</td>\n",
              "      <td>16287.84</td>\n",
              "      <td>14855.50</td>\n",
              "      <td>14875.20</td>\n",
              "      <td>14478.60</td>\n",
              "      <td>-0.011103</td>\n",
              "      <td>9.143229</td>\n",
              "      <td>396.60</td>\n",
              "      <td>-297.65</td>\n",
              "      <td>15008.605</td>\n",
              "      <td>14728.884</td>\n",
              "      <td>12463.87600</td>\n",
              "      <td>42.146859</td>\n",
              "      <td>14917.607143</td>\n",
              "      <td>14934.578571</td>\n",
              "      <td>14865.597792</td>\n",
              "      <td>14885.623441</td>\n",
              "      <td>20.025648</td>\n",
              "      <td>15347.771667</td>\n",
              "      <td>14521.385475</td>\n",
              "      <td>14635.735278</td>\n",
              "      <td>14556.85</td>\n",
              "    </tr>\n",
              "    <tr>\n",
              "      <th>2770</th>\n",
              "      <td>14744.000000</td>\n",
              "      <td>3913.10</td>\n",
              "      <td>13215.240234</td>\n",
              "      <td>32627.97</td>\n",
              "      <td>14621.00</td>\n",
              "      <td>1.730</td>\n",
              "      <td>91.92</td>\n",
              "      <td>28990.939453</td>\n",
              "      <td>29792.050781</td>\n",
              "      <td>72.401</td>\n",
              "      <td>3039.530029</td>\n",
              "      <td>6708.71</td>\n",
              "      <td>3134.54</td>\n",
              "      <td>16070.24</td>\n",
              "      <td>14471.15</td>\n",
              "      <td>14788.25</td>\n",
              "      <td>14350.10</td>\n",
              "      <td>0.012787</td>\n",
              "      <td>9.260143</td>\n",
              "      <td>438.15</td>\n",
              "      <td>272.85</td>\n",
              "      <td>14939.830</td>\n",
              "      <td>14736.051</td>\n",
              "      <td>12486.51975</td>\n",
              "      <td>47.267575</td>\n",
              "      <td>14866.978571</td>\n",
              "      <td>14912.440476</td>\n",
              "      <td>14856.590548</td>\n",
              "      <td>14863.835219</td>\n",
              "      <td>7.244671</td>\n",
              "      <td>15313.543610</td>\n",
              "      <td>14511.337343</td>\n",
              "      <td>14707.911759</td>\n",
              "      <td>14743.00</td>\n",
              "    </tr>\n",
              "    <tr>\n",
              "      <th>2771</th>\n",
              "      <td>14736.400391</td>\n",
              "      <td>3940.59</td>\n",
              "      <td>13377.540039</td>\n",
              "      <td>32731.20</td>\n",
              "      <td>14657.21</td>\n",
              "      <td>1.695</td>\n",
              "      <td>91.80</td>\n",
              "      <td>28885.339844</td>\n",
              "      <td>29174.150391</td>\n",
              "      <td>72.370</td>\n",
              "      <td>3035.459961</td>\n",
              "      <td>6726.10</td>\n",
              "      <td>3128.08</td>\n",
              "      <td>16189.22</td>\n",
              "      <td>14736.30</td>\n",
              "      <td>14763.90</td>\n",
              "      <td>14597.85</td>\n",
              "      <td>-0.000515</td>\n",
              "      <td>9.255370</td>\n",
              "      <td>166.05</td>\n",
              "      <td>0.10</td>\n",
              "      <td>14906.155</td>\n",
              "      <td>14748.006</td>\n",
              "      <td>12509.52900</td>\n",
              "      <td>47.084337</td>\n",
              "      <td>14804.350000</td>\n",
              "      <td>14894.223810</td>\n",
              "      <td>14847.687545</td>\n",
              "      <td>14844.229801</td>\n",
              "      <td>-3.457744</td>\n",
              "      <td>15290.656376</td>\n",
              "      <td>14497.791243</td>\n",
              "      <td>14726.903920</td>\n",
              "      <td>14735.40</td>\n",
              "    </tr>\n",
              "  </tbody>\n",
              "</table>\n",
              "<p>2771 rows × 34 columns</p>\n",
              "</div>"
            ],
            "text/plain": [
              "             nifty      snp        nasdaq  ...        bb_low           ema  momentum\n",
              "1      5277.899902      NaN   2308.709961  ...   4944.071923   5258.102991   5276.90\n",
              "2      5281.799805      NaN   2301.090088  ...   4935.730695   5273.900997   5280.80\n",
              "3      5263.100098      NaN   2300.050049  ...   4932.816498   5266.700332   5262.10\n",
              "4      5244.750000      NaN   2317.169922  ...   4936.824322   5252.066777   5243.75\n",
              "5      5249.399902      NaN   2312.409912  ...   4935.521388   5250.288926   5248.40\n",
              "...            ...      ...           ...  ...           ...           ...       ...\n",
              "2767  14910.450195  3962.71  13471.570313  ...  14582.257145  14931.917506  14909.45\n",
              "2768  14721.299805  3974.12  13525.200195  ...  14563.601391  14791.505835  14720.30\n",
              "2769  14557.849609  3915.46  13116.169922  ...  14521.385475  14635.735278  14556.85\n",
              "2770  14744.000000  3913.10  13215.240234  ...  14511.337343  14707.911759  14743.00\n",
              "2771  14736.400391  3940.59  13377.540039  ...  14497.791243  14726.903920  14735.40\n",
              "\n",
              "[2771 rows x 34 columns]"
            ]
          },
          "metadata": {
            "tags": []
          },
          "execution_count": 33
        }
      ]
    },
    {
      "cell_type": "code",
      "metadata": {
        "id": "9aL1Ug_0adkw"
      },
      "source": [
        "# import seaborn as sns\n",
        "# plt.figure(figsize=(20,10))\n",
        "\n",
        "# print(\"\\n\")\n",
        "# f, axes = plt.subplots(3, 4, figsize=(20, 10), sharex=True)\n",
        "# sns.distplot( new_df_copy[\"nifty\"] , ax=axes[0, 0])\n",
        "# sns.distplot( new_df_copy[\"nasdaq\"] , ax=axes[0, 1])\n",
        "# sns.distplot(new_df_copy[\"dji\"] , ax=axes[0, 2])\n",
        "# sns.distplot( new_df_copy[\"dax\"] , ax=axes[0, 3])\n",
        "# sns.distplot( new_df_copy[\"us_10\"] , ax=axes[1, 0])\n",
        "# sns.distplot( new_df_copy[\"dxy\"] , ax=axes[1, 1])\n",
        "# sns.distplot(new_df_copy[\"hsi\"] , ax=axes[1, 2])\n",
        "# sns.distplot( new_df_copy[\"nikkei\"] , ax=axes[1, 3])\n",
        "# sns.distplot( new_df_copy[\"usdinr\"] , ax=axes[2, 0])\n",
        "# sns.distplot( new_df_copy[\"kospi\"] , ax=axes[2, 1])\n",
        "# sns.distplot(new_df_copy[\"ftse\"] , ax=axes[2, 2])\n",
        "# sns.distplot( new_df_copy[\"sti\"] , ax=axes[2, 3])\n",
        "# plt.show()\n",
        "# print('\\n')\n",
        "# new_df_copy.describe()"
      ],
      "execution_count": null,
      "outputs": []
    },
    {
      "cell_type": "code",
      "metadata": {
        "id": "iGI6f9hpOQvc"
      },
      "source": [
        "# from pandas.plotting import register_matplotlib_converters\n",
        "# register_matplotlib_converters()\n",
        "\n",
        "# plt.figure(figsize=(20,15))\n",
        "# plt.plot(new_df_copy[\"nifty\"])\n",
        "# plt.plot(new_df_copy[\"nasdaq\"])\n",
        "# plt.plot(new_df_copy[\"dji\"])\n",
        "# plt.plot(new_df_copy[\"dax\"])\n",
        "# plt.plot(new_df_copy[\"us_10\"])\n",
        "# plt.plot(new_df_copy[\"dxy\"])\n",
        "# plt.plot(new_df_copy[\"hsi\"])\n",
        "# plt.plot(new_df_copy[\"nikkei\"])\n",
        "# plt.plot(new_df_copy[\"usdinr\"])\n",
        "# plt.plot(new_df_copy[\"kospi\"])\n",
        "# plt.plot(new_df_copy[\"ftse\"])\n",
        "# plt.plot(new_df_copy[\"sti\"])\n",
        "# plt.title('Nifty price history')\n",
        "# plt.ylabel('Price (INR)')\n",
        "# plt.legend(['nifty','nasdaq','dji','dax','us10y', 'dxy','hsi','nikkei','usdinr','kospi','ftse','sti'], loc='best')\n",
        "# plt.show()"
      ],
      "execution_count": null,
      "outputs": []
    },
    {
      "cell_type": "markdown",
      "metadata": {
        "id": "4fVtT7shHMDs"
      },
      "source": [
        "### Normalising the Data"
      ]
    },
    {
      "cell_type": "markdown",
      "metadata": {
        "id": "aeaUIuWNEs-r"
      },
      "source": [
        "1. Using MinMax Scaler for Normalisation"
      ]
    },
    {
      "cell_type": "code",
      "metadata": {
        "id": "-K42SXVO_kVK",
        "colab": {
          "base_uri": "https://localhost:8080/"
        },
        "outputId": "a7833ea3-2759-4c50-e70f-d15693e331d0"
      },
      "source": [
        "X = new_df_copy.values\n",
        "from sklearn.preprocessing import MinMaxScaler\n",
        "scaler = MinMaxScaler()\n",
        "X= scaler.fit_transform(X)\n",
        "df = pd.DataFrame(X)\n",
        "print(X)\n",
        "print('\\n')\n",
        "print(X.shape)"
      ],
      "execution_count": null,
      "outputs": [
        {
          "output_type": "stream",
          "text": [
            "[[0.06812123        nan 0.01807112 ... 0.04654663 0.06368447 0.06812126]\n",
            " [0.06848332        nan 0.01743632 ... 0.04572305 0.065158   0.06848336]\n",
            " [0.06674712        nan 0.01734968 ... 0.04543532 0.06448637 0.06674713]\n",
            " ...\n",
            " [0.9297293  0.97959574 0.9184167  ... 0.99216942 0.93836755 0.92972935]\n",
            " [0.94701266 0.97877484 0.92667003 ... 0.99117731 0.94509969 0.94701267]\n",
            " [0.94630706 0.98833695 0.94019087 ... 0.98983983 0.94687115 0.94630704]]\n",
            "\n",
            "\n",
            "(2771, 34)\n"
          ],
          "name": "stdout"
        }
      ]
    },
    {
      "cell_type": "markdown",
      "metadata": {
        "id": "VXvTGA4SExGI"
      },
      "source": [
        "2. Using StandardScaler for Normalisation"
      ]
    },
    {
      "cell_type": "code",
      "metadata": {
        "id": "zSU04UGBCTPN"
      },
      "source": [
        "# x = new_df_copy.values #returns a numpy array\n",
        "# standardScaler = preprocessing.StandardScaler()\n",
        "# x_scaled = standardScaler.fit_transform(x)\n",
        "# df = pd.DataFrame(x_scaled)\n"
      ],
      "execution_count": null,
      "outputs": []
    },
    {
      "cell_type": "code",
      "metadata": {
        "id": "_Q8dAonu7zmw",
        "colab": {
          "base_uri": "https://localhost:8080/"
        },
        "outputId": "b36c2d7c-5e55-4ed5-cd2c-cea0fd6b6c43"
      },
      "source": [
        "print(df)"
      ],
      "execution_count": null,
      "outputs": [
        {
          "output_type": "stream",
          "text": [
            "            0         1         2   ...        31        32        33\n",
            "0     0.068121       NaN  0.018071  ...  0.046547  0.063684  0.068121\n",
            "1     0.068483       NaN  0.017436  ...  0.045723  0.065158  0.068483\n",
            "2     0.066747       NaN  0.017350  ...  0.045435  0.064486  0.066747\n",
            "3     0.065043       NaN  0.018776  ...  0.045831  0.063121  0.065043\n",
            "4     0.065475       NaN  0.018379  ...  0.045702  0.062956  0.065475\n",
            "...        ...       ...       ...  ...       ...       ...       ...\n",
            "2766  0.962467  0.996031  0.948024  ...  0.998180  0.965993  0.962467\n",
            "2767  0.944905  1.000000  0.952492  ...  0.996338  0.952897  0.944905\n",
            "2768  0.929729  0.979596  0.918417  ...  0.992169  0.938368  0.929729\n",
            "2769  0.947013  0.978775  0.926670  ...  0.991177  0.945100  0.947013\n",
            "2770  0.946307  0.988337  0.940191  ...  0.989840  0.946871  0.946307\n",
            "\n",
            "[2771 rows x 34 columns]\n"
          ],
          "name": "stdout"
        }
      ]
    },
    {
      "cell_type": "code",
      "metadata": {
        "id": "1K6wEpXECdzp"
      },
      "source": [
        "new_normalised_df_with_date = pd.concat((new_df['Date'],df),axis=1)"
      ],
      "execution_count": null,
      "outputs": []
    },
    {
      "cell_type": "code",
      "metadata": {
        "id": "xX411vGbMuiR"
      },
      "source": [
        "new_normalised_df_without_date = new_normalised_df_with_date.drop(columns = 'Date')"
      ],
      "execution_count": null,
      "outputs": []
    },
    {
      "cell_type": "code",
      "metadata": {
        "id": "efdNnekbSfi4"
      },
      "source": [
        "for col in new_normalised_df_without_date.columns:\n",
        "  new_normalised_df_without_date[col].fillna(value=new_normalised_df_without_date[col].mean(), inplace=True)"
      ],
      "execution_count": null,
      "outputs": []
    },
    {
      "cell_type": "code",
      "metadata": {
        "id": "e0FLAeVVS7ko",
        "colab": {
          "base_uri": "https://localhost:8080/",
          "height": 439
        },
        "outputId": "e5821089-af70-4ffb-c439-e34ad4badf46"
      },
      "source": [
        "new_normalised_df_without_date"
      ],
      "execution_count": null,
      "outputs": [
        {
          "output_type": "execute_result",
          "data": {
            "text/html": [
              "<div>\n",
              "<style scoped>\n",
              "    .dataframe tbody tr th:only-of-type {\n",
              "        vertical-align: middle;\n",
              "    }\n",
              "\n",
              "    .dataframe tbody tr th {\n",
              "        vertical-align: top;\n",
              "    }\n",
              "\n",
              "    .dataframe thead th {\n",
              "        text-align: right;\n",
              "    }\n",
              "</style>\n",
              "<table border=\"1\" class=\"dataframe\">\n",
              "  <thead>\n",
              "    <tr style=\"text-align: right;\">\n",
              "      <th></th>\n",
              "      <th>0</th>\n",
              "      <th>1</th>\n",
              "      <th>2</th>\n",
              "      <th>3</th>\n",
              "      <th>4</th>\n",
              "      <th>5</th>\n",
              "      <th>6</th>\n",
              "      <th>7</th>\n",
              "      <th>8</th>\n",
              "      <th>9</th>\n",
              "      <th>10</th>\n",
              "      <th>11</th>\n",
              "      <th>12</th>\n",
              "      <th>13</th>\n",
              "      <th>14</th>\n",
              "      <th>15</th>\n",
              "      <th>16</th>\n",
              "      <th>17</th>\n",
              "      <th>18</th>\n",
              "      <th>19</th>\n",
              "      <th>20</th>\n",
              "      <th>21</th>\n",
              "      <th>22</th>\n",
              "      <th>23</th>\n",
              "      <th>24</th>\n",
              "      <th>25</th>\n",
              "      <th>26</th>\n",
              "      <th>27</th>\n",
              "      <th>28</th>\n",
              "      <th>29</th>\n",
              "      <th>30</th>\n",
              "      <th>31</th>\n",
              "      <th>32</th>\n",
              "      <th>33</th>\n",
              "    </tr>\n",
              "  </thead>\n",
              "  <tbody>\n",
              "    <tr>\n",
              "      <th>0</th>\n",
              "      <td>0.068121</td>\n",
              "      <td>0.392704</td>\n",
              "      <td>0.018071</td>\n",
              "      <td>0.037959</td>\n",
              "      <td>0.098888</td>\n",
              "      <td>0.934733</td>\n",
              "      <td>0.154429</td>\n",
              "      <td>0.360678</td>\n",
              "      <td>0.113047</td>\n",
              "      <td>0.066869</td>\n",
              "      <td>0.133029</td>\n",
              "      <td>0.233340</td>\n",
              "      <td>0.497033</td>\n",
              "      <td>0.298846</td>\n",
              "      <td>0.060847</td>\n",
              "      <td>0.061544</td>\n",
              "      <td>0.066396</td>\n",
              "      <td>0.637146</td>\n",
              "      <td>0.068121</td>\n",
              "      <td>0.018734</td>\n",
              "      <td>0.422832</td>\n",
              "      <td>0.040814</td>\n",
              "      <td>0.019077</td>\n",
              "      <td>0.000000</td>\n",
              "      <td>0.764645</td>\n",
              "      <td>0.050138</td>\n",
              "      <td>0.038997</td>\n",
              "      <td>0.033774</td>\n",
              "      <td>0.044379</td>\n",
              "      <td>0.783064</td>\n",
              "      <td>0.040068</td>\n",
              "      <td>0.046547</td>\n",
              "      <td>0.063684</td>\n",
              "      <td>0.068121</td>\n",
              "    </tr>\n",
              "    <tr>\n",
              "      <th>1</th>\n",
              "      <td>0.068483</td>\n",
              "      <td>0.392704</td>\n",
              "      <td>0.017436</td>\n",
              "      <td>0.038030</td>\n",
              "      <td>0.099143</td>\n",
              "      <td>0.953709</td>\n",
              "      <td>0.150148</td>\n",
              "      <td>0.368878</td>\n",
              "      <td>0.115271</td>\n",
              "      <td>0.051403</td>\n",
              "      <td>0.141422</td>\n",
              "      <td>0.235795</td>\n",
              "      <td>0.504422</td>\n",
              "      <td>0.298846</td>\n",
              "      <td>0.060940</td>\n",
              "      <td>0.063625</td>\n",
              "      <td>0.068044</td>\n",
              "      <td>0.600375</td>\n",
              "      <td>0.068483</td>\n",
              "      <td>0.021788</td>\n",
              "      <td>0.424808</td>\n",
              "      <td>0.043067</td>\n",
              "      <td>0.019509</td>\n",
              "      <td>0.001669</td>\n",
              "      <td>0.768131</td>\n",
              "      <td>0.051999</td>\n",
              "      <td>0.039689</td>\n",
              "      <td>0.035061</td>\n",
              "      <td>0.046239</td>\n",
              "      <td>0.787654</td>\n",
              "      <td>0.042137</td>\n",
              "      <td>0.045723</td>\n",
              "      <td>0.065158</td>\n",
              "      <td>0.068483</td>\n",
              "    </tr>\n",
              "    <tr>\n",
              "      <th>2</th>\n",
              "      <td>0.066747</td>\n",
              "      <td>0.392704</td>\n",
              "      <td>0.017350</td>\n",
              "      <td>0.039452</td>\n",
              "      <td>0.097600</td>\n",
              "      <td>0.953134</td>\n",
              "      <td>0.163978</td>\n",
              "      <td>0.360072</td>\n",
              "      <td>0.113039</td>\n",
              "      <td>0.050038</td>\n",
              "      <td>0.128935</td>\n",
              "      <td>0.234714</td>\n",
              "      <td>0.491945</td>\n",
              "      <td>0.298846</td>\n",
              "      <td>0.061279</td>\n",
              "      <td>0.062857</td>\n",
              "      <td>0.066615</td>\n",
              "      <td>0.580694</td>\n",
              "      <td>0.066747</td>\n",
              "      <td>0.026196</td>\n",
              "      <td>0.409576</td>\n",
              "      <td>0.045874</td>\n",
              "      <td>0.020099</td>\n",
              "      <td>0.003313</td>\n",
              "      <td>0.733976</td>\n",
              "      <td>0.053149</td>\n",
              "      <td>0.040401</td>\n",
              "      <td>0.036116</td>\n",
              "      <td>0.047535</td>\n",
              "      <td>0.789659</td>\n",
              "      <td>0.043745</td>\n",
              "      <td>0.045435</td>\n",
              "      <td>0.064486</td>\n",
              "      <td>0.066747</td>\n",
              "    </tr>\n",
              "    <tr>\n",
              "      <th>3</th>\n",
              "      <td>0.065043</td>\n",
              "      <td>0.392704</td>\n",
              "      <td>0.018776</td>\n",
              "      <td>0.039938</td>\n",
              "      <td>0.099481</td>\n",
              "      <td>0.955722</td>\n",
              "      <td>0.149490</td>\n",
              "      <td>0.361705</td>\n",
              "      <td>0.118269</td>\n",
              "      <td>0.044579</td>\n",
              "      <td>0.135678</td>\n",
              "      <td>0.237162</td>\n",
              "      <td>0.498828</td>\n",
              "      <td>0.298846</td>\n",
              "      <td>0.059647</td>\n",
              "      <td>0.060470</td>\n",
              "      <td>0.065677</td>\n",
              "      <td>0.580942</td>\n",
              "      <td>0.065043</td>\n",
              "      <td>0.016278</td>\n",
              "      <td>0.409030</td>\n",
              "      <td>0.048836</td>\n",
              "      <td>0.020635</td>\n",
              "      <td>0.004882</td>\n",
              "      <td>0.700439</td>\n",
              "      <td>0.053919</td>\n",
              "      <td>0.041223</td>\n",
              "      <td>0.036958</td>\n",
              "      <td>0.048358</td>\n",
              "      <td>0.789635</td>\n",
              "      <td>0.044929</td>\n",
              "      <td>0.045831</td>\n",
              "      <td>0.063121</td>\n",
              "      <td>0.065043</td>\n",
              "    </tr>\n",
              "    <tr>\n",
              "      <th>4</th>\n",
              "      <td>0.065475</td>\n",
              "      <td>0.392704</td>\n",
              "      <td>0.018379</td>\n",
              "      <td>0.041901</td>\n",
              "      <td>0.099779</td>\n",
              "      <td>0.952271</td>\n",
              "      <td>0.134014</td>\n",
              "      <td>0.368570</td>\n",
              "      <td>0.118269</td>\n",
              "      <td>0.038211</td>\n",
              "      <td>0.135027</td>\n",
              "      <td>0.238409</td>\n",
              "      <td>0.506622</td>\n",
              "      <td>0.298846</td>\n",
              "      <td>0.059605</td>\n",
              "      <td>0.061437</td>\n",
              "      <td>0.065033</td>\n",
              "      <td>0.601054</td>\n",
              "      <td>0.065475</td>\n",
              "      <td>0.027203</td>\n",
              "      <td>0.412506</td>\n",
              "      <td>0.051307</td>\n",
              "      <td>0.021187</td>\n",
              "      <td>0.006405</td>\n",
              "      <td>0.705846</td>\n",
              "      <td>0.055004</td>\n",
              "      <td>0.041691</td>\n",
              "      <td>0.037772</td>\n",
              "      <td>0.049124</td>\n",
              "      <td>0.789384</td>\n",
              "      <td>0.045931</td>\n",
              "      <td>0.045702</td>\n",
              "      <td>0.062956</td>\n",
              "      <td>0.065475</td>\n",
              "    </tr>\n",
              "    <tr>\n",
              "      <th>...</th>\n",
              "      <td>...</td>\n",
              "      <td>...</td>\n",
              "      <td>...</td>\n",
              "      <td>...</td>\n",
              "      <td>...</td>\n",
              "      <td>...</td>\n",
              "      <td>...</td>\n",
              "      <td>...</td>\n",
              "      <td>...</td>\n",
              "      <td>...</td>\n",
              "      <td>...</td>\n",
              "      <td>...</td>\n",
              "      <td>...</td>\n",
              "      <td>...</td>\n",
              "      <td>...</td>\n",
              "      <td>...</td>\n",
              "      <td>...</td>\n",
              "      <td>...</td>\n",
              "      <td>...</td>\n",
              "      <td>...</td>\n",
              "      <td>...</td>\n",
              "      <td>...</td>\n",
              "      <td>...</td>\n",
              "      <td>...</td>\n",
              "      <td>...</td>\n",
              "      <td>...</td>\n",
              "      <td>...</td>\n",
              "      <td>...</td>\n",
              "      <td>...</td>\n",
              "      <td>...</td>\n",
              "      <td>...</td>\n",
              "      <td>...</td>\n",
              "      <td>...</td>\n",
              "      <td>...</td>\n",
              "    </tr>\n",
              "    <tr>\n",
              "      <th>2767</th>\n",
              "      <td>0.944905</td>\n",
              "      <td>1.000000</td>\n",
              "      <td>0.952492</td>\n",
              "      <td>1.000000</td>\n",
              "      <td>0.981562</td>\n",
              "      <td>0.326049</td>\n",
              "      <td>0.609483</td>\n",
              "      <td>0.764739</td>\n",
              "      <td>0.975192</td>\n",
              "      <td>0.866020</td>\n",
              "      <td>0.907791</td>\n",
              "      <td>0.637080</td>\n",
              "      <td>0.634079</td>\n",
              "      <td>0.975928</td>\n",
              "      <td>0.960468</td>\n",
              "      <td>0.956035</td>\n",
              "      <td>0.948904</td>\n",
              "      <td>0.538635</td>\n",
              "      <td>0.944905</td>\n",
              "      <td>0.153836</td>\n",
              "      <td>0.268802</td>\n",
              "      <td>0.987385</td>\n",
              "      <td>0.996888</td>\n",
              "      <td>0.991491</td>\n",
              "      <td>0.470546</td>\n",
              "      <td>0.978596</td>\n",
              "      <td>0.994620</td>\n",
              "      <td>0.998667</td>\n",
              "      <td>0.991133</td>\n",
              "      <td>0.785934</td>\n",
              "      <td>0.962848</td>\n",
              "      <td>0.996338</td>\n",
              "      <td>0.952897</td>\n",
              "      <td>0.944905</td>\n",
              "    </tr>\n",
              "    <tr>\n",
              "      <th>2768</th>\n",
              "      <td>0.929729</td>\n",
              "      <td>0.979596</td>\n",
              "      <td>0.918417</td>\n",
              "      <td>0.993439</td>\n",
              "      <td>1.000000</td>\n",
              "      <td>0.343301</td>\n",
              "      <td>0.623312</td>\n",
              "      <td>0.786968</td>\n",
              "      <td>0.988748</td>\n",
              "      <td>0.870053</td>\n",
              "      <td>0.918360</td>\n",
              "      <td>0.642618</td>\n",
              "      <td>0.654349</td>\n",
              "      <td>0.983263</td>\n",
              "      <td>0.951997</td>\n",
              "      <td>0.948509</td>\n",
              "      <td>0.928605</td>\n",
              "      <td>0.545914</td>\n",
              "      <td>0.929729</td>\n",
              "      <td>0.239539</td>\n",
              "      <td>0.219458</td>\n",
              "      <td>0.985497</td>\n",
              "      <td>0.998074</td>\n",
              "      <td>0.994367</td>\n",
              "      <td>0.418438</td>\n",
              "      <td>0.973192</td>\n",
              "      <td>0.991132</td>\n",
              "      <td>0.996240</td>\n",
              "      <td>0.985369</td>\n",
              "      <td>0.759968</td>\n",
              "      <td>0.960129</td>\n",
              "      <td>0.992169</td>\n",
              "      <td>0.938368</td>\n",
              "      <td>0.929729</td>\n",
              "    </tr>\n",
              "    <tr>\n",
              "      <th>2769</th>\n",
              "      <td>0.947013</td>\n",
              "      <td>0.978775</td>\n",
              "      <td>0.926670</td>\n",
              "      <td>0.983394</td>\n",
              "      <td>0.984075</td>\n",
              "      <td>0.350201</td>\n",
              "      <td>0.625288</td>\n",
              "      <td>0.762156</td>\n",
              "      <td>0.969710</td>\n",
              "      <td>0.861289</td>\n",
              "      <td>0.903240</td>\n",
              "      <td>0.619514</td>\n",
              "      <td>0.652091</td>\n",
              "      <td>0.961101</td>\n",
              "      <td>0.916238</td>\n",
              "      <td>0.940464</td>\n",
              "      <td>0.916609</td>\n",
              "      <td>0.655784</td>\n",
              "      <td>0.947013</td>\n",
              "      <td>0.265703</td>\n",
              "      <td>0.608281</td>\n",
              "      <td>0.978935</td>\n",
              "      <td>0.998796</td>\n",
              "      <td>0.997161</td>\n",
              "      <td>0.492069</td>\n",
              "      <td>0.968383</td>\n",
              "      <td>0.988986</td>\n",
              "      <td>0.995351</td>\n",
              "      <td>0.983261</td>\n",
              "      <td>0.750479</td>\n",
              "      <td>0.957001</td>\n",
              "      <td>0.991177</td>\n",
              "      <td>0.945100</td>\n",
              "      <td>0.947013</td>\n",
              "    </tr>\n",
              "    <tr>\n",
              "      <th>2770</th>\n",
              "      <td>0.946307</td>\n",
              "      <td>0.988337</td>\n",
              "      <td>0.940191</td>\n",
              "      <td>0.987819</td>\n",
              "      <td>0.987807</td>\n",
              "      <td>0.340138</td>\n",
              "      <td>0.621337</td>\n",
              "      <td>0.755839</td>\n",
              "      <td>0.942011</td>\n",
              "      <td>0.860349</td>\n",
              "      <td>0.900916</td>\n",
              "      <td>0.625175</td>\n",
              "      <td>0.647416</td>\n",
              "      <td>0.973219</td>\n",
              "      <td>0.940907</td>\n",
              "      <td>0.938211</td>\n",
              "      <td>0.939737</td>\n",
              "      <td>0.594606</td>\n",
              "      <td>0.946307</td>\n",
              "      <td>0.094361</td>\n",
              "      <td>0.422389</td>\n",
              "      <td>0.975722</td>\n",
              "      <td>1.000000</td>\n",
              "      <td>1.000000</td>\n",
              "      <td>0.489434</td>\n",
              "      <td>0.962435</td>\n",
              "      <td>0.987220</td>\n",
              "      <td>0.994473</td>\n",
              "      <td>0.981365</td>\n",
              "      <td>0.742533</td>\n",
              "      <td>0.954909</td>\n",
              "      <td>0.989840</td>\n",
              "      <td>0.946871</td>\n",
              "      <td>0.946307</td>\n",
              "    </tr>\n",
              "    <tr>\n",
              "      <th>2771</th>\n",
              "      <td>0.338829</td>\n",
              "      <td>0.392704</td>\n",
              "      <td>0.275846</td>\n",
              "      <td>0.386503</td>\n",
              "      <td>0.496109</td>\n",
              "      <td>0.496604</td>\n",
              "      <td>0.529537</td>\n",
              "      <td>0.463456</td>\n",
              "      <td>0.381368</td>\n",
              "      <td>0.531792</td>\n",
              "      <td>0.352084</td>\n",
              "      <td>0.549450</td>\n",
              "      <td>0.610191</td>\n",
              "      <td>0.298846</td>\n",
              "      <td>0.332834</td>\n",
              "      <td>0.334932</td>\n",
              "      <td>0.337220</td>\n",
              "      <td>0.599001</td>\n",
              "      <td>0.338849</td>\n",
              "      <td>0.052620</td>\n",
              "      <td>0.417698</td>\n",
              "      <td>0.333409</td>\n",
              "      <td>0.330675</td>\n",
              "      <td>0.428774</td>\n",
              "      <td>0.589814</td>\n",
              "      <td>0.333607</td>\n",
              "      <td>0.334293</td>\n",
              "      <td>0.333982</td>\n",
              "      <td>0.336259</td>\n",
              "      <td>0.763358</td>\n",
              "      <td>0.330189</td>\n",
              "      <td>0.334668</td>\n",
              "      <td>0.337342</td>\n",
              "      <td>0.338849</td>\n",
              "    </tr>\n",
              "  </tbody>\n",
              "</table>\n",
              "<p>2772 rows × 34 columns</p>\n",
              "</div>"
            ],
            "text/plain": [
              "            0         1         2   ...        31        32        33\n",
              "0     0.068121  0.392704  0.018071  ...  0.046547  0.063684  0.068121\n",
              "1     0.068483  0.392704  0.017436  ...  0.045723  0.065158  0.068483\n",
              "2     0.066747  0.392704  0.017350  ...  0.045435  0.064486  0.066747\n",
              "3     0.065043  0.392704  0.018776  ...  0.045831  0.063121  0.065043\n",
              "4     0.065475  0.392704  0.018379  ...  0.045702  0.062956  0.065475\n",
              "...        ...       ...       ...  ...       ...       ...       ...\n",
              "2767  0.944905  1.000000  0.952492  ...  0.996338  0.952897  0.944905\n",
              "2768  0.929729  0.979596  0.918417  ...  0.992169  0.938368  0.929729\n",
              "2769  0.947013  0.978775  0.926670  ...  0.991177  0.945100  0.947013\n",
              "2770  0.946307  0.988337  0.940191  ...  0.989840  0.946871  0.946307\n",
              "2771  0.338829  0.392704  0.275846  ...  0.334668  0.337342  0.338849\n",
              "\n",
              "[2772 rows x 34 columns]"
            ]
          },
          "metadata": {
            "tags": []
          },
          "execution_count": 42
        }
      ]
    },
    {
      "cell_type": "code",
      "metadata": {
        "id": "rpPn9Vn5M5CR"
      },
      "source": [
        "final_data = new_normalised_df_without_date.values"
      ],
      "execution_count": null,
      "outputs": []
    },
    {
      "cell_type": "code",
      "metadata": {
        "id": "mt_n9qFqSXKb",
        "colab": {
          "base_uri": "https://localhost:8080/"
        },
        "outputId": "470da00e-6797-4f74-c42d-233e97d5fa4b"
      },
      "source": [
        "final_data"
      ],
      "execution_count": null,
      "outputs": [
        {
          "output_type": "execute_result",
          "data": {
            "text/plain": [
              "array([[0.06812123, 0.39270371, 0.01807112, ..., 0.04654663, 0.06368447,\n",
              "        0.06812126],\n",
              "       [0.06848332, 0.39270371, 0.01743632, ..., 0.04572305, 0.065158  ,\n",
              "        0.06848336],\n",
              "       [0.06674712, 0.39270371, 0.01734968, ..., 0.04543532, 0.06448637,\n",
              "        0.06674713],\n",
              "       ...,\n",
              "       [0.94701266, 0.97877484, 0.92667003, ..., 0.99117731, 0.94509969,\n",
              "        0.94701267],\n",
              "       [0.94630706, 0.98833695, 0.94019087, ..., 0.98983983, 0.94687115,\n",
              "        0.94630704],\n",
              "       [0.33882935, 0.39270371, 0.27584619, ..., 0.33466837, 0.33734247,\n",
              "        0.33884892]])"
            ]
          },
          "metadata": {
            "tags": []
          },
          "execution_count": 44
        }
      ]
    },
    {
      "cell_type": "code",
      "metadata": {
        "id": "ctiRRP0DNOqS"
      },
      "source": [
        "X = final_data[:int(0.8*final_data.shape[0]),:]"
      ],
      "execution_count": null,
      "outputs": []
    },
    {
      "cell_type": "code",
      "metadata": {
        "id": "MZKjubmms8pH"
      },
      "source": [
        "X_test = final_data[int(0.8*final_data.shape[0]):,:]"
      ],
      "execution_count": null,
      "outputs": []
    },
    {
      "cell_type": "code",
      "metadata": {
        "id": "yazAymsyrV8v",
        "colab": {
          "base_uri": "https://localhost:8080/"
        },
        "outputId": "f4256071-2336-4bd6-8ce3-80b0b640d647"
      },
      "source": [
        "print(X.shape, X_test.shape)"
      ],
      "execution_count": null,
      "outputs": [
        {
          "output_type": "stream",
          "text": [
            "(2217, 34) (555, 34)\n"
          ],
          "name": "stdout"
        }
      ]
    },
    {
      "cell_type": "code",
      "metadata": {
        "id": "P_63sxgyPgu1",
        "colab": {
          "base_uri": "https://localhost:8080/"
        },
        "outputId": "7e134d9b-339c-4130-993b-112c0e44ce83"
      },
      "source": [
        "# shaping data from neural network\n",
        "X_train = []\n",
        "y_train = []\n",
        "for i in range(60, X.shape[0]):\n",
        "  X_train.append(X[i-60:i,:])\n",
        "  y_train.append(X[i,0])\n",
        "  if i <= 61:\n",
        "    print(X_train)\n",
        "    print('\\n')\n",
        "    print(y_train)\n",
        "    print()"
      ],
      "execution_count": null,
      "outputs": [
        {
          "output_type": "stream",
          "text": [
            "[array([[0.06812123, 0.39270371, 0.01807112, ..., 0.04654663, 0.06368447,\n",
            "        0.06812126],\n",
            "       [0.06848332, 0.39270371, 0.01743632, ..., 0.04572305, 0.065158  ,\n",
            "        0.06848336],\n",
            "       [0.06674712, 0.39270371, 0.01734968, ..., 0.04543532, 0.06448637,\n",
            "        0.06674713],\n",
            "       ...,\n",
            "       [0.06668678, 0.39270371, 0.02656685, ..., 0.0489253 , 0.06501336,\n",
            "        0.06668678],\n",
            "       [0.06544728, 0.39270371, 0.02550634, ..., 0.0535149 , 0.06356761,\n",
            "        0.06544729],\n",
            "       [0.0692911 , 0.39270371, 0.02589123, ..., 0.05585634, 0.06566003,\n",
            "        0.06929112]])]\n",
            "\n",
            "\n",
            "[0.0765238110579824]\n",
            "\n",
            "[array([[0.06812123, 0.39270371, 0.01807112, ..., 0.04654663, 0.06368447,\n",
            "        0.06812126],\n",
            "       [0.06848332, 0.39270371, 0.01743632, ..., 0.04572305, 0.065158  ,\n",
            "        0.06848336],\n",
            "       [0.06674712, 0.39270371, 0.01734968, ..., 0.04543532, 0.06448637,\n",
            "        0.06674713],\n",
            "       ...,\n",
            "       [0.06668678, 0.39270371, 0.02656685, ..., 0.0489253 , 0.06501336,\n",
            "        0.06668678],\n",
            "       [0.06544728, 0.39270371, 0.02550634, ..., 0.0535149 , 0.06356761,\n",
            "        0.06544729],\n",
            "       [0.0692911 , 0.39270371, 0.02589123, ..., 0.05585634, 0.06566003,\n",
            "        0.06929112]]), array([[0.06848332, 0.39270371, 0.01743632, ..., 0.04572305, 0.065158  ,\n",
            "        0.06848336],\n",
            "       [0.06674712, 0.39270371, 0.01734968, ..., 0.04543532, 0.06448637,\n",
            "        0.06674713],\n",
            "       [0.06504339, 0.39270371, 0.0187759 , ..., 0.04583103, 0.06312145,\n",
            "        0.06504341],\n",
            "       ...,\n",
            "       [0.06544728, 0.39270371, 0.02550634, ..., 0.0535149 , 0.06356761,\n",
            "        0.06544729],\n",
            "       [0.0692911 , 0.39270371, 0.02589123, ..., 0.05585634, 0.06566003,\n",
            "        0.06929112],\n",
            "       [0.07652381, 0.39270371, 0.02813637, ..., 0.0561104 , 0.0712015 ,\n",
            "        0.07652384]])]\n",
            "\n",
            "\n",
            "[0.0765238110579824, 0.07630098927626383]\n",
            "\n"
          ],
          "name": "stdout"
        }
      ]
    },
    {
      "cell_type": "code",
      "metadata": {
        "id": "7yHYX9DHPFgI"
      },
      "source": [
        "X_train = np.array(X_train)\n",
        "y_train = np.array(y_train)"
      ],
      "execution_count": null,
      "outputs": []
    },
    {
      "cell_type": "code",
      "metadata": {
        "id": "j0eCQzs8US1c",
        "colab": {
          "base_uri": "https://localhost:8080/"
        },
        "outputId": "cd146efd-b46b-40b7-9c47-5f2eed8cf5fe"
      },
      "source": [
        "X_train.shape"
      ],
      "execution_count": null,
      "outputs": [
        {
          "output_type": "execute_result",
          "data": {
            "text/plain": [
              "(2157, 60, 34)"
            ]
          },
          "metadata": {
            "tags": []
          },
          "execution_count": 50
        }
      ]
    },
    {
      "cell_type": "code",
      "metadata": {
        "id": "q2e9JbLarlfq"
      },
      "source": [
        "look_back = X[2715:]\n",
        "\n",
        "data = np.concatenate((look_back,X_test),axis=0)\n",
        "inputs = data"
      ],
      "execution_count": null,
      "outputs": []
    },
    {
      "cell_type": "code",
      "metadata": {
        "id": "2udENPUdsPTE",
        "colab": {
          "base_uri": "https://localhost:8080/"
        },
        "outputId": "8c23f460-044d-4056-c285-3a4a9aa2e1e2"
      },
      "source": [
        "print(inputs.shape)"
      ],
      "execution_count": null,
      "outputs": [
        {
          "output_type": "stream",
          "text": [
            "(555, 34)\n"
          ],
          "name": "stdout"
        }
      ]
    },
    {
      "cell_type": "code",
      "metadata": {
        "id": "ufipQnYrrmZK",
        "colab": {
          "base_uri": "https://localhost:8080/"
        },
        "outputId": "c3c33392-9aeb-4bf5-8f9d-5efc9c1e5541"
      },
      "source": [
        "X_test = []\n",
        "y_test = []\n",
        "for i in range(60, inputs.shape[0]):\n",
        "  X_test.append(inputs[i-60:i,:])\n",
        "  y_test.append(inputs[i,0])\n",
        "  if i <= 61:\n",
        "    print(X_test)\n",
        "    print('\\n')\n",
        "    print(y_test)\n",
        "    print()"
      ],
      "execution_count": null,
      "outputs": [
        {
          "output_type": "stream",
          "text": [
            "[array([[0.56815374, 0.4354497 , 0.34165606, ..., 0.59528643, 0.5726923 ,\n",
            "        0.56815375],\n",
            "       [0.57431404, 0.47600778, 0.37176682, ..., 0.59645329, 0.57359916,\n",
            "        0.5743141 ],\n",
            "       [0.57895173, 0.48335762, 0.37386038, ..., 0.59719828, 0.57700744,\n",
            "        0.57895177],\n",
            "       ...,\n",
            "       [0.64231001, 0.60305264, 0.46841386, ..., 0.59035963, 0.64027613,\n",
            "        0.64231001],\n",
            "       [0.64882783, 0.60292394, 0.4692028 , ..., 0.59049502, 0.64603144,\n",
            "        0.64882782],\n",
            "       [0.64777398, 0.60002296, 0.46962101, ..., 0.59346404, 0.64724412,\n",
            "        0.64777401]])]\n",
            "\n",
            "\n",
            "[0.6418179467991272]\n",
            "\n",
            "[array([[0.56815374, 0.4354497 , 0.34165606, ..., 0.59528643, 0.5726923 ,\n",
            "        0.56815375],\n",
            "       [0.57431404, 0.47600778, 0.37176682, ..., 0.59645329, 0.57359916,\n",
            "        0.5743141 ],\n",
            "       [0.57895173, 0.48335762, 0.37386038, ..., 0.59719828, 0.57700744,\n",
            "        0.57895177],\n",
            "       ...,\n",
            "       [0.64231001, 0.60305264, 0.46841386, ..., 0.59035963, 0.64027613,\n",
            "        0.64231001],\n",
            "       [0.64882783, 0.60292394, 0.4692028 , ..., 0.59049502, 0.64603144,\n",
            "        0.64882782],\n",
            "       [0.64777398, 0.60002296, 0.46962101, ..., 0.59346404, 0.64724412,\n",
            "        0.64777401]]), array([[0.57431404, 0.47600778, 0.37176682, ..., 0.59645329, 0.57359916,\n",
            "        0.5743141 ],\n",
            "       [0.57895173, 0.48335762, 0.37386038, ..., 0.59719828, 0.57700744,\n",
            "        0.57895177],\n",
            "       [0.58638877, 0.4822828 , 0.3742794 , ..., 0.5976675 , 0.58312434,\n",
            "        0.58638875],\n",
            "       ...,\n",
            "       [0.64882783, 0.60292394, 0.4692028 , ..., 0.59049502, 0.64603144,\n",
            "        0.64882782],\n",
            "       [0.64777398, 0.60002296, 0.46962101, ..., 0.59346404, 0.64724412,\n",
            "        0.64777401],\n",
            "       [0.64181795, 0.59184177, 0.46243152, ..., 0.59903231, 0.64365935,\n",
            "        0.64181793]])]\n",
            "\n",
            "\n",
            "[0.6418179467991272, 0.6322872480386239]\n",
            "\n"
          ],
          "name": "stdout"
        }
      ]
    },
    {
      "cell_type": "code",
      "metadata": {
        "id": "_sBhXAxrLc6G"
      },
      "source": [
        "import tensorflow as tf\n",
        "from tensorflow.keras import layers\n",
        "from tensorflow.keras.layers import Dense, Dropout, LSTM\n",
        "from tensorflow.keras.callbacks import ModelCheckpoint, ReduceLROnPlateau, EarlyStopping\n",
        "\n",
        "reduceLROnPlato = ReduceLROnPlateau(monitor=\"val_loss\", factor=0.5, patience=4, verbose=1, mode='min')\n",
        "earlyStop = EarlyStopping(monitor=\"val_loss\", mode='min', verbose=1, patience=8)"
      ],
      "execution_count": null,
      "outputs": []
    },
    {
      "cell_type": "markdown",
      "metadata": {
        "id": "Ux59_45ruQyn"
      },
      "source": [
        "model 1"
      ]
    },
    {
      "cell_type": "code",
      "metadata": {
        "id": "_nFXg_JKL-Ne",
        "colab": {
          "base_uri": "https://localhost:8080/"
        },
        "outputId": "1f34d2a6-95d1-45ab-857d-fb0f574a9d00"
      },
      "source": [
        "#create model\n",
        "model_lstm = tf.keras.Sequential()\n",
        "model_lstm.add(tf.keras.layers.LSTM(units = 60, return_sequences = True, \n",
        "                                   input_shape = (X_train.shape[1],X_train.shape[2])))\n",
        "# model_lstm.add(tf.keras.layers.LSTM(units = 60,return_sequences = True))\n",
        "# model_lstm.add(tf.keras.layers.LSTM(units = 30, return_sequences = True))\n",
        "  \n",
        "model_lstm.add(tf.keras.layers.Dense(units = 1))\n",
        "\n",
        "model_lstm.compile(loss='mae', optimizer='adam')\n",
        "model_lstm.summary()"
      ],
      "execution_count": null,
      "outputs": [
        {
          "output_type": "stream",
          "text": [
            "Model: \"sequential\"\n",
            "_________________________________________________________________\n",
            "Layer (type)                 Output Shape              Param #   \n",
            "=================================================================\n",
            "lstm (LSTM)                  (None, 60, 60)            22800     \n",
            "_________________________________________________________________\n",
            "dense (Dense)                (None, 60, 1)             61        \n",
            "=================================================================\n",
            "Total params: 22,861\n",
            "Trainable params: 22,861\n",
            "Non-trainable params: 0\n",
            "_________________________________________________________________\n"
          ],
          "name": "stdout"
        }
      ]
    },
    {
      "cell_type": "markdown",
      "metadata": {
        "id": "7e2sndPquSOc"
      },
      "source": [
        "model 2"
      ]
    },
    {
      "cell_type": "code",
      "metadata": {
        "id": "6M5nifkTuNWP"
      },
      "source": [
        "# import tensorflow as tf\n",
        "# model_lstm = tf.keras.Sequential()\n",
        "# model_lstm.add(tf.keras.layers.LSTM(units = 128,return_sequences = True, \n",
        "#                                    input_shape = (X_train.shape[1], X_train.shape[2])))\n",
        "# model_lstm.add(LSTM(64, return_sequences=False))\n",
        "# model_lstm.add(Dense(25))\n",
        "# model_lstm.add(Dense(1))\n",
        "\n",
        "# model_lstm.compile(optimizer='adam', loss='mean_squared_error')\n",
        "# model_lstm.summary()"
      ],
      "execution_count": null,
      "outputs": []
    },
    {
      "cell_type": "code",
      "metadata": {
        "id": "D_h_1lEYMGDp",
        "colab": {
          "base_uri": "https://localhost:8080/"
        },
        "outputId": "5d1fd35c-e7f0-462e-f936-be74c89bce82"
      },
      "source": [
        "X_test, y_test = np.array(X_test), np.array(y_test)\n",
        "print(X_train.shape,y_train.shape,X_test.shape, y_test.shape)"
      ],
      "execution_count": null,
      "outputs": [
        {
          "output_type": "stream",
          "text": [
            "(2157, 60, 34) (2157,) (495, 60, 34) (495,)\n"
          ],
          "name": "stdout"
        }
      ]
    },
    {
      "cell_type": "code",
      "metadata": {
        "id": "Qokk9dPssBzy",
        "colab": {
          "base_uri": "https://localhost:8080/"
        },
        "outputId": "73b3761b-6616-4990-d05f-f4c0227dc3c5"
      },
      "source": [
        "# fit network\n",
        "history_lstm = model_lstm.fit(X_train, y_train, \n",
        "                              epochs = 100, \n",
        "                              batch_size = 64, \n",
        "                              validation_data = (X_test, y_test),  \n",
        "                              shuffle=False,\n",
        "                              callbacks=[reduceLROnPlato, earlyStop])"
      ],
      "execution_count": null,
      "outputs": [
        {
          "output_type": "stream",
          "text": [
            "Epoch 1/100\n",
            "34/34 [==============================] - 4s 56ms/step - loss: 0.1377 - val_loss: 0.1136\n",
            "Epoch 2/100\n",
            "34/34 [==============================] - 1s 42ms/step - loss: 0.1145 - val_loss: 0.1231\n",
            "Epoch 3/100\n",
            "34/34 [==============================] - 1s 41ms/step - loss: 0.1045 - val_loss: 0.1032\n",
            "Epoch 4/100\n",
            "34/34 [==============================] - 1s 42ms/step - loss: 0.0456 - val_loss: 0.0887\n",
            "Epoch 5/100\n",
            "34/34 [==============================] - 1s 42ms/step - loss: 0.0528 - val_loss: 0.1006\n",
            "Epoch 6/100\n",
            "34/34 [==============================] - 1s 41ms/step - loss: 0.0540 - val_loss: 0.0818\n",
            "Epoch 7/100\n",
            "34/34 [==============================] - 1s 41ms/step - loss: 0.0386 - val_loss: 0.0957\n",
            "Epoch 8/100\n",
            "34/34 [==============================] - 1s 41ms/step - loss: 0.0442 - val_loss: 0.0980\n",
            "Epoch 9/100\n",
            "34/34 [==============================] - 1s 41ms/step - loss: 0.0848 - val_loss: 0.0938\n",
            "Epoch 10/100\n",
            "34/34 [==============================] - 1s 41ms/step - loss: 0.0881 - val_loss: 0.0796\n",
            "Epoch 11/100\n",
            "34/34 [==============================] - 1s 42ms/step - loss: 0.1162 - val_loss: 0.1317\n",
            "Epoch 12/100\n",
            "34/34 [==============================] - 1s 42ms/step - loss: 0.0655 - val_loss: 0.0773\n",
            "Epoch 13/100\n",
            "34/34 [==============================] - 1s 41ms/step - loss: 0.0422 - val_loss: 0.0751\n",
            "Epoch 14/100\n",
            "34/34 [==============================] - 1s 41ms/step - loss: 0.0373 - val_loss: 0.0746\n",
            "Epoch 15/100\n",
            "34/34 [==============================] - 1s 41ms/step - loss: 0.0362 - val_loss: 0.0747\n",
            "Epoch 16/100\n",
            "34/34 [==============================] - 1s 42ms/step - loss: 0.0323 - val_loss: 0.0742\n",
            "Epoch 17/100\n",
            "34/34 [==============================] - 1s 42ms/step - loss: 0.0313 - val_loss: 0.0730\n",
            "Epoch 18/100\n",
            "34/34 [==============================] - 1s 41ms/step - loss: 0.0325 - val_loss: 0.0732\n",
            "Epoch 19/100\n",
            "34/34 [==============================] - 1s 41ms/step - loss: 0.0362 - val_loss: 0.0734\n",
            "Epoch 20/100\n",
            "34/34 [==============================] - 1s 41ms/step - loss: 0.0310 - val_loss: 0.0748\n",
            "Epoch 21/100\n",
            "34/34 [==============================] - 1s 42ms/step - loss: 0.0307 - val_loss: 0.0735\n",
            "\n",
            "Epoch 00021: ReduceLROnPlateau reducing learning rate to 0.0005000000237487257.\n",
            "Epoch 22/100\n",
            "34/34 [==============================] - 1s 41ms/step - loss: 0.0326 - val_loss: 0.1049\n",
            "Epoch 23/100\n",
            "34/34 [==============================] - 1s 41ms/step - loss: 0.0348 - val_loss: 0.1024\n",
            "Epoch 24/100\n",
            "34/34 [==============================] - 1s 41ms/step - loss: 0.0416 - val_loss: 0.0922\n",
            "Epoch 25/100\n",
            "34/34 [==============================] - 1s 41ms/step - loss: 0.0327 - val_loss: 0.0921\n",
            "\n",
            "Epoch 00025: ReduceLROnPlateau reducing learning rate to 0.0002500000118743628.\n",
            "Epoch 00025: early stopping\n"
          ],
          "name": "stdout"
        }
      ]
    },
    {
      "cell_type": "code",
      "metadata": {
        "id": "cdiEXQo5smaP",
        "colab": {
          "base_uri": "https://localhost:8080/",
          "height": 555
        },
        "outputId": "4dc4eda7-1f18-4906-8b78-7d3b07ba1a82"
      },
      "source": [
        "plt.figure(figsize=(10, 6), dpi=100)\n",
        "plt.plot(history_lstm.history['loss'], label='LSTM train loss', color='red')\n",
        "plt.plot(history_lstm.history['val_loss'], label='LSTM val loss', color= 'green')\n",
        "# plt.plot(gru_history.history['loss'], label='GRU train', color='brown')\n",
        "# plt.plot(gru_history.history['val_loss'], label='GRU test', color='blue')\n",
        "plt.xlabel('epochs')\n",
        "plt.ylabel('loss')\n",
        "plt.legend()\n",
        "plt.title('Training and Validation loss')\n",
        "plt.show()"
      ],
      "execution_count": null,
      "outputs": [
        {
          "output_type": "display_data",
          "data": {
            "image/png": "[encoded data removed]",
            "text/plain": [
              "<Figure size 1000x600 with 1 Axes>"
            ]
          },
          "metadata": {
            "tags": [],
            "needs_background": "light"
          }
        }
      ]
    },
    {
      "cell_type": "code",
      "metadata": {
        "id": "berFdqa8ZH9k"
      },
      "source": [
        ""
      ],
      "execution_count": null,
      "outputs": []
    },
    {
      "cell_type": "code",
      "metadata": {
        "id": "lhratOq5tw5y"
      },
      "source": [
        "y_pred = model_lstm.predict(X_test)"
      ],
      "execution_count": null,
      "outputs": []
    },
    {
      "cell_type": "code",
      "metadata": {
        "colab": {
          "base_uri": "https://localhost:8080/"
        },
        "id": "a-f1dX_OvUHh",
        "outputId": "7e0390bb-faa5-40e1-e6ae-0ed1c35f1a51"
      },
      "source": [
        "print(y_test.shape,y_pred.shape)"
      ],
      "execution_count": null,
      "outputs": [
        {
          "output_type": "stream",
          "text": [
            "(495,) (495, 60, 1)\n"
          ],
          "name": "stdout"
        }
      ]
    },
    {
      "cell_type": "code",
      "metadata": {
        "colab": {
          "base_uri": "https://localhost:8080/"
        },
        "id": "P1i-Rs_T86di",
        "outputId": "84dab680-9041-403c-b241-c60ebc323984"
      },
      "source": [
        "import numpy as np\n",
        "np.isnan(y_test)"
      ],
      "execution_count": null,
      "outputs": [
        {
          "output_type": "execute_result",
          "data": {
            "text/plain": [
              "array([False, False, False, False, False, False, False, False, False,\n",
              "       False, False, False, False, False, False, False, False, False,\n",
              "       False, False, False, False, False, False, False, False, False,\n",
              "       False, False, False, False, False, False, False, False, False,\n",
              "       False, False, False, False, False, False, False, False, False,\n",
              "       False, False, False, False, False, False, False, False, False,\n",
              "       False, False, False, False, False, False, False, False, False,\n",
              "       False, False, False, False, False, False, False, False, False,\n",
              "       False, False, False, False, False, False, False, False, False,\n",
              "       False, False, False, False, False, False, False, False, False,\n",
              "       False, False, False, False, False, False, False, False, False,\n",
              "       False, False, False, False, False, False, False, False, False,\n",
              "       False, False, False, False, False, False, False, False, False,\n",
              "       False, False, False, False, False, False, False, False, False,\n",
              "       False, False, False, False, False, False, False, False, False,\n",
              "       False, False, False, False, False, False, False, False, False,\n",
              "       False, False, False, False, False, False, False, False, False,\n",
              "       False, False, False, False, False, False, False, False, False,\n",
              "       False, False, False, False, False, False, False, False, False,\n",
              "       False, False, False, False, False, False, False, False, False,\n",
              "       False, False, False, False, False, False, False, False, False,\n",
              "       False, False, False, False, False, False, False, False, False,\n",
              "       False, False, False, False, False, False, False, False, False,\n",
              "       False, False, False, False, False, False, False, False, False,\n",
              "       False, False, False, False, False, False, False, False, False,\n",
              "       False, False, False, False, False, False, False, False, False,\n",
              "       False, False, False, False, False, False, False, False, False,\n",
              "       False, False, False, False, False, False, False, False, False,\n",
              "       False, False, False, False, False, False, False, False, False,\n",
              "       False, False, False, False, False, False, False, False, False,\n",
              "       False, False, False, False, False, False, False, False, False,\n",
              "       False, False, False, False, False, False, False, False, False,\n",
              "       False, False, False, False, False, False, False, False, False,\n",
              "       False, False, False, False, False, False, False, False, False,\n",
              "       False, False, False, False, False, False, False, False, False,\n",
              "       False, False, False, False, False, False, False, False, False,\n",
              "       False, False, False, False, False, False, False, False, False,\n",
              "       False, False, False, False, False, False, False, False, False,\n",
              "       False, False, False, False, False, False, False, False, False,\n",
              "       False, False, False, False, False, False, False, False, False,\n",
              "       False, False, False, False, False, False, False, False, False,\n",
              "       False, False, False, False, False, False, False, False, False,\n",
              "       False, False, False, False, False, False, False, False, False,\n",
              "       False, False, False, False, False, False, False, False, False,\n",
              "       False, False, False, False, False, False, False, False, False,\n",
              "       False, False, False, False, False, False, False, False, False,\n",
              "       False, False, False, False, False, False, False, False, False,\n",
              "       False, False, False, False, False, False, False, False, False,\n",
              "       False, False, False, False, False, False, False, False, False,\n",
              "       False, False, False, False, False, False, False, False, False,\n",
              "       False, False, False, False, False, False, False, False, False,\n",
              "       False, False, False, False, False, False, False, False, False,\n",
              "       False, False, False, False, False, False, False, False, False,\n",
              "       False, False, False, False, False, False, False, False, False,\n",
              "       False, False, False, False, False, False, False, False, False])"
            ]
          },
          "metadata": {
            "tags": []
          },
          "execution_count": 65
        }
      ]
    },
    {
      "cell_type": "code",
      "metadata": {
        "id": "CMFSoyiZ7rsu"
      },
      "source": [
        ""
      ],
      "execution_count": null,
      "outputs": []
    },
    {
      "cell_type": "code",
      "metadata": {
        "id": "46d5HMeO0Jce"
      },
      "source": [
        "def invTransform(scaler, data):\n",
        "    dummy = pd.DataFrame(np.zeros((len(data), 34)))\n",
        "    dummy[0] = data\n",
        "    dummy = pd.DataFrame(scaler.inverse_transform(dummy), columns=dummy.columns)\n",
        "    return dummy[0].values"
      ],
      "execution_count": null,
      "outputs": []
    },
    {
      "cell_type": "code",
      "metadata": {
        "colab": {
          "base_uri": "https://localhost:8080/"
        },
        "id": "c9_cZAiN05I6",
        "outputId": "1b845231-b726-4be5-ec46-f27132c21fc2"
      },
      "source": [
        "y_pred.shape"
      ],
      "execution_count": null,
      "outputs": [
        {
          "output_type": "execute_result",
          "data": {
            "text/plain": [
              "(495, 60, 1)"
            ]
          },
          "metadata": {
            "tags": []
          },
          "execution_count": 67
        }
      ]
    },
    {
      "cell_type": "code",
      "metadata": {
        "id": "0fdR8Hs90aXK"
      },
      "source": [
        "y_pred = invTransform(scaler, y_pred[:,-1,:])\n",
        "y_test = invTransform(scaler, y_test)"
      ],
      "execution_count": null,
      "outputs": []
    },
    {
      "cell_type": "code",
      "metadata": {
        "colab": {
          "base_uri": "https://localhost:8080/"
        },
        "id": "jWLvDqTF0cyH",
        "outputId": "05e0d1e5-77e5-4907-b194-668879ab52e2"
      },
      "source": [
        "y_pred, y_test"
      ],
      "execution_count": null,
      "outputs": [
        {
          "output_type": "execute_result",
          "data": {
            "text/plain": [
              "(array([11099.7353041 , 11055.73006131, 11028.09445812, 11027.40690629,\n",
              "        11041.97774084, 11072.22809528, 11176.99147765, 11247.82536505,\n",
              "        11272.34226911, 11276.63449274, 11309.35772266, 11290.57491095,\n",
              "        11302.4866982 , 11309.71594293, 11319.07846005, 11336.58374782,\n",
              "        11366.86812677, 11401.39401357, 11409.6966352 , 11372.46355321,\n",
              "        11378.10263373, 11373.73850925, 11368.44994535, 11395.90387051,\n",
              "        11423.70959623, 11417.59738247, 11426.31215002, 11399.0758533 ,\n",
              "        11290.77456419, 11240.8060451 , 11166.25193097, 11137.72527088,\n",
              "        11035.58434342, 11028.39297502, 11041.7941369 , 11076.12037046,\n",
              "        11110.4767767 , 11164.12443633, 11237.33297752, 11282.48863383,\n",
              "        11166.05484562, 11244.88385014, 11314.42737417, 11356.22936966,\n",
              "        11334.60647459, 11351.19117476, 11314.41004093, 11354.74898262,\n",
              "        11418.39471148, 11372.82241546, 11404.22960313, 11447.22695015,\n",
              "        11489.49373324, 11497.53314643, 11500.5118957 , 11486.60935383,\n",
              "        11431.01009984, 11474.33613645, 11447.98768677, 11463.69416948,\n",
              "        11477.72125389, 11471.9422235 , 11457.96007712, 11489.11111803,\n",
              "        11509.96942465, 11513.24604885, 11558.40170516, 11580.52726416,\n",
              "        11619.35372023, 11645.28745611, 11579.58805938, 11469.26969479,\n",
              "        11438.13727106, 11412.45326223, 11414.66036136, 11411.29257716,\n",
              "        11416.25245149, 11446.41357185, 11462.52899061, 11426.95219593,\n",
              "        11336.20113261, 11323.43102904, 11319.41164343, 11278.74144428,\n",
              "        11242.15097608, 11248.71898983, 11223.28342409, 11156.3437378 ,\n",
              "        11126.22627153, 11067.35296123, 10969.66796021, 10879.19101886,\n",
              "        10810.91795708, 10804.65744783, 10837.6233431 , 10901.95726575,\n",
              "        10847.16176049, 10841.10539828, 10843.81965517, 10880.68167745,\n",
              "        10876.37212057, 10861.36474519, 10769.31433089, 10714.42959155,\n",
              "        10712.86189635, 10828.30833189, 10838.41874619, 10859.43112604,\n",
              "        10864.26196404, 10830.1334578 , 10846.95311965, 10855.90991057,\n",
              "        10884.02185686, 10890.16552724, 10968.99966754, 10959.81112479,\n",
              "        10968.55927487, 10977.70480551, 10895.2614996 , 10901.27549167,\n",
              "        10855.6107517 , 10784.55217417, 11008.11950474, 11112.69093753,\n",
              "        11110.47099896, 11146.26542209, 11195.30372401, 11197.41709526,\n",
              "        11111.02437867, 11081.81273465, 10998.65876593, 11011.01543964,\n",
              "        10992.73144005, 11046.71164109, 11060.21808635, 11095.21197061,\n",
              "        11127.58468391, 11166.57099097, 11178.73764102, 11209.8508056 ,\n",
              "        11249.45918335, 11286.66979633, 11303.4117796 , 11311.56417982,\n",
              "        11350.27700688, 11357.96140964, 11415.36524643, 11433.03744687,\n",
              "        11472.08088942, 11518.20399727, 11532.11616872, 11544.33289258,\n",
              "        11595.44668941, 11571.37467183, 11575.88837574, 11567.13188003,\n",
              "        11568.01587524, 11598.97753446, 11611.41445465, 11624.19097795,\n",
              "        11629.32996242, 11623.47068556, 11632.26505761, 11656.28635941,\n",
              "        11691.84325297, 11740.01296701, 11763.61506121, 11724.44964401,\n",
              "        11687.64475723, 11646.94823723, 11647.18769272, 11644.53313921,\n",
              "        11628.60453425, 11636.86927955, 11613.01745831, 11619.5572253 ,\n",
              "        11665.80294977, 11720.47198658, 11772.40558143, 11796.94431253,\n",
              "        11839.35746519, 11871.12223117, 11913.62333398, 11926.60207839,\n",
              "        11923.22915842, 11903.01218165, 11910.04434104, 11918.93179901,\n",
              "        11892.59939863, 11892.72394116, 11916.3388748 , 11926.28173445,\n",
              "        11831.30713849, 11822.52175404, 11832.73873566, 11884.43480094,\n",
              "        11933.71191637, 11984.92650278, 12012.90812878, 12024.68317603,\n",
              "        12035.89457201, 12062.09087436, 12007.44494854, 12008.004106  ,\n",
              "        11963.56745814, 11950.03790189, 11977.12526114, 11927.27486487,\n",
              "        11872.02420159, 11897.80193831, 11843.27670319, 11764.72824036,\n",
              "        11682.10646628, 11722.60525896, 11813.83266537, 11894.65178256,\n",
              "        11895.66288818, 11875.03954326, 11910.38972189, 11955.42661341,\n",
              "        11957.17791255, 11925.14159249, 11917.67225029, 11875.64107086,\n",
              "        11909.00434668, 11917.1021793 , 11717.23901646, 11631.97167648,\n",
              "        11555.61747335, 11426.2601503 , 11202.33010565, 11032.72435893,\n",
              "        11092.20882641, 11103.8484176 , 11109.28720291, 10962.91377462,\n",
              "        10527.37184073, 10412.96796744,  9860.65264224,  9437.24301291,\n",
              "         9426.75126734,  9271.19443208,  8907.28852938,  8771.87099229,\n",
              "         8801.7551018 ,  8562.12338923,  8562.46844909,  8672.75311016,\n",
              "         8835.46504241,  8750.93500708,  8789.38976146,  8816.07460438,\n",
              "         8660.17238827,  8593.94496971,  8759.31177646,  8840.67175491,\n",
              "         9026.67956081,  9088.59710151,  8977.82293692,  9061.84645648,\n",
              "         9159.79948074,  9239.57346779,  9180.64462693,  9187.14940646,\n",
              "         9276.2480343 ,  9276.40082359,  9339.76761569,  9404.68605369,\n",
              "         9507.34344749,  9558.89506911,  9425.87593876,  9367.35089818,\n",
              "         9379.22737697,  9442.94853751,  9456.96085657,  9442.29822005,\n",
              "         9436.61002868,  9400.8008402 ,  9376.68869938,  9362.11561793,\n",
              "         9301.69772342,  9320.49658442,  9373.32508799,  9415.62075982,\n",
              "         9394.37983799,  9425.73470496,  9462.84228146,  9588.63024116,\n",
              "         9617.55460279,  9699.77257659,  9820.65458758,  9956.31735791,\n",
              "         9979.50024451, 10083.93943112, 10111.98397036, 10072.97583626,\n",
              "        10116.55352582,  9973.51193132,  9897.50856578,  9880.892409  ,\n",
              "         9924.49834532, 10013.06895132, 10037.05173482, 10125.9988573 ,\n",
              "        10195.16105007, 10265.63671719, 10209.56561391, 10233.12148614,\n",
              "        10270.75708447, 10301.71104004, 10303.08421777, 10329.60150604,\n",
              "        10415.1859801 , 10453.06167589, 10523.03146921, 10531.60692887,\n",
              "        10512.49863745, 10527.36413707, 10561.45219909, 10586.89675243,\n",
              "        10566.01405089, 10577.46361841, 10618.83677672, 10682.08576699,\n",
              "        10764.28191374, 10838.2293645 , 10828.77440344, 10860.26055364,\n",
              "        10851.15739314, 10846.46008529, 10881.63949941, 10897.18420522,\n",
              "        10836.31628846, 10836.28675775, 10831.69537525, 10853.24251764,\n",
              "        10916.89595015, 10956.66353692, 11004.33572279, 11043.85294054,\n",
              "        11106.79635222, 11167.83374955, 11166.86244617, 11076.16851835,\n",
              "        11111.14121755, 11117.08074088, 11171.73372839, 11142.82637902,\n",
              "        11148.37044771, 11206.77255069, 11222.52782325, 11255.14384387,\n",
              "        11266.66531225, 11290.66607095, 11139.91182692, 11203.40027268,\n",
              "        11281.32538088, 11289.06049942, 11222.91364832, 11229.41361307,\n",
              "        11205.88662957, 11231.79532854, 11239.64279215, 11284.57632621,\n",
              "        11266.12669788, 11331.11157997, 11357.43756063, 11351.88578828,\n",
              "        11309.65431364, 11144.8729852 , 11094.64510949, 11061.1990193 ,\n",
              "        10971.1515571 , 10966.55889066, 11067.61937954, 11099.00795002,\n",
              "        11115.90850033, 11163.52932845, 11211.42877235, 11257.45301653,\n",
              "        11305.71260662, 11358.50836964, 11407.01383494, 11439.39553584,\n",
              "        11472.37683843, 11454.68024306, 11322.77364989, 11385.33252044,\n",
              "        11407.2744755 , 11420.42398442, 11362.05847384, 11395.46797164,\n",
              "        11436.05214657, 11345.86024071, 11341.74199145, 11244.92172648,\n",
              "        11244.6797031 , 11182.00720353, 11219.54329623, 11322.66130482,\n",
              "        11399.69278823, 11510.68586521, 11560.16070797, 11697.70702364,\n",
              "        11782.86908023, 11856.74527212, 11897.73902507, 11919.72912802,\n",
              "        11955.29950298, 11997.79996382, 12045.30074321, 12018.18898903,\n",
              "        12034.47067849, 12073.9821185 , 12154.59708865, 12098.93427946,\n",
              "        12123.73108323, 12183.20527916, 12208.1850449 , 12274.03466304,\n",
              "        12327.15012802, 12388.5919676 , 12443.15443708, 12475.07712813,\n",
              "        12532.39044689, 12564.12953399, 12551.59439211, 12587.42990144,\n",
              "        12611.23742662, 12673.46632366, 12710.24874143, 12725.88203935,\n",
              "        12506.87014087, 12562.96884893, 12647.17821933, 12719.50276531,\n",
              "        12799.43660335, 12850.0920323 , 12883.21071686, 12905.92945783,\n",
              "        12932.80753426, 12954.1209989 , 13012.21688132, 13061.11844324,\n",
              "        13129.62967657, 13201.71284114, 13240.96171467, 13255.73091851,\n",
              "        13262.34964804, 13312.17436545, 13259.04413511, 13221.44191931,\n",
              "        13245.30272816, 13319.85299046, 13330.64517884, 13316.44861387,\n",
              "        13284.70888479, 13199.44539665, 13170.92130445, 13004.94783433,\n",
              "        12952.54367413, 13176.85184018, 13255.7996095 , 13343.04293875,\n",
              "        13406.53716226, 13459.00038387, 13485.00666256, 13500.56163992,\n",
              "        13540.8530757 , 13559.62368994, 13637.86464827, 13644.48915555,\n",
              "        13646.23210906, 13601.10855134, 13567.19574763, 13472.88495053,\n",
              "        13482.53828089, 13481.00717808, 13573.56924392, 13415.25834952,\n",
              "        13492.47857265, 13542.56457259, 13578.97657262, 13624.06610583,\n",
              "        13593.39333393, 13623.65781175, 13650.45307381, 13702.53303824,\n",
              "        13658.39426531, 13663.43374415, 13711.220201  , 13662.29488613,\n",
              "        13586.94023313, 13540.15782021, 13618.18115009]),\n",
              " array([11456.900391  , 11354.25      , 11483.25      , 11445.049805  ,\n",
              "        11570.        , 11669.150391  , 11713.200195  , 11643.950195  ,\n",
              "        11598.        , 11665.950195  , 11604.5       , 11671.950195  ,\n",
              "        11584.299805  , 11596.700195  , 11643.450195  , 11690.349609  ,\n",
              "        11787.150391  , 11752.799805  , 11594.450195  , 11575.950195  ,\n",
              "        11726.150391  , 11641.799805  , 11754.650391  , 11748.150391  ,\n",
              "        11724.75      , 11712.25      , 11598.25      , 11497.900391  ,\n",
              "        11359.450195  , 11301.799805  , 11278.900391  , 11148.200195  ,\n",
              "        11222.049805  , 11157.        , 11257.099609  , 11407.150391  ,\n",
              "        11828.25      , 11709.099609  , 11737.900391  , 11657.049805  ,\n",
              "        11844.099609  , 11924.75      , 11928.75      , 11861.099609  ,\n",
              "        11945.900391  , 11922.799805  , 12088.549805  , 12021.650391  ,\n",
              "        11843.75      , 11870.650391  , 11922.700195  , 11965.599609  ,\n",
              "        11906.200195  , 11914.049805  , 11823.299805  , 11672.150391  ,\n",
              "        11691.5       , 11691.450195  , 11831.75      , 11724.099609  ,\n",
              "        11699.650391  , 11796.450195  , 11847.549805  , 11841.549805  ,\n",
              "        11788.849609  , 11865.599609  , 11910.299805  , 11916.75      ,\n",
              "        11946.75      , 11811.150391  , 11558.599609  , 11555.900391  ,\n",
              "        11498.900391  , 11582.900391  , 11552.5       , 11588.349609  ,\n",
              "        11662.599609  , 11687.5       , 11596.900391  , 11419.25      ,\n",
              "        11346.200195  , 11331.049805  , 11271.299805  , 11252.150391  ,\n",
              "        11284.299805  , 11189.200195  , 11085.400391  , 11118.        ,\n",
              "        10980.        , 10997.349609  , 10862.599609  , 10948.25      ,\n",
              "        10855.5       , 11032.450195  , 11109.650391  , 10925.849609  ,\n",
              "        11029.400391  , 11047.799805  , 11053.900391  , 11017.        ,\n",
              "        10918.700195  , 10741.349609  , 10829.349609  , 11057.849609  ,\n",
              "        11105.349609  , 11046.099609  , 10948.299805  , 11023.25      ,\n",
              "        10797.900391  , 10844.650391  , 10847.900391  , 10946.200195  ,\n",
              "        11003.049805  , 11035.700195  , 10982.799805  , 11075.900391  ,\n",
              "        11003.5       , 10817.599609  , 10840.650391  , 10704.799805  ,\n",
              "        11274.200195  , 11600.200195  , 11588.200195  , 11440.200195  ,\n",
              "        11571.200195  , 11512.400391  , 11474.450195  , 11359.900391  ,\n",
              "        11314.        , 11174.75      , 11126.400391  , 11313.299805  ,\n",
              "        11234.549805  , 11305.049805  , 11341.150391  , 11428.299805  ,\n",
              "        11464.        , 11586.349609  , 11661.849609  , 11588.349609  ,\n",
              "        11604.099609  , 11582.599609  , 11583.900391  , 11583.900391  ,\n",
              "        11786.849609  , 11844.099609  , 11877.450195  , 11890.599609  ,\n",
              "        11941.299805  , 11917.200195  , 11966.049805  , 12012.049805  ,\n",
              "        11908.150391  , 11913.450195  , 11840.450195  , 11872.099609  ,\n",
              "        11895.450195  , 11884.5       , 11940.099609  , 11999.099609  ,\n",
              "        11968.400391  , 11914.400391  , 12073.75      , 12037.700195  ,\n",
              "        12100.700195  , 12151.150391  , 12056.049805  , 12048.200195  ,\n",
              "        11994.200195  , 12043.200195  , 12018.400391  , 11921.5       ,\n",
              "        11937.5       , 11856.799805  , 11910.150391  , 11971.799805  ,\n",
              "        12086.700195  , 12053.950195  , 12165.        , 12221.650391  ,\n",
              "        12259.700195  , 12271.799805  , 12262.75      , 12214.549805  ,\n",
              "        12126.549805  , 12245.799805  , 12255.849609  , 12168.450195  ,\n",
              "        12182.5       , 12282.200195  , 12226.650391  , 11993.049805  ,\n",
              "        12052.950195  , 12025.349609  , 12215.900391  , 12256.799805  ,\n",
              "        12329.549805  , 12362.299805  , 12343.299805  , 12355.5       ,\n",
              "        12352.349609  , 12224.549805  , 12169.849609  , 12106.900391  ,\n",
              "        12180.349609  , 12248.25      , 12119.        , 12055.799805  ,\n",
              "        12129.5       , 12035.799805  , 11962.099609  , 11707.900391  ,\n",
              "        11979.650391  , 12089.150391  , 12137.950195  , 12098.349609  ,\n",
              "        12031.5       , 12107.900391  , 12201.200195  , 12174.650391  ,\n",
              "        12113.450195  , 12045.799805  , 11992.5       , 12125.900391  ,\n",
              "        12080.849609  , 11829.400391  , 11797.900391  , 11678.5       ,\n",
              "        11633.299805  , 11201.75      , 11132.75      , 11303.299805  ,\n",
              "        11251.        , 11269.        , 10989.450195  , 10451.450195  ,\n",
              "        10458.400391  ,  9590.150391  ,  9955.200195  ,  9197.400391  ,\n",
              "         8967.049805  ,  8468.799805  ,  8263.450195  ,  8745.450195  ,\n",
              "         7610.25      ,  7801.049805  ,  8317.849609  ,  8641.450195  ,\n",
              "         8660.25      ,  8281.099609  ,  8597.75      ,  8253.799805  ,\n",
              "         8083.799805  ,  8792.200195  ,  8748.75      ,  9111.900391  ,\n",
              "         8993.849609  ,  8925.299805  ,  8992.799805  ,  9266.75      ,\n",
              "         9261.849609  ,  8981.450195  ,  9187.299805  ,  9313.900391  ,\n",
              "         9154.400391  ,  9282.299805  ,  9380.900391  ,  9553.349609  ,\n",
              "         9859.900391  ,  9293.5       ,  9205.599609  ,  9270.900391  ,\n",
              "         9199.049805  ,  9251.5       ,  9239.200195  ,  9196.549805  ,\n",
              "         9383.549805  ,  9142.75      ,  9136.849609  ,  8823.25      ,\n",
              "         8879.099609  ,  9066.549805  ,  9106.25      ,  9039.25      ,\n",
              "         9029.049805  ,  9314.950195  ,  9490.099609  ,  9580.299805  ,\n",
              "         9826.150391  ,  9979.099609  , 10061.549805  , 10029.099609  ,\n",
              "        10142.150391  , 10167.450195  , 10046.650391  , 10116.150391  ,\n",
              "         9902.        ,  9972.900391  ,  9813.700195  ,  9914.        ,\n",
              "         9881.150391  , 10091.650391  , 10244.400391  , 10311.200195  ,\n",
              "        10471.        , 10305.299805  , 10288.900391  , 10383.        ,\n",
              "        10312.400391  , 10302.099609  , 10430.049805  , 10551.700195  ,\n",
              "        10607.349609  , 10763.650391  , 10799.650391  , 10705.75      ,\n",
              "        10813.450195  , 10768.049805  , 10802.700195  , 10607.349609  ,\n",
              "        10618.200195  , 10739.950195  , 10901.700195  , 11022.200195  ,\n",
              "        11162.25      , 11132.599609  , 11215.450195  , 11194.150391  ,\n",
              "        11131.799805  , 11300.549805  , 11202.849609  , 11102.150391  ,\n",
              "        11073.450195  , 10891.599609  , 11095.25      , 11101.650391  ,\n",
              "        11200.150391  , 11214.049805  , 11270.150391  , 11322.5       ,\n",
              "        11308.400391  , 11300.450195  , 11178.400391  , 11247.099609  ,\n",
              "        11385.349609  , 11408.400391  , 11312.200195  , 11371.599609  ,\n",
              "        11466.450195  , 11472.25      , 11549.599609  , 11559.25      ,\n",
              "        11647.599609  , 11387.5       , 11470.25      , 11535.        ,\n",
              "        11527.450195  , 11333.849609  , 11355.049805  , 11317.349609  ,\n",
              "        11278.        , 11449.25      , 11464.450195  , 11440.049805  ,\n",
              "        11521.799805  , 11604.549805  , 11516.099609  , 11504.950195  ,\n",
              "        11250.549805  , 11153.650391  , 11131.849609  , 10805.549805  ,\n",
              "        11050.25      , 11227.549805  , 11222.400391  , 11247.549805  ,\n",
              "        11416.950195  , 11503.349609  , 11662.400391  , 11738.849609  ,\n",
              "        11834.599609  , 11914.200195  , 11930.950195  , 11934.5       ,\n",
              "        11971.049805  , 11680.349609  , 11762.450195  , 11873.049805  ,\n",
              "        11896.799805  , 11937.650391  , 11896.450195  , 11930.349609  ,\n",
              "        11767.75      , 11889.400391  , 11729.599609  , 11670.799805  ,\n",
              "        11642.400391  , 11669.150391  , 11813.5       , 11908.5       ,\n",
              "        12120.299805  , 12263.549805  , 12461.049805  , 12631.099609  ,\n",
              "        12749.150391  , 12690.799805  , 12719.950195  , 12719.950195  ,\n",
              "        12874.200195  , 12938.25      , 12771.700195  , 12859.049805  ,\n",
              "        12926.450195  , 13055.150391  , 12858.400391  , 12987.        ,\n",
              "        12968.950195  , 13109.049805  , 13113.75      , 13133.900391  ,\n",
              "        13258.549805  , 13355.75      , 13392.950195  , 13529.099609  ,\n",
              "        13478.299805  , 13513.849609  , 13558.150391  , 13567.849609  ,\n",
              "        13682.700195  , 13740.700195  , 13760.549805  , 13328.400391  ,\n",
              "        13466.299805  , 13601.099609  , 13749.25      , 13873.200195  ,\n",
              "        13932.599609  , 13981.950195  , 13981.75      , 13981.75      ,\n",
              "        14132.900391  , 14199.5       , 14146.25      , 14137.349609  ,\n",
              "        14347.25      , 14484.75      , 14563.450195  , 14564.849609  ,\n",
              "        14595.599609  , 14433.700195  , 14281.299805  , 14521.150391  ,\n",
              "        14644.700195  , 14590.349609  , 14371.900391  , 14238.900391  ,\n",
              "        13967.5       , 13817.549805  , 13634.599609  , 14281.200195  ,\n",
              "        14647.849609  , 14789.950195  , 14895.650391  , 14924.25      ,\n",
              "        15115.799805  , 15109.299805  , 15106.5       , 15173.299805  ,\n",
              "        15163.299805  , 15314.700195  , 15313.450195  , 15208.900391  ,\n",
              "        15118.950195  , 14981.75      , 14675.700195  , 14707.799805  ,\n",
              "        14982.        , 15097.349609  , 14529.150391  , 14761.549805  ,\n",
              "        14919.099609  , 15245.599609  , 15080.75      , 14938.099609  ,\n",
              "        14956.200195  , 15098.400391  , 15174.799805  , 15030.950195  ,\n",
              "        14929.5       , 14910.450195  , 14721.299805  , 14557.849609  ,\n",
              "        14744.        , 14736.400391  ,  8193.56173314]))"
            ]
          },
          "metadata": {
            "tags": []
          },
          "execution_count": 70
        }
      ]
    },
    {
      "cell_type": "code",
      "metadata": {
        "colab": {
          "base_uri": "https://localhost:8080/"
        },
        "id": "TkzS6ER4vI_w",
        "outputId": "6e8da3c5-f920-48dc-c24b-247995b37686"
      },
      "source": [
        "mean_y_test = y_test.mean()\n",
        "mean_y_pred = y_pred.mean()\n",
        "print(mean_y_test, mean_y_pred)"
      ],
      "execution_count": null,
      "outputs": [
        {
          "output_type": "stream",
          "text": [
            "11708.483268664935 11344.81764863787\n"
          ],
          "name": "stdout"
        }
      ]
    },
    {
      "cell_type": "code",
      "metadata": {
        "colab": {
          "base_uri": "https://localhost:8080/"
        },
        "id": "f-STMixCvLzU",
        "outputId": "b12a8a10-075a-4d69-8d8d-5983cbddc361"
      },
      "source": [
        "accuracy = round((mean_y_test / mean_y_pred)*100,2)\n",
        "accuracy"
      ],
      "execution_count": null,
      "outputs": [
        {
          "output_type": "execute_result",
          "data": {
            "text/plain": [
              "103.21"
            ]
          },
          "metadata": {
            "tags": []
          },
          "execution_count": 72
        }
      ]
    },
    {
      "cell_type": "code",
      "metadata": {
        "id": "ysQ7Ao3QvNuc"
      },
      "source": [
        "from math import sqrt\n",
        "m = len(y_pred)\n",
        "rmse = sqrt(mean_squared_error(y_pred,y_test,squared=False))"
      ],
      "execution_count": null,
      "outputs": []
    },
    {
      "cell_type": "markdown",
      "metadata": {
        "id": "BX9BRSFCJnWb"
      },
      "source": [
        "#RMSE\n"
      ]
    },
    {
      "cell_type": "code",
      "metadata": {
        "colab": {
          "base_uri": "https://localhost:8080/"
        },
        "id": "uCFhmBnEvuZz",
        "outputId": "0d918bbb-42cf-4cd7-c7c5-170bbee3e8d7"
      },
      "source": [
        "rmse"
      ],
      "execution_count": null,
      "outputs": [
        {
          "output_type": "execute_result",
          "data": {
            "text/plain": [
              "25.32524821536445"
            ]
          },
          "metadata": {
            "tags": []
          },
          "execution_count": 74
        }
      ]
    },
    {
      "cell_type": "code",
      "metadata": {
        "id": "7nN44qUMvzHH"
      },
      "source": [
        "from sklearn.metrics import mean_absolute_error\n",
        "\n",
        "mae = mean_absolute_error(y_test, y_pred, multioutput='raw_values')"
      ],
      "execution_count": null,
      "outputs": []
    },
    {
      "cell_type": "markdown",
      "metadata": {
        "id": "bgir9IEGJpap"
      },
      "source": [
        "#MAE"
      ]
    },
    {
      "cell_type": "code",
      "metadata": {
        "id": "dCCU3qvGetaG",
        "colab": {
          "base_uri": "https://localhost:8080/"
        },
        "outputId": "c5460ffb-5b17-4417-e2c9-5cefcff8a323"
      },
      "source": [
        "mae"
      ],
      "execution_count": null,
      "outputs": [
        {
          "output_type": "execute_result",
          "data": {
            "text/plain": [
              "array([447.07146969])"
            ]
          },
          "metadata": {
            "tags": []
          },
          "execution_count": 76
        }
      ]
    },
    {
      "cell_type": "markdown",
      "metadata": {
        "id": "ZMwIi9jLJedY"
      },
      "source": [
        "# R2"
      ]
    },
    {
      "cell_type": "code",
      "metadata": {
        "id": "ID2yC1mZoOcn",
        "colab": {
          "base_uri": "https://localhost:8080/"
        },
        "outputId": "461c5c0c-9459-4de8-e3ad-087ca842dd0c"
      },
      "source": [
        "from sklearn.metrics import r2_score\n",
        "\n",
        "r2 = r2_score(y_test,y_pred)\n",
        "print(r2)"
      ],
      "execution_count": null,
      "outputs": [
        {
          "output_type": "stream",
          "text": [
            "0.8182575399112988\n"
          ],
          "name": "stdout"
        }
      ]
    },
    {
      "cell_type": "code",
      "metadata": {
        "colab": {
          "base_uri": "https://localhost:8080/"
        },
        "id": "rWYfxDLD53YP",
        "outputId": "2d4204f3-b445-4497-9384-1bcaf4b4231f"
      },
      "source": [
        "y_train_pred = model_lstm.predict(X_train)\n",
        "print(y_train.shape,y_train_pred.shape)\n"
      ],
      "execution_count": null,
      "outputs": [
        {
          "output_type": "stream",
          "text": [
            "(2157,) (2157, 60, 1)\n"
          ],
          "name": "stdout"
        }
      ]
    },
    {
      "cell_type": "code",
      "metadata": {
        "colab": {
          "base_uri": "https://localhost:8080/"
        },
        "id": "cRp1F1wA7AMG",
        "outputId": "836051a2-b5cf-42b2-a297-7d4fe9f66fe3"
      },
      "source": [
        "import numpy as np\n",
        "np.isnan(y_train)\n"
      ],
      "execution_count": null,
      "outputs": [
        {
          "output_type": "execute_result",
          "data": {
            "text/plain": [
              "array([False, False, False, ..., False, False, False])"
            ]
          },
          "metadata": {
            "tags": []
          },
          "execution_count": 79
        }
      ]
    },
    {
      "cell_type": "code",
      "metadata": {
        "colab": {
          "base_uri": "https://localhost:8080/"
        },
        "id": "ljSP10DK4J1v",
        "outputId": "2a2ce041-24e7-4517-c6c2-1ec42257b6a6"
      },
      "source": [
        "y_train_pred.shape"
      ],
      "execution_count": null,
      "outputs": [
        {
          "output_type": "execute_result",
          "data": {
            "text/plain": [
              "(2157, 60, 1)"
            ]
          },
          "metadata": {
            "tags": []
          },
          "execution_count": 80
        }
      ]
    },
    {
      "cell_type": "code",
      "metadata": {
        "id": "1slCO9PQ7Hqx"
      },
      "source": [
        "y_train = invTransform(scaler,y_train)\n",
        "y_train_pred = invTransform(scaler, y_train_pred[:,-1,:])"
      ],
      "execution_count": null,
      "outputs": []
    },
    {
      "cell_type": "code",
      "metadata": {
        "colab": {
          "base_uri": "https://localhost:8080/"
        },
        "id": "vXOosC9X7JCN",
        "outputId": "52a2ca1e-d403-49ca-b64e-4f8bb49ddb37"
      },
      "source": [
        "from math import sqrt\n",
        "m = len(y_train_pred)\n",
        "rmse = sqrt(mean_squared_error(y_train_pred,y_train,squared=False))\n",
        "rmse"
      ],
      "execution_count": null,
      "outputs": [
        {
          "output_type": "execute_result",
          "data": {
            "text/plain": [
              "9073.026218658293"
            ]
          },
          "metadata": {
            "tags": []
          },
          "execution_count": 83
        }
      ]
    },
    {
      "cell_type": "code",
      "metadata": {
        "colab": {
          "base_uri": "https://localhost:8080/",
          "height": 282
        },
        "id": "c-Qqslbf78lF",
        "outputId": "ff10895f-4c47-491b-c686-176f7fd8fdfe"
      },
      "source": [
        "# y_pred[2]\n",
        "# plt.plot(y_test)\n",
        "# y_pred = y_pred.reshape(1059,60)\n",
        "# print(type(y_pred[:-2]))\n",
        "# print(y_pred[:,0,-2].shape)\n",
        "plt.plot(y_pred[:-1], c='b')\n",
        "plt.plot(y_test[:-1], c='r')\n"
      ],
      "execution_count": null,
      "outputs": [
        {
          "output_type": "execute_result",
          "data": {
            "text/plain": [
              "[<matplotlib.lines.Line2D at 0x7ff998716d10>]"
            ]
          },
          "metadata": {
            "tags": []
          },
          "execution_count": 84
        },
        {
          "output_type": "display_data",
          "data": {
            "image/png": "[encoded data removed]",
            "text/plain": [
              "<Figure size 432x288 with 1 Axes>"
            ]
          },
          "metadata": {
            "tags": [],
            "needs_background": "light"
          }
        }
      ]
    },
    {
      "cell_type": "code",
      "metadata": {
        "id": "ifXNC9AiZ3f9"
      },
      "source": [
        ""
      ],
      "execution_count": null,
      "outputs": []
    }
  ]
}