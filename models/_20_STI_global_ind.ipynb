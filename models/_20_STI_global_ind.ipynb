{
  "nbformat": 4,
  "nbformat_minor": 0,
  "metadata": {
    "colab": {
      "name": "*20_STI_global_ind.ipynb",
      "provenance": [],
      "collapsed_sections": [],
      "authorship_tag": "ABX9TyNGHw5Wc3RDpiPLlj/pAw6t",
      "include_colab_link": true
    },
    "kernelspec": {
      "display_name": "Python 3",
      "name": "python3"
    },
    "language_info": {
      "name": "python"
    }
  },
  "cells": [
    {
      "cell_type": "markdown",
      "metadata": {
        "id": "view-in-github",
        "colab_type": "text"
      },
      "source": [
        "<a href=\"https://colab.research.google.com/github/vinayakkgarg/HybridLSTM_For_NIFTY_predictions/blob/main/_20_STI_global_ind.ipynb\" target=\"_parent\"><img src=\"https://colab.research.google.com/assets/colab-badge.svg\" alt=\"Open In Colab\"/></a>"
      ]
    },
    {
      "cell_type": "markdown",
      "metadata": {
        "id": "MjoILRGgbuOj"
      },
      "source": [
        "# THIS FILE CONSISTS PADDED NaNs with 20 years of data and all features included"
      ]
    },
    {
      "cell_type": "markdown",
      "metadata": {
        "id": "C94TMfUeFMzT"
      },
      "source": [
        "## 1. Importing the libraries"
      ]
    },
    {
      "cell_type": "code",
      "metadata": {
        "id": "erpPxIj2_2_v"
      },
      "source": [
        "import pandas as pd\n",
        "import os\n",
        "from sklearn import preprocessing\n",
        "from sklearn.model_selection import train_test_split\n",
        "import matplotlib.pyplot as plt\n",
        "import pandas as pd\n",
        "import datetime as dt\n",
        "import numpy as np\n",
        "from sklearn.preprocessing import StandardScaler\n",
        "from sklearn.metrics import mean_squared_error"
      ],
      "execution_count": null,
      "outputs": []
    },
    {
      "cell_type": "markdown",
      "metadata": {
        "id": "KT2IzpFhFSxG"
      },
      "source": [
        "## 2. Loading the Data"
      ]
    },
    {
      "cell_type": "code",
      "metadata": {
        "colab": {
          "base_uri": "https://localhost:8080/"
        },
        "id": "cX35Ywlf_9Oh",
        "outputId": "678920de-2073-4b23-f995-629b5fa1d19e"
      },
      "source": [
        "from google.colab import drive\n",
        "drive.mount('/content/gdrive')"
      ],
      "execution_count": null,
      "outputs": [
        {
          "output_type": "stream",
          "text": [
            "Mounted at /content/gdrive\n"
          ],
          "name": "stdout"
        }
      ]
    },
    {
      "cell_type": "code",
      "metadata": {
        "colab": {
          "base_uri": "https://localhost:8080/"
        },
        "id": "r3408zT4ARZP",
        "outputId": "1da1d8a8-c637-4a8b-a1ba-44d053ab8103"
      },
      "source": [
        "%cd /content/gdrive/My Drive/stockDataset-Daily-20yrs\n",
        "!ls\n",
        "!rm -rf ./new_df.csv"
      ],
      "execution_count": null,
      "outputs": [
        {
          "output_type": "stream",
          "text": [
            "/content/gdrive/My Drive/stockDataset-Daily-20yrs\n",
            "dax.csv  ftse.csv   nasdaq.csv\tsnp.csv       twse.csv\n",
            "dji.csv  hsi.csv    nifty.csv\tsti.csv       us_10.csv\n",
            "dxy.csv  kospi.csv  nikkei.csv\ttech-ind.csv  usdinr.csv\n"
          ],
          "name": "stdout"
        }
      ]
    },
    {
      "cell_type": "code",
      "metadata": {
        "colab": {
          "base_uri": "https://localhost:8080/",
          "height": 796
        },
        "id": "btWnAx3nj_uE",
        "outputId": "9528b122-f3fd-42e3-b58b-aae4bdc938c4"
      },
      "source": [
        "pd.read_csv('./tech-ind.csv')"
      ],
      "execution_count": null,
      "outputs": [
        {
          "output_type": "execute_result",
          "data": {
            "text/html": [
              "<div>\n",
              "<style scoped>\n",
              "    .dataframe tbody tr th:only-of-type {\n",
              "        vertical-align: middle;\n",
              "    }\n",
              "\n",
              "    .dataframe tbody tr th {\n",
              "        vertical-align: top;\n",
              "    }\n",
              "\n",
              "    .dataframe thead th {\n",
              "        text-align: right;\n",
              "    }\n",
              "</style>\n",
              "<table border=\"1\" class=\"dataframe\">\n",
              "  <thead>\n",
              "    <tr style=\"text-align: right;\">\n",
              "      <th></th>\n",
              "      <th>Unnamed: 0</th>\n",
              "      <th>Date</th>\n",
              "      <th>Close</th>\n",
              "      <th>High</th>\n",
              "      <th>Low</th>\n",
              "      <th>Open</th>\n",
              "      <th>daily_return</th>\n",
              "      <th>cum_daily_return</th>\n",
              "      <th>H-L</th>\n",
              "      <th>C-O</th>\n",
              "      <th>10day MA</th>\n",
              "      <th>50day MA</th>\n",
              "      <th>200day MA</th>\n",
              "      <th>rsi</th>\n",
              "      <th>ma7</th>\n",
              "      <th>ma21</th>\n",
              "      <th>ema_26</th>\n",
              "      <th>ema_12</th>\n",
              "      <th>macd</th>\n",
              "      <th>bb_high</th>\n",
              "      <th>bb_low</th>\n",
              "      <th>ema</th>\n",
              "      <th>momentum</th>\n",
              "    </tr>\n",
              "  </thead>\n",
              "  <tbody>\n",
              "    <tr>\n",
              "      <th>0</th>\n",
              "      <td>0</td>\n",
              "      <td>03 Jan 2000</td>\n",
              "      <td>1592.20</td>\n",
              "      <td>1592.90</td>\n",
              "      <td>1482.15</td>\n",
              "      <td>1482.15</td>\n",
              "      <td>0.000000</td>\n",
              "      <td>1.000000</td>\n",
              "      <td>110.75</td>\n",
              "      <td>110.05</td>\n",
              "      <td>0.000</td>\n",
              "      <td>0.000</td>\n",
              "      <td>0.00000</td>\n",
              "      <td>0.000000</td>\n",
              "      <td>0.000000</td>\n",
              "      <td>0.000000</td>\n",
              "      <td>1592.200000</td>\n",
              "      <td>1592.200000</td>\n",
              "      <td>0.000000</td>\n",
              "      <td>0.000000</td>\n",
              "      <td>0.000000</td>\n",
              "      <td>1592.200000</td>\n",
              "      <td>1591.20</td>\n",
              "    </tr>\n",
              "    <tr>\n",
              "      <th>1</th>\n",
              "      <td>1</td>\n",
              "      <td>04 Jan 2000</td>\n",
              "      <td>1638.70</td>\n",
              "      <td>1641.95</td>\n",
              "      <td>1594.40</td>\n",
              "      <td>1594.40</td>\n",
              "      <td>0.029205</td>\n",
              "      <td>1.029205</td>\n",
              "      <td>47.55</td>\n",
              "      <td>44.30</td>\n",
              "      <td>0.000</td>\n",
              "      <td>0.000</td>\n",
              "      <td>0.00000</td>\n",
              "      <td>0.000000</td>\n",
              "      <td>0.000000</td>\n",
              "      <td>0.000000</td>\n",
              "      <td>1616.344231</td>\n",
              "      <td>1617.387500</td>\n",
              "      <td>1.043269</td>\n",
              "      <td>0.000000</td>\n",
              "      <td>0.000000</td>\n",
              "      <td>1627.075000</td>\n",
              "      <td>1637.70</td>\n",
              "    </tr>\n",
              "    <tr>\n",
              "      <th>2</th>\n",
              "      <td>2</td>\n",
              "      <td>05 Jan 2000</td>\n",
              "      <td>1595.80</td>\n",
              "      <td>1635.50</td>\n",
              "      <td>1555.05</td>\n",
              "      <td>1634.55</td>\n",
              "      <td>-0.026179</td>\n",
              "      <td>1.002261</td>\n",
              "      <td>80.45</td>\n",
              "      <td>-38.75</td>\n",
              "      <td>0.000</td>\n",
              "      <td>0.000</td>\n",
              "      <td>0.00000</td>\n",
              "      <td>0.000000</td>\n",
              "      <td>0.000000</td>\n",
              "      <td>0.000000</td>\n",
              "      <td>1608.962888</td>\n",
              "      <td>1608.961894</td>\n",
              "      <td>-0.000994</td>\n",
              "      <td>0.000000</td>\n",
              "      <td>0.000000</td>\n",
              "      <td>1605.423077</td>\n",
              "      <td>1594.80</td>\n",
              "    </tr>\n",
              "    <tr>\n",
              "      <th>3</th>\n",
              "      <td>3</td>\n",
              "      <td>06 Jan 2000</td>\n",
              "      <td>1617.60</td>\n",
              "      <td>1639.00</td>\n",
              "      <td>1595.80</td>\n",
              "      <td>1595.80</td>\n",
              "      <td>0.013661</td>\n",
              "      <td>1.015953</td>\n",
              "      <td>43.20</td>\n",
              "      <td>21.80</td>\n",
              "      <td>0.000</td>\n",
              "      <td>0.000</td>\n",
              "      <td>0.00000</td>\n",
              "      <td>0.000000</td>\n",
              "      <td>0.000000</td>\n",
              "      <td>0.000000</td>\n",
              "      <td>1611.377447</td>\n",
              "      <td>1611.688606</td>\n",
              "      <td>0.311159</td>\n",
              "      <td>0.000000</td>\n",
              "      <td>0.000000</td>\n",
              "      <td>1613.642500</td>\n",
              "      <td>1616.60</td>\n",
              "    </tr>\n",
              "    <tr>\n",
              "      <th>4</th>\n",
              "      <td>4</td>\n",
              "      <td>07 Jan 2000</td>\n",
              "      <td>1613.30</td>\n",
              "      <td>1628.25</td>\n",
              "      <td>1597.20</td>\n",
              "      <td>1616.60</td>\n",
              "      <td>-0.002658</td>\n",
              "      <td>1.013252</td>\n",
              "      <td>31.05</td>\n",
              "      <td>-3.30</td>\n",
              "      <td>0.000</td>\n",
              "      <td>0.000</td>\n",
              "      <td>0.00000</td>\n",
              "      <td>0.000000</td>\n",
              "      <td>0.000000</td>\n",
              "      <td>0.000000</td>\n",
              "      <td>1611.823295</td>\n",
              "      <td>1612.126416</td>\n",
              "      <td>0.303121</td>\n",
              "      <td>0.000000</td>\n",
              "      <td>0.000000</td>\n",
              "      <td>1613.413223</td>\n",
              "      <td>1612.30</td>\n",
              "    </tr>\n",
              "    <tr>\n",
              "      <th>...</th>\n",
              "      <td>...</td>\n",
              "      <td>...</td>\n",
              "      <td>...</td>\n",
              "      <td>...</td>\n",
              "      <td>...</td>\n",
              "      <td>...</td>\n",
              "      <td>...</td>\n",
              "      <td>...</td>\n",
              "      <td>...</td>\n",
              "      <td>...</td>\n",
              "      <td>...</td>\n",
              "      <td>...</td>\n",
              "      <td>...</td>\n",
              "      <td>...</td>\n",
              "      <td>...</td>\n",
              "      <td>...</td>\n",
              "      <td>...</td>\n",
              "      <td>...</td>\n",
              "      <td>...</td>\n",
              "      <td>...</td>\n",
              "      <td>...</td>\n",
              "      <td>...</td>\n",
              "      <td>...</td>\n",
              "    </tr>\n",
              "    <tr>\n",
              "      <th>5288</th>\n",
              "      <td>5288</td>\n",
              "      <td>05 Apr 2021</td>\n",
              "      <td>14637.80</td>\n",
              "      <td>14849.85</td>\n",
              "      <td>14459.50</td>\n",
              "      <td>14837.70</td>\n",
              "      <td>-0.015440</td>\n",
              "      <td>9.193443</td>\n",
              "      <td>390.35</td>\n",
              "      <td>-199.90</td>\n",
              "      <td>14663.775</td>\n",
              "      <td>14786.559</td>\n",
              "      <td>12697.13850</td>\n",
              "      <td>47.189889</td>\n",
              "      <td>14631.792857</td>\n",
              "      <td>14826.742857</td>\n",
              "      <td>14763.131021</td>\n",
              "      <td>14719.366878</td>\n",
              "      <td>-43.764142</td>\n",
              "      <td>15297.678945</td>\n",
              "      <td>14355.806769</td>\n",
              "      <td>14695.902317</td>\n",
              "      <td>14636.80</td>\n",
              "    </tr>\n",
              "    <tr>\n",
              "      <th>5289</th>\n",
              "      <td>5289</td>\n",
              "      <td>06 Apr 2021</td>\n",
              "      <td>14683.50</td>\n",
              "      <td>14779.10</td>\n",
              "      <td>14573.90</td>\n",
              "      <td>14737.00</td>\n",
              "      <td>0.003122</td>\n",
              "      <td>9.222145</td>\n",
              "      <td>205.20</td>\n",
              "      <td>-53.50</td>\n",
              "      <td>14671.770</td>\n",
              "      <td>14788.892</td>\n",
              "      <td>12719.86925</td>\n",
              "      <td>48.256235</td>\n",
              "      <td>14650.950000</td>\n",
              "      <td>14799.976190</td>\n",
              "      <td>14757.232426</td>\n",
              "      <td>14713.848897</td>\n",
              "      <td>-43.383529</td>\n",
              "      <td>15233.320318</td>\n",
              "      <td>14366.632063</td>\n",
              "      <td>14687.634106</td>\n",
              "      <td>14682.50</td>\n",
              "    </tr>\n",
              "    <tr>\n",
              "      <th>5290</th>\n",
              "      <td>5290</td>\n",
              "      <td>07 Apr 2021</td>\n",
              "      <td>14819.05</td>\n",
              "      <td>14879.80</td>\n",
              "      <td>14649.85</td>\n",
              "      <td>14716.45</td>\n",
              "      <td>0.009231</td>\n",
              "      <td>9.307279</td>\n",
              "      <td>229.95</td>\n",
              "      <td>102.60</td>\n",
              "      <td>14665.720</td>\n",
              "      <td>14789.668</td>\n",
              "      <td>12742.06475</td>\n",
              "      <td>51.391409</td>\n",
              "      <td>14721.542857</td>\n",
              "      <td>14787.514286</td>\n",
              "      <td>14761.811506</td>\n",
              "      <td>14730.033682</td>\n",
              "      <td>-31.777824</td>\n",
              "      <td>15201.568451</td>\n",
              "      <td>14373.460120</td>\n",
              "      <td>14775.244702</td>\n",
              "      <td>14818.05</td>\n",
              "    </tr>\n",
              "    <tr>\n",
              "      <th>5291</th>\n",
              "      <td>5291</td>\n",
              "      <td>08 Apr 2021</td>\n",
              "      <td>14873.80</td>\n",
              "      <td>14984.15</td>\n",
              "      <td>14821.10</td>\n",
              "      <td>14875.65</td>\n",
              "      <td>0.003695</td>\n",
              "      <td>9.341666</td>\n",
              "      <td>163.05</td>\n",
              "      <td>-1.85</td>\n",
              "      <td>14673.985</td>\n",
              "      <td>14794.242</td>\n",
              "      <td>12764.60400</td>\n",
              "      <td>52.639621</td>\n",
              "      <td>14773.900000</td>\n",
              "      <td>14784.452381</td>\n",
              "      <td>14770.106950</td>\n",
              "      <td>14752.151577</td>\n",
              "      <td>-17.955373</td>\n",
              "      <td>15194.763616</td>\n",
              "      <td>14374.141146</td>\n",
              "      <td>14840.948234</td>\n",
              "      <td>14872.80</td>\n",
              "    </tr>\n",
              "    <tr>\n",
              "      <th>5292</th>\n",
              "      <td>5292</td>\n",
              "      <td>09 Apr 2021</td>\n",
              "      <td>14834.85</td>\n",
              "      <td>14918.45</td>\n",
              "      <td>14785.65</td>\n",
              "      <td>14882.65</td>\n",
              "      <td>-0.002619</td>\n",
              "      <td>9.317203</td>\n",
              "      <td>132.80</td>\n",
              "      <td>-47.80</td>\n",
              "      <td>14679.890</td>\n",
              "      <td>14804.280</td>\n",
              "      <td>12786.61800</td>\n",
              "      <td>51.623992</td>\n",
              "      <td>14772.435714</td>\n",
              "      <td>14778.673810</td>\n",
              "      <td>14774.902731</td>\n",
              "      <td>14764.874412</td>\n",
              "      <td>-10.028320</td>\n",
              "      <td>15182.187872</td>\n",
              "      <td>14375.159747</td>\n",
              "      <td>14836.882745</td>\n",
              "      <td>14833.85</td>\n",
              "    </tr>\n",
              "  </tbody>\n",
              "</table>\n",
              "<p>5293 rows × 23 columns</p>\n",
              "</div>"
            ],
            "text/plain": [
              "      Unnamed: 0         Date     Close  ...        bb_low           ema  momentum\n",
              "0              0  03 Jan 2000   1592.20  ...      0.000000   1592.200000   1591.20\n",
              "1              1  04 Jan 2000   1638.70  ...      0.000000   1627.075000   1637.70\n",
              "2              2  05 Jan 2000   1595.80  ...      0.000000   1605.423077   1594.80\n",
              "3              3  06 Jan 2000   1617.60  ...      0.000000   1613.642500   1616.60\n",
              "4              4  07 Jan 2000   1613.30  ...      0.000000   1613.413223   1612.30\n",
              "...          ...          ...       ...  ...           ...           ...       ...\n",
              "5288        5288  05 Apr 2021  14637.80  ...  14355.806769  14695.902317  14636.80\n",
              "5289        5289  06 Apr 2021  14683.50  ...  14366.632063  14687.634106  14682.50\n",
              "5290        5290  07 Apr 2021  14819.05  ...  14373.460120  14775.244702  14818.05\n",
              "5291        5291  08 Apr 2021  14873.80  ...  14374.141146  14840.948234  14872.80\n",
              "5292        5292  09 Apr 2021  14834.85  ...  14375.159747  14836.882745  14833.85\n",
              "\n",
              "[5293 rows x 23 columns]"
            ]
          },
          "metadata": {
            "tags": []
          },
          "execution_count": 4
        }
      ]
    },
    {
      "cell_type": "markdown",
      "metadata": {
        "id": "HjFLsd_fFlz2"
      },
      "source": [
        "Reading the names of all dataframes into a list"
      ]
    },
    {
      "cell_type": "code",
      "metadata": {
        "id": "p8p0lkzB7Bbx"
      },
      "source": [
        "\n",
        "list_of_dfs = []\n",
        "for x in os.listdir():\n",
        "  if(x=='tech-ind.csv'):\n",
        "    tech_ind = pd.read_csv('./tech-ind.csv')\n",
        "    continue\n",
        "  list_of_dfs.append(x[:-4])"
      ],
      "execution_count": null,
      "outputs": []
    },
    {
      "cell_type": "markdown",
      "metadata": {
        "id": "x434UaHsFqNL"
      },
      "source": [
        "Storing all dataframes in a dictionary all_dfs"
      ]
    },
    {
      "cell_type": "code",
      "metadata": {
        "colab": {
          "base_uri": "https://localhost:8080/",
          "height": 796
        },
        "id": "kygeF29bjYVE",
        "outputId": "59ceffc8-ed26-43c9-b4c3-a7c22f75bb86"
      },
      "source": [
        "tech_ind"
      ],
      "execution_count": null,
      "outputs": [
        {
          "output_type": "execute_result",
          "data": {
            "text/html": [
              "<div>\n",
              "<style scoped>\n",
              "    .dataframe tbody tr th:only-of-type {\n",
              "        vertical-align: middle;\n",
              "    }\n",
              "\n",
              "    .dataframe tbody tr th {\n",
              "        vertical-align: top;\n",
              "    }\n",
              "\n",
              "    .dataframe thead th {\n",
              "        text-align: right;\n",
              "    }\n",
              "</style>\n",
              "<table border=\"1\" class=\"dataframe\">\n",
              "  <thead>\n",
              "    <tr style=\"text-align: right;\">\n",
              "      <th></th>\n",
              "      <th>Unnamed: 0</th>\n",
              "      <th>Date</th>\n",
              "      <th>Close</th>\n",
              "      <th>High</th>\n",
              "      <th>Low</th>\n",
              "      <th>Open</th>\n",
              "      <th>daily_return</th>\n",
              "      <th>cum_daily_return</th>\n",
              "      <th>H-L</th>\n",
              "      <th>C-O</th>\n",
              "      <th>10day MA</th>\n",
              "      <th>50day MA</th>\n",
              "      <th>200day MA</th>\n",
              "      <th>rsi</th>\n",
              "      <th>ma7</th>\n",
              "      <th>ma21</th>\n",
              "      <th>ema_26</th>\n",
              "      <th>ema_12</th>\n",
              "      <th>macd</th>\n",
              "      <th>bb_high</th>\n",
              "      <th>bb_low</th>\n",
              "      <th>ema</th>\n",
              "      <th>momentum</th>\n",
              "    </tr>\n",
              "  </thead>\n",
              "  <tbody>\n",
              "    <tr>\n",
              "      <th>0</th>\n",
              "      <td>0</td>\n",
              "      <td>03 Jan 2000</td>\n",
              "      <td>1592.20</td>\n",
              "      <td>1592.90</td>\n",
              "      <td>1482.15</td>\n",
              "      <td>1482.15</td>\n",
              "      <td>0.000000</td>\n",
              "      <td>1.000000</td>\n",
              "      <td>110.75</td>\n",
              "      <td>110.05</td>\n",
              "      <td>0.000</td>\n",
              "      <td>0.000</td>\n",
              "      <td>0.00000</td>\n",
              "      <td>0.000000</td>\n",
              "      <td>0.000000</td>\n",
              "      <td>0.000000</td>\n",
              "      <td>1592.200000</td>\n",
              "      <td>1592.200000</td>\n",
              "      <td>0.000000</td>\n",
              "      <td>0.000000</td>\n",
              "      <td>0.000000</td>\n",
              "      <td>1592.200000</td>\n",
              "      <td>1591.20</td>\n",
              "    </tr>\n",
              "    <tr>\n",
              "      <th>1</th>\n",
              "      <td>1</td>\n",
              "      <td>04 Jan 2000</td>\n",
              "      <td>1638.70</td>\n",
              "      <td>1641.95</td>\n",
              "      <td>1594.40</td>\n",
              "      <td>1594.40</td>\n",
              "      <td>0.029205</td>\n",
              "      <td>1.029205</td>\n",
              "      <td>47.55</td>\n",
              "      <td>44.30</td>\n",
              "      <td>0.000</td>\n",
              "      <td>0.000</td>\n",
              "      <td>0.00000</td>\n",
              "      <td>0.000000</td>\n",
              "      <td>0.000000</td>\n",
              "      <td>0.000000</td>\n",
              "      <td>1616.344231</td>\n",
              "      <td>1617.387500</td>\n",
              "      <td>1.043269</td>\n",
              "      <td>0.000000</td>\n",
              "      <td>0.000000</td>\n",
              "      <td>1627.075000</td>\n",
              "      <td>1637.70</td>\n",
              "    </tr>\n",
              "    <tr>\n",
              "      <th>2</th>\n",
              "      <td>2</td>\n",
              "      <td>05 Jan 2000</td>\n",
              "      <td>1595.80</td>\n",
              "      <td>1635.50</td>\n",
              "      <td>1555.05</td>\n",
              "      <td>1634.55</td>\n",
              "      <td>-0.026179</td>\n",
              "      <td>1.002261</td>\n",
              "      <td>80.45</td>\n",
              "      <td>-38.75</td>\n",
              "      <td>0.000</td>\n",
              "      <td>0.000</td>\n",
              "      <td>0.00000</td>\n",
              "      <td>0.000000</td>\n",
              "      <td>0.000000</td>\n",
              "      <td>0.000000</td>\n",
              "      <td>1608.962888</td>\n",
              "      <td>1608.961894</td>\n",
              "      <td>-0.000994</td>\n",
              "      <td>0.000000</td>\n",
              "      <td>0.000000</td>\n",
              "      <td>1605.423077</td>\n",
              "      <td>1594.80</td>\n",
              "    </tr>\n",
              "    <tr>\n",
              "      <th>3</th>\n",
              "      <td>3</td>\n",
              "      <td>06 Jan 2000</td>\n",
              "      <td>1617.60</td>\n",
              "      <td>1639.00</td>\n",
              "      <td>1595.80</td>\n",
              "      <td>1595.80</td>\n",
              "      <td>0.013661</td>\n",
              "      <td>1.015953</td>\n",
              "      <td>43.20</td>\n",
              "      <td>21.80</td>\n",
              "      <td>0.000</td>\n",
              "      <td>0.000</td>\n",
              "      <td>0.00000</td>\n",
              "      <td>0.000000</td>\n",
              "      <td>0.000000</td>\n",
              "      <td>0.000000</td>\n",
              "      <td>1611.377447</td>\n",
              "      <td>1611.688606</td>\n",
              "      <td>0.311159</td>\n",
              "      <td>0.000000</td>\n",
              "      <td>0.000000</td>\n",
              "      <td>1613.642500</td>\n",
              "      <td>1616.60</td>\n",
              "    </tr>\n",
              "    <tr>\n",
              "      <th>4</th>\n",
              "      <td>4</td>\n",
              "      <td>07 Jan 2000</td>\n",
              "      <td>1613.30</td>\n",
              "      <td>1628.25</td>\n",
              "      <td>1597.20</td>\n",
              "      <td>1616.60</td>\n",
              "      <td>-0.002658</td>\n",
              "      <td>1.013252</td>\n",
              "      <td>31.05</td>\n",
              "      <td>-3.30</td>\n",
              "      <td>0.000</td>\n",
              "      <td>0.000</td>\n",
              "      <td>0.00000</td>\n",
              "      <td>0.000000</td>\n",
              "      <td>0.000000</td>\n",
              "      <td>0.000000</td>\n",
              "      <td>1611.823295</td>\n",
              "      <td>1612.126416</td>\n",
              "      <td>0.303121</td>\n",
              "      <td>0.000000</td>\n",
              "      <td>0.000000</td>\n",
              "      <td>1613.413223</td>\n",
              "      <td>1612.30</td>\n",
              "    </tr>\n",
              "    <tr>\n",
              "      <th>...</th>\n",
              "      <td>...</td>\n",
              "      <td>...</td>\n",
              "      <td>...</td>\n",
              "      <td>...</td>\n",
              "      <td>...</td>\n",
              "      <td>...</td>\n",
              "      <td>...</td>\n",
              "      <td>...</td>\n",
              "      <td>...</td>\n",
              "      <td>...</td>\n",
              "      <td>...</td>\n",
              "      <td>...</td>\n",
              "      <td>...</td>\n",
              "      <td>...</td>\n",
              "      <td>...</td>\n",
              "      <td>...</td>\n",
              "      <td>...</td>\n",
              "      <td>...</td>\n",
              "      <td>...</td>\n",
              "      <td>...</td>\n",
              "      <td>...</td>\n",
              "      <td>...</td>\n",
              "      <td>...</td>\n",
              "    </tr>\n",
              "    <tr>\n",
              "      <th>5288</th>\n",
              "      <td>5288</td>\n",
              "      <td>05 Apr 2021</td>\n",
              "      <td>14637.80</td>\n",
              "      <td>14849.85</td>\n",
              "      <td>14459.50</td>\n",
              "      <td>14837.70</td>\n",
              "      <td>-0.015440</td>\n",
              "      <td>9.193443</td>\n",
              "      <td>390.35</td>\n",
              "      <td>-199.90</td>\n",
              "      <td>14663.775</td>\n",
              "      <td>14786.559</td>\n",
              "      <td>12697.13850</td>\n",
              "      <td>47.189889</td>\n",
              "      <td>14631.792857</td>\n",
              "      <td>14826.742857</td>\n",
              "      <td>14763.131021</td>\n",
              "      <td>14719.366878</td>\n",
              "      <td>-43.764142</td>\n",
              "      <td>15297.678945</td>\n",
              "      <td>14355.806769</td>\n",
              "      <td>14695.902317</td>\n",
              "      <td>14636.80</td>\n",
              "    </tr>\n",
              "    <tr>\n",
              "      <th>5289</th>\n",
              "      <td>5289</td>\n",
              "      <td>06 Apr 2021</td>\n",
              "      <td>14683.50</td>\n",
              "      <td>14779.10</td>\n",
              "      <td>14573.90</td>\n",
              "      <td>14737.00</td>\n",
              "      <td>0.003122</td>\n",
              "      <td>9.222145</td>\n",
              "      <td>205.20</td>\n",
              "      <td>-53.50</td>\n",
              "      <td>14671.770</td>\n",
              "      <td>14788.892</td>\n",
              "      <td>12719.86925</td>\n",
              "      <td>48.256235</td>\n",
              "      <td>14650.950000</td>\n",
              "      <td>14799.976190</td>\n",
              "      <td>14757.232426</td>\n",
              "      <td>14713.848897</td>\n",
              "      <td>-43.383529</td>\n",
              "      <td>15233.320318</td>\n",
              "      <td>14366.632063</td>\n",
              "      <td>14687.634106</td>\n",
              "      <td>14682.50</td>\n",
              "    </tr>\n",
              "    <tr>\n",
              "      <th>5290</th>\n",
              "      <td>5290</td>\n",
              "      <td>07 Apr 2021</td>\n",
              "      <td>14819.05</td>\n",
              "      <td>14879.80</td>\n",
              "      <td>14649.85</td>\n",
              "      <td>14716.45</td>\n",
              "      <td>0.009231</td>\n",
              "      <td>9.307279</td>\n",
              "      <td>229.95</td>\n",
              "      <td>102.60</td>\n",
              "      <td>14665.720</td>\n",
              "      <td>14789.668</td>\n",
              "      <td>12742.06475</td>\n",
              "      <td>51.391409</td>\n",
              "      <td>14721.542857</td>\n",
              "      <td>14787.514286</td>\n",
              "      <td>14761.811506</td>\n",
              "      <td>14730.033682</td>\n",
              "      <td>-31.777824</td>\n",
              "      <td>15201.568451</td>\n",
              "      <td>14373.460120</td>\n",
              "      <td>14775.244702</td>\n",
              "      <td>14818.05</td>\n",
              "    </tr>\n",
              "    <tr>\n",
              "      <th>5291</th>\n",
              "      <td>5291</td>\n",
              "      <td>08 Apr 2021</td>\n",
              "      <td>14873.80</td>\n",
              "      <td>14984.15</td>\n",
              "      <td>14821.10</td>\n",
              "      <td>14875.65</td>\n",
              "      <td>0.003695</td>\n",
              "      <td>9.341666</td>\n",
              "      <td>163.05</td>\n",
              "      <td>-1.85</td>\n",
              "      <td>14673.985</td>\n",
              "      <td>14794.242</td>\n",
              "      <td>12764.60400</td>\n",
              "      <td>52.639621</td>\n",
              "      <td>14773.900000</td>\n",
              "      <td>14784.452381</td>\n",
              "      <td>14770.106950</td>\n",
              "      <td>14752.151577</td>\n",
              "      <td>-17.955373</td>\n",
              "      <td>15194.763616</td>\n",
              "      <td>14374.141146</td>\n",
              "      <td>14840.948234</td>\n",
              "      <td>14872.80</td>\n",
              "    </tr>\n",
              "    <tr>\n",
              "      <th>5292</th>\n",
              "      <td>5292</td>\n",
              "      <td>09 Apr 2021</td>\n",
              "      <td>14834.85</td>\n",
              "      <td>14918.45</td>\n",
              "      <td>14785.65</td>\n",
              "      <td>14882.65</td>\n",
              "      <td>-0.002619</td>\n",
              "      <td>9.317203</td>\n",
              "      <td>132.80</td>\n",
              "      <td>-47.80</td>\n",
              "      <td>14679.890</td>\n",
              "      <td>14804.280</td>\n",
              "      <td>12786.61800</td>\n",
              "      <td>51.623992</td>\n",
              "      <td>14772.435714</td>\n",
              "      <td>14778.673810</td>\n",
              "      <td>14774.902731</td>\n",
              "      <td>14764.874412</td>\n",
              "      <td>-10.028320</td>\n",
              "      <td>15182.187872</td>\n",
              "      <td>14375.159747</td>\n",
              "      <td>14836.882745</td>\n",
              "      <td>14833.85</td>\n",
              "    </tr>\n",
              "  </tbody>\n",
              "</table>\n",
              "<p>5293 rows × 23 columns</p>\n",
              "</div>"
            ],
            "text/plain": [
              "      Unnamed: 0         Date     Close  ...        bb_low           ema  momentum\n",
              "0              0  03 Jan 2000   1592.20  ...      0.000000   1592.200000   1591.20\n",
              "1              1  04 Jan 2000   1638.70  ...      0.000000   1627.075000   1637.70\n",
              "2              2  05 Jan 2000   1595.80  ...      0.000000   1605.423077   1594.80\n",
              "3              3  06 Jan 2000   1617.60  ...      0.000000   1613.642500   1616.60\n",
              "4              4  07 Jan 2000   1613.30  ...      0.000000   1613.413223   1612.30\n",
              "...          ...          ...       ...  ...           ...           ...       ...\n",
              "5288        5288  05 Apr 2021  14637.80  ...  14355.806769  14695.902317  14636.80\n",
              "5289        5289  06 Apr 2021  14683.50  ...  14366.632063  14687.634106  14682.50\n",
              "5290        5290  07 Apr 2021  14819.05  ...  14373.460120  14775.244702  14818.05\n",
              "5291        5291  08 Apr 2021  14873.80  ...  14374.141146  14840.948234  14872.80\n",
              "5292        5292  09 Apr 2021  14834.85  ...  14375.159747  14836.882745  14833.85\n",
              "\n",
              "[5293 rows x 23 columns]"
            ]
          },
          "metadata": {
            "tags": []
          },
          "execution_count": 6
        }
      ]
    },
    {
      "cell_type": "code",
      "metadata": {
        "id": "OnSbyrrQ8oqg"
      },
      "source": [
        "all_dfs={}\n",
        "for x in list_of_dfs:\n",
        "  all_dfs[x] = pd.read_csv(x+'.csv',parse_dates=True)\n",
        "  "
      ],
      "execution_count": null,
      "outputs": []
    },
    {
      "cell_type": "code",
      "metadata": {
        "colab": {
          "base_uri": "https://localhost:8080/",
          "height": 419
        },
        "id": "7yiSKQpSVy7X",
        "outputId": "aea20524-1d48-4a10-9a82-043408e1a387"
      },
      "source": [
        "all_dfs['nifty']"
      ],
      "execution_count": null,
      "outputs": [
        {
          "output_type": "execute_result",
          "data": {
            "text/html": [
              "<div>\n",
              "<style scoped>\n",
              "    .dataframe tbody tr th:only-of-type {\n",
              "        vertical-align: middle;\n",
              "    }\n",
              "\n",
              "    .dataframe tbody tr th {\n",
              "        vertical-align: top;\n",
              "    }\n",
              "\n",
              "    .dataframe thead th {\n",
              "        text-align: right;\n",
              "    }\n",
              "</style>\n",
              "<table border=\"1\" class=\"dataframe\">\n",
              "  <thead>\n",
              "    <tr style=\"text-align: right;\">\n",
              "      <th></th>\n",
              "      <th>Date</th>\n",
              "      <th>Open</th>\n",
              "      <th>High</th>\n",
              "      <th>Low</th>\n",
              "      <th>Close</th>\n",
              "    </tr>\n",
              "  </thead>\n",
              "  <tbody>\n",
              "    <tr>\n",
              "      <th>0</th>\n",
              "      <td>09 Apr 2021</td>\n",
              "      <td>14882.65</td>\n",
              "      <td>14918.45</td>\n",
              "      <td>14785.65</td>\n",
              "      <td>14834.85</td>\n",
              "    </tr>\n",
              "    <tr>\n",
              "      <th>1</th>\n",
              "      <td>08 Apr 2021</td>\n",
              "      <td>14875.65</td>\n",
              "      <td>14984.15</td>\n",
              "      <td>14821.10</td>\n",
              "      <td>14873.80</td>\n",
              "    </tr>\n",
              "    <tr>\n",
              "      <th>2</th>\n",
              "      <td>07 Apr 2021</td>\n",
              "      <td>14716.45</td>\n",
              "      <td>14879.80</td>\n",
              "      <td>14649.85</td>\n",
              "      <td>14819.05</td>\n",
              "    </tr>\n",
              "    <tr>\n",
              "      <th>3</th>\n",
              "      <td>06 Apr 2021</td>\n",
              "      <td>14737.00</td>\n",
              "      <td>14779.10</td>\n",
              "      <td>14573.90</td>\n",
              "      <td>14683.50</td>\n",
              "    </tr>\n",
              "    <tr>\n",
              "      <th>4</th>\n",
              "      <td>05 Apr 2021</td>\n",
              "      <td>14837.70</td>\n",
              "      <td>14849.85</td>\n",
              "      <td>14459.50</td>\n",
              "      <td>14637.80</td>\n",
              "    </tr>\n",
              "    <tr>\n",
              "      <th>...</th>\n",
              "      <td>...</td>\n",
              "      <td>...</td>\n",
              "      <td>...</td>\n",
              "      <td>...</td>\n",
              "      <td>...</td>\n",
              "    </tr>\n",
              "    <tr>\n",
              "      <th>5288</th>\n",
              "      <td>07 Jan 2000</td>\n",
              "      <td>1616.60</td>\n",
              "      <td>1628.25</td>\n",
              "      <td>1597.20</td>\n",
              "      <td>1613.30</td>\n",
              "    </tr>\n",
              "    <tr>\n",
              "      <th>5289</th>\n",
              "      <td>06 Jan 2000</td>\n",
              "      <td>1595.80</td>\n",
              "      <td>1639.00</td>\n",
              "      <td>1595.80</td>\n",
              "      <td>1617.60</td>\n",
              "    </tr>\n",
              "    <tr>\n",
              "      <th>5290</th>\n",
              "      <td>05 Jan 2000</td>\n",
              "      <td>1634.55</td>\n",
              "      <td>1635.50</td>\n",
              "      <td>1555.05</td>\n",
              "      <td>1595.80</td>\n",
              "    </tr>\n",
              "    <tr>\n",
              "      <th>5291</th>\n",
              "      <td>04 Jan 2000</td>\n",
              "      <td>1594.40</td>\n",
              "      <td>1641.95</td>\n",
              "      <td>1594.40</td>\n",
              "      <td>1638.70</td>\n",
              "    </tr>\n",
              "    <tr>\n",
              "      <th>5292</th>\n",
              "      <td>03 Jan 2000</td>\n",
              "      <td>1482.15</td>\n",
              "      <td>1592.90</td>\n",
              "      <td>1482.15</td>\n",
              "      <td>1592.20</td>\n",
              "    </tr>\n",
              "  </tbody>\n",
              "</table>\n",
              "<p>5293 rows × 5 columns</p>\n",
              "</div>"
            ],
            "text/plain": [
              "             Date      Open      High       Low     Close\n",
              "0     09 Apr 2021  14882.65  14918.45  14785.65  14834.85\n",
              "1     08 Apr 2021  14875.65  14984.15  14821.10  14873.80\n",
              "2     07 Apr 2021  14716.45  14879.80  14649.85  14819.05\n",
              "3     06 Apr 2021  14737.00  14779.10  14573.90  14683.50\n",
              "4     05 Apr 2021  14837.70  14849.85  14459.50  14637.80\n",
              "...           ...       ...       ...       ...       ...\n",
              "5288  07 Jan 2000   1616.60   1628.25   1597.20   1613.30\n",
              "5289  06 Jan 2000   1595.80   1639.00   1595.80   1617.60\n",
              "5290  05 Jan 2000   1634.55   1635.50   1555.05   1595.80\n",
              "5291  04 Jan 2000   1594.40   1641.95   1594.40   1638.70\n",
              "5292  03 Jan 2000   1482.15   1592.90   1482.15   1592.20\n",
              "\n",
              "[5293 rows x 5 columns]"
            ]
          },
          "metadata": {
            "tags": []
          },
          "execution_count": 8
        }
      ]
    },
    {
      "cell_type": "markdown",
      "metadata": {
        "id": "TN0zgTkwGdwX"
      },
      "source": [
        "## 3. Preprocessing data"
      ]
    },
    {
      "cell_type": "code",
      "metadata": {
        "id": "TVrYkcg4VUEm"
      },
      "source": [
        ""
      ],
      "execution_count": null,
      "outputs": []
    },
    {
      "cell_type": "markdown",
      "metadata": {
        "id": "AM7LV46iFvw3"
      },
      "source": [
        "Filtering useful columns out of all dfs"
      ]
    },
    {
      "cell_type": "code",
      "metadata": {
        "colab": {
          "base_uri": "https://localhost:8080/"
        },
        "id": "2pZeMiv5IB0X",
        "outputId": "3a4a0e5d-9764-4b18-c4ef-b96ae461fa7c"
      },
      "source": [
        "for i in all_dfs.keys():\n",
        "  \n",
        "  print(i,all_dfs[i].columns)\n",
        "  all_dfs[i]['Date'] = pd.to_datetime(all_dfs[i]['Date'])\n",
        "  if('Close/Last' in all_dfs[i]):\n",
        "    all_dfs[i] = all_dfs[i].filter(['Date','Close/Last'])\n",
        "\n",
        "  if('Close' in all_dfs[i]):\n",
        "    all_dfs[i] = all_dfs[i].filter(['Date','Close'])\n",
        "  if('Price' in all_dfs[i]):\n",
        "    all_dfs[i] = all_dfs[i].filter(['Date','Price'])\n",
        "  if(' Close' in all_dfs[i]):\n",
        "    all_dfs[i] = all_dfs[i].filter(['Date',' Close'])\n",
        "  if('INR' in all_dfs[i]):\n",
        "    all_dfs[i] = all_dfs[i].filter(['Date','INR'])\n",
        "  all_dfs[i].columns = ['Date',i]\n",
        "  \n"
      ],
      "execution_count": null,
      "outputs": [
        {
          "output_type": "stream",
          "text": [
            "dax Index(['Date', 'Open', 'High', 'Low', 'Close', 'Adj Close', 'Volume'], dtype='object')\n",
            "dji Index(['Date', ' Open', ' High', ' Low', ' Close'], dtype='object')\n",
            "dxy Index(['Date', 'Open', 'High', 'Low', 'Close', 'Adj Close', 'Volume'], dtype='object')\n",
            "hsi Index(['Date', 'Open', 'High', 'Low', 'Close', 'Adj Close', 'Volume'], dtype='object')\n",
            "kospi Index(['Date', 'Open', 'High', 'Low', 'Close', 'Adj Close', 'Volume'], dtype='object')\n",
            "nasdaq Index(['Date', 'Open', 'High', 'Low', 'Close', 'Adj Close', 'Volume'], dtype='object')\n",
            "nifty Index(['Date', 'Open', 'High', 'Low', 'Close'], dtype='object')\n",
            "nikkei Index(['Date', 'Open', 'High', 'Low', 'Close', 'Adj Close', 'Volume'], dtype='object')\n",
            "twse Index(['Date', 'Open', 'High', 'Low', 'Close', 'Adj Close', 'Volume'], dtype='object')\n",
            "usdinr Index(['Date', 'USD', 'INR'], dtype='object')\n",
            "us_10 Index(['Date', 'Price', 'Open', 'High', 'Low', 'Change %'], dtype='object')\n",
            "ftse Index(['Date', ' Open', ' High', ' Low', ' Close'], dtype='object')\n",
            "sti Index(['Date', ' Open', ' High', ' Low', ' Close'], dtype='object')\n",
            "snp Index(['Date', ' Open', ' High', ' Low', ' Close'], dtype='object')\n"
          ],
          "name": "stdout"
        }
      ]
    },
    {
      "cell_type": "markdown",
      "metadata": {
        "id": "0614s7bUF1As"
      },
      "source": [
        "Viewing the date format of all dfs"
      ]
    },
    {
      "cell_type": "code",
      "metadata": {
        "id": "f3mExfDIAaXq",
        "colab": {
          "base_uri": "https://localhost:8080/"
        },
        "outputId": "6394da95-7582-433e-d716-9c25094827f4"
      },
      "source": [
        "for i in all_dfs.keys():\n",
        "  print(i,all_dfs[i]['Date'])"
      ],
      "execution_count": null,
      "outputs": [
        {
          "output_type": "stream",
          "text": [
            "dax 0      2000-01-03\n",
            "1      2000-01-04\n",
            "2      2000-01-05\n",
            "3      2000-01-06\n",
            "4      2000-01-07\n",
            "          ...    \n",
            "5432   2021-03-31\n",
            "5433   2021-04-01\n",
            "5434   2021-04-06\n",
            "5435   2021-04-07\n",
            "5436   2021-04-08\n",
            "Name: Date, Length: 5437, dtype: datetime64[ns]\n",
            "dji 0      2021-04-09\n",
            "1      2021-04-08\n",
            "2      2021-04-07\n",
            "3      2021-04-06\n",
            "4      2021-04-05\n",
            "          ...    \n",
            "5348   2000-01-07\n",
            "5349   2000-01-06\n",
            "5350   2000-01-05\n",
            "5351   2000-01-04\n",
            "5352   2000-01-03\n",
            "Name: Date, Length: 5353, dtype: datetime64[ns]\n",
            "dxy 0      2000-01-03\n",
            "1      2000-01-04\n",
            "2      2000-01-05\n",
            "3      2000-01-06\n",
            "4      2000-01-07\n",
            "          ...    \n",
            "6525   2021-04-05\n",
            "6526   2021-04-06\n",
            "6527   2021-04-07\n",
            "6528   2021-04-08\n",
            "6529   2021-04-09\n",
            "Name: Date, Length: 6530, dtype: datetime64[ns]\n",
            "hsi 0      2000-01-03\n",
            "1      2000-01-04\n",
            "2      2000-01-05\n",
            "3      2000-01-06\n",
            "4      2000-01-07\n",
            "          ...    \n",
            "5317   2021-03-31\n",
            "5318   2021-04-01\n",
            "5319   2021-04-07\n",
            "5320   2021-04-08\n",
            "5321   2021-04-09\n",
            "Name: Date, Length: 5322, dtype: datetime64[ns]\n",
            "kospi 0      2000-01-04\n",
            "1      2000-01-05\n",
            "2      2000-01-06\n",
            "3      2000-01-07\n",
            "4      2000-01-10\n",
            "          ...    \n",
            "5342   2021-04-05\n",
            "5343   2021-04-06\n",
            "5344   2021-04-07\n",
            "5345   2021-04-08\n",
            "5346   2021-04-09\n",
            "Name: Date, Length: 5347, dtype: datetime64[ns]\n",
            "nasdaq 0      2000-01-03\n",
            "1      2000-01-04\n",
            "2      2000-01-05\n",
            "3      2000-01-06\n",
            "4      2000-01-07\n",
            "          ...    \n",
            "5346   2021-04-05\n",
            "5347   2021-04-06\n",
            "5348   2021-04-07\n",
            "5349   2021-04-08\n",
            "5350   2021-04-09\n",
            "Name: Date, Length: 5351, dtype: datetime64[ns]\n",
            "nifty 0      2021-04-09\n",
            "1      2021-04-08\n",
            "2      2021-04-07\n",
            "3      2021-04-06\n",
            "4      2021-04-05\n",
            "          ...    \n",
            "5288   2000-01-07\n",
            "5289   2000-01-06\n",
            "5290   2000-01-05\n",
            "5291   2000-01-04\n",
            "5292   2000-01-03\n",
            "Name: Date, Length: 5293, dtype: datetime64[ns]\n",
            "nikkei 0      2000-01-04\n",
            "1      2000-01-05\n",
            "2      2000-01-06\n",
            "3      2000-01-07\n",
            "4      2000-01-10\n",
            "          ...    \n",
            "5330   2021-04-05\n",
            "5331   2021-04-06\n",
            "5332   2021-04-07\n",
            "5333   2021-04-08\n",
            "5334   2021-04-09\n",
            "Name: Date, Length: 5335, dtype: datetime64[ns]\n",
            "twse 0      2000-01-04\n",
            "1      2000-01-05\n",
            "2      2000-01-06\n",
            "3      2000-01-07\n",
            "4      2000-01-10\n",
            "          ...    \n",
            "5316   2021-03-31\n",
            "5317   2021-04-01\n",
            "5318   2021-04-07\n",
            "5319   2021-04-08\n",
            "5320   2021-04-09\n",
            "Name: Date, Length: 5321, dtype: datetime64[ns]\n",
            "usdinr 0      2021-04-09\n",
            "1      2021-04-08\n",
            "2      2021-04-07\n",
            "3      2021-04-06\n",
            "4      2021-04-05\n",
            "          ...    \n",
            "8127   1999-01-08\n",
            "8128   1999-01-07\n",
            "8129   1999-01-06\n",
            "8130   1999-01-05\n",
            "8131   1999-01-04\n",
            "Name: Date, Length: 8132, dtype: datetime64[ns]\n",
            "us_10 0      2000-01-03\n",
            "1      2000-01-04\n",
            "2      2000-01-05\n",
            "3      2000-01-06\n",
            "4      2000-01-07\n",
            "          ...    \n",
            "5828   2021-04-05\n",
            "5829   2021-04-06\n",
            "5830   2021-04-07\n",
            "5831   2021-04-08\n",
            "5832   2021-04-09\n",
            "Name: Date, Length: 5833, dtype: datetime64[ns]\n",
            "ftse 0      2021-04-09\n",
            "1      2021-04-08\n",
            "2      2021-04-07\n",
            "3      2021-04-06\n",
            "4      2021-04-05\n",
            "          ...    \n",
            "5463   2000-01-10\n",
            "5464   2000-01-07\n",
            "5465   2000-01-06\n",
            "5466   2000-01-05\n",
            "5467   2000-01-04\n",
            "Name: Date, Length: 5468, dtype: datetime64[ns]\n",
            "sti 0      2021-04-09\n",
            "1      2021-04-08\n",
            "2      2021-04-07\n",
            "3      2021-04-06\n",
            "4      2021-04-05\n",
            "          ...    \n",
            "5333   2000-01-07\n",
            "5334   2000-01-06\n",
            "5335   2000-01-05\n",
            "5336   2000-01-04\n",
            "5337   2000-01-03\n",
            "Name: Date, Length: 5338, dtype: datetime64[ns]\n",
            "snp 0      2021-04-09\n",
            "1      2021-04-08\n",
            "2      2021-04-07\n",
            "3      2021-04-06\n",
            "4      2021-04-05\n",
            "          ...    \n",
            "5346   2000-01-07\n",
            "5347   2000-01-06\n",
            "5348   2000-01-05\n",
            "5349   2000-01-04\n",
            "5350   2000-01-03\n",
            "Name: Date, Length: 5351, dtype: datetime64[ns]\n"
          ],
          "name": "stdout"
        }
      ]
    },
    {
      "cell_type": "markdown",
      "metadata": {
        "id": "gkC6kxgVF6b6"
      },
      "source": [
        "Viewing columns of all dfs"
      ]
    },
    {
      "cell_type": "code",
      "metadata": {
        "colab": {
          "base_uri": "https://localhost:8080/"
        },
        "id": "qem1Ox9kFkrh",
        "outputId": "36e05cb6-b91b-4c9d-f49a-e31df992554e"
      },
      "source": [
        "for i in all_dfs.keys():\n",
        "  print(i,all_dfs[i].columns)"
      ],
      "execution_count": null,
      "outputs": [
        {
          "output_type": "stream",
          "text": [
            "dax Index(['Date', 'dax'], dtype='object')\n",
            "dji Index(['Date', 'dji'], dtype='object')\n",
            "dxy Index(['Date', 'dxy'], dtype='object')\n",
            "hsi Index(['Date', 'hsi'], dtype='object')\n",
            "kospi Index(['Date', 'kospi'], dtype='object')\n",
            "nasdaq Index(['Date', 'nasdaq'], dtype='object')\n",
            "nifty Index(['Date', 'nifty'], dtype='object')\n",
            "nikkei Index(['Date', 'nikkei'], dtype='object')\n",
            "twse Index(['Date', 'twse'], dtype='object')\n",
            "usdinr Index(['Date', 'usdinr'], dtype='object')\n",
            "us_10 Index(['Date', 'us_10'], dtype='object')\n",
            "ftse Index(['Date', 'ftse'], dtype='object')\n",
            "sti Index(['Date', 'sti'], dtype='object')\n",
            "snp Index(['Date', 'snp'], dtype='object')\n"
          ],
          "name": "stdout"
        }
      ]
    },
    {
      "cell_type": "markdown",
      "metadata": {
        "id": "U8Anf0-LGGp2"
      },
      "source": [
        "Separating NIFTY into a new_df"
      ]
    },
    {
      "cell_type": "code",
      "metadata": {
        "id": "Pa2tWJ4KDAVq"
      },
      "source": [
        "new_df = pd.DataFrame(all_dfs['nifty'])"
      ],
      "execution_count": null,
      "outputs": []
    },
    {
      "cell_type": "markdown",
      "metadata": {
        "id": "g-EZYTJtGJ7z"
      },
      "source": [
        "Merging all dfs using left join on basis of Nifty dates "
      ]
    },
    {
      "cell_type": "code",
      "metadata": {
        "id": "XRclCp2v3tqD"
      },
      "source": [
        "for i in all_dfs:\n",
        "  if(i!='nifty'):\n",
        "    new_df = new_df.merge(all_dfs[i], on=\"Date\", how = 'left')\n"
      ],
      "execution_count": null,
      "outputs": []
    },
    {
      "cell_type": "code",
      "metadata": {
        "id": "HMzeHc6HdKr6",
        "colab": {
          "base_uri": "https://localhost:8080/",
          "height": 419
        },
        "outputId": "c5f0bad9-62f4-420d-ceab-5e0603bb75c7"
      },
      "source": [
        "new_df"
      ],
      "execution_count": null,
      "outputs": [
        {
          "output_type": "execute_result",
          "data": {
            "text/html": [
              "<div>\n",
              "<style scoped>\n",
              "    .dataframe tbody tr th:only-of-type {\n",
              "        vertical-align: middle;\n",
              "    }\n",
              "\n",
              "    .dataframe tbody tr th {\n",
              "        vertical-align: top;\n",
              "    }\n",
              "\n",
              "    .dataframe thead th {\n",
              "        text-align: right;\n",
              "    }\n",
              "</style>\n",
              "<table border=\"1\" class=\"dataframe\">\n",
              "  <thead>\n",
              "    <tr style=\"text-align: right;\">\n",
              "      <th></th>\n",
              "      <th>Date</th>\n",
              "      <th>nifty</th>\n",
              "      <th>dax</th>\n",
              "      <th>dji</th>\n",
              "      <th>dxy</th>\n",
              "      <th>hsi</th>\n",
              "      <th>kospi</th>\n",
              "      <th>nasdaq</th>\n",
              "      <th>nikkei</th>\n",
              "      <th>twse</th>\n",
              "      <th>usdinr</th>\n",
              "      <th>us_10</th>\n",
              "      <th>ftse</th>\n",
              "      <th>sti</th>\n",
              "      <th>snp</th>\n",
              "    </tr>\n",
              "  </thead>\n",
              "  <tbody>\n",
              "    <tr>\n",
              "      <th>0</th>\n",
              "      <td>2021-04-09</td>\n",
              "      <td>14834.85</td>\n",
              "      <td>NaN</td>\n",
              "      <td>33800.60</td>\n",
              "      <td>92.160004</td>\n",
              "      <td>28698.800781</td>\n",
              "      <td>3131.879883</td>\n",
              "      <td>13900.190430</td>\n",
              "      <td>29768.060547</td>\n",
              "      <td>16854.099609</td>\n",
              "      <td>74.7094</td>\n",
              "      <td>1.662</td>\n",
              "      <td>6915.75</td>\n",
              "      <td>3184.54</td>\n",
              "      <td>4128.80</td>\n",
              "    </tr>\n",
              "    <tr>\n",
              "      <th>1</th>\n",
              "      <td>2021-04-08</td>\n",
              "      <td>14873.80</td>\n",
              "      <td>15202.679688</td>\n",
              "      <td>33503.57</td>\n",
              "      <td>92.059998</td>\n",
              "      <td>29008.070313</td>\n",
              "      <td>3143.260010</td>\n",
              "      <td>13829.309570</td>\n",
              "      <td>29708.980469</td>\n",
              "      <td>16926.439453</td>\n",
              "      <td>74.6134</td>\n",
              "      <td>1.626</td>\n",
              "      <td>6942.22</td>\n",
              "      <td>3186.40</td>\n",
              "      <td>4097.17</td>\n",
              "    </tr>\n",
              "    <tr>\n",
              "      <th>2</th>\n",
              "      <td>2021-04-07</td>\n",
              "      <td>14819.05</td>\n",
              "      <td>15176.360352</td>\n",
              "      <td>33446.26</td>\n",
              "      <td>92.459999</td>\n",
              "      <td>28674.800781</td>\n",
              "      <td>3137.409912</td>\n",
              "      <td>13688.839844</td>\n",
              "      <td>29730.789063</td>\n",
              "      <td>16815.359375</td>\n",
              "      <td>74.3584</td>\n",
              "      <td>1.679</td>\n",
              "      <td>6885.32</td>\n",
              "      <td>3195.76</td>\n",
              "      <td>4079.95</td>\n",
              "    </tr>\n",
              "    <tr>\n",
              "      <th>3</th>\n",
              "      <td>2021-04-06</td>\n",
              "      <td>14683.50</td>\n",
              "      <td>15212.679688</td>\n",
              "      <td>33430.24</td>\n",
              "      <td>92.339996</td>\n",
              "      <td>NaN</td>\n",
              "      <td>3127.080078</td>\n",
              "      <td>13698.379883</td>\n",
              "      <td>29696.630859</td>\n",
              "      <td>NaN</td>\n",
              "      <td>73.3999</td>\n",
              "      <td>1.658</td>\n",
              "      <td>6823.55</td>\n",
              "      <td>3207.63</td>\n",
              "      <td>4073.94</td>\n",
              "    </tr>\n",
              "    <tr>\n",
              "      <th>4</th>\n",
              "      <td>2021-04-05</td>\n",
              "      <td>14637.80</td>\n",
              "      <td>NaN</td>\n",
              "      <td>33527.19</td>\n",
              "      <td>92.599998</td>\n",
              "      <td>NaN</td>\n",
              "      <td>3120.830078</td>\n",
              "      <td>13705.589844</td>\n",
              "      <td>30089.250000</td>\n",
              "      <td>NaN</td>\n",
              "      <td>73.4101</td>\n",
              "      <td>1.707</td>\n",
              "      <td>6737.30</td>\n",
              "      <td>3209.74</td>\n",
              "      <td>4077.91</td>\n",
              "    </tr>\n",
              "    <tr>\n",
              "      <th>...</th>\n",
              "      <td>...</td>\n",
              "      <td>...</td>\n",
              "      <td>...</td>\n",
              "      <td>...</td>\n",
              "      <td>...</td>\n",
              "      <td>...</td>\n",
              "      <td>...</td>\n",
              "      <td>...</td>\n",
              "      <td>...</td>\n",
              "      <td>...</td>\n",
              "      <td>...</td>\n",
              "      <td>...</td>\n",
              "      <td>...</td>\n",
              "      <td>...</td>\n",
              "      <td>...</td>\n",
              "    </tr>\n",
              "    <tr>\n",
              "      <th>5288</th>\n",
              "      <td>2000-01-07</td>\n",
              "      <td>1613.30</td>\n",
              "      <td>6780.959961</td>\n",
              "      <td>11522.56</td>\n",
              "      <td>100.800003</td>\n",
              "      <td>15405.629883</td>\n",
              "      <td>948.650024</td>\n",
              "      <td>3882.620117</td>\n",
              "      <td>18193.410156</td>\n",
              "      <td>8849.870117</td>\n",
              "      <td>0.0000</td>\n",
              "      <td>6.513</td>\n",
              "      <td>6504.75</td>\n",
              "      <td>2449.96</td>\n",
              "      <td>1441.47</td>\n",
              "    </tr>\n",
              "    <tr>\n",
              "      <th>5289</th>\n",
              "      <td>2000-01-06</td>\n",
              "      <td>1617.60</td>\n",
              "      <td>6474.919922</td>\n",
              "      <td>11253.26</td>\n",
              "      <td>100.650002</td>\n",
              "      <td>15153.230469</td>\n",
              "      <td>960.789978</td>\n",
              "      <td>3727.129883</td>\n",
              "      <td>18168.269531</td>\n",
              "      <td>8922.030273</td>\n",
              "      <td>0.0000</td>\n",
              "      <td>6.540</td>\n",
              "      <td>6447.24</td>\n",
              "      <td>2409.00</td>\n",
              "      <td>1403.45</td>\n",
              "    </tr>\n",
              "    <tr>\n",
              "      <th>5290</th>\n",
              "      <td>2000-01-05</td>\n",
              "      <td>1595.80</td>\n",
              "      <td>6502.069824</td>\n",
              "      <td>11122.65</td>\n",
              "      <td>100.379997</td>\n",
              "      <td>15846.719727</td>\n",
              "      <td>986.309998</td>\n",
              "      <td>3877.540039</td>\n",
              "      <td>18542.550781</td>\n",
              "      <td>8849.870117</td>\n",
              "      <td>0.0000</td>\n",
              "      <td>6.599</td>\n",
              "      <td>6535.90</td>\n",
              "      <td>2425.90</td>\n",
              "      <td>1402.11</td>\n",
              "    </tr>\n",
              "    <tr>\n",
              "      <th>5291</th>\n",
              "      <td>2000-01-04</td>\n",
              "      <td>1638.70</td>\n",
              "      <td>6586.950195</td>\n",
              "      <td>10997.93</td>\n",
              "      <td>100.410004</td>\n",
              "      <td>17072.820313</td>\n",
              "      <td>1059.040039</td>\n",
              "      <td>3901.689941</td>\n",
              "      <td>19002.859375</td>\n",
              "      <td>8756.549805</td>\n",
              "      <td>0.0000</td>\n",
              "      <td>6.499</td>\n",
              "      <td>6665.86</td>\n",
              "      <td>2549.01</td>\n",
              "      <td>1399.42</td>\n",
              "    </tr>\n",
              "    <tr>\n",
              "      <th>5292</th>\n",
              "      <td>2000-01-03</td>\n",
              "      <td>1592.20</td>\n",
              "      <td>6750.759766</td>\n",
              "      <td>11357.51</td>\n",
              "      <td>100.220001</td>\n",
              "      <td>17369.630859</td>\n",
              "      <td>NaN</td>\n",
              "      <td>4131.149902</td>\n",
              "      <td>NaN</td>\n",
              "      <td>NaN</td>\n",
              "      <td>0.0000</td>\n",
              "      <td>6.594</td>\n",
              "      <td>NaN</td>\n",
              "      <td>2608.48</td>\n",
              "      <td>1455.22</td>\n",
              "    </tr>\n",
              "  </tbody>\n",
              "</table>\n",
              "<p>5293 rows × 15 columns</p>\n",
              "</div>"
            ],
            "text/plain": [
              "           Date     nifty           dax  ...     ftse      sti      snp\n",
              "0    2021-04-09  14834.85           NaN  ...  6915.75  3184.54  4128.80\n",
              "1    2021-04-08  14873.80  15202.679688  ...  6942.22  3186.40  4097.17\n",
              "2    2021-04-07  14819.05  15176.360352  ...  6885.32  3195.76  4079.95\n",
              "3    2021-04-06  14683.50  15212.679688  ...  6823.55  3207.63  4073.94\n",
              "4    2021-04-05  14637.80           NaN  ...  6737.30  3209.74  4077.91\n",
              "...         ...       ...           ...  ...      ...      ...      ...\n",
              "5288 2000-01-07   1613.30   6780.959961  ...  6504.75  2449.96  1441.47\n",
              "5289 2000-01-06   1617.60   6474.919922  ...  6447.24  2409.00  1403.45\n",
              "5290 2000-01-05   1595.80   6502.069824  ...  6535.90  2425.90  1402.11\n",
              "5291 2000-01-04   1638.70   6586.950195  ...  6665.86  2549.01  1399.42\n",
              "5292 2000-01-03   1592.20   6750.759766  ...      NaN  2608.48  1455.22\n",
              "\n",
              "[5293 rows x 15 columns]"
            ]
          },
          "metadata": {
            "tags": []
          },
          "execution_count": 14
        }
      ]
    },
    {
      "cell_type": "code",
      "metadata": {
        "id": "cqOzqbuIcr7D"
      },
      "source": [
        "tech_ind = tech_ind.drop(columns=['Unnamed: 0'])"
      ],
      "execution_count": null,
      "outputs": []
    },
    {
      "cell_type": "code",
      "metadata": {
        "colab": {
          "base_uri": "https://localhost:8080/",
          "height": 796
        },
        "id": "Jy2PRQInjC9Q",
        "outputId": "b5c6952d-d459-4c1f-f4ef-210a58e88778"
      },
      "source": [
        "tech_ind"
      ],
      "execution_count": null,
      "outputs": [
        {
          "output_type": "execute_result",
          "data": {
            "text/html": [
              "<div>\n",
              "<style scoped>\n",
              "    .dataframe tbody tr th:only-of-type {\n",
              "        vertical-align: middle;\n",
              "    }\n",
              "\n",
              "    .dataframe tbody tr th {\n",
              "        vertical-align: top;\n",
              "    }\n",
              "\n",
              "    .dataframe thead th {\n",
              "        text-align: right;\n",
              "    }\n",
              "</style>\n",
              "<table border=\"1\" class=\"dataframe\">\n",
              "  <thead>\n",
              "    <tr style=\"text-align: right;\">\n",
              "      <th></th>\n",
              "      <th>Date</th>\n",
              "      <th>Close</th>\n",
              "      <th>High</th>\n",
              "      <th>Low</th>\n",
              "      <th>Open</th>\n",
              "      <th>daily_return</th>\n",
              "      <th>cum_daily_return</th>\n",
              "      <th>H-L</th>\n",
              "      <th>C-O</th>\n",
              "      <th>10day MA</th>\n",
              "      <th>50day MA</th>\n",
              "      <th>200day MA</th>\n",
              "      <th>rsi</th>\n",
              "      <th>ma7</th>\n",
              "      <th>ma21</th>\n",
              "      <th>ema_26</th>\n",
              "      <th>ema_12</th>\n",
              "      <th>macd</th>\n",
              "      <th>bb_high</th>\n",
              "      <th>bb_low</th>\n",
              "      <th>ema</th>\n",
              "      <th>momentum</th>\n",
              "    </tr>\n",
              "  </thead>\n",
              "  <tbody>\n",
              "    <tr>\n",
              "      <th>0</th>\n",
              "      <td>03 Jan 2000</td>\n",
              "      <td>1592.20</td>\n",
              "      <td>1592.90</td>\n",
              "      <td>1482.15</td>\n",
              "      <td>1482.15</td>\n",
              "      <td>0.000000</td>\n",
              "      <td>1.000000</td>\n",
              "      <td>110.75</td>\n",
              "      <td>110.05</td>\n",
              "      <td>0.000</td>\n",
              "      <td>0.000</td>\n",
              "      <td>0.00000</td>\n",
              "      <td>0.000000</td>\n",
              "      <td>0.000000</td>\n",
              "      <td>0.000000</td>\n",
              "      <td>1592.200000</td>\n",
              "      <td>1592.200000</td>\n",
              "      <td>0.000000</td>\n",
              "      <td>0.000000</td>\n",
              "      <td>0.000000</td>\n",
              "      <td>1592.200000</td>\n",
              "      <td>1591.20</td>\n",
              "    </tr>\n",
              "    <tr>\n",
              "      <th>1</th>\n",
              "      <td>04 Jan 2000</td>\n",
              "      <td>1638.70</td>\n",
              "      <td>1641.95</td>\n",
              "      <td>1594.40</td>\n",
              "      <td>1594.40</td>\n",
              "      <td>0.029205</td>\n",
              "      <td>1.029205</td>\n",
              "      <td>47.55</td>\n",
              "      <td>44.30</td>\n",
              "      <td>0.000</td>\n",
              "      <td>0.000</td>\n",
              "      <td>0.00000</td>\n",
              "      <td>0.000000</td>\n",
              "      <td>0.000000</td>\n",
              "      <td>0.000000</td>\n",
              "      <td>1616.344231</td>\n",
              "      <td>1617.387500</td>\n",
              "      <td>1.043269</td>\n",
              "      <td>0.000000</td>\n",
              "      <td>0.000000</td>\n",
              "      <td>1627.075000</td>\n",
              "      <td>1637.70</td>\n",
              "    </tr>\n",
              "    <tr>\n",
              "      <th>2</th>\n",
              "      <td>05 Jan 2000</td>\n",
              "      <td>1595.80</td>\n",
              "      <td>1635.50</td>\n",
              "      <td>1555.05</td>\n",
              "      <td>1634.55</td>\n",
              "      <td>-0.026179</td>\n",
              "      <td>1.002261</td>\n",
              "      <td>80.45</td>\n",
              "      <td>-38.75</td>\n",
              "      <td>0.000</td>\n",
              "      <td>0.000</td>\n",
              "      <td>0.00000</td>\n",
              "      <td>0.000000</td>\n",
              "      <td>0.000000</td>\n",
              "      <td>0.000000</td>\n",
              "      <td>1608.962888</td>\n",
              "      <td>1608.961894</td>\n",
              "      <td>-0.000994</td>\n",
              "      <td>0.000000</td>\n",
              "      <td>0.000000</td>\n",
              "      <td>1605.423077</td>\n",
              "      <td>1594.80</td>\n",
              "    </tr>\n",
              "    <tr>\n",
              "      <th>3</th>\n",
              "      <td>06 Jan 2000</td>\n",
              "      <td>1617.60</td>\n",
              "      <td>1639.00</td>\n",
              "      <td>1595.80</td>\n",
              "      <td>1595.80</td>\n",
              "      <td>0.013661</td>\n",
              "      <td>1.015953</td>\n",
              "      <td>43.20</td>\n",
              "      <td>21.80</td>\n",
              "      <td>0.000</td>\n",
              "      <td>0.000</td>\n",
              "      <td>0.00000</td>\n",
              "      <td>0.000000</td>\n",
              "      <td>0.000000</td>\n",
              "      <td>0.000000</td>\n",
              "      <td>1611.377447</td>\n",
              "      <td>1611.688606</td>\n",
              "      <td>0.311159</td>\n",
              "      <td>0.000000</td>\n",
              "      <td>0.000000</td>\n",
              "      <td>1613.642500</td>\n",
              "      <td>1616.60</td>\n",
              "    </tr>\n",
              "    <tr>\n",
              "      <th>4</th>\n",
              "      <td>07 Jan 2000</td>\n",
              "      <td>1613.30</td>\n",
              "      <td>1628.25</td>\n",
              "      <td>1597.20</td>\n",
              "      <td>1616.60</td>\n",
              "      <td>-0.002658</td>\n",
              "      <td>1.013252</td>\n",
              "      <td>31.05</td>\n",
              "      <td>-3.30</td>\n",
              "      <td>0.000</td>\n",
              "      <td>0.000</td>\n",
              "      <td>0.00000</td>\n",
              "      <td>0.000000</td>\n",
              "      <td>0.000000</td>\n",
              "      <td>0.000000</td>\n",
              "      <td>1611.823295</td>\n",
              "      <td>1612.126416</td>\n",
              "      <td>0.303121</td>\n",
              "      <td>0.000000</td>\n",
              "      <td>0.000000</td>\n",
              "      <td>1613.413223</td>\n",
              "      <td>1612.30</td>\n",
              "    </tr>\n",
              "    <tr>\n",
              "      <th>...</th>\n",
              "      <td>...</td>\n",
              "      <td>...</td>\n",
              "      <td>...</td>\n",
              "      <td>...</td>\n",
              "      <td>...</td>\n",
              "      <td>...</td>\n",
              "      <td>...</td>\n",
              "      <td>...</td>\n",
              "      <td>...</td>\n",
              "      <td>...</td>\n",
              "      <td>...</td>\n",
              "      <td>...</td>\n",
              "      <td>...</td>\n",
              "      <td>...</td>\n",
              "      <td>...</td>\n",
              "      <td>...</td>\n",
              "      <td>...</td>\n",
              "      <td>...</td>\n",
              "      <td>...</td>\n",
              "      <td>...</td>\n",
              "      <td>...</td>\n",
              "      <td>...</td>\n",
              "    </tr>\n",
              "    <tr>\n",
              "      <th>5288</th>\n",
              "      <td>05 Apr 2021</td>\n",
              "      <td>14637.80</td>\n",
              "      <td>14849.85</td>\n",
              "      <td>14459.50</td>\n",
              "      <td>14837.70</td>\n",
              "      <td>-0.015440</td>\n",
              "      <td>9.193443</td>\n",
              "      <td>390.35</td>\n",
              "      <td>-199.90</td>\n",
              "      <td>14663.775</td>\n",
              "      <td>14786.559</td>\n",
              "      <td>12697.13850</td>\n",
              "      <td>47.189889</td>\n",
              "      <td>14631.792857</td>\n",
              "      <td>14826.742857</td>\n",
              "      <td>14763.131021</td>\n",
              "      <td>14719.366878</td>\n",
              "      <td>-43.764142</td>\n",
              "      <td>15297.678945</td>\n",
              "      <td>14355.806769</td>\n",
              "      <td>14695.902317</td>\n",
              "      <td>14636.80</td>\n",
              "    </tr>\n",
              "    <tr>\n",
              "      <th>5289</th>\n",
              "      <td>06 Apr 2021</td>\n",
              "      <td>14683.50</td>\n",
              "      <td>14779.10</td>\n",
              "      <td>14573.90</td>\n",
              "      <td>14737.00</td>\n",
              "      <td>0.003122</td>\n",
              "      <td>9.222145</td>\n",
              "      <td>205.20</td>\n",
              "      <td>-53.50</td>\n",
              "      <td>14671.770</td>\n",
              "      <td>14788.892</td>\n",
              "      <td>12719.86925</td>\n",
              "      <td>48.256235</td>\n",
              "      <td>14650.950000</td>\n",
              "      <td>14799.976190</td>\n",
              "      <td>14757.232426</td>\n",
              "      <td>14713.848897</td>\n",
              "      <td>-43.383529</td>\n",
              "      <td>15233.320318</td>\n",
              "      <td>14366.632063</td>\n",
              "      <td>14687.634106</td>\n",
              "      <td>14682.50</td>\n",
              "    </tr>\n",
              "    <tr>\n",
              "      <th>5290</th>\n",
              "      <td>07 Apr 2021</td>\n",
              "      <td>14819.05</td>\n",
              "      <td>14879.80</td>\n",
              "      <td>14649.85</td>\n",
              "      <td>14716.45</td>\n",
              "      <td>0.009231</td>\n",
              "      <td>9.307279</td>\n",
              "      <td>229.95</td>\n",
              "      <td>102.60</td>\n",
              "      <td>14665.720</td>\n",
              "      <td>14789.668</td>\n",
              "      <td>12742.06475</td>\n",
              "      <td>51.391409</td>\n",
              "      <td>14721.542857</td>\n",
              "      <td>14787.514286</td>\n",
              "      <td>14761.811506</td>\n",
              "      <td>14730.033682</td>\n",
              "      <td>-31.777824</td>\n",
              "      <td>15201.568451</td>\n",
              "      <td>14373.460120</td>\n",
              "      <td>14775.244702</td>\n",
              "      <td>14818.05</td>\n",
              "    </tr>\n",
              "    <tr>\n",
              "      <th>5291</th>\n",
              "      <td>08 Apr 2021</td>\n",
              "      <td>14873.80</td>\n",
              "      <td>14984.15</td>\n",
              "      <td>14821.10</td>\n",
              "      <td>14875.65</td>\n",
              "      <td>0.003695</td>\n",
              "      <td>9.341666</td>\n",
              "      <td>163.05</td>\n",
              "      <td>-1.85</td>\n",
              "      <td>14673.985</td>\n",
              "      <td>14794.242</td>\n",
              "      <td>12764.60400</td>\n",
              "      <td>52.639621</td>\n",
              "      <td>14773.900000</td>\n",
              "      <td>14784.452381</td>\n",
              "      <td>14770.106950</td>\n",
              "      <td>14752.151577</td>\n",
              "      <td>-17.955373</td>\n",
              "      <td>15194.763616</td>\n",
              "      <td>14374.141146</td>\n",
              "      <td>14840.948234</td>\n",
              "      <td>14872.80</td>\n",
              "    </tr>\n",
              "    <tr>\n",
              "      <th>5292</th>\n",
              "      <td>09 Apr 2021</td>\n",
              "      <td>14834.85</td>\n",
              "      <td>14918.45</td>\n",
              "      <td>14785.65</td>\n",
              "      <td>14882.65</td>\n",
              "      <td>-0.002619</td>\n",
              "      <td>9.317203</td>\n",
              "      <td>132.80</td>\n",
              "      <td>-47.80</td>\n",
              "      <td>14679.890</td>\n",
              "      <td>14804.280</td>\n",
              "      <td>12786.61800</td>\n",
              "      <td>51.623992</td>\n",
              "      <td>14772.435714</td>\n",
              "      <td>14778.673810</td>\n",
              "      <td>14774.902731</td>\n",
              "      <td>14764.874412</td>\n",
              "      <td>-10.028320</td>\n",
              "      <td>15182.187872</td>\n",
              "      <td>14375.159747</td>\n",
              "      <td>14836.882745</td>\n",
              "      <td>14833.85</td>\n",
              "    </tr>\n",
              "  </tbody>\n",
              "</table>\n",
              "<p>5293 rows × 22 columns</p>\n",
              "</div>"
            ],
            "text/plain": [
              "             Date     Close      High  ...        bb_low           ema  momentum\n",
              "0     03 Jan 2000   1592.20   1592.90  ...      0.000000   1592.200000   1591.20\n",
              "1     04 Jan 2000   1638.70   1641.95  ...      0.000000   1627.075000   1637.70\n",
              "2     05 Jan 2000   1595.80   1635.50  ...      0.000000   1605.423077   1594.80\n",
              "3     06 Jan 2000   1617.60   1639.00  ...      0.000000   1613.642500   1616.60\n",
              "4     07 Jan 2000   1613.30   1628.25  ...      0.000000   1613.413223   1612.30\n",
              "...           ...       ...       ...  ...           ...           ...       ...\n",
              "5288  05 Apr 2021  14637.80  14849.85  ...  14355.806769  14695.902317  14636.80\n",
              "5289  06 Apr 2021  14683.50  14779.10  ...  14366.632063  14687.634106  14682.50\n",
              "5290  07 Apr 2021  14819.05  14879.80  ...  14373.460120  14775.244702  14818.05\n",
              "5291  08 Apr 2021  14873.80  14984.15  ...  14374.141146  14840.948234  14872.80\n",
              "5292  09 Apr 2021  14834.85  14918.45  ...  14375.159747  14836.882745  14833.85\n",
              "\n",
              "[5293 rows x 22 columns]"
            ]
          },
          "metadata": {
            "tags": []
          },
          "execution_count": 16
        }
      ]
    },
    {
      "cell_type": "code",
      "metadata": {
        "colab": {
          "base_uri": "https://localhost:8080/",
          "height": 419
        },
        "id": "v45h9zpNkyP7",
        "outputId": "0b58299f-4236-471b-97fa-c47628d89230"
      },
      "source": [
        "new_df"
      ],
      "execution_count": null,
      "outputs": [
        {
          "output_type": "execute_result",
          "data": {
            "text/html": [
              "<div>\n",
              "<style scoped>\n",
              "    .dataframe tbody tr th:only-of-type {\n",
              "        vertical-align: middle;\n",
              "    }\n",
              "\n",
              "    .dataframe tbody tr th {\n",
              "        vertical-align: top;\n",
              "    }\n",
              "\n",
              "    .dataframe thead th {\n",
              "        text-align: right;\n",
              "    }\n",
              "</style>\n",
              "<table border=\"1\" class=\"dataframe\">\n",
              "  <thead>\n",
              "    <tr style=\"text-align: right;\">\n",
              "      <th></th>\n",
              "      <th>Date</th>\n",
              "      <th>nifty</th>\n",
              "      <th>dax</th>\n",
              "      <th>dji</th>\n",
              "      <th>dxy</th>\n",
              "      <th>hsi</th>\n",
              "      <th>kospi</th>\n",
              "      <th>nasdaq</th>\n",
              "      <th>nikkei</th>\n",
              "      <th>twse</th>\n",
              "      <th>usdinr</th>\n",
              "      <th>us_10</th>\n",
              "      <th>ftse</th>\n",
              "      <th>sti</th>\n",
              "      <th>snp</th>\n",
              "    </tr>\n",
              "  </thead>\n",
              "  <tbody>\n",
              "    <tr>\n",
              "      <th>0</th>\n",
              "      <td>2021-04-09</td>\n",
              "      <td>14834.85</td>\n",
              "      <td>NaN</td>\n",
              "      <td>33800.60</td>\n",
              "      <td>92.160004</td>\n",
              "      <td>28698.800781</td>\n",
              "      <td>3131.879883</td>\n",
              "      <td>13900.190430</td>\n",
              "      <td>29768.060547</td>\n",
              "      <td>16854.099609</td>\n",
              "      <td>74.7094</td>\n",
              "      <td>1.662</td>\n",
              "      <td>6915.75</td>\n",
              "      <td>3184.54</td>\n",
              "      <td>4128.80</td>\n",
              "    </tr>\n",
              "    <tr>\n",
              "      <th>1</th>\n",
              "      <td>2021-04-08</td>\n",
              "      <td>14873.80</td>\n",
              "      <td>15202.679688</td>\n",
              "      <td>33503.57</td>\n",
              "      <td>92.059998</td>\n",
              "      <td>29008.070313</td>\n",
              "      <td>3143.260010</td>\n",
              "      <td>13829.309570</td>\n",
              "      <td>29708.980469</td>\n",
              "      <td>16926.439453</td>\n",
              "      <td>74.6134</td>\n",
              "      <td>1.626</td>\n",
              "      <td>6942.22</td>\n",
              "      <td>3186.40</td>\n",
              "      <td>4097.17</td>\n",
              "    </tr>\n",
              "    <tr>\n",
              "      <th>2</th>\n",
              "      <td>2021-04-07</td>\n",
              "      <td>14819.05</td>\n",
              "      <td>15176.360352</td>\n",
              "      <td>33446.26</td>\n",
              "      <td>92.459999</td>\n",
              "      <td>28674.800781</td>\n",
              "      <td>3137.409912</td>\n",
              "      <td>13688.839844</td>\n",
              "      <td>29730.789063</td>\n",
              "      <td>16815.359375</td>\n",
              "      <td>74.3584</td>\n",
              "      <td>1.679</td>\n",
              "      <td>6885.32</td>\n",
              "      <td>3195.76</td>\n",
              "      <td>4079.95</td>\n",
              "    </tr>\n",
              "    <tr>\n",
              "      <th>3</th>\n",
              "      <td>2021-04-06</td>\n",
              "      <td>14683.50</td>\n",
              "      <td>15212.679688</td>\n",
              "      <td>33430.24</td>\n",
              "      <td>92.339996</td>\n",
              "      <td>NaN</td>\n",
              "      <td>3127.080078</td>\n",
              "      <td>13698.379883</td>\n",
              "      <td>29696.630859</td>\n",
              "      <td>NaN</td>\n",
              "      <td>73.3999</td>\n",
              "      <td>1.658</td>\n",
              "      <td>6823.55</td>\n",
              "      <td>3207.63</td>\n",
              "      <td>4073.94</td>\n",
              "    </tr>\n",
              "    <tr>\n",
              "      <th>4</th>\n",
              "      <td>2021-04-05</td>\n",
              "      <td>14637.80</td>\n",
              "      <td>NaN</td>\n",
              "      <td>33527.19</td>\n",
              "      <td>92.599998</td>\n",
              "      <td>NaN</td>\n",
              "      <td>3120.830078</td>\n",
              "      <td>13705.589844</td>\n",
              "      <td>30089.250000</td>\n",
              "      <td>NaN</td>\n",
              "      <td>73.4101</td>\n",
              "      <td>1.707</td>\n",
              "      <td>6737.30</td>\n",
              "      <td>3209.74</td>\n",
              "      <td>4077.91</td>\n",
              "    </tr>\n",
              "    <tr>\n",
              "      <th>...</th>\n",
              "      <td>...</td>\n",
              "      <td>...</td>\n",
              "      <td>...</td>\n",
              "      <td>...</td>\n",
              "      <td>...</td>\n",
              "      <td>...</td>\n",
              "      <td>...</td>\n",
              "      <td>...</td>\n",
              "      <td>...</td>\n",
              "      <td>...</td>\n",
              "      <td>...</td>\n",
              "      <td>...</td>\n",
              "      <td>...</td>\n",
              "      <td>...</td>\n",
              "      <td>...</td>\n",
              "    </tr>\n",
              "    <tr>\n",
              "      <th>5288</th>\n",
              "      <td>2000-01-07</td>\n",
              "      <td>1613.30</td>\n",
              "      <td>6780.959961</td>\n",
              "      <td>11522.56</td>\n",
              "      <td>100.800003</td>\n",
              "      <td>15405.629883</td>\n",
              "      <td>948.650024</td>\n",
              "      <td>3882.620117</td>\n",
              "      <td>18193.410156</td>\n",
              "      <td>8849.870117</td>\n",
              "      <td>0.0000</td>\n",
              "      <td>6.513</td>\n",
              "      <td>6504.75</td>\n",
              "      <td>2449.96</td>\n",
              "      <td>1441.47</td>\n",
              "    </tr>\n",
              "    <tr>\n",
              "      <th>5289</th>\n",
              "      <td>2000-01-06</td>\n",
              "      <td>1617.60</td>\n",
              "      <td>6474.919922</td>\n",
              "      <td>11253.26</td>\n",
              "      <td>100.650002</td>\n",
              "      <td>15153.230469</td>\n",
              "      <td>960.789978</td>\n",
              "      <td>3727.129883</td>\n",
              "      <td>18168.269531</td>\n",
              "      <td>8922.030273</td>\n",
              "      <td>0.0000</td>\n",
              "      <td>6.540</td>\n",
              "      <td>6447.24</td>\n",
              "      <td>2409.00</td>\n",
              "      <td>1403.45</td>\n",
              "    </tr>\n",
              "    <tr>\n",
              "      <th>5290</th>\n",
              "      <td>2000-01-05</td>\n",
              "      <td>1595.80</td>\n",
              "      <td>6502.069824</td>\n",
              "      <td>11122.65</td>\n",
              "      <td>100.379997</td>\n",
              "      <td>15846.719727</td>\n",
              "      <td>986.309998</td>\n",
              "      <td>3877.540039</td>\n",
              "      <td>18542.550781</td>\n",
              "      <td>8849.870117</td>\n",
              "      <td>0.0000</td>\n",
              "      <td>6.599</td>\n",
              "      <td>6535.90</td>\n",
              "      <td>2425.90</td>\n",
              "      <td>1402.11</td>\n",
              "    </tr>\n",
              "    <tr>\n",
              "      <th>5291</th>\n",
              "      <td>2000-01-04</td>\n",
              "      <td>1638.70</td>\n",
              "      <td>6586.950195</td>\n",
              "      <td>10997.93</td>\n",
              "      <td>100.410004</td>\n",
              "      <td>17072.820313</td>\n",
              "      <td>1059.040039</td>\n",
              "      <td>3901.689941</td>\n",
              "      <td>19002.859375</td>\n",
              "      <td>8756.549805</td>\n",
              "      <td>0.0000</td>\n",
              "      <td>6.499</td>\n",
              "      <td>6665.86</td>\n",
              "      <td>2549.01</td>\n",
              "      <td>1399.42</td>\n",
              "    </tr>\n",
              "    <tr>\n",
              "      <th>5292</th>\n",
              "      <td>2000-01-03</td>\n",
              "      <td>1592.20</td>\n",
              "      <td>6750.759766</td>\n",
              "      <td>11357.51</td>\n",
              "      <td>100.220001</td>\n",
              "      <td>17369.630859</td>\n",
              "      <td>NaN</td>\n",
              "      <td>4131.149902</td>\n",
              "      <td>NaN</td>\n",
              "      <td>NaN</td>\n",
              "      <td>0.0000</td>\n",
              "      <td>6.594</td>\n",
              "      <td>NaN</td>\n",
              "      <td>2608.48</td>\n",
              "      <td>1455.22</td>\n",
              "    </tr>\n",
              "  </tbody>\n",
              "</table>\n",
              "<p>5293 rows × 15 columns</p>\n",
              "</div>"
            ],
            "text/plain": [
              "           Date     nifty           dax  ...     ftse      sti      snp\n",
              "0    2021-04-09  14834.85           NaN  ...  6915.75  3184.54  4128.80\n",
              "1    2021-04-08  14873.80  15202.679688  ...  6942.22  3186.40  4097.17\n",
              "2    2021-04-07  14819.05  15176.360352  ...  6885.32  3195.76  4079.95\n",
              "3    2021-04-06  14683.50  15212.679688  ...  6823.55  3207.63  4073.94\n",
              "4    2021-04-05  14637.80           NaN  ...  6737.30  3209.74  4077.91\n",
              "...         ...       ...           ...  ...      ...      ...      ...\n",
              "5288 2000-01-07   1613.30   6780.959961  ...  6504.75  2449.96  1441.47\n",
              "5289 2000-01-06   1617.60   6474.919922  ...  6447.24  2409.00  1403.45\n",
              "5290 2000-01-05   1595.80   6502.069824  ...  6535.90  2425.90  1402.11\n",
              "5291 2000-01-04   1638.70   6586.950195  ...  6665.86  2549.01  1399.42\n",
              "5292 2000-01-03   1592.20   6750.759766  ...      NaN  2608.48  1455.22\n",
              "\n",
              "[5293 rows x 15 columns]"
            ]
          },
          "metadata": {
            "tags": []
          },
          "execution_count": 17
        }
      ]
    },
    {
      "cell_type": "code",
      "metadata": {
        "id": "nX4Q-4wXGBcj"
      },
      "source": [
        "tech_ind['Date'] =  pd.to_datetime(tech_ind['Date'])"
      ],
      "execution_count": null,
      "outputs": []
    },
    {
      "cell_type": "code",
      "metadata": {
        "id": "EXOxpvEbcWn5"
      },
      "source": [
        "final_df = tech_ind.merge(new_df,on='Date',how='inner')\n",
        "# final_df = pd.concat([tech_ind,new_df],axis=1,join='outer')"
      ],
      "execution_count": null,
      "outputs": []
    },
    {
      "cell_type": "code",
      "metadata": {
        "id": "12FUqYNIluNh"
      },
      "source": [
        "new_df=final_df"
      ],
      "execution_count": null,
      "outputs": []
    },
    {
      "cell_type": "markdown",
      "metadata": {
        "id": "_7xAgRUIGWDd"
      },
      "source": [
        "## 4. Preparing data for LSTM"
      ]
    },
    {
      "cell_type": "markdown",
      "metadata": {
        "id": "EwPqevcnGu24"
      },
      "source": [
        "Drop date column as it is not a feature to train the LSTM on"
      ]
    },
    {
      "cell_type": "code",
      "metadata": {
        "id": "klmiO8Le4EpB"
      },
      "source": [
        "new_df_copy = new_df.drop(columns = 'Date')"
      ],
      "execution_count": null,
      "outputs": []
    },
    {
      "cell_type": "markdown",
      "metadata": {
        "id": "uyuqWA9oG3G-"
      },
      "source": [
        "Converting all columns values to float64"
      ]
    },
    {
      "cell_type": "code",
      "metadata": {
        "id": "HvJhlWWYFif6"
      },
      "source": [
        "# import numpy as np\n",
        "# new_df_copy['dax'] = new_df_copy['dax'].str.replace(',','').astype(np.float64)\n",
        "# new_df_copy['dji'] = new_df_copy['dji'].str.replace(',','').astype(np.float64)\n",
        "# new_df_copy['twse'] = new_df_copy['twse'].str.replace(',','').astype(np.float64)\n"
      ],
      "execution_count": null,
      "outputs": []
    },
    {
      "cell_type": "code",
      "metadata": {
        "colab": {
          "base_uri": "https://localhost:8080/"
        },
        "id": "6glwCH7wIJTd",
        "outputId": "d8729937-0fb7-46db-b5fd-6701d00e6a5a"
      },
      "source": [
        "print(new_df_copy.dtypes)\n",
        "print(\"Number of days: {}\".format(new_df_copy.shape[0]))"
      ],
      "execution_count": null,
      "outputs": [
        {
          "output_type": "stream",
          "text": [
            "Close               float64\n",
            "High                float64\n",
            "Low                 float64\n",
            "Open                float64\n",
            "daily_return        float64\n",
            "cum_daily_return    float64\n",
            "H-L                 float64\n",
            "C-O                 float64\n",
            "10day MA            float64\n",
            "50day MA            float64\n",
            "200day MA           float64\n",
            "rsi                 float64\n",
            "ma7                 float64\n",
            "ma21                float64\n",
            "ema_26              float64\n",
            "ema_12              float64\n",
            "macd                float64\n",
            "bb_high             float64\n",
            "bb_low              float64\n",
            "ema                 float64\n",
            "momentum            float64\n",
            "nifty               float64\n",
            "dax                 float64\n",
            "dji                 float64\n",
            "dxy                 float64\n",
            "hsi                 float64\n",
            "kospi               float64\n",
            "nasdaq              float64\n",
            "nikkei              float64\n",
            "twse                float64\n",
            "usdinr              float64\n",
            "us_10               float64\n",
            "ftse                float64\n",
            "sti                 float64\n",
            "snp                 float64\n",
            "dtype: object\n",
            "Number of days: 5293\n"
          ],
          "name": "stdout"
        }
      ]
    },
    {
      "cell_type": "markdown",
      "metadata": {
        "id": "ezM1RK-bG8bc"
      },
      "source": [
        "### Handling NaN values"
      ]
    },
    {
      "cell_type": "code",
      "metadata": {
        "colab": {
          "base_uri": "https://localhost:8080/"
        },
        "id": "ikao3K6LCL7r",
        "outputId": "8d404b3e-a655-4911-8609-1cfe6250e0b4"
      },
      "source": [
        "print(new_df_copy.info())\n",
        "print('\\n')\n",
        "print(new_df_copy.isnull().sum())"
      ],
      "execution_count": null,
      "outputs": [
        {
          "output_type": "stream",
          "text": [
            "<class 'pandas.core.frame.DataFrame'>\n",
            "Int64Index: 5293 entries, 0 to 5292\n",
            "Data columns (total 35 columns):\n",
            " #   Column            Non-Null Count  Dtype  \n",
            "---  ------            --------------  -----  \n",
            " 0   Close             5293 non-null   float64\n",
            " 1   High              5293 non-null   float64\n",
            " 2   Low               5293 non-null   float64\n",
            " 3   Open              5293 non-null   float64\n",
            " 4   daily_return      5293 non-null   float64\n",
            " 5   cum_daily_return  5293 non-null   float64\n",
            " 6   H-L               5293 non-null   float64\n",
            " 7   C-O               5293 non-null   float64\n",
            " 8   10day MA          5293 non-null   float64\n",
            " 9   50day MA          5293 non-null   float64\n",
            " 10  200day MA         5293 non-null   float64\n",
            " 11  rsi               5293 non-null   float64\n",
            " 12  ma7               5293 non-null   float64\n",
            " 13  ma21              5293 non-null   float64\n",
            " 14  ema_26            5293 non-null   float64\n",
            " 15  ema_12            5293 non-null   float64\n",
            " 16  macd              5293 non-null   float64\n",
            " 17  bb_high           5293 non-null   float64\n",
            " 18  bb_low            5293 non-null   float64\n",
            " 19  ema               5293 non-null   float64\n",
            " 20  momentum          5293 non-null   float64\n",
            " 21  nifty             5293 non-null   float64\n",
            " 22  dax               5170 non-null   float64\n",
            " 23  dji               5117 non-null   float64\n",
            " 24  dxy               5112 non-null   float64\n",
            " 25  hsi               5024 non-null   float64\n",
            " 26  kospi             5021 non-null   float64\n",
            " 27  nasdaq            5115 non-null   float64\n",
            " 28  nikkei            4943 non-null   float64\n",
            " 29  twse              4979 non-null   float64\n",
            " 30  usdinr            5293 non-null   float64\n",
            " 31  us_10             5201 non-null   float64\n",
            " 32  ftse              5208 non-null   float64\n",
            " 33  sti               5136 non-null   float64\n",
            " 34  snp               5115 non-null   float64\n",
            "dtypes: float64(35)\n",
            "memory usage: 1.5 MB\n",
            "None\n",
            "\n",
            "\n",
            "Close                 0\n",
            "High                  0\n",
            "Low                   0\n",
            "Open                  0\n",
            "daily_return          0\n",
            "cum_daily_return      0\n",
            "H-L                   0\n",
            "C-O                   0\n",
            "10day MA              0\n",
            "50day MA              0\n",
            "200day MA             0\n",
            "rsi                   0\n",
            "ma7                   0\n",
            "ma21                  0\n",
            "ema_26                0\n",
            "ema_12                0\n",
            "macd                  0\n",
            "bb_high               0\n",
            "bb_low                0\n",
            "ema                   0\n",
            "momentum              0\n",
            "nifty                 0\n",
            "dax                 123\n",
            "dji                 176\n",
            "dxy                 181\n",
            "hsi                 269\n",
            "kospi               272\n",
            "nasdaq              178\n",
            "nikkei              350\n",
            "twse                314\n",
            "usdinr                0\n",
            "us_10                92\n",
            "ftse                 85\n",
            "sti                 157\n",
            "snp                 178\n",
            "dtype: int64\n"
          ],
          "name": "stdout"
        }
      ]
    },
    {
      "cell_type": "markdown",
      "metadata": {
        "id": "fUTnD_0YCptO"
      },
      "source": [
        "1. Fill NaN values with mean"
      ]
    },
    {
      "cell_type": "code",
      "metadata": {
        "id": "GwNa44ZB7ULI"
      },
      "source": [
        "# for i in new_df_copy.columns:\n",
        "#   column_mean = new_df_copy[i].mean()\n",
        "#   new_df_copy = new_df_copy.fillna(column_mean)"
      ],
      "execution_count": null,
      "outputs": []
    },
    {
      "cell_type": "markdown",
      "metadata": {
        "id": "DD2X7PC3Cvr2"
      },
      "source": [
        "2. Fill NaN values with padding"
      ]
    },
    {
      "cell_type": "code",
      "metadata": {
        "colab": {
          "base_uri": "https://localhost:8080/"
        },
        "id": "zQItF9XgCty-",
        "outputId": "ddcb8c03-4cc7-45dd-c1b2-196f98a7cd59"
      },
      "source": [
        "new_df_copy = new_df_copy.fillna(method ='pad') # filling the missing values with previous ones \n",
        "print (new_df_copy.isnull().sum())"
      ],
      "execution_count": null,
      "outputs": [
        {
          "output_type": "stream",
          "text": [
            "Close               0\n",
            "High                0\n",
            "Low                 0\n",
            "Open                0\n",
            "daily_return        0\n",
            "cum_daily_return    0\n",
            "H-L                 0\n",
            "C-O                 0\n",
            "10day MA            0\n",
            "50day MA            0\n",
            "200day MA           0\n",
            "rsi                 0\n",
            "ma7                 0\n",
            "ma21                0\n",
            "ema_26              0\n",
            "ema_12              0\n",
            "macd                0\n",
            "bb_high             0\n",
            "bb_low              0\n",
            "ema                 0\n",
            "momentum            0\n",
            "nifty               0\n",
            "dax                 0\n",
            "dji                 0\n",
            "dxy                 0\n",
            "hsi                 0\n",
            "kospi               1\n",
            "nasdaq              0\n",
            "nikkei              1\n",
            "twse                1\n",
            "usdinr              0\n",
            "us_10               0\n",
            "ftse                1\n",
            "sti                 0\n",
            "snp                 0\n",
            "dtype: int64\n"
          ],
          "name": "stdout"
        }
      ]
    },
    {
      "cell_type": "code",
      "metadata": {
        "id": "NrTlnU6XbJTs"
      },
      "source": [
        "# Drop first row of dataframe\n",
        "new_df_copy = new_df_copy.drop(axis=0,index=0)"
      ],
      "execution_count": null,
      "outputs": []
    },
    {
      "cell_type": "code",
      "metadata": {
        "id": "LzsDm4ZSIrHz"
      },
      "source": [
        "new_df_copy.drop(columns = 'nifty',inplace=True)"
      ],
      "execution_count": null,
      "outputs": []
    },
    {
      "cell_type": "code",
      "metadata": {
        "colab": {
          "base_uri": "https://localhost:8080/",
          "height": 456
        },
        "id": "nAJ186mnJY-Z",
        "outputId": "233d322f-9453-4b26-dc76-b17328ea6207"
      },
      "source": [
        "new_df_copy"
      ],
      "execution_count": null,
      "outputs": [
        {
          "output_type": "execute_result",
          "data": {
            "text/html": [
              "<div>\n",
              "<style scoped>\n",
              "    .dataframe tbody tr th:only-of-type {\n",
              "        vertical-align: middle;\n",
              "    }\n",
              "\n",
              "    .dataframe tbody tr th {\n",
              "        vertical-align: top;\n",
              "    }\n",
              "\n",
              "    .dataframe thead th {\n",
              "        text-align: right;\n",
              "    }\n",
              "</style>\n",
              "<table border=\"1\" class=\"dataframe\">\n",
              "  <thead>\n",
              "    <tr style=\"text-align: right;\">\n",
              "      <th></th>\n",
              "      <th>Close</th>\n",
              "      <th>High</th>\n",
              "      <th>Low</th>\n",
              "      <th>Open</th>\n",
              "      <th>daily_return</th>\n",
              "      <th>cum_daily_return</th>\n",
              "      <th>H-L</th>\n",
              "      <th>C-O</th>\n",
              "      <th>10day MA</th>\n",
              "      <th>50day MA</th>\n",
              "      <th>200day MA</th>\n",
              "      <th>rsi</th>\n",
              "      <th>ma7</th>\n",
              "      <th>ma21</th>\n",
              "      <th>ema_26</th>\n",
              "      <th>ema_12</th>\n",
              "      <th>macd</th>\n",
              "      <th>bb_high</th>\n",
              "      <th>bb_low</th>\n",
              "      <th>ema</th>\n",
              "      <th>momentum</th>\n",
              "      <th>dax</th>\n",
              "      <th>dji</th>\n",
              "      <th>dxy</th>\n",
              "      <th>hsi</th>\n",
              "      <th>kospi</th>\n",
              "      <th>nasdaq</th>\n",
              "      <th>nikkei</th>\n",
              "      <th>twse</th>\n",
              "      <th>usdinr</th>\n",
              "      <th>us_10</th>\n",
              "      <th>ftse</th>\n",
              "      <th>sti</th>\n",
              "      <th>snp</th>\n",
              "    </tr>\n",
              "  </thead>\n",
              "  <tbody>\n",
              "    <tr>\n",
              "      <th>1</th>\n",
              "      <td>1638.70</td>\n",
              "      <td>1641.95</td>\n",
              "      <td>1594.40</td>\n",
              "      <td>1594.40</td>\n",
              "      <td>0.029205</td>\n",
              "      <td>1.029205</td>\n",
              "      <td>47.55</td>\n",
              "      <td>44.30</td>\n",
              "      <td>0.000</td>\n",
              "      <td>0.000</td>\n",
              "      <td>0.00000</td>\n",
              "      <td>0.000000</td>\n",
              "      <td>0.000000</td>\n",
              "      <td>0.000000</td>\n",
              "      <td>1616.344231</td>\n",
              "      <td>1617.387500</td>\n",
              "      <td>1.043269</td>\n",
              "      <td>0.000000</td>\n",
              "      <td>0.000000</td>\n",
              "      <td>1627.075000</td>\n",
              "      <td>1637.70</td>\n",
              "      <td>6586.950195</td>\n",
              "      <td>10997.93</td>\n",
              "      <td>100.410004</td>\n",
              "      <td>17072.820313</td>\n",
              "      <td>1059.040039</td>\n",
              "      <td>3901.689941</td>\n",
              "      <td>19002.859375</td>\n",
              "      <td>8756.549805</td>\n",
              "      <td>0.0000</td>\n",
              "      <td>6.499</td>\n",
              "      <td>6665.86</td>\n",
              "      <td>2549.01</td>\n",
              "      <td>1399.42</td>\n",
              "    </tr>\n",
              "    <tr>\n",
              "      <th>2</th>\n",
              "      <td>1595.80</td>\n",
              "      <td>1635.50</td>\n",
              "      <td>1555.05</td>\n",
              "      <td>1634.55</td>\n",
              "      <td>-0.026179</td>\n",
              "      <td>1.002261</td>\n",
              "      <td>80.45</td>\n",
              "      <td>-38.75</td>\n",
              "      <td>0.000</td>\n",
              "      <td>0.000</td>\n",
              "      <td>0.00000</td>\n",
              "      <td>0.000000</td>\n",
              "      <td>0.000000</td>\n",
              "      <td>0.000000</td>\n",
              "      <td>1608.962888</td>\n",
              "      <td>1608.961894</td>\n",
              "      <td>-0.000994</td>\n",
              "      <td>0.000000</td>\n",
              "      <td>0.000000</td>\n",
              "      <td>1605.423077</td>\n",
              "      <td>1594.80</td>\n",
              "      <td>6502.069824</td>\n",
              "      <td>11122.65</td>\n",
              "      <td>100.379997</td>\n",
              "      <td>15846.719727</td>\n",
              "      <td>986.309998</td>\n",
              "      <td>3877.540039</td>\n",
              "      <td>18542.550781</td>\n",
              "      <td>8849.870117</td>\n",
              "      <td>0.0000</td>\n",
              "      <td>6.599</td>\n",
              "      <td>6535.90</td>\n",
              "      <td>2425.90</td>\n",
              "      <td>1402.11</td>\n",
              "    </tr>\n",
              "    <tr>\n",
              "      <th>3</th>\n",
              "      <td>1617.60</td>\n",
              "      <td>1639.00</td>\n",
              "      <td>1595.80</td>\n",
              "      <td>1595.80</td>\n",
              "      <td>0.013661</td>\n",
              "      <td>1.015953</td>\n",
              "      <td>43.20</td>\n",
              "      <td>21.80</td>\n",
              "      <td>0.000</td>\n",
              "      <td>0.000</td>\n",
              "      <td>0.00000</td>\n",
              "      <td>0.000000</td>\n",
              "      <td>0.000000</td>\n",
              "      <td>0.000000</td>\n",
              "      <td>1611.377447</td>\n",
              "      <td>1611.688606</td>\n",
              "      <td>0.311159</td>\n",
              "      <td>0.000000</td>\n",
              "      <td>0.000000</td>\n",
              "      <td>1613.642500</td>\n",
              "      <td>1616.60</td>\n",
              "      <td>6474.919922</td>\n",
              "      <td>11253.26</td>\n",
              "      <td>100.650002</td>\n",
              "      <td>15153.230469</td>\n",
              "      <td>960.789978</td>\n",
              "      <td>3727.129883</td>\n",
              "      <td>18168.269531</td>\n",
              "      <td>8922.030273</td>\n",
              "      <td>0.0000</td>\n",
              "      <td>6.540</td>\n",
              "      <td>6447.24</td>\n",
              "      <td>2409.00</td>\n",
              "      <td>1403.45</td>\n",
              "    </tr>\n",
              "    <tr>\n",
              "      <th>4</th>\n",
              "      <td>1613.30</td>\n",
              "      <td>1628.25</td>\n",
              "      <td>1597.20</td>\n",
              "      <td>1616.60</td>\n",
              "      <td>-0.002658</td>\n",
              "      <td>1.013252</td>\n",
              "      <td>31.05</td>\n",
              "      <td>-3.30</td>\n",
              "      <td>0.000</td>\n",
              "      <td>0.000</td>\n",
              "      <td>0.00000</td>\n",
              "      <td>0.000000</td>\n",
              "      <td>0.000000</td>\n",
              "      <td>0.000000</td>\n",
              "      <td>1611.823295</td>\n",
              "      <td>1612.126416</td>\n",
              "      <td>0.303121</td>\n",
              "      <td>0.000000</td>\n",
              "      <td>0.000000</td>\n",
              "      <td>1613.413223</td>\n",
              "      <td>1612.30</td>\n",
              "      <td>6780.959961</td>\n",
              "      <td>11522.56</td>\n",
              "      <td>100.800003</td>\n",
              "      <td>15405.629883</td>\n",
              "      <td>948.650024</td>\n",
              "      <td>3882.620117</td>\n",
              "      <td>18193.410156</td>\n",
              "      <td>8849.870117</td>\n",
              "      <td>0.0000</td>\n",
              "      <td>6.513</td>\n",
              "      <td>6504.75</td>\n",
              "      <td>2449.96</td>\n",
              "      <td>1441.47</td>\n",
              "    </tr>\n",
              "    <tr>\n",
              "      <th>5</th>\n",
              "      <td>1632.95</td>\n",
              "      <td>1662.10</td>\n",
              "      <td>1614.95</td>\n",
              "      <td>1615.65</td>\n",
              "      <td>0.012180</td>\n",
              "      <td>1.025594</td>\n",
              "      <td>47.15</td>\n",
              "      <td>17.30</td>\n",
              "      <td>0.000</td>\n",
              "      <td>0.000</td>\n",
              "      <td>0.00000</td>\n",
              "      <td>0.000000</td>\n",
              "      <td>0.000000</td>\n",
              "      <td>0.000000</td>\n",
              "      <td>1616.054806</td>\n",
              "      <td>1617.187643</td>\n",
              "      <td>1.132837</td>\n",
              "      <td>0.000000</td>\n",
              "      <td>0.000000</td>\n",
              "      <td>1626.455632</td>\n",
              "      <td>1631.95</td>\n",
              "      <td>6925.520020</td>\n",
              "      <td>11572.20</td>\n",
              "      <td>100.989998</td>\n",
              "      <td>15848.150391</td>\n",
              "      <td>987.239990</td>\n",
              "      <td>4049.669922</td>\n",
              "      <td>18193.410156</td>\n",
              "      <td>9102.599609</td>\n",
              "      <td>0.0000</td>\n",
              "      <td>6.554</td>\n",
              "      <td>6607.71</td>\n",
              "      <td>2457.59</td>\n",
              "      <td>1457.60</td>\n",
              "    </tr>\n",
              "    <tr>\n",
              "      <th>...</th>\n",
              "      <td>...</td>\n",
              "      <td>...</td>\n",
              "      <td>...</td>\n",
              "      <td>...</td>\n",
              "      <td>...</td>\n",
              "      <td>...</td>\n",
              "      <td>...</td>\n",
              "      <td>...</td>\n",
              "      <td>...</td>\n",
              "      <td>...</td>\n",
              "      <td>...</td>\n",
              "      <td>...</td>\n",
              "      <td>...</td>\n",
              "      <td>...</td>\n",
              "      <td>...</td>\n",
              "      <td>...</td>\n",
              "      <td>...</td>\n",
              "      <td>...</td>\n",
              "      <td>...</td>\n",
              "      <td>...</td>\n",
              "      <td>...</td>\n",
              "      <td>...</td>\n",
              "      <td>...</td>\n",
              "      <td>...</td>\n",
              "      <td>...</td>\n",
              "      <td>...</td>\n",
              "      <td>...</td>\n",
              "      <td>...</td>\n",
              "      <td>...</td>\n",
              "      <td>...</td>\n",
              "      <td>...</td>\n",
              "      <td>...</td>\n",
              "      <td>...</td>\n",
              "      <td>...</td>\n",
              "    </tr>\n",
              "    <tr>\n",
              "      <th>5288</th>\n",
              "      <td>14637.80</td>\n",
              "      <td>14849.85</td>\n",
              "      <td>14459.50</td>\n",
              "      <td>14837.70</td>\n",
              "      <td>-0.015440</td>\n",
              "      <td>9.193443</td>\n",
              "      <td>390.35</td>\n",
              "      <td>-199.90</td>\n",
              "      <td>14663.775</td>\n",
              "      <td>14786.559</td>\n",
              "      <td>12697.13850</td>\n",
              "      <td>47.189889</td>\n",
              "      <td>14631.792857</td>\n",
              "      <td>14826.742857</td>\n",
              "      <td>14763.131021</td>\n",
              "      <td>14719.366878</td>\n",
              "      <td>-43.764142</td>\n",
              "      <td>15297.678945</td>\n",
              "      <td>14355.806769</td>\n",
              "      <td>14695.902317</td>\n",
              "      <td>14636.80</td>\n",
              "      <td>15107.169922</td>\n",
              "      <td>33527.19</td>\n",
              "      <td>92.599998</td>\n",
              "      <td>28938.740234</td>\n",
              "      <td>3120.830078</td>\n",
              "      <td>13705.589844</td>\n",
              "      <td>30089.250000</td>\n",
              "      <td>16571.279297</td>\n",
              "      <td>73.4101</td>\n",
              "      <td>1.707</td>\n",
              "      <td>6737.30</td>\n",
              "      <td>3209.74</td>\n",
              "      <td>4077.91</td>\n",
              "    </tr>\n",
              "    <tr>\n",
              "      <th>5289</th>\n",
              "      <td>14683.50</td>\n",
              "      <td>14779.10</td>\n",
              "      <td>14573.90</td>\n",
              "      <td>14737.00</td>\n",
              "      <td>0.003122</td>\n",
              "      <td>9.222145</td>\n",
              "      <td>205.20</td>\n",
              "      <td>-53.50</td>\n",
              "      <td>14671.770</td>\n",
              "      <td>14788.892</td>\n",
              "      <td>12719.86925</td>\n",
              "      <td>48.256235</td>\n",
              "      <td>14650.950000</td>\n",
              "      <td>14799.976190</td>\n",
              "      <td>14757.232426</td>\n",
              "      <td>14713.848897</td>\n",
              "      <td>-43.383529</td>\n",
              "      <td>15233.320318</td>\n",
              "      <td>14366.632063</td>\n",
              "      <td>14687.634106</td>\n",
              "      <td>14682.50</td>\n",
              "      <td>15212.679688</td>\n",
              "      <td>33430.24</td>\n",
              "      <td>92.339996</td>\n",
              "      <td>28938.740234</td>\n",
              "      <td>3127.080078</td>\n",
              "      <td>13698.379883</td>\n",
              "      <td>29696.630859</td>\n",
              "      <td>16571.279297</td>\n",
              "      <td>73.3999</td>\n",
              "      <td>1.658</td>\n",
              "      <td>6823.55</td>\n",
              "      <td>3207.63</td>\n",
              "      <td>4073.94</td>\n",
              "    </tr>\n",
              "    <tr>\n",
              "      <th>5290</th>\n",
              "      <td>14819.05</td>\n",
              "      <td>14879.80</td>\n",
              "      <td>14649.85</td>\n",
              "      <td>14716.45</td>\n",
              "      <td>0.009231</td>\n",
              "      <td>9.307279</td>\n",
              "      <td>229.95</td>\n",
              "      <td>102.60</td>\n",
              "      <td>14665.720</td>\n",
              "      <td>14789.668</td>\n",
              "      <td>12742.06475</td>\n",
              "      <td>51.391409</td>\n",
              "      <td>14721.542857</td>\n",
              "      <td>14787.514286</td>\n",
              "      <td>14761.811506</td>\n",
              "      <td>14730.033682</td>\n",
              "      <td>-31.777824</td>\n",
              "      <td>15201.568451</td>\n",
              "      <td>14373.460120</td>\n",
              "      <td>14775.244702</td>\n",
              "      <td>14818.05</td>\n",
              "      <td>15176.360352</td>\n",
              "      <td>33446.26</td>\n",
              "      <td>92.459999</td>\n",
              "      <td>28674.800781</td>\n",
              "      <td>3137.409912</td>\n",
              "      <td>13688.839844</td>\n",
              "      <td>29730.789063</td>\n",
              "      <td>16815.359375</td>\n",
              "      <td>74.3584</td>\n",
              "      <td>1.679</td>\n",
              "      <td>6885.32</td>\n",
              "      <td>3195.76</td>\n",
              "      <td>4079.95</td>\n",
              "    </tr>\n",
              "    <tr>\n",
              "      <th>5291</th>\n",
              "      <td>14873.80</td>\n",
              "      <td>14984.15</td>\n",
              "      <td>14821.10</td>\n",
              "      <td>14875.65</td>\n",
              "      <td>0.003695</td>\n",
              "      <td>9.341666</td>\n",
              "      <td>163.05</td>\n",
              "      <td>-1.85</td>\n",
              "      <td>14673.985</td>\n",
              "      <td>14794.242</td>\n",
              "      <td>12764.60400</td>\n",
              "      <td>52.639621</td>\n",
              "      <td>14773.900000</td>\n",
              "      <td>14784.452381</td>\n",
              "      <td>14770.106950</td>\n",
              "      <td>14752.151577</td>\n",
              "      <td>-17.955373</td>\n",
              "      <td>15194.763616</td>\n",
              "      <td>14374.141146</td>\n",
              "      <td>14840.948234</td>\n",
              "      <td>14872.80</td>\n",
              "      <td>15202.679688</td>\n",
              "      <td>33503.57</td>\n",
              "      <td>92.059998</td>\n",
              "      <td>29008.070313</td>\n",
              "      <td>3143.260010</td>\n",
              "      <td>13829.309570</td>\n",
              "      <td>29708.980469</td>\n",
              "      <td>16926.439453</td>\n",
              "      <td>74.6134</td>\n",
              "      <td>1.626</td>\n",
              "      <td>6942.22</td>\n",
              "      <td>3186.40</td>\n",
              "      <td>4097.17</td>\n",
              "    </tr>\n",
              "    <tr>\n",
              "      <th>5292</th>\n",
              "      <td>14834.85</td>\n",
              "      <td>14918.45</td>\n",
              "      <td>14785.65</td>\n",
              "      <td>14882.65</td>\n",
              "      <td>-0.002619</td>\n",
              "      <td>9.317203</td>\n",
              "      <td>132.80</td>\n",
              "      <td>-47.80</td>\n",
              "      <td>14679.890</td>\n",
              "      <td>14804.280</td>\n",
              "      <td>12786.61800</td>\n",
              "      <td>51.623992</td>\n",
              "      <td>14772.435714</td>\n",
              "      <td>14778.673810</td>\n",
              "      <td>14774.902731</td>\n",
              "      <td>14764.874412</td>\n",
              "      <td>-10.028320</td>\n",
              "      <td>15182.187872</td>\n",
              "      <td>14375.159747</td>\n",
              "      <td>14836.882745</td>\n",
              "      <td>14833.85</td>\n",
              "      <td>15202.679688</td>\n",
              "      <td>33800.60</td>\n",
              "      <td>92.160004</td>\n",
              "      <td>28698.800781</td>\n",
              "      <td>3131.879883</td>\n",
              "      <td>13900.190430</td>\n",
              "      <td>29768.060547</td>\n",
              "      <td>16854.099609</td>\n",
              "      <td>74.7094</td>\n",
              "      <td>1.662</td>\n",
              "      <td>6915.75</td>\n",
              "      <td>3184.54</td>\n",
              "      <td>4128.80</td>\n",
              "    </tr>\n",
              "  </tbody>\n",
              "</table>\n",
              "<p>5292 rows × 34 columns</p>\n",
              "</div>"
            ],
            "text/plain": [
              "         Close      High       Low      Open  ...  us_10     ftse      sti      snp\n",
              "1      1638.70   1641.95   1594.40   1594.40  ...  6.499  6665.86  2549.01  1399.42\n",
              "2      1595.80   1635.50   1555.05   1634.55  ...  6.599  6535.90  2425.90  1402.11\n",
              "3      1617.60   1639.00   1595.80   1595.80  ...  6.540  6447.24  2409.00  1403.45\n",
              "4      1613.30   1628.25   1597.20   1616.60  ...  6.513  6504.75  2449.96  1441.47\n",
              "5      1632.95   1662.10   1614.95   1615.65  ...  6.554  6607.71  2457.59  1457.60\n",
              "...        ...       ...       ...       ...  ...    ...      ...      ...      ...\n",
              "5288  14637.80  14849.85  14459.50  14837.70  ...  1.707  6737.30  3209.74  4077.91\n",
              "5289  14683.50  14779.10  14573.90  14737.00  ...  1.658  6823.55  3207.63  4073.94\n",
              "5290  14819.05  14879.80  14649.85  14716.45  ...  1.679  6885.32  3195.76  4079.95\n",
              "5291  14873.80  14984.15  14821.10  14875.65  ...  1.626  6942.22  3186.40  4097.17\n",
              "5292  14834.85  14918.45  14785.65  14882.65  ...  1.662  6915.75  3184.54  4128.80\n",
              "\n",
              "[5292 rows x 34 columns]"
            ]
          },
          "metadata": {
            "tags": []
          },
          "execution_count": 29
        }
      ]
    },
    {
      "cell_type": "code",
      "metadata": {
        "id": "9aL1Ug_0adkw"
      },
      "source": [
        "import seaborn as sns\n",
        "# plt.figure(figsize=(20,10))\n",
        "\n",
        "# print(\"\\n\")\n",
        "# f, axes = plt.subplots(3, 4, figsize=(20, 10), sharex=True)\n",
        "# sns.distplot( new_df_copy[\"nifty\"] , ax=axes[0, 0])\n",
        "# sns.distplot( new_df_copy[\"nasdaq\"] , ax=axes[0, 1])\n",
        "# sns.distplot(new_df_copy[\"dji\"] , ax=axes[0, 2])\n",
        "# sns.distplot( new_df_copy[\"dax\"] , ax=axes[0, 3])\n",
        "# sns.distplot( new_df_copy[\"us_10\"] , ax=axes[1, 0])\n",
        "# sns.distplot( new_df_copy[\"dxy\"] , ax=axes[1, 1])\n",
        "# sns.distplot(new_df_copy[\"hsi\"] , ax=axes[1, 2])\n",
        "# sns.distplot( new_df_copy[\"nikkei\"] , ax=axes[1, 3])\n",
        "# sns.distplot( new_df_copy[\"usdinr\"] , ax=axes[2, 0])\n",
        "# sns.distplot( new_df_copy[\"kospi\"] , ax=axes[2, 1])\n",
        "# sns.distplot(new_df_copy[\"ftse\"] , ax=axes[2, 2])\n",
        "# sns.distplot( new_df_copy[\"sti\"] , ax=axes[2, 3])\n",
        "# plt.show()\n",
        "# print('\\n')\n",
        "# new_df_copy.describe()"
      ],
      "execution_count": null,
      "outputs": []
    },
    {
      "cell_type": "code",
      "metadata": {
        "id": "iGI6f9hpOQvc"
      },
      "source": [
        "from pandas.plotting import register_matplotlib_converters\n",
        "register_matplotlib_converters()\n",
        "\n",
        "# plt.figure(figsize=(20,15))\n",
        "# plt.plot(new_df_copy[\"nifty\"])\n",
        "# plt.plot(new_df_copy[\"nasdaq\"])\n",
        "# plt.plot(new_df_copy[\"dji\"])\n",
        "# plt.plot(new_df_copy[\"dax\"])\n",
        "# plt.plot(new_df_copy[\"us_10\"])\n",
        "# plt.plot(new_df_copy[\"dxy\"])\n",
        "# plt.plot(new_df_copy[\"hsi\"])\n",
        "# plt.plot(new_df_copy[\"nikkei\"])\n",
        "# plt.plot(new_df_copy[\"usdinr\"])\n",
        "# plt.plot(new_df_copy[\"kospi\"])\n",
        "# plt.plot(new_df_copy[\"ftse\"])\n",
        "# plt.plot(new_df_copy[\"sti\"])\n",
        "# plt.title('Nifty price history')\n",
        "# plt.ylabel('Price (INR)')\n",
        "# plt.legend(['nifty','nasdaq','dji','dax','us10y', 'dxy','hsi','nikkei','usdinr','kospi','ftse','sti'], loc='best')\n",
        "# plt.show()"
      ],
      "execution_count": null,
      "outputs": []
    },
    {
      "cell_type": "markdown",
      "metadata": {
        "id": "4fVtT7shHMDs"
      },
      "source": [
        "### Normalising the Data"
      ]
    },
    {
      "cell_type": "markdown",
      "metadata": {
        "id": "aeaUIuWNEs-r"
      },
      "source": [
        "1. Using MinMax Scaler for Normalisation"
      ]
    },
    {
      "cell_type": "code",
      "metadata": {
        "colab": {
          "base_uri": "https://localhost:8080/"
        },
        "id": "-K42SXVO_kVK",
        "outputId": "860ecfa4-18f8-4187-8108-8921c93308ff"
      },
      "source": [
        "X = new_df_copy.values\n",
        "from sklearn.preprocessing import MinMaxScaler\n",
        "scaler = MinMaxScaler()\n",
        "X= scaler.fit_transform(X)\n",
        "df = pd.DataFrame(X)\n",
        "print(X)\n",
        "print('\\n')\n",
        "print(X.shape)"
      ],
      "execution_count": null,
      "outputs": [
        {
          "output_type": "stream",
          "text": [
            "[[0.05425124 0.05255673 0.05172144 ... 0.73606061 0.51803905 0.20939556]\n",
            " [0.05128453 0.05211357 0.04898756 ... 0.70774942 0.47176301 0.21017475]\n",
            " [0.05279209 0.05235404 0.05181871 ... 0.68843524 0.46541044 0.2105629 ]\n",
            " ...\n",
            " [0.96572387 0.96207767 0.95876249 ... 0.78386898 0.76114707 0.98584989]\n",
            " [0.96951004 0.96924715 0.97066027 ... 0.79626439 0.75762872 0.99083791]\n",
            " [0.9668165  0.96473316 0.96819734 ... 0.79049802 0.75692957 1.        ]]\n",
            "\n",
            "\n",
            "(5292, 34)\n"
          ],
          "name": "stdout"
        }
      ]
    },
    {
      "cell_type": "markdown",
      "metadata": {
        "id": "VXvTGA4SExGI"
      },
      "source": [
        "2. Using StandardScaler for Normalisation"
      ]
    },
    {
      "cell_type": "code",
      "metadata": {
        "id": "zSU04UGBCTPN"
      },
      "source": [
        "# x = new_df_copy.values #returns a numpy array\n",
        "# standardScaler = preprocessing.StandardScaler()\n",
        "# x_scaled = standardScaler.fit_transform(x)\n",
        "# df = pd.DataFrame(x_scaled)\n"
      ],
      "execution_count": null,
      "outputs": []
    },
    {
      "cell_type": "code",
      "metadata": {
        "colab": {
          "base_uri": "https://localhost:8080/"
        },
        "id": "_Q8dAonu7zmw",
        "outputId": "7679ca93-fa29-4384-9cbe-20f2e60e03f5"
      },
      "source": [
        "print(df)"
      ],
      "execution_count": null,
      "outputs": [
        {
          "output_type": "stream",
          "text": [
            "            0         1         2   ...        31        32        33\n",
            "0     0.054251  0.052557  0.051721  ...  0.736061  0.518039  0.209396\n",
            "1     0.051285  0.052114  0.048988  ...  0.707749  0.471763  0.210175\n",
            "2     0.052792  0.052354  0.051819  ...  0.688435  0.465410  0.210563\n",
            "3     0.052495  0.051615  0.051916  ...  0.700964  0.480807  0.221576\n",
            "4     0.053854  0.053941  0.053149  ...  0.723393  0.483675  0.226248\n",
            "...        ...       ...       ...  ...       ...       ...       ...\n",
            "5287  0.953190  0.960020  0.945538  ...  0.751623  0.766402  0.985259\n",
            "5288  0.956350  0.955159  0.953486  ...  0.770413  0.765609  0.984109\n",
            "5289  0.965724  0.962078  0.958762  ...  0.783869  0.761147  0.985850\n",
            "5290  0.969510  0.969247  0.970660  ...  0.796264  0.757629  0.990838\n",
            "5291  0.966817  0.964733  0.968197  ...  0.790498  0.756930  1.000000\n",
            "\n",
            "[5292 rows x 34 columns]\n"
          ],
          "name": "stdout"
        }
      ]
    },
    {
      "cell_type": "code",
      "metadata": {
        "id": "1K6wEpXECdzp"
      },
      "source": [
        "new_normalised_df_with_date = pd.concat((new_df['Date'],df),axis=1)"
      ],
      "execution_count": null,
      "outputs": []
    },
    {
      "cell_type": "code",
      "metadata": {
        "id": "xX411vGbMuiR"
      },
      "source": [
        "new_normalised_df_without_date = new_normalised_df_with_date.drop(columns = 'Date')"
      ],
      "execution_count": null,
      "outputs": []
    },
    {
      "cell_type": "code",
      "metadata": {
        "id": "efdNnekbSfi4"
      },
      "source": [
        "for col in new_normalised_df_without_date.columns:\n",
        "  new_normalised_df_without_date[col].fillna(value=new_normalised_df_without_date[col].mean(), inplace=True)"
      ],
      "execution_count": null,
      "outputs": []
    },
    {
      "cell_type": "code",
      "metadata": {
        "colab": {
          "base_uri": "https://localhost:8080/",
          "height": 439
        },
        "id": "e0FLAeVVS7ko",
        "outputId": "965c1564-ff2a-4baa-a9ff-4987486a347d"
      },
      "source": [
        "new_normalised_df_without_date"
      ],
      "execution_count": null,
      "outputs": [
        {
          "output_type": "execute_result",
          "data": {
            "text/html": [
              "<div>\n",
              "<style scoped>\n",
              "    .dataframe tbody tr th:only-of-type {\n",
              "        vertical-align: middle;\n",
              "    }\n",
              "\n",
              "    .dataframe tbody tr th {\n",
              "        vertical-align: top;\n",
              "    }\n",
              "\n",
              "    .dataframe thead th {\n",
              "        text-align: right;\n",
              "    }\n",
              "</style>\n",
              "<table border=\"1\" class=\"dataframe\">\n",
              "  <thead>\n",
              "    <tr style=\"text-align: right;\">\n",
              "      <th></th>\n",
              "      <th>0</th>\n",
              "      <th>1</th>\n",
              "      <th>2</th>\n",
              "      <th>3</th>\n",
              "      <th>4</th>\n",
              "      <th>5</th>\n",
              "      <th>6</th>\n",
              "      <th>7</th>\n",
              "      <th>8</th>\n",
              "      <th>9</th>\n",
              "      <th>10</th>\n",
              "      <th>11</th>\n",
              "      <th>12</th>\n",
              "      <th>13</th>\n",
              "      <th>14</th>\n",
              "      <th>15</th>\n",
              "      <th>16</th>\n",
              "      <th>17</th>\n",
              "      <th>18</th>\n",
              "      <th>19</th>\n",
              "      <th>20</th>\n",
              "      <th>21</th>\n",
              "      <th>22</th>\n",
              "      <th>23</th>\n",
              "      <th>24</th>\n",
              "      <th>25</th>\n",
              "      <th>26</th>\n",
              "      <th>27</th>\n",
              "      <th>28</th>\n",
              "      <th>29</th>\n",
              "      <th>30</th>\n",
              "      <th>31</th>\n",
              "      <th>32</th>\n",
              "      <th>33</th>\n",
              "    </tr>\n",
              "  </thead>\n",
              "  <tbody>\n",
              "    <tr>\n",
              "      <th>0</th>\n",
              "      <td>0.054251</td>\n",
              "      <td>0.052557</td>\n",
              "      <td>0.051721</td>\n",
              "      <td>0.051066</td>\n",
              "      <td>0.517533</td>\n",
              "      <td>0.054251</td>\n",
              "      <td>0.026393</td>\n",
              "      <td>0.452513</td>\n",
              "      <td>0.000000</td>\n",
              "      <td>0.000000</td>\n",
              "      <td>0.000000</td>\n",
              "      <td>0.000000</td>\n",
              "      <td>0.000000</td>\n",
              "      <td>0.000000</td>\n",
              "      <td>0.048588</td>\n",
              "      <td>0.050227</td>\n",
              "      <td>0.745875</td>\n",
              "      <td>0.000000</td>\n",
              "      <td>0.000000</td>\n",
              "      <td>0.052868</td>\n",
              "      <td>0.054251</td>\n",
              "      <td>0.336978</td>\n",
              "      <td>0.163314</td>\n",
              "      <td>0.586645</td>\n",
              "      <td>0.352791</td>\n",
              "      <td>0.215413</td>\n",
              "      <td>0.214737</td>\n",
              "      <td>0.509664</td>\n",
              "      <td>0.393933</td>\n",
              "      <td>0.000000</td>\n",
              "      <td>0.953648</td>\n",
              "      <td>0.736061</td>\n",
              "      <td>0.518039</td>\n",
              "      <td>0.209396</td>\n",
              "    </tr>\n",
              "    <tr>\n",
              "      <th>1</th>\n",
              "      <td>0.051285</td>\n",
              "      <td>0.052114</td>\n",
              "      <td>0.048988</td>\n",
              "      <td>0.053832</td>\n",
              "      <td>0.337272</td>\n",
              "      <td>0.051285</td>\n",
              "      <td>0.046970</td>\n",
              "      <td>0.395911</td>\n",
              "      <td>0.000000</td>\n",
              "      <td>0.000000</td>\n",
              "      <td>0.000000</td>\n",
              "      <td>0.000000</td>\n",
              "      <td>0.000000</td>\n",
              "      <td>0.000000</td>\n",
              "      <td>0.048059</td>\n",
              "      <td>0.049631</td>\n",
              "      <td>0.745100</td>\n",
              "      <td>0.000000</td>\n",
              "      <td>0.000000</td>\n",
              "      <td>0.051368</td>\n",
              "      <td>0.051285</td>\n",
              "      <td>0.330454</td>\n",
              "      <td>0.167890</td>\n",
              "      <td>0.586040</td>\n",
              "      <td>0.302864</td>\n",
              "      <td>0.188871</td>\n",
              "      <td>0.212877</td>\n",
              "      <td>0.489978</td>\n",
              "      <td>0.400856</td>\n",
              "      <td>0.000000</td>\n",
              "      <td>0.969576</td>\n",
              "      <td>0.707749</td>\n",
              "      <td>0.471763</td>\n",
              "      <td>0.210175</td>\n",
              "    </tr>\n",
              "    <tr>\n",
              "      <th>2</th>\n",
              "      <td>0.052792</td>\n",
              "      <td>0.052354</td>\n",
              "      <td>0.051819</td>\n",
              "      <td>0.051162</td>\n",
              "      <td>0.466941</td>\n",
              "      <td>0.052792</td>\n",
              "      <td>0.023673</td>\n",
              "      <td>0.437178</td>\n",
              "      <td>0.000000</td>\n",
              "      <td>0.000000</td>\n",
              "      <td>0.000000</td>\n",
              "      <td>0.000000</td>\n",
              "      <td>0.000000</td>\n",
              "      <td>0.000000</td>\n",
              "      <td>0.048232</td>\n",
              "      <td>0.049824</td>\n",
              "      <td>0.745331</td>\n",
              "      <td>0.000000</td>\n",
              "      <td>0.000000</td>\n",
              "      <td>0.051937</td>\n",
              "      <td>0.052792</td>\n",
              "      <td>0.328367</td>\n",
              "      <td>0.172682</td>\n",
              "      <td>0.591487</td>\n",
              "      <td>0.274626</td>\n",
              "      <td>0.179558</td>\n",
              "      <td>0.201290</td>\n",
              "      <td>0.473970</td>\n",
              "      <td>0.406209</td>\n",
              "      <td>0.000000</td>\n",
              "      <td>0.960178</td>\n",
              "      <td>0.688435</td>\n",
              "      <td>0.465410</td>\n",
              "      <td>0.210563</td>\n",
              "    </tr>\n",
              "    <tr>\n",
              "      <th>3</th>\n",
              "      <td>0.052495</td>\n",
              "      <td>0.051615</td>\n",
              "      <td>0.051916</td>\n",
              "      <td>0.052595</td>\n",
              "      <td>0.413827</td>\n",
              "      <td>0.052495</td>\n",
              "      <td>0.016074</td>\n",
              "      <td>0.420072</td>\n",
              "      <td>0.000000</td>\n",
              "      <td>0.000000</td>\n",
              "      <td>0.000000</td>\n",
              "      <td>0.000000</td>\n",
              "      <td>0.000000</td>\n",
              "      <td>0.000000</td>\n",
              "      <td>0.048264</td>\n",
              "      <td>0.049855</td>\n",
              "      <td>0.745325</td>\n",
              "      <td>0.000000</td>\n",
              "      <td>0.000000</td>\n",
              "      <td>0.051921</td>\n",
              "      <td>0.052495</td>\n",
              "      <td>0.351891</td>\n",
              "      <td>0.182564</td>\n",
              "      <td>0.594513</td>\n",
              "      <td>0.284903</td>\n",
              "      <td>0.175128</td>\n",
              "      <td>0.213268</td>\n",
              "      <td>0.475045</td>\n",
              "      <td>0.400856</td>\n",
              "      <td>0.000000</td>\n",
              "      <td>0.955878</td>\n",
              "      <td>0.700964</td>\n",
              "      <td>0.480807</td>\n",
              "      <td>0.221576</td>\n",
              "    </tr>\n",
              "    <tr>\n",
              "      <th>4</th>\n",
              "      <td>0.053854</td>\n",
              "      <td>0.053941</td>\n",
              "      <td>0.053149</td>\n",
              "      <td>0.052530</td>\n",
              "      <td>0.462121</td>\n",
              "      <td>0.053854</td>\n",
              "      <td>0.026143</td>\n",
              "      <td>0.434111</td>\n",
              "      <td>0.000000</td>\n",
              "      <td>0.000000</td>\n",
              "      <td>0.000000</td>\n",
              "      <td>0.000000</td>\n",
              "      <td>0.000000</td>\n",
              "      <td>0.000000</td>\n",
              "      <td>0.048567</td>\n",
              "      <td>0.050213</td>\n",
              "      <td>0.745941</td>\n",
              "      <td>0.000000</td>\n",
              "      <td>0.000000</td>\n",
              "      <td>0.052825</td>\n",
              "      <td>0.053854</td>\n",
              "      <td>0.363002</td>\n",
              "      <td>0.184385</td>\n",
              "      <td>0.598346</td>\n",
              "      <td>0.302923</td>\n",
              "      <td>0.189210</td>\n",
              "      <td>0.226137</td>\n",
              "      <td>0.475045</td>\n",
              "      <td>0.419604</td>\n",
              "      <td>0.000000</td>\n",
              "      <td>0.962408</td>\n",
              "      <td>0.723393</td>\n",
              "      <td>0.483675</td>\n",
              "      <td>0.226248</td>\n",
              "    </tr>\n",
              "    <tr>\n",
              "      <th>...</th>\n",
              "      <td>...</td>\n",
              "      <td>...</td>\n",
              "      <td>...</td>\n",
              "      <td>...</td>\n",
              "      <td>...</td>\n",
              "      <td>...</td>\n",
              "      <td>...</td>\n",
              "      <td>...</td>\n",
              "      <td>...</td>\n",
              "      <td>...</td>\n",
              "      <td>...</td>\n",
              "      <td>...</td>\n",
              "      <td>...</td>\n",
              "      <td>...</td>\n",
              "      <td>...</td>\n",
              "      <td>...</td>\n",
              "      <td>...</td>\n",
              "      <td>...</td>\n",
              "      <td>...</td>\n",
              "      <td>...</td>\n",
              "      <td>...</td>\n",
              "      <td>...</td>\n",
              "      <td>...</td>\n",
              "      <td>...</td>\n",
              "      <td>...</td>\n",
              "      <td>...</td>\n",
              "      <td>...</td>\n",
              "      <td>...</td>\n",
              "      <td>...</td>\n",
              "      <td>...</td>\n",
              "      <td>...</td>\n",
              "      <td>...</td>\n",
              "      <td>...</td>\n",
              "      <td>...</td>\n",
              "    </tr>\n",
              "    <tr>\n",
              "      <th>5288</th>\n",
              "      <td>0.956350</td>\n",
              "      <td>0.955159</td>\n",
              "      <td>0.953486</td>\n",
              "      <td>0.956300</td>\n",
              "      <td>0.432640</td>\n",
              "      <td>0.956350</td>\n",
              "      <td>0.124992</td>\n",
              "      <td>0.385858</td>\n",
              "      <td>0.967757</td>\n",
              "      <td>0.998961</td>\n",
              "      <td>0.994780</td>\n",
              "      <td>0.543724</td>\n",
              "      <td>0.963886</td>\n",
              "      <td>0.984954</td>\n",
              "      <td>0.989510</td>\n",
              "      <td>0.977136</td>\n",
              "      <td>0.712892</td>\n",
              "      <td>0.965110</td>\n",
              "      <td>0.983969</td>\n",
              "      <td>0.957812</td>\n",
              "      <td>0.956350</td>\n",
              "      <td>1.000000</td>\n",
              "      <td>0.986411</td>\n",
              "      <td>0.423845</td>\n",
              "      <td>0.835973</td>\n",
              "      <td>0.970108</td>\n",
              "      <td>0.969411</td>\n",
              "      <td>0.967020</td>\n",
              "      <td>0.973653</td>\n",
              "      <td>0.954033</td>\n",
              "      <td>0.182542</td>\n",
              "      <td>0.770413</td>\n",
              "      <td>0.765609</td>\n",
              "      <td>0.984109</td>\n",
              "    </tr>\n",
              "    <tr>\n",
              "      <th>5289</th>\n",
              "      <td>0.965724</td>\n",
              "      <td>0.962078</td>\n",
              "      <td>0.958762</td>\n",
              "      <td>0.954885</td>\n",
              "      <td>0.452525</td>\n",
              "      <td>0.965724</td>\n",
              "      <td>0.140472</td>\n",
              "      <td>0.492247</td>\n",
              "      <td>0.967358</td>\n",
              "      <td>0.999013</td>\n",
              "      <td>0.996516</td>\n",
              "      <td>0.579049</td>\n",
              "      <td>0.968531</td>\n",
              "      <td>0.984124</td>\n",
              "      <td>0.989838</td>\n",
              "      <td>0.978282</td>\n",
              "      <td>0.721508</td>\n",
              "      <td>0.963098</td>\n",
              "      <td>0.984437</td>\n",
              "      <td>0.963883</td>\n",
              "      <td>0.965724</td>\n",
              "      <td>0.997208</td>\n",
              "      <td>0.986998</td>\n",
              "      <td>0.426266</td>\n",
              "      <td>0.825226</td>\n",
              "      <td>0.973878</td>\n",
              "      <td>0.968676</td>\n",
              "      <td>0.968481</td>\n",
              "      <td>0.991760</td>\n",
              "      <td>0.966492</td>\n",
              "      <td>0.185887</td>\n",
              "      <td>0.783869</td>\n",
              "      <td>0.761147</td>\n",
              "      <td>0.985850</td>\n",
              "    </tr>\n",
              "    <tr>\n",
              "      <th>5290</th>\n",
              "      <td>0.969510</td>\n",
              "      <td>0.969247</td>\n",
              "      <td>0.970660</td>\n",
              "      <td>0.965850</td>\n",
              "      <td>0.434504</td>\n",
              "      <td>0.969510</td>\n",
              "      <td>0.098630</td>\n",
              "      <td>0.421060</td>\n",
              "      <td>0.967903</td>\n",
              "      <td>0.999322</td>\n",
              "      <td>0.998278</td>\n",
              "      <td>0.593113</td>\n",
              "      <td>0.971975</td>\n",
              "      <td>0.983920</td>\n",
              "      <td>0.990432</td>\n",
              "      <td>0.979847</td>\n",
              "      <td>0.731770</td>\n",
              "      <td>0.962667</td>\n",
              "      <td>0.984483</td>\n",
              "      <td>0.968435</td>\n",
              "      <td>0.969510</td>\n",
              "      <td>0.999231</td>\n",
              "      <td>0.989101</td>\n",
              "      <td>0.418196</td>\n",
              "      <td>0.838796</td>\n",
              "      <td>0.976013</td>\n",
              "      <td>0.979497</td>\n",
              "      <td>0.967549</td>\n",
              "      <td>1.000000</td>\n",
              "      <td>0.969806</td>\n",
              "      <td>0.177445</td>\n",
              "      <td>0.796264</td>\n",
              "      <td>0.757629</td>\n",
              "      <td>0.990838</td>\n",
              "    </tr>\n",
              "    <tr>\n",
              "      <th>5291</th>\n",
              "      <td>0.966817</td>\n",
              "      <td>0.964733</td>\n",
              "      <td>0.968197</td>\n",
              "      <td>0.966332</td>\n",
              "      <td>0.413956</td>\n",
              "      <td>0.966817</td>\n",
              "      <td>0.079711</td>\n",
              "      <td>0.389743</td>\n",
              "      <td>0.968292</td>\n",
              "      <td>1.000000</td>\n",
              "      <td>1.000000</td>\n",
              "      <td>0.581670</td>\n",
              "      <td>0.971879</td>\n",
              "      <td>0.983536</td>\n",
              "      <td>0.990776</td>\n",
              "      <td>0.980747</td>\n",
              "      <td>0.737655</td>\n",
              "      <td>0.961870</td>\n",
              "      <td>0.984553</td>\n",
              "      <td>0.968153</td>\n",
              "      <td>0.966817</td>\n",
              "      <td>0.999231</td>\n",
              "      <td>1.000000</td>\n",
              "      <td>0.420214</td>\n",
              "      <td>0.826203</td>\n",
              "      <td>0.971860</td>\n",
              "      <td>0.984957</td>\n",
              "      <td>0.970075</td>\n",
              "      <td>0.994634</td>\n",
              "      <td>0.971054</td>\n",
              "      <td>0.183179</td>\n",
              "      <td>0.790498</td>\n",
              "      <td>0.756930</td>\n",
              "      <td>1.000000</td>\n",
              "    </tr>\n",
              "    <tr>\n",
              "      <th>5292</th>\n",
              "      <td>0.323224</td>\n",
              "      <td>0.322318</td>\n",
              "      <td>0.322151</td>\n",
              "      <td>0.322241</td>\n",
              "      <td>0.424196</td>\n",
              "      <td>0.323224</td>\n",
              "      <td>0.047587</td>\n",
              "      <td>0.420104</td>\n",
              "      <td>0.363559</td>\n",
              "      <td>0.368100</td>\n",
              "      <td>0.409802</td>\n",
              "      <td>0.607361</td>\n",
              "      <td>0.363107</td>\n",
              "      <td>0.365871</td>\n",
              "      <td>0.326460</td>\n",
              "      <td>0.326048</td>\n",
              "      <td>0.758028</td>\n",
              "      <td>0.363041</td>\n",
              "      <td>0.360596</td>\n",
              "      <td>0.323083</td>\n",
              "      <td>0.323224</td>\n",
              "      <td>0.426244</td>\n",
              "      <td>0.304828</td>\n",
              "      <td>0.395658</td>\n",
              "      <td>0.473056</td>\n",
              "      <td>0.413230</td>\n",
              "      <td>0.215054</td>\n",
              "      <td>0.330692</td>\n",
              "      <td>0.338521</td>\n",
              "      <td>0.451875</td>\n",
              "      <td>0.441160</td>\n",
              "      <td>0.571110</td>\n",
              "      <td>0.553698</td>\n",
              "      <td>0.290639</td>\n",
              "    </tr>\n",
              "  </tbody>\n",
              "</table>\n",
              "<p>5293 rows × 34 columns</p>\n",
              "</div>"
            ],
            "text/plain": [
              "            0         1         2   ...        31        32        33\n",
              "0     0.054251  0.052557  0.051721  ...  0.736061  0.518039  0.209396\n",
              "1     0.051285  0.052114  0.048988  ...  0.707749  0.471763  0.210175\n",
              "2     0.052792  0.052354  0.051819  ...  0.688435  0.465410  0.210563\n",
              "3     0.052495  0.051615  0.051916  ...  0.700964  0.480807  0.221576\n",
              "4     0.053854  0.053941  0.053149  ...  0.723393  0.483675  0.226248\n",
              "...        ...       ...       ...  ...       ...       ...       ...\n",
              "5288  0.956350  0.955159  0.953486  ...  0.770413  0.765609  0.984109\n",
              "5289  0.965724  0.962078  0.958762  ...  0.783869  0.761147  0.985850\n",
              "5290  0.969510  0.969247  0.970660  ...  0.796264  0.757629  0.990838\n",
              "5291  0.966817  0.964733  0.968197  ...  0.790498  0.756930  1.000000\n",
              "5292  0.323224  0.322318  0.322151  ...  0.571110  0.553698  0.290639\n",
              "\n",
              "[5293 rows x 34 columns]"
            ]
          },
          "metadata": {
            "tags": []
          },
          "execution_count": 38
        }
      ]
    },
    {
      "cell_type": "code",
      "metadata": {
        "id": "rpPn9Vn5M5CR"
      },
      "source": [
        "final_data = new_normalised_df_without_date.values"
      ],
      "execution_count": null,
      "outputs": []
    },
    {
      "cell_type": "code",
      "metadata": {
        "colab": {
          "base_uri": "https://localhost:8080/"
        },
        "id": "mt_n9qFqSXKb",
        "outputId": "86bcdab8-4aad-45bd-c4b3-cf08cf634de7"
      },
      "source": [
        "final_data"
      ],
      "execution_count": null,
      "outputs": [
        {
          "output_type": "execute_result",
          "data": {
            "text/plain": [
              "array([[0.05425124, 0.05255673, 0.05172144, ..., 0.73606061, 0.51803905,\n",
              "        0.20939556],\n",
              "       [0.05128453, 0.05211357, 0.04898756, ..., 0.70774942, 0.47176301,\n",
              "        0.21017475],\n",
              "       [0.05279209, 0.05235404, 0.05181871, ..., 0.68843524, 0.46541044,\n",
              "        0.2105629 ],\n",
              "       ...,\n",
              "       [0.96951004, 0.96924715, 0.97066027, ..., 0.79626439, 0.75762872,\n",
              "        0.99083791],\n",
              "       [0.9668165 , 0.96473316, 0.96819734, ..., 0.79049802, 0.75692957,\n",
              "        1.        ],\n",
              "       [0.32322427, 0.32231803, 0.32215148, ..., 0.57110976, 0.5536981 ,\n",
              "        0.29063893]])"
            ]
          },
          "metadata": {
            "tags": []
          },
          "execution_count": 40
        }
      ]
    },
    {
      "cell_type": "code",
      "metadata": {
        "id": "ctiRRP0DNOqS"
      },
      "source": [
        "X = final_data[:int(0.8*final_data.shape[0]),:]"
      ],
      "execution_count": null,
      "outputs": []
    },
    {
      "cell_type": "code",
      "metadata": {
        "id": "MZKjubmms8pH"
      },
      "source": [
        "X_test = final_data[int(0.8*final_data.shape[0]):,:]"
      ],
      "execution_count": null,
      "outputs": []
    },
    {
      "cell_type": "code",
      "metadata": {
        "colab": {
          "base_uri": "https://localhost:8080/"
        },
        "id": "yazAymsyrV8v",
        "outputId": "763ece83-cd67-48d0-e799-7dcc478fb306"
      },
      "source": [
        "print(X.shape, X_test.shape)"
      ],
      "execution_count": null,
      "outputs": [
        {
          "output_type": "stream",
          "text": [
            "(4234, 34) (1059, 34)\n"
          ],
          "name": "stdout"
        }
      ]
    },
    {
      "cell_type": "code",
      "metadata": {
        "id": "P_63sxgyPgu1",
        "colab": {
          "base_uri": "https://localhost:8080/"
        },
        "outputId": "678fa5a7-66c7-43d3-f754-775e88e76fb8"
      },
      "source": [
        "# shaping data from neural network\n",
        "X_train = []\n",
        "y_train = []\n",
        "for i in range(60, X.shape[0]):\n",
        "  X_train.append(X[i-60:i,:])\n",
        "  y_train.append(X[i,0])\n",
        "  if i <= 61:\n",
        "    print(X_train)\n",
        "    print('\\n')\n",
        "    print(y_train)\n",
        "    print()"
      ],
      "execution_count": null,
      "outputs": [
        {
          "output_type": "stream",
          "text": [
            "[array([[0.05425124, 0.05255673, 0.05172144, ..., 0.73606061, 0.51803905,\n",
            "        0.20939556],\n",
            "       [0.05128453, 0.05211357, 0.04898756, ..., 0.70774942, 0.47176301,\n",
            "        0.21017475],\n",
            "       [0.05279209, 0.05235404, 0.05181871, ..., 0.68843524, 0.46541044,\n",
            "        0.2105629 ],\n",
            "       ...,\n",
            "       [0.04940355, 0.04801525, 0.04707697, ..., 0.73263608, 0.40330559,\n",
            "        0.24076912],\n",
            "       [0.0486878 , 0.05032034, 0.04887292, ..., 0.72145843, 0.39625386,\n",
            "        0.24099795],\n",
            "       [0.04808271, 0.04677854, 0.04440562, ..., 0.6879843 , 0.36900547,\n",
            "        0.23503086]])]\n",
            "\n",
            "\n",
            "[0.04662701842951489]\n",
            "\n",
            "[array([[0.05425124, 0.05255673, 0.05172144, ..., 0.73606061, 0.51803905,\n",
            "        0.20939556],\n",
            "       [0.05128453, 0.05211357, 0.04898756, ..., 0.70774942, 0.47176301,\n",
            "        0.21017475],\n",
            "       [0.05279209, 0.05235404, 0.05181871, ..., 0.68843524, 0.46541044,\n",
            "        0.2105629 ],\n",
            "       ...,\n",
            "       [0.04940355, 0.04801525, 0.04707697, ..., 0.73263608, 0.40330559,\n",
            "        0.24076912],\n",
            "       [0.0486878 , 0.05032034, 0.04887292, ..., 0.72145843, 0.39625386,\n",
            "        0.24099795],\n",
            "       [0.04808271, 0.04677854, 0.04440562, ..., 0.6879843 , 0.36900547,\n",
            "        0.23503086]]), array([[0.05128453, 0.05211357, 0.04898756, ..., 0.70774942, 0.47176301,\n",
            "        0.21017475],\n",
            "       [0.05279209, 0.05235404, 0.05181871, ..., 0.68843524, 0.46541044,\n",
            "        0.2105629 ],\n",
            "       [0.05249473, 0.05161545, 0.05191598, ..., 0.70096353, 0.48080696,\n",
            "        0.22157595],\n",
            "       ...,\n",
            "       [0.0486878 , 0.05032034, 0.04887292, ..., 0.72145843, 0.39625386,\n",
            "        0.24099795],\n",
            "       [0.04808271, 0.04677854, 0.04440562, ..., 0.6879843 , 0.36900547,\n",
            "        0.23503086],\n",
            "       [0.04662702, 0.04593346, 0.0447391 , ..., 0.70869051, 0.36814467,\n",
            "        0.23811869]])]\n",
            "\n",
            "\n",
            "[0.04662701842951489, 0.04706268801217109]\n",
            "\n"
          ],
          "name": "stdout"
        }
      ]
    },
    {
      "cell_type": "code",
      "metadata": {
        "id": "7yHYX9DHPFgI"
      },
      "source": [
        "X_train = np.array(X_train)\n",
        "y_train = np.array(y_train)"
      ],
      "execution_count": null,
      "outputs": []
    },
    {
      "cell_type": "code",
      "metadata": {
        "colab": {
          "base_uri": "https://localhost:8080/"
        },
        "id": "j0eCQzs8US1c",
        "outputId": "791ff2b5-5481-4699-9fa9-9944c76acb21"
      },
      "source": [
        "X_train.shape"
      ],
      "execution_count": null,
      "outputs": [
        {
          "output_type": "execute_result",
          "data": {
            "text/plain": [
              "(4174, 60, 34)"
            ]
          },
          "metadata": {
            "tags": []
          },
          "execution_count": 46
        }
      ]
    },
    {
      "cell_type": "code",
      "metadata": {
        "id": "q2e9JbLarlfq"
      },
      "source": [
        "look_back = X[-60:]\n",
        "\n",
        "data = np.concatenate((look_back,X_test),axis=0)\n",
        "inputs = data"
      ],
      "execution_count": null,
      "outputs": []
    },
    {
      "cell_type": "code",
      "metadata": {
        "colab": {
          "base_uri": "https://localhost:8080/"
        },
        "id": "2udENPUdsPTE",
        "outputId": "d0849ad2-8684-43fa-b991-d9d6aaf973b0"
      },
      "source": [
        "print(inputs.shape)"
      ],
      "execution_count": null,
      "outputs": [
        {
          "output_type": "stream",
          "text": [
            "(1119, 34)\n"
          ],
          "name": "stdout"
        }
      ]
    },
    {
      "cell_type": "code",
      "metadata": {
        "colab": {
          "base_uri": "https://localhost:8080/"
        },
        "id": "ufipQnYrrmZK",
        "outputId": "429cedf6-ef82-4740-eed7-1c8d1263e60d"
      },
      "source": [
        "X_test = []\n",
        "y_test = []\n",
        "for i in range(60, inputs.shape[0]):\n",
        "  X_test.append(inputs[i-60:i,:])\n",
        "  y_test.append(inputs[i,0])\n",
        "  if i <= 61:\n",
        "    print(X_test)\n",
        "    print('\\n')\n",
        "    print(y_test)\n",
        "    print()"
      ],
      "execution_count": null,
      "outputs": [
        {
          "output_type": "stream",
          "text": [
            "[array([[0.545607  , 0.54483588, 0.54757199, ..., 0.81609486, 0.64312832,\n",
            "        0.42963036],\n",
            "       [0.5432281 , 0.54306326, 0.54432398, ..., 0.80884278, 0.64441763,\n",
            "        0.42993161],\n",
            "       [0.54240172, 0.5391161 , 0.54287541, ..., 0.81852166, 0.64066623,\n",
            "        0.42789527],\n",
            "       ...,\n",
            "       [0.49656997, 0.49630189, 0.49873033, ..., 0.83196054, 0.6493343 ,\n",
            "        0.4557552 ],\n",
            "       [0.5013243 , 0.49702674, 0.49820231, ..., 0.83504959, 0.64589489,\n",
            "        0.45556402],\n",
            "       [0.50700875, 0.5029286 , 0.50472958, ..., 0.83996636, 0.64274115,\n",
            "        0.45254282]])]\n",
            "\n",
            "\n",
            "[0.5065730783859479]\n",
            "\n",
            "[array([[0.545607  , 0.54483588, 0.54757199, ..., 0.81609486, 0.64312832,\n",
            "        0.42963036],\n",
            "       [0.5432281 , 0.54306326, 0.54432398, ..., 0.80884278, 0.64441763,\n",
            "        0.42993161],\n",
            "       [0.54240172, 0.5391161 , 0.54287541, ..., 0.81852166, 0.64066623,\n",
            "        0.42789527],\n",
            "       ...,\n",
            "       [0.49656997, 0.49630189, 0.49873033, ..., 0.83196054, 0.6493343 ,\n",
            "        0.4557552 ],\n",
            "       [0.5013243 , 0.49702674, 0.49820231, ..., 0.83504959, 0.64589489,\n",
            "        0.45556402],\n",
            "       [0.50700875, 0.5029286 , 0.50472958, ..., 0.83996636, 0.64274115,\n",
            "        0.45254282]]), array([[0.5432281 , 0.54306326, 0.54432398, ..., 0.80884278, 0.64441763,\n",
            "        0.42993161],\n",
            "       [0.54240172, 0.5391161 , 0.54287541, ..., 0.81852166, 0.64066623,\n",
            "        0.42789527],\n",
            "       [0.54317624, 0.5406345 , 0.54566487, ..., 0.83009143, 0.63878677,\n",
            "        0.43076874],\n",
            "       ...,\n",
            "       [0.5013243 , 0.49702674, 0.49820231, ..., 0.83504959, 0.64589489,\n",
            "        0.45556402],\n",
            "       [0.50700875, 0.5029286 , 0.50472958, ..., 0.83996636, 0.64274115,\n",
            "        0.45254282],\n",
            "       [0.50657308, 0.50395919, 0.5060531 , ..., 0.83996636, 0.64274115,\n",
            "        0.45254282]])]\n",
            "\n",
            "\n",
            "[0.5065730783859479, 0.5074547906365616]\n",
            "\n"
          ],
          "name": "stdout"
        }
      ]
    },
    {
      "cell_type": "code",
      "metadata": {
        "id": "_sBhXAxrLc6G"
      },
      "source": [
        "import tensorflow as tf\n",
        "from tensorflow.keras import layers\n",
        "from tensorflow.keras.layers import Dense, Dropout, LSTM\n",
        "from tensorflow.keras.callbacks import ModelCheckpoint, ReduceLROnPlateau, EarlyStopping\n",
        "\n",
        "reduceLROnPlato = ReduceLROnPlateau(monitor=\"val_loss\", factor=0.5, patience=4, verbose=1, mode='min')\n",
        "earlyStop = EarlyStopping(monitor=\"val_loss\", mode='min', verbose=1, patience=8)"
      ],
      "execution_count": null,
      "outputs": []
    },
    {
      "cell_type": "markdown",
      "metadata": {
        "id": "Ux59_45ruQyn"
      },
      "source": [
        "model 1"
      ]
    },
    {
      "cell_type": "code",
      "metadata": {
        "id": "_nFXg_JKL-Ne"
      },
      "source": [
        "# #create model\n",
        "# model_lstm = tf.keras.Sequential()\n",
        "# model_lstm.add(tf.keras.layers.LSTM(units = 60, return_sequences = True, \n",
        "#                                    input_shape = (X_train.shape[1],X_train.shape[2])))\n",
        "# # model_lstm.add(tf.keras.layers.LSTM(units = 60,return_sequences = True))\n",
        "# # model_lstm.add(tf.keras.layers.LSTM(units = 30, return_sequences = True))\n",
        "  \n",
        "# model_lstm.add(tf.keras.layers.Dense(units = 1))\n",
        "\n",
        "# model_lstm.compile(loss='mae', optimizer='adam')\n",
        "# model_lstm.summary()"
      ],
      "execution_count": null,
      "outputs": []
    },
    {
      "cell_type": "markdown",
      "metadata": {
        "id": "7e2sndPquSOc"
      },
      "source": [
        "model 2\n",
        "- rmse : 5.171222555102932\n"
      ]
    },
    {
      "cell_type": "code",
      "metadata": {
        "id": "6M5nifkTuNWP",
        "colab": {
          "base_uri": "https://localhost:8080/"
        },
        "outputId": "78dd7ce4-e20f-46ff-b942-60e4da4cb420"
      },
      "source": [
        "model_lstm = tf.keras.Sequential()\n",
        "model_lstm.add(tf.keras.layers.LSTM(units = 128,return_sequences = True, \n",
        "                                   input_shape = (X_train.shape[1], X_train.shape[2])))\n",
        "model_lstm.add(LSTM(64, return_sequences=False))\n",
        "model_lstm.add(Dense(25))\n",
        "model_lstm.add(Dense(1))\n",
        "\n",
        "model_lstm.compile(optimizer='adam', loss='mean_squared_error')\n",
        "model_lstm.summary()"
      ],
      "execution_count": null,
      "outputs": [
        {
          "output_type": "stream",
          "text": [
            "Model: \"sequential\"\n",
            "_________________________________________________________________\n",
            "Layer (type)                 Output Shape              Param #   \n",
            "=================================================================\n",
            "lstm (LSTM)                  (None, 60, 128)           83456     \n",
            "_________________________________________________________________\n",
            "lstm_1 (LSTM)                (None, 64)                49408     \n",
            "_________________________________________________________________\n",
            "dense (Dense)                (None, 25)                1625      \n",
            "_________________________________________________________________\n",
            "dense_1 (Dense)              (None, 1)                 26        \n",
            "=================================================================\n",
            "Total params: 134,515\n",
            "Trainable params: 134,515\n",
            "Non-trainable params: 0\n",
            "_________________________________________________________________\n"
          ],
          "name": "stdout"
        }
      ]
    },
    {
      "cell_type": "markdown",
      "metadata": {
        "id": "O5iQIXoqQlWo"
      },
      "source": [
        "model 3\n",
        "- rmse: 8.8xxxx\n"
      ]
    },
    {
      "cell_type": "code",
      "metadata": {
        "id": "Tlt6sGRkQmBu"
      },
      "source": [
        "# model_lstm = tf.keras.Sequential()\n",
        "# model_lstm.add(tf.keras.layers.LSTM(units = 50,return_sequences = True, \n",
        "#                                    input_shape = (X_train.shape[1], X_train.shape[2])))\n",
        "# model_lstm.add(Dropout(0.2))\n",
        "# model_lstm.add(LSTM(units = 50,return_sequences = True))\n",
        "# model_lstm.add(Dropout(0.2))\n",
        "# model_lstm.add(LSTM(units = 50,return_sequences = True))\n",
        "# model_lstm.add(Dropout(0.2))\n",
        "# model_lstm.add(LSTM(units = 50))\n",
        "# model_lstm.add(Dropout(0.2))\n",
        "# model_lstm.add(Dense(1))\n",
        "\n",
        "# model_lstm.compile(optimizer='adam', loss='mean_squared_error')\n",
        "# model_lstm.summary()"
      ],
      "execution_count": null,
      "outputs": []
    },
    {
      "cell_type": "markdown",
      "metadata": {
        "id": "91sQNd48UV6a"
      },
      "source": [
        "model 4\n",
        "- rmse: 7.199\n",
        "- epochs: 100\n",
        "- batch size: 32\n"
      ]
    },
    {
      "cell_type": "code",
      "metadata": {
        "id": "CyE5XKRFUVsm"
      },
      "source": [
        "# #create model\n",
        "# model_lstm = tf.keras.Sequential()\n",
        "# model_lstm.add(tf.keras.layers.LSTM(units = 64, return_sequences = True, \n",
        "#                                    input_shape = (X_train.shape[1],X_train.shape[2])))\n",
        "# model_lstm.add(tf.keras.layers.LSTM(units = 64,return_sequences = True))\n",
        "# model_lstm.add(tf.keras.layers.LSTM(units = 32, return_sequences = False))\n",
        "  \n",
        "# model_lstm.add(tf.keras.layers.Dense(units = 1))\n",
        "\n",
        "# model_lstm.compile(loss='mse', optimizer='adam')\n",
        "# model_lstm.summary()"
      ],
      "execution_count": null,
      "outputs": []
    },
    {
      "cell_type": "code",
      "metadata": {
        "id": "D_h_1lEYMGDp",
        "colab": {
          "base_uri": "https://localhost:8080/"
        },
        "outputId": "d014705b-afac-4c7c-cccf-419e5b7340a2"
      },
      "source": [
        "X_test, y_test = np.array(X_test), np.array(y_test)\n",
        "print(X_train.shape,y_train.shape,X_test.shape, y_test.shape)"
      ],
      "execution_count": null,
      "outputs": [
        {
          "output_type": "stream",
          "text": [
            "(4174, 60, 34) (4174,) (1059, 60, 34) (1059,)\n"
          ],
          "name": "stdout"
        }
      ]
    },
    {
      "cell_type": "code",
      "metadata": {
        "colab": {
          "base_uri": "https://localhost:8080/"
        },
        "id": "Qokk9dPssBzy",
        "outputId": "c982f701-6ee4-4667-e594-6e70b7712332"
      },
      "source": [
        "# fit network\n",
        "history_lstm = model_lstm.fit(X_train, y_train, \n",
        "                              epochs = 100, \n",
        "                              batch_size = 32, \n",
        "                              validation_data = (X_test, y_test),  \n",
        "                              shuffle=False,\n",
        "                              callbacks=[reduceLROnPlato, earlyStop])"
      ],
      "execution_count": null,
      "outputs": [
        {
          "output_type": "stream",
          "text": [
            "Epoch 1/100\n",
            "131/131 [==============================] - 19s 117ms/step - loss: 0.0058 - val_loss: 0.0151\n",
            "Epoch 2/100\n",
            "131/131 [==============================] - 15s 111ms/step - loss: 0.0035 - val_loss: 0.0182\n",
            "Epoch 3/100\n",
            "131/131 [==============================] - 15s 112ms/step - loss: 0.0021 - val_loss: 0.0089\n",
            "Epoch 4/100\n",
            "131/131 [==============================] - 15s 112ms/step - loss: 6.6169e-04 - val_loss: 0.0070\n",
            "Epoch 5/100\n",
            "131/131 [==============================] - 15s 112ms/step - loss: 9.5653e-04 - val_loss: 0.0087\n",
            "Epoch 6/100\n",
            "131/131 [==============================] - 15s 112ms/step - loss: 4.2216e-04 - val_loss: 0.0091\n",
            "Epoch 7/100\n",
            "131/131 [==============================] - 15s 111ms/step - loss: 4.1687e-04 - val_loss: 0.0092\n",
            "Epoch 8/100\n",
            "131/131 [==============================] - 15s 111ms/step - loss: 3.2355e-04 - val_loss: 0.0085\n",
            "\n",
            "Epoch 00008: ReduceLROnPlateau reducing learning rate to 0.0005000000237487257.\n",
            "Epoch 9/100\n",
            "131/131 [==============================] - 14s 110ms/step - loss: 4.1094e-04 - val_loss: 0.0070\n",
            "Epoch 10/100\n",
            "131/131 [==============================] - 15s 111ms/step - loss: 4.0963e-04 - val_loss: 0.0057\n",
            "Epoch 11/100\n",
            "131/131 [==============================] - 15s 112ms/step - loss: 2.4058e-04 - val_loss: 0.0062\n",
            "Epoch 12/100\n",
            "131/131 [==============================] - 15s 111ms/step - loss: 2.7143e-04 - val_loss: 0.0058\n",
            "Epoch 13/100\n",
            "131/131 [==============================] - 14s 110ms/step - loss: 3.8743e-04 - val_loss: 0.0048\n",
            "Epoch 14/100\n",
            "131/131 [==============================] - 14s 111ms/step - loss: 3.4871e-04 - val_loss: 0.0041\n",
            "Epoch 15/100\n",
            "131/131 [==============================] - 15s 112ms/step - loss: 2.3327e-04 - val_loss: 0.0031\n",
            "Epoch 16/100\n",
            "131/131 [==============================] - 14s 111ms/step - loss: 1.6960e-04 - val_loss: 0.0022\n",
            "Epoch 17/100\n",
            "131/131 [==============================] - 14s 110ms/step - loss: 1.4407e-04 - val_loss: 0.0018\n",
            "Epoch 18/100\n",
            "131/131 [==============================] - 15s 111ms/step - loss: 1.5080e-04 - val_loss: 0.0016\n",
            "Epoch 19/100\n",
            "131/131 [==============================] - 15s 111ms/step - loss: 1.6037e-04 - val_loss: 0.0016\n",
            "Epoch 20/100\n",
            "131/131 [==============================] - 15s 111ms/step - loss: 1.4626e-04 - val_loss: 0.0018\n",
            "Epoch 21/100\n",
            "131/131 [==============================] - 15s 111ms/step - loss: 1.3142e-04 - val_loss: 0.0019\n",
            "Epoch 22/100\n",
            "131/131 [==============================] - 15s 112ms/step - loss: 1.3703e-04 - val_loss: 0.0023\n",
            "\n",
            "Epoch 00022: ReduceLROnPlateau reducing learning rate to 0.0002500000118743628.\n",
            "Epoch 23/100\n",
            "131/131 [==============================] - 15s 112ms/step - loss: 2.5057e-04 - val_loss: 0.0017\n",
            "Epoch 24/100\n",
            "131/131 [==============================] - 15s 113ms/step - loss: 2.9540e-04 - val_loss: 0.0012\n",
            "Epoch 25/100\n",
            "131/131 [==============================] - 15s 112ms/step - loss: 2.6993e-04 - val_loss: 0.0010\n",
            "Epoch 26/100\n",
            "131/131 [==============================] - 15s 112ms/step - loss: 1.5143e-04 - val_loss: 9.4659e-04\n",
            "Epoch 27/100\n",
            "131/131 [==============================] - 15s 113ms/step - loss: 1.2455e-04 - val_loss: 9.5650e-04\n",
            "Epoch 28/100\n",
            "131/131 [==============================] - 15s 111ms/step - loss: 1.2418e-04 - val_loss: 9.5758e-04\n",
            "Epoch 29/100\n",
            "131/131 [==============================] - 15s 111ms/step - loss: 1.2358e-04 - val_loss: 9.3471e-04\n",
            "\n",
            "Epoch 00029: ReduceLROnPlateau reducing learning rate to 0.0001250000059371814.\n",
            "Epoch 30/100\n",
            "131/131 [==============================] - 15s 112ms/step - loss: 2.0650e-04 - val_loss: 8.8148e-04\n",
            "Epoch 31/100\n",
            "131/131 [==============================] - 15s 113ms/step - loss: 2.2278e-04 - val_loss: 0.0011\n",
            "Epoch 32/100\n",
            "131/131 [==============================] - 15s 112ms/step - loss: 2.3228e-04 - val_loss: 0.0011\n",
            "Epoch 33/100\n",
            "131/131 [==============================] - 15s 112ms/step - loss: 1.9253e-04 - val_loss: 0.0012\n",
            "Epoch 34/100\n",
            "131/131 [==============================] - 15s 111ms/step - loss: 1.9460e-04 - val_loss: 0.0013\n",
            "\n",
            "Epoch 00034: ReduceLROnPlateau reducing learning rate to 6.25000029685907e-05.\n",
            "Epoch 35/100\n",
            "131/131 [==============================] - 15s 112ms/step - loss: 2.3500e-04 - val_loss: 0.0012\n",
            "Epoch 36/100\n",
            "131/131 [==============================] - 15s 112ms/step - loss: 2.4475e-04 - val_loss: 0.0015\n",
            "Epoch 37/100\n",
            "131/131 [==============================] - 15s 111ms/step - loss: 2.5889e-04 - val_loss: 0.0016\n",
            "Epoch 38/100\n",
            "131/131 [==============================] - 15s 111ms/step - loss: 2.4765e-04 - val_loss: 0.0018\n",
            "\n",
            "Epoch 00038: ReduceLROnPlateau reducing learning rate to 3.125000148429535e-05.\n",
            "Epoch 00038: early stopping\n"
          ],
          "name": "stdout"
        }
      ]
    },
    {
      "cell_type": "code",
      "metadata": {
        "colab": {
          "base_uri": "https://localhost:8080/",
          "height": 555
        },
        "id": "cdiEXQo5smaP",
        "outputId": "f655f6df-f350-4724-caa1-c0159a711ffb"
      },
      "source": [
        "plt.figure(figsize=(10, 6), dpi=100)\n",
        "plt.plot(history_lstm.history['loss'], label='LSTM train loss', color='red')\n",
        "plt.plot(history_lstm.history['val_loss'], label='LSTM val loss', color= 'green')\n",
        "# plt.plot(gru_history.history['loss'], label='GRU train', color='brown')\n",
        "# plt.plot(gru_history.history['val_loss'], label='GRU test', color='blue')\n",
        "plt.xlabel('epochs')\n",
        "plt.ylabel('loss')\n",
        "plt.legend()\n",
        "plt.title('Training and Validation loss')\n",
        "plt.show()"
      ],
      "execution_count": null,
      "outputs": [
        {
          "output_type": "display_data",
          "data": {
            "image/png": "[encoded data removed]",
            "text/plain": [
              "<Figure size 1000x600 with 1 Axes>"
            ]
          },
          "metadata": {
            "tags": [],
            "needs_background": "light"
          }
        }
      ]
    },
    {
      "cell_type": "code",
      "metadata": {
        "id": "lhratOq5tw5y",
        "colab": {
          "base_uri": "https://localhost:8080/",
          "height": 163
        },
        "outputId": "935d8b72-582a-4662-9ab4-72d79d53ac80"
      },
      "source": [
        "y_pred = model_lstm.predict(X_test)"
      ],
      "execution_count": null,
      "outputs": [
        {
          "output_type": "error",
          "ename": "NameError",
          "evalue": "ignored",
          "traceback": [
            "\u001b[0;31m---------------------------------------------------------------------------\u001b[0m",
            "\u001b[0;31mNameError\u001b[0m                                 Traceback (most recent call last)",
            "\u001b[0;32m<ipython-input-1-583c9f24f9e5>\u001b[0m in \u001b[0;36m<module>\u001b[0;34m()\u001b[0m\n\u001b[0;32m----> 1\u001b[0;31m \u001b[0my_pred\u001b[0m \u001b[0;34m=\u001b[0m \u001b[0mmodel_lstm\u001b[0m\u001b[0;34m.\u001b[0m\u001b[0mpredict\u001b[0m\u001b[0;34m(\u001b[0m\u001b[0mX_test\u001b[0m\u001b[0;34m)\u001b[0m\u001b[0;34m\u001b[0m\u001b[0;34m\u001b[0m\u001b[0m\n\u001b[0m",
            "\u001b[0;31mNameError\u001b[0m: name 'model_lstm' is not defined"
          ]
        }
      ]
    },
    {
      "cell_type": "code",
      "metadata": {
        "colab": {
          "base_uri": "https://localhost:8080/"
        },
        "id": "a-f1dX_OvUHh",
        "outputId": "5222fb25-9945-43a9-bbec-2359f852e336"
      },
      "source": [
        "print(y_test.shape,y_pred.shape)"
      ],
      "execution_count": null,
      "outputs": [
        {
          "output_type": "stream",
          "text": [
            "(1059,) (1059, 1)\n"
          ],
          "name": "stdout"
        }
      ]
    },
    {
      "cell_type": "code",
      "metadata": {
        "colab": {
          "base_uri": "https://localhost:8080/"
        },
        "id": "P1i-Rs_T86di",
        "outputId": "68a9d34f-792b-43cf-bd27-b33b263b8b70"
      },
      "source": [
        "import numpy as np\n",
        "np.isnan(y_test)"
      ],
      "execution_count": null,
      "outputs": [
        {
          "output_type": "execute_result",
          "data": {
            "text/plain": [
              "array([False, False, False, ..., False, False, False])"
            ]
          },
          "metadata": {
            "tags": []
          },
          "execution_count": 60
        }
      ]
    },
    {
      "cell_type": "code",
      "metadata": {
        "id": "CMFSoyiZ7rsu"
      },
      "source": [
        ""
      ],
      "execution_count": null,
      "outputs": []
    },
    {
      "cell_type": "code",
      "metadata": {
        "id": "46d5HMeO0Jce"
      },
      "source": [
        "def invTransform(scaler, data):\n",
        "    dummy = pd.DataFrame(np.zeros((len(data), 34)))\n",
        "    dummy[0] = data\n",
        "    dummy = pd.DataFrame(scaler.inverse_transform(dummy), columns=dummy.columns)\n",
        "    return dummy[0].values"
      ],
      "execution_count": null,
      "outputs": []
    },
    {
      "cell_type": "code",
      "metadata": {
        "colab": {
          "base_uri": "https://localhost:8080/"
        },
        "id": "c9_cZAiN05I6",
        "outputId": "da083884-6563-4045-acc0-b8cb6240fd96"
      },
      "source": [
        "y_pred.shape"
      ],
      "execution_count": null,
      "outputs": [
        {
          "output_type": "execute_result",
          "data": {
            "text/plain": [
              "(1059, 1)"
            ]
          },
          "metadata": {
            "tags": []
          },
          "execution_count": 63
        }
      ]
    },
    {
      "cell_type": "code",
      "metadata": {
        "id": "0fdR8Hs90aXK"
      },
      "source": [
        "y_pred = invTransform(scaler, y_pred)\n",
        "y_test = invTransform(scaler, y_test)"
      ],
      "execution_count": null,
      "outputs": []
    },
    {
      "cell_type": "code",
      "metadata": {
        "colab": {
          "base_uri": "https://localhost:8080/"
        },
        "id": "jWLvDqTF0cyH",
        "outputId": "cc5bd7fb-38be-4324-fed6-3d2cb6aa5b1b"
      },
      "source": [
        "y_pred, y_test"
      ],
      "execution_count": null,
      "outputs": [
        {
          "output_type": "execute_result",
          "data": {
            "text/plain": [
              "(array([ 8056.35594688,  8098.99564321,  8134.05998648, ...,\n",
              "        13272.74630235, 13320.33855058, 13360.1856489 ]),\n",
              " array([ 8179.5       ,  8192.25      ,  8190.5       , ...,\n",
              "        14873.8       , 14834.85      ,  5528.18453326]))"
            ]
          },
          "metadata": {
            "tags": []
          },
          "execution_count": 65
        }
      ]
    },
    {
      "cell_type": "code",
      "metadata": {
        "colab": {
          "base_uri": "https://localhost:8080/"
        },
        "id": "TkzS6ER4vI_w",
        "outputId": "849e0d15-1f3e-42a7-84ca-3975f60976d3"
      },
      "source": [
        "mean_y_test = y_test.mean()\n",
        "mean_y_pred = y_pred.mean()\n",
        "print(mean_y_test, mean_y_pred)"
      ],
      "execution_count": null,
      "outputs": [
        {
          "output_type": "stream",
          "text": [
            "10979.36320541384 10572.738264826123\n"
          ],
          "name": "stdout"
        }
      ]
    },
    {
      "cell_type": "code",
      "metadata": {
        "colab": {
          "base_uri": "https://localhost:8080/"
        },
        "id": "f-STMixCvLzU",
        "outputId": "bcb8605b-c8a8-4eb4-8380-e16748bc59fc"
      },
      "source": [
        "accuracy = round((mean_y_test / mean_y_pred)*100,2)\n",
        "accuracy"
      ],
      "execution_count": null,
      "outputs": [
        {
          "output_type": "execute_result",
          "data": {
            "text/plain": [
              "103.85"
            ]
          },
          "metadata": {
            "tags": []
          },
          "execution_count": 67
        }
      ]
    },
    {
      "cell_type": "code",
      "metadata": {
        "id": "ysQ7Ao3QvNuc"
      },
      "source": [
        "from math import sqrt\n",
        "m = len(y_pred)\n",
        "rmse = sqrt(mean_squared_error(y_pred,y_test,squared=False))"
      ],
      "execution_count": null,
      "outputs": []
    },
    {
      "cell_type": "markdown",
      "metadata": {
        "id": "BX9BRSFCJnWb"
      },
      "source": [
        "#RMSE\n"
      ]
    },
    {
      "cell_type": "code",
      "metadata": {
        "colab": {
          "base_uri": "https://localhost:8080/"
        },
        "id": "uCFhmBnEvuZz",
        "outputId": "96fa4930-335d-406a-e659-aa4eaeda9e44"
      },
      "source": [
        "rmse"
      ],
      "execution_count": null,
      "outputs": [
        {
          "output_type": "execute_result",
          "data": {
            "text/plain": [
              "24.69655648313222"
            ]
          },
          "metadata": {
            "tags": []
          },
          "execution_count": 69
        }
      ]
    },
    {
      "cell_type": "code",
      "metadata": {
        "id": "7nN44qUMvzHH"
      },
      "source": [
        "from sklearn.metrics import mean_absolute_error\n",
        "\n",
        "mae = mean_absolute_error(y_test, y_pred, multioutput='raw_values')"
      ],
      "execution_count": null,
      "outputs": []
    },
    {
      "cell_type": "markdown",
      "metadata": {
        "id": "bgir9IEGJpap"
      },
      "source": [
        "#MAE"
      ]
    },
    {
      "cell_type": "code",
      "metadata": {
        "id": "dCCU3qvGetaG",
        "colab": {
          "base_uri": "https://localhost:8080/"
        },
        "outputId": "0084c460-ae99-4a74-8168-70036518540b"
      },
      "source": [
        "mae"
      ],
      "execution_count": null,
      "outputs": [
        {
          "output_type": "execute_result",
          "data": {
            "text/plain": [
              "array([437.75565153])"
            ]
          },
          "metadata": {
            "tags": []
          },
          "execution_count": 71
        }
      ]
    },
    {
      "cell_type": "markdown",
      "metadata": {
        "id": "ZMwIi9jLJedY"
      },
      "source": [
        "# R2"
      ]
    },
    {
      "cell_type": "code",
      "metadata": {
        "id": "ID2yC1mZoOcn",
        "colab": {
          "base_uri": "https://localhost:8080/"
        },
        "outputId": "2bd29df4-d5ff-4937-9151-706d93611651"
      },
      "source": [
        "from sklearn.metrics import r2_score\n",
        "\n",
        "r2 = r2_score(y_test,y_pred)\n",
        "print(r2)"
      ],
      "execution_count": null,
      "outputs": [
        {
          "output_type": "stream",
          "text": [
            "0.8204174449595754\n"
          ],
          "name": "stdout"
        }
      ]
    },
    {
      "cell_type": "code",
      "metadata": {
        "colab": {
          "base_uri": "https://localhost:8080/"
        },
        "id": "rWYfxDLD53YP",
        "outputId": "4124e5b1-4f15-447d-ece3-71aae26f2bcc"
      },
      "source": [
        "y_train_pred = model_lstm.predict(X_train)\n",
        "print(y_train.shape,y_train_pred.shape)\n"
      ],
      "execution_count": null,
      "outputs": [
        {
          "output_type": "stream",
          "text": [
            "(4174,) (4174, 1)\n"
          ],
          "name": "stdout"
        }
      ]
    },
    {
      "cell_type": "code",
      "metadata": {
        "colab": {
          "base_uri": "https://localhost:8080/"
        },
        "id": "cRp1F1wA7AMG",
        "outputId": "c4840296-d696-4fa1-f057-f6a22cb63ee9"
      },
      "source": [
        "import numpy as np\n",
        "np.isnan(y_train)\n"
      ],
      "execution_count": null,
      "outputs": [
        {
          "output_type": "execute_result",
          "data": {
            "text/plain": [
              "array([False, False, False, ..., False, False, False])"
            ]
          },
          "metadata": {
            "tags": []
          },
          "execution_count": 74
        }
      ]
    },
    {
      "cell_type": "code",
      "metadata": {
        "colab": {
          "base_uri": "https://localhost:8080/"
        },
        "id": "ljSP10DK4J1v",
        "outputId": "39279f6c-48be-45f3-e22e-01a721538e02"
      },
      "source": [
        "y_train_pred.shape"
      ],
      "execution_count": null,
      "outputs": [
        {
          "output_type": "execute_result",
          "data": {
            "text/plain": [
              "(4174, 1)"
            ]
          },
          "metadata": {
            "tags": []
          },
          "execution_count": 75
        }
      ]
    },
    {
      "cell_type": "code",
      "metadata": {
        "id": "1slCO9PQ7Hqx"
      },
      "source": [
        "y_train = invTransform(scaler,y_train)\n",
        "y_train_pred = invTransform(scaler, y_train_pred)"
      ],
      "execution_count": null,
      "outputs": []
    },
    {
      "cell_type": "code",
      "metadata": {
        "colab": {
          "base_uri": "https://localhost:8080/"
        },
        "id": "vXOosC9X7JCN",
        "outputId": "2883a9ad-f487-4c18-f184-6b60779b73ce"
      },
      "source": [
        "from math import sqrt\n",
        "m = len(y_train_pred)\n",
        "rmse = sqrt(mean_squared_error(y_train_pred,y_train,squared=False))\n",
        "rmse"
      ],
      "execution_count": null,
      "outputs": [
        {
          "output_type": "execute_result",
          "data": {
            "text/plain": [
              "8370.342471031501"
            ]
          },
          "metadata": {
            "tags": []
          },
          "execution_count": 78
        }
      ]
    },
    {
      "cell_type": "code",
      "metadata": {
        "colab": {
          "base_uri": "https://localhost:8080/",
          "height": 282
        },
        "id": "c-Qqslbf78lF",
        "outputId": "7ac43125-8ee4-4f3e-c485-c407149adc59"
      },
      "source": [
        "# y_pred[2]\n",
        "# plt.plot(y_test)\n",
        "# y_pred = y_pred.reshape(1059,60)\n",
        "# print(type(y_pred[:-2]))\n",
        "# print(y_pred[:,0,-2].shape)\n",
        "plt.plot(y_pred[:-1], c='b')\n",
        "plt.plot(y_test[:-1], c='r')\n"
      ],
      "execution_count": null,
      "outputs": [
        {
          "output_type": "execute_result",
          "data": {
            "text/plain": [
              "[<matplotlib.lines.Line2D at 0x7f673b3dcd50>]"
            ]
          },
          "metadata": {
            "tags": []
          },
          "execution_count": 79
        },
        {
          "output_type": "display_data",
          "data": {
            "image/png": "[encoded data removed]",
            "text/plain": [
              "<Figure size 432x288 with 1 Axes>"
            ]
          },
          "metadata": {
            "tags": [],
            "needs_background": "light"
          }
        }
      ]
    },
    {
      "cell_type": "markdown",
      "metadata": {
        "id": "rTTLYRHRKsOj"
      },
      "source": [
        "# Adjusted R2"
      ]
    },
    {
      "cell_type": "code",
      "metadata": {
        "id": "beWjZY7sJuoT",
        "colab": {
          "base_uri": "https://localhost:8080/"
        },
        "outputId": "e782b822-297b-49e5-fe6b-ba8f75ed48fa"
      },
      "source": [
        "n = 2518\n",
        "p = 14\n",
        "adj_r2 = 1-(1-r2)*(n-1)/(n-p-1)\n",
        "print(adj_r2)"
      ],
      "execution_count": null,
      "outputs": [
        {
          "output_type": "stream",
          "text": [
            "0.8194129879997009\n"
          ],
          "name": "stdout"
        }
      ]
    },
    {
      "cell_type": "markdown",
      "metadata": {
        "id": "TNMGwWte7P9J"
      },
      "source": [
        "RMSE of training data: 3.6755\n",
        "RMSE of testing data: 4.5184"
      ]
    },
    {
      "cell_type": "code",
      "metadata": {
        "id": "h6SHCQrkItZI"
      },
      "source": [
        "# results = pd.read_csv('/content/gdrive/MyDrive/results.csv', index_col=[0])"
      ],
      "execution_count": null,
      "outputs": []
    },
    {
      "cell_type": "code",
      "metadata": {
        "id": "X8jvHduSEHR3"
      },
      "source": [
        "# results.describe()"
      ],
      "execution_count": null,
      "outputs": []
    },
    {
      "cell_type": "code",
      "metadata": {
        "id": "7YoH87FkESWL"
      },
      "source": [
        "# len(y_pred)"
      ],
      "execution_count": null,
      "outputs": []
    },
    {
      "cell_type": "code",
      "metadata": {
        "id": "QCy8woEHBgwW"
      },
      "source": [
        "ypred = {\"sti_global20\": y_pred}"
      ],
      "execution_count": null,
      "outputs": []
    },
    {
      "cell_type": "code",
      "metadata": {
        "colab": {
          "base_uri": "https://localhost:8080/"
        },
        "id": "eW_4xS_8M1_h",
        "outputId": "5f8f2ced-8841-4000-e4ac-99f8a361ad6b"
      },
      "source": [
        "ypred"
      ],
      "execution_count": null,
      "outputs": [
        {
          "output_type": "execute_result",
          "data": {
            "text/plain": [
              "{'sti_global20': array([ 8056.35594688,  8098.99564321,  8134.05998648, ...,\n",
              "        13272.74630235, 13320.33855058, 13360.1856489 ])}"
            ]
          },
          "metadata": {
            "tags": []
          },
          "execution_count": 85
        }
      ]
    },
    {
      "cell_type": "code",
      "metadata": {
        "id": "UgNH3GlwCYU1"
      },
      "source": [
        "# testdf = results.join(pd.DataFrame(ypred))"
      ],
      "execution_count": null,
      "outputs": []
    },
    {
      "cell_type": "code",
      "metadata": {
        "id": "friiLqp9H73s"
      },
      "source": [
        "testdf = pd.DataFrame(ypred)"
      ],
      "execution_count": null,
      "outputs": []
    },
    {
      "cell_type": "code",
      "metadata": {
        "id": "ezgEZAKfJVsk"
      },
      "source": [
        "testdf.to_csv('/content/gdrive/MyDrive/sti_global20.csv');"
      ],
      "execution_count": null,
      "outputs": []
    },
    {
      "cell_type": "code",
      "metadata": {
        "id": "eu3GaVFRJi6x"
      },
      "source": [
        ""
      ],
      "execution_count": null,
      "outputs": []
    },
    {
      "cell_type": "markdown",
      "metadata": {
        "id": "4T_sEE4X7roA"
      },
      "source": [
        ""
      ]
    },
    {
      "cell_type": "markdown",
      "metadata": {
        "id": "36GEkUsN7rjE"
      },
      "source": [
        ""
      ]
    }
  ]
}