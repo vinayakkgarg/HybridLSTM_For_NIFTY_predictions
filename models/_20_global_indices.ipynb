{
  "nbformat": 4,
  "nbformat_minor": 0,
  "metadata": {
    "colab": {
      "name": "Copy of Copy of *20_global_indices.ipynb",
      "provenance": [],
      "collapsed_sections": [],
      "authorship_tag": "ABX9TyNM6WBeEKNq5EAfawY+GU8S",
      "include_colab_link": true
    },
    "kernelspec": {
      "display_name": "Python 3",
      "name": "python3"
    },
    "language_info": {
      "name": "python"
    }
  },
  "cells": [
    {
      "cell_type": "markdown",
      "metadata": {
        "id": "view-in-github",
        "colab_type": "text"
      },
      "source": [
        "<a href=\"https://colab.research.google.com/github/vinayakkgarg/HybridLSTM_For_NIFTY_predictions/blob/main/_20_global_indices.ipynb\" target=\"_parent\"><img src=\"https://colab.research.google.com/assets/colab-badge.svg\" alt=\"Open In Colab\"/></a>"
      ]
    },
    {
      "cell_type": "markdown",
      "metadata": {
        "id": "C94TMfUeFMzT"
      },
      "source": [
        "## 1. Importing the libraries"
      ]
    },
    {
      "cell_type": "code",
      "metadata": {
        "id": "erpPxIj2_2_v"
      },
      "source": [
        "import pandas as pd\n",
        "import os\n",
        "from sklearn import preprocessing\n",
        "from sklearn.model_selection import train_test_split\n",
        "import matplotlib.pyplot as plt\n",
        "import pandas as pd\n",
        "import datetime as dt\n",
        "import numpy as np\n",
        "from sklearn.preprocessing import StandardScaler\n",
        "from sklearn.metrics import mean_squared_error"
      ],
      "execution_count": null,
      "outputs": []
    },
    {
      "cell_type": "markdown",
      "metadata": {
        "id": "KT2IzpFhFSxG"
      },
      "source": [
        "## 2. Loading the Data"
      ]
    },
    {
      "cell_type": "code",
      "metadata": {
        "colab": {
          "base_uri": "https://localhost:8080/"
        },
        "id": "cX35Ywlf_9Oh",
        "outputId": "516e0824-46e2-498c-cc11-9649068d1581"
      },
      "source": [
        "from google.colab import drive\n",
        "drive.mount('/content/gdrive')"
      ],
      "execution_count": null,
      "outputs": [
        {
          "output_type": "stream",
          "text": [
            "Drive already mounted at /content/gdrive; to attempt to forcibly remount, call drive.mount(\"/content/gdrive\", force_remount=True).\n"
          ],
          "name": "stdout"
        }
      ]
    },
    {
      "cell_type": "code",
      "metadata": {
        "colab": {
          "base_uri": "https://localhost:8080/"
        },
        "id": "r3408zT4ARZP",
        "outputId": "df7e9d73-6708-4a92-e411-1a684bb92935"
      },
      "source": [
        "%cd /content/gdrive/MyDrive/stockDataset-Daily-20yrs\n",
        "!ls\n",
        "!rm -rf ./new_df.csv"
      ],
      "execution_count": null,
      "outputs": [
        {
          "output_type": "stream",
          "text": [
            "/content/gdrive/MyDrive/stockDataset-Daily-20yrs\n",
            "dax.csv  ftse.csv   nasdaq.csv\tsnp.csv       twse.csv\n",
            "dji.csv  hsi.csv    nifty.csv\tsti.csv       us_10.csv\n",
            "dxy.csv  kospi.csv  nikkei.csv\ttech-ind.csv  usdinr.csv\n"
          ],
          "name": "stdout"
        }
      ]
    },
    {
      "cell_type": "markdown",
      "metadata": {
        "id": "HjFLsd_fFlz2"
      },
      "source": [
        "Reading the names of all dataframes into a list"
      ]
    },
    {
      "cell_type": "code",
      "metadata": {
        "id": "p8p0lkzB7Bbx"
      },
      "source": [
        "list_of_dfs = []\n",
        "for x in os.listdir():\n",
        "  list_of_dfs.append(x[:-4])"
      ],
      "execution_count": null,
      "outputs": []
    },
    {
      "cell_type": "markdown",
      "metadata": {
        "id": "x434UaHsFqNL"
      },
      "source": [
        "Storing all dataframes in a dictionary all_dfs"
      ]
    },
    {
      "cell_type": "code",
      "metadata": {
        "id": "OnSbyrrQ8oqg"
      },
      "source": [
        "all_dfs={}\n",
        "for x in list_of_dfs:\n",
        "  all_dfs[x] = pd.read_csv(x+'.csv',parse_dates=True)\n",
        "  "
      ],
      "execution_count": null,
      "outputs": []
    },
    {
      "cell_type": "markdown",
      "metadata": {
        "id": "TN0zgTkwGdwX"
      },
      "source": [
        "## 3. Preprocessing data"
      ]
    },
    {
      "cell_type": "markdown",
      "metadata": {
        "id": "AM7LV46iFvw3"
      },
      "source": [
        "Filtering useful columns out of all dfs"
      ]
    },
    {
      "cell_type": "code",
      "metadata": {
        "colab": {
          "base_uri": "https://localhost:8080/"
        },
        "id": "2pZeMiv5IB0X",
        "outputId": "32f3ccfd-6548-4603-be32-71e08ff84eb3"
      },
      "source": [
        "for i in all_dfs.keys():\n",
        "  \n",
        "  print(i,all_dfs[i].columns)\n",
        "  all_dfs[i]['Date'] = pd.to_datetime(all_dfs[i]['Date'])\n",
        "  if('Close/Last' in all_dfs[i]):\n",
        "    all_dfs[i] = all_dfs[i].filter(['Date','Close/Last'])\n",
        "\n",
        "  if('Close' in all_dfs[i]):\n",
        "    all_dfs[i] = all_dfs[i].filter(['Date','Close'])\n",
        "  if('Price' in all_dfs[i]):\n",
        "    all_dfs[i] = all_dfs[i].filter(['Date','Price'])\n",
        "  if(' Close' in all_dfs[i]):\n",
        "    all_dfs[i] = all_dfs[i].filter(['Date',' Close'])\n",
        "  if('INR' in all_dfs[i]):\n",
        "    all_dfs[i] = all_dfs[i].filter(['Date','INR'])\n",
        "  all_dfs[i].columns = ['Date',i]\n",
        "  \n"
      ],
      "execution_count": null,
      "outputs": [
        {
          "output_type": "stream",
          "text": [
            "dax Index(['Date', 'Open', 'High', 'Low', 'Close', 'Adj Close', 'Volume'], dtype='object')\n",
            "dji Index(['Date', ' Open', ' High', ' Low', ' Close'], dtype='object')\n",
            "dxy Index(['Date', 'Open', 'High', 'Low', 'Close', 'Adj Close', 'Volume'], dtype='object')\n",
            "hsi Index(['Date', 'Open', 'High', 'Low', 'Close', 'Adj Close', 'Volume'], dtype='object')\n",
            "kospi Index(['Date', 'Open', 'High', 'Low', 'Close', 'Adj Close', 'Volume'], dtype='object')\n",
            "nasdaq Index(['Date', 'Open', 'High', 'Low', 'Close', 'Adj Close', 'Volume'], dtype='object')\n",
            "nifty Index(['Date', 'Open', 'High', 'Low', 'Close'], dtype='object')\n",
            "nikkei Index(['Date', 'Open', 'High', 'Low', 'Close', 'Adj Close', 'Volume'], dtype='object')\n",
            "twse Index(['Date', 'Open', 'High', 'Low', 'Close', 'Adj Close', 'Volume'], dtype='object')\n",
            "usdinr Index(['Date', 'USD', 'INR'], dtype='object')\n",
            "us_10 Index(['Date', 'Price', 'Open', 'High', 'Low', 'Change %'], dtype='object')\n",
            "ftse Index(['Date', ' Open', ' High', ' Low', ' Close'], dtype='object')\n",
            "sti Index(['Date', ' Open', ' High', ' Low', ' Close'], dtype='object')\n",
            "snp Index(['Date', ' Open', ' High', ' Low', ' Close'], dtype='object')\n",
            "tech-ind Index(['Unnamed: 0', 'Date', 'Close', 'High', 'Low', 'Open', 'daily_return',\n",
            "       'cum_daily_return', 'H-L', 'C-O', '10day MA', '50day MA', '200day MA',\n",
            "       'rsi', 'ma7', 'ma21', 'ema_26', 'ema_12', 'macd', 'bb_high', 'bb_low',\n",
            "       'ema', 'momentum'],\n",
            "      dtype='object')\n"
          ],
          "name": "stdout"
        }
      ]
    },
    {
      "cell_type": "markdown",
      "metadata": {
        "id": "0614s7bUF1As"
      },
      "source": [
        "Viewing the date format of all dfs"
      ]
    },
    {
      "cell_type": "code",
      "metadata": {
        "id": "f3mExfDIAaXq",
        "colab": {
          "base_uri": "https://localhost:8080/"
        },
        "outputId": "c4ffa2c0-6e2b-4521-d75f-d9697a237709"
      },
      "source": [
        "for i in all_dfs.keys():\n",
        "  print(i,all_dfs[i]['Date'])"
      ],
      "execution_count": null,
      "outputs": [
        {
          "output_type": "stream",
          "text": [
            "dax 0      2000-01-03\n",
            "1      2000-01-04\n",
            "2      2000-01-05\n",
            "3      2000-01-06\n",
            "4      2000-01-07\n",
            "          ...    \n",
            "5432   2021-03-31\n",
            "5433   2021-04-01\n",
            "5434   2021-04-06\n",
            "5435   2021-04-07\n",
            "5436   2021-04-08\n",
            "Name: Date, Length: 5437, dtype: datetime64[ns]\n",
            "dji 0      2021-04-09\n",
            "1      2021-04-08\n",
            "2      2021-04-07\n",
            "3      2021-04-06\n",
            "4      2021-04-05\n",
            "          ...    \n",
            "5348   2000-01-07\n",
            "5349   2000-01-06\n",
            "5350   2000-01-05\n",
            "5351   2000-01-04\n",
            "5352   2000-01-03\n",
            "Name: Date, Length: 5353, dtype: datetime64[ns]\n",
            "dxy 0      2000-01-03\n",
            "1      2000-01-04\n",
            "2      2000-01-05\n",
            "3      2000-01-06\n",
            "4      2000-01-07\n",
            "          ...    \n",
            "6525   2021-04-05\n",
            "6526   2021-04-06\n",
            "6527   2021-04-07\n",
            "6528   2021-04-08\n",
            "6529   2021-04-09\n",
            "Name: Date, Length: 6530, dtype: datetime64[ns]\n",
            "hsi 0      2000-01-03\n",
            "1      2000-01-04\n",
            "2      2000-01-05\n",
            "3      2000-01-06\n",
            "4      2000-01-07\n",
            "          ...    \n",
            "5317   2021-03-31\n",
            "5318   2021-04-01\n",
            "5319   2021-04-07\n",
            "5320   2021-04-08\n",
            "5321   2021-04-09\n",
            "Name: Date, Length: 5322, dtype: datetime64[ns]\n",
            "kospi 0      2000-01-04\n",
            "1      2000-01-05\n",
            "2      2000-01-06\n",
            "3      2000-01-07\n",
            "4      2000-01-10\n",
            "          ...    \n",
            "5342   2021-04-05\n",
            "5343   2021-04-06\n",
            "5344   2021-04-07\n",
            "5345   2021-04-08\n",
            "5346   2021-04-09\n",
            "Name: Date, Length: 5347, dtype: datetime64[ns]\n",
            "nasdaq 0      2000-01-03\n",
            "1      2000-01-04\n",
            "2      2000-01-05\n",
            "3      2000-01-06\n",
            "4      2000-01-07\n",
            "          ...    \n",
            "5346   2021-04-05\n",
            "5347   2021-04-06\n",
            "5348   2021-04-07\n",
            "5349   2021-04-08\n",
            "5350   2021-04-09\n",
            "Name: Date, Length: 5351, dtype: datetime64[ns]\n",
            "nifty 0      2021-04-09\n",
            "1      2021-04-08\n",
            "2      2021-04-07\n",
            "3      2021-04-06\n",
            "4      2021-04-05\n",
            "          ...    \n",
            "5288   2000-01-07\n",
            "5289   2000-01-06\n",
            "5290   2000-01-05\n",
            "5291   2000-01-04\n",
            "5292   2000-01-03\n",
            "Name: Date, Length: 5293, dtype: datetime64[ns]\n",
            "nikkei 0      2000-01-04\n",
            "1      2000-01-05\n",
            "2      2000-01-06\n",
            "3      2000-01-07\n",
            "4      2000-01-10\n",
            "          ...    \n",
            "5330   2021-04-05\n",
            "5331   2021-04-06\n",
            "5332   2021-04-07\n",
            "5333   2021-04-08\n",
            "5334   2021-04-09\n",
            "Name: Date, Length: 5335, dtype: datetime64[ns]\n",
            "twse 0      2000-01-04\n",
            "1      2000-01-05\n",
            "2      2000-01-06\n",
            "3      2000-01-07\n",
            "4      2000-01-10\n",
            "          ...    \n",
            "5316   2021-03-31\n",
            "5317   2021-04-01\n",
            "5318   2021-04-07\n",
            "5319   2021-04-08\n",
            "5320   2021-04-09\n",
            "Name: Date, Length: 5321, dtype: datetime64[ns]\n",
            "usdinr 0      2021-04-09\n",
            "1      2021-04-08\n",
            "2      2021-04-07\n",
            "3      2021-04-06\n",
            "4      2021-04-05\n",
            "          ...    \n",
            "8127   1999-01-08\n",
            "8128   1999-01-07\n",
            "8129   1999-01-06\n",
            "8130   1999-01-05\n",
            "8131   1999-01-04\n",
            "Name: Date, Length: 8132, dtype: datetime64[ns]\n",
            "us_10 0      2000-01-03\n",
            "1      2000-01-04\n",
            "2      2000-01-05\n",
            "3      2000-01-06\n",
            "4      2000-01-07\n",
            "          ...    \n",
            "5828   2021-04-05\n",
            "5829   2021-04-06\n",
            "5830   2021-04-07\n",
            "5831   2021-04-08\n",
            "5832   2021-04-09\n",
            "Name: Date, Length: 5833, dtype: datetime64[ns]\n",
            "ftse 0      2021-04-09\n",
            "1      2021-04-08\n",
            "2      2021-04-07\n",
            "3      2021-04-06\n",
            "4      2021-04-05\n",
            "          ...    \n",
            "5463   2000-01-10\n",
            "5464   2000-01-07\n",
            "5465   2000-01-06\n",
            "5466   2000-01-05\n",
            "5467   2000-01-04\n",
            "Name: Date, Length: 5468, dtype: datetime64[ns]\n",
            "sti 0      2021-04-09\n",
            "1      2021-04-08\n",
            "2      2021-04-07\n",
            "3      2021-04-06\n",
            "4      2021-04-05\n",
            "          ...    \n",
            "5333   2000-01-07\n",
            "5334   2000-01-06\n",
            "5335   2000-01-05\n",
            "5336   2000-01-04\n",
            "5337   2000-01-03\n",
            "Name: Date, Length: 5338, dtype: datetime64[ns]\n",
            "snp 0      2021-04-09\n",
            "1      2021-04-08\n",
            "2      2021-04-07\n",
            "3      2021-04-06\n",
            "4      2021-04-05\n",
            "          ...    \n",
            "5346   2000-01-07\n",
            "5347   2000-01-06\n",
            "5348   2000-01-05\n",
            "5349   2000-01-04\n",
            "5350   2000-01-03\n",
            "Name: Date, Length: 5351, dtype: datetime64[ns]\n",
            "tech-ind 0      2000-01-03\n",
            "1      2000-01-04\n",
            "2      2000-01-05\n",
            "3      2000-01-06\n",
            "4      2000-01-07\n",
            "          ...    \n",
            "5288   2021-04-05\n",
            "5289   2021-04-06\n",
            "5290   2021-04-07\n",
            "5291   2021-04-08\n",
            "5292   2021-04-09\n",
            "Name: Date, Length: 5293, dtype: datetime64[ns]\n"
          ],
          "name": "stdout"
        }
      ]
    },
    {
      "cell_type": "markdown",
      "metadata": {
        "id": "gkC6kxgVF6b6"
      },
      "source": [
        "Viewing columns of all dfs"
      ]
    },
    {
      "cell_type": "code",
      "metadata": {
        "colab": {
          "base_uri": "https://localhost:8080/"
        },
        "id": "qem1Ox9kFkrh",
        "outputId": "e8f6cdfd-835a-4e8d-ba6d-adb0f11fdbb2"
      },
      "source": [
        "for i in all_dfs.keys():\n",
        "  print(i,all_dfs[i].columns)"
      ],
      "execution_count": null,
      "outputs": [
        {
          "output_type": "stream",
          "text": [
            "dax Index(['Date', 'dax'], dtype='object')\n",
            "dji Index(['Date', 'dji'], dtype='object')\n",
            "dxy Index(['Date', 'dxy'], dtype='object')\n",
            "hsi Index(['Date', 'hsi'], dtype='object')\n",
            "kospi Index(['Date', 'kospi'], dtype='object')\n",
            "nasdaq Index(['Date', 'nasdaq'], dtype='object')\n",
            "nifty Index(['Date', 'nifty'], dtype='object')\n",
            "nikkei Index(['Date', 'nikkei'], dtype='object')\n",
            "twse Index(['Date', 'twse'], dtype='object')\n",
            "usdinr Index(['Date', 'usdinr'], dtype='object')\n",
            "us_10 Index(['Date', 'us_10'], dtype='object')\n",
            "ftse Index(['Date', 'ftse'], dtype='object')\n",
            "sti Index(['Date', 'sti'], dtype='object')\n",
            "snp Index(['Date', 'snp'], dtype='object')\n",
            "tech-ind Index(['Date', 'tech-ind'], dtype='object')\n"
          ],
          "name": "stdout"
        }
      ]
    },
    {
      "cell_type": "markdown",
      "metadata": {
        "id": "U8Anf0-LGGp2"
      },
      "source": [
        "Separating NIFTY into a new_df"
      ]
    },
    {
      "cell_type": "code",
      "metadata": {
        "id": "Pa2tWJ4KDAVq"
      },
      "source": [
        "new_df = pd.DataFrame(all_dfs['nifty'])"
      ],
      "execution_count": null,
      "outputs": []
    },
    {
      "cell_type": "markdown",
      "metadata": {
        "id": "g-EZYTJtGJ7z"
      },
      "source": [
        "Merging all dfs using left join on basis of Nifty dates "
      ]
    },
    {
      "cell_type": "code",
      "metadata": {
        "id": "XRclCp2v3tqD"
      },
      "source": [
        "for i in all_dfs:\n",
        "  if(i!='nifty'):\n",
        "    new_df = new_df.merge(all_dfs[i], on=\"Date\", how = 'left')\n"
      ],
      "execution_count": null,
      "outputs": []
    },
    {
      "cell_type": "markdown",
      "metadata": {
        "id": "_7xAgRUIGWDd"
      },
      "source": [
        "## 4. Preparing data for LSTM"
      ]
    },
    {
      "cell_type": "markdown",
      "metadata": {
        "id": "EwPqevcnGu24"
      },
      "source": [
        "Drop date column as it is not a feature to train the LSTM on"
      ]
    },
    {
      "cell_type": "code",
      "metadata": {
        "id": "klmiO8Le4EpB"
      },
      "source": [
        "new_df_copy = new_df.drop(columns = 'Date')"
      ],
      "execution_count": null,
      "outputs": []
    },
    {
      "cell_type": "markdown",
      "metadata": {
        "id": "uyuqWA9oG3G-"
      },
      "source": [
        "Converting all columns values to float64"
      ]
    },
    {
      "cell_type": "code",
      "metadata": {
        "id": "HvJhlWWYFif6"
      },
      "source": [
        "# import numpy as np\n",
        "# new_df_copy['dax'] = new_df_copy['dax'].str.replace(',','').astype(np.float64)\n",
        "# new_df_copy['dji'] = new_df_copy['dji'].str.replace(',','').astype(np.float64)\n",
        "# new_df_copy['twse'] = new_df_copy['twse'].str.replace(',','').astype(np.float64)\n"
      ],
      "execution_count": null,
      "outputs": []
    },
    {
      "cell_type": "code",
      "metadata": {
        "colab": {
          "base_uri": "https://localhost:8080/"
        },
        "id": "6glwCH7wIJTd",
        "outputId": "e9dfb0f4-55fe-4633-9633-f5d5cc121947"
      },
      "source": [
        "print(new_df_copy.dtypes)\n",
        "print(\"Number of days: {}\".format(new_df_copy.shape[0]))"
      ],
      "execution_count": null,
      "outputs": [
        {
          "output_type": "stream",
          "text": [
            "nifty       float64\n",
            "dax         float64\n",
            "dji         float64\n",
            "dxy         float64\n",
            "hsi         float64\n",
            "kospi       float64\n",
            "nasdaq      float64\n",
            "nikkei      float64\n",
            "twse        float64\n",
            "usdinr      float64\n",
            "us_10       float64\n",
            "ftse        float64\n",
            "sti         float64\n",
            "snp         float64\n",
            "tech-ind    float64\n",
            "dtype: object\n",
            "Number of days: 5293\n"
          ],
          "name": "stdout"
        }
      ]
    },
    {
      "cell_type": "markdown",
      "metadata": {
        "id": "ezM1RK-bG8bc"
      },
      "source": [
        "### Handling NaN values"
      ]
    },
    {
      "cell_type": "code",
      "metadata": {
        "colab": {
          "base_uri": "https://localhost:8080/"
        },
        "id": "ikao3K6LCL7r",
        "outputId": "be45060b-68b3-4444-8521-f14497d7526d"
      },
      "source": [
        "print(new_df_copy.info())\n",
        "print('\\n')\n",
        "print(new_df_copy.isnull().sum())"
      ],
      "execution_count": null,
      "outputs": [
        {
          "output_type": "stream",
          "text": [
            "<class 'pandas.core.frame.DataFrame'>\n",
            "Int64Index: 5293 entries, 0 to 5292\n",
            "Data columns (total 15 columns):\n",
            " #   Column    Non-Null Count  Dtype  \n",
            "---  ------    --------------  -----  \n",
            " 0   nifty     5293 non-null   float64\n",
            " 1   dax       5170 non-null   float64\n",
            " 2   dji       5117 non-null   float64\n",
            " 3   dxy       5112 non-null   float64\n",
            " 4   hsi       5024 non-null   float64\n",
            " 5   kospi     5021 non-null   float64\n",
            " 6   nasdaq    5115 non-null   float64\n",
            " 7   nikkei    4943 non-null   float64\n",
            " 8   twse      4979 non-null   float64\n",
            " 9   usdinr    5293 non-null   float64\n",
            " 10  us_10     5201 non-null   float64\n",
            " 11  ftse      5208 non-null   float64\n",
            " 12  sti       5136 non-null   float64\n",
            " 13  snp       5115 non-null   float64\n",
            " 14  tech-ind  5293 non-null   float64\n",
            "dtypes: float64(15)\n",
            "memory usage: 661.6 KB\n",
            "None\n",
            "\n",
            "\n",
            "nifty         0\n",
            "dax         123\n",
            "dji         176\n",
            "dxy         181\n",
            "hsi         269\n",
            "kospi       272\n",
            "nasdaq      178\n",
            "nikkei      350\n",
            "twse        314\n",
            "usdinr        0\n",
            "us_10        92\n",
            "ftse         85\n",
            "sti         157\n",
            "snp         178\n",
            "tech-ind      0\n",
            "dtype: int64\n"
          ],
          "name": "stdout"
        }
      ]
    },
    {
      "cell_type": "markdown",
      "metadata": {
        "id": "fUTnD_0YCptO"
      },
      "source": [
        "1. Fill NaN values with mean"
      ]
    },
    {
      "cell_type": "code",
      "metadata": {
        "id": "GwNa44ZB7ULI"
      },
      "source": [
        "# for i in new_df_copy.columns:\n",
        "#   column_mean = new_df_copy[i].mean()\n",
        "#   new_df_copy = new_df_copy.fillna(column_mean)"
      ],
      "execution_count": null,
      "outputs": []
    },
    {
      "cell_type": "markdown",
      "metadata": {
        "id": "DD2X7PC3Cvr2"
      },
      "source": [
        "2. Fill NaN values with padding"
      ]
    },
    {
      "cell_type": "code",
      "metadata": {
        "colab": {
          "base_uri": "https://localhost:8080/"
        },
        "id": "zQItF9XgCty-",
        "outputId": "d162e14d-ee5b-4cd7-c9ca-15188263daff"
      },
      "source": [
        "new_df_copy = new_df_copy.fillna(method ='pad') # filling the missing values with previous ones \n",
        "print (new_df_copy.isnull().sum())"
      ],
      "execution_count": null,
      "outputs": [
        {
          "output_type": "stream",
          "text": [
            "nifty       0\n",
            "dax         1\n",
            "dji         0\n",
            "dxy         0\n",
            "hsi         0\n",
            "kospi       0\n",
            "nasdaq      0\n",
            "nikkei      0\n",
            "twse        0\n",
            "usdinr      0\n",
            "us_10       0\n",
            "ftse        0\n",
            "sti         0\n",
            "snp         0\n",
            "tech-ind    0\n",
            "dtype: int64\n"
          ],
          "name": "stdout"
        }
      ]
    },
    {
      "cell_type": "code",
      "metadata": {
        "id": "NrTlnU6XbJTs"
      },
      "source": [
        "# Drop first row of dataframe\n",
        "new_df_copy = new_df_copy.drop(axis=0,index=0)"
      ],
      "execution_count": null,
      "outputs": []
    },
    {
      "cell_type": "code",
      "metadata": {
        "colab": {
          "base_uri": "https://localhost:8080/",
          "height": 391
        },
        "id": "nAJ186mnJY-Z",
        "outputId": "38072fbb-8d02-4819-df1f-1503d5e020ca"
      },
      "source": [
        "new_df_copy"
      ],
      "execution_count": null,
      "outputs": [
        {
          "output_type": "execute_result",
          "data": {
            "text/html": [
              "<div>\n",
              "<style scoped>\n",
              "    .dataframe tbody tr th:only-of-type {\n",
              "        vertical-align: middle;\n",
              "    }\n",
              "\n",
              "    .dataframe tbody tr th {\n",
              "        vertical-align: top;\n",
              "    }\n",
              "\n",
              "    .dataframe thead th {\n",
              "        text-align: right;\n",
              "    }\n",
              "</style>\n",
              "<table border=\"1\" class=\"dataframe\">\n",
              "  <thead>\n",
              "    <tr style=\"text-align: right;\">\n",
              "      <th></th>\n",
              "      <th>nifty</th>\n",
              "      <th>dax</th>\n",
              "      <th>dji</th>\n",
              "      <th>dxy</th>\n",
              "      <th>hsi</th>\n",
              "      <th>kospi</th>\n",
              "      <th>nasdaq</th>\n",
              "      <th>nikkei</th>\n",
              "      <th>twse</th>\n",
              "      <th>usdinr</th>\n",
              "      <th>us_10</th>\n",
              "      <th>ftse</th>\n",
              "      <th>sti</th>\n",
              "      <th>snp</th>\n",
              "      <th>tech-ind</th>\n",
              "    </tr>\n",
              "  </thead>\n",
              "  <tbody>\n",
              "    <tr>\n",
              "      <th>1</th>\n",
              "      <td>14873.80</td>\n",
              "      <td>15202.679688</td>\n",
              "      <td>33503.57</td>\n",
              "      <td>92.059998</td>\n",
              "      <td>29008.070313</td>\n",
              "      <td>3143.260010</td>\n",
              "      <td>13829.309570</td>\n",
              "      <td>29708.980469</td>\n",
              "      <td>16926.439453</td>\n",
              "      <td>74.6134</td>\n",
              "      <td>1.626</td>\n",
              "      <td>6942.22</td>\n",
              "      <td>3186.40</td>\n",
              "      <td>4097.17</td>\n",
              "      <td>14873.80</td>\n",
              "    </tr>\n",
              "    <tr>\n",
              "      <th>2</th>\n",
              "      <td>14819.05</td>\n",
              "      <td>15176.360352</td>\n",
              "      <td>33446.26</td>\n",
              "      <td>92.459999</td>\n",
              "      <td>28674.800781</td>\n",
              "      <td>3137.409912</td>\n",
              "      <td>13688.839844</td>\n",
              "      <td>29730.789063</td>\n",
              "      <td>16815.359375</td>\n",
              "      <td>74.3584</td>\n",
              "      <td>1.679</td>\n",
              "      <td>6885.32</td>\n",
              "      <td>3195.76</td>\n",
              "      <td>4079.95</td>\n",
              "      <td>14819.05</td>\n",
              "    </tr>\n",
              "    <tr>\n",
              "      <th>3</th>\n",
              "      <td>14683.50</td>\n",
              "      <td>15212.679688</td>\n",
              "      <td>33430.24</td>\n",
              "      <td>92.339996</td>\n",
              "      <td>28674.800781</td>\n",
              "      <td>3127.080078</td>\n",
              "      <td>13698.379883</td>\n",
              "      <td>29696.630859</td>\n",
              "      <td>16815.359375</td>\n",
              "      <td>73.3999</td>\n",
              "      <td>1.658</td>\n",
              "      <td>6823.55</td>\n",
              "      <td>3207.63</td>\n",
              "      <td>4073.94</td>\n",
              "      <td>14683.50</td>\n",
              "    </tr>\n",
              "    <tr>\n",
              "      <th>4</th>\n",
              "      <td>14637.80</td>\n",
              "      <td>15212.679688</td>\n",
              "      <td>33527.19</td>\n",
              "      <td>92.599998</td>\n",
              "      <td>28674.800781</td>\n",
              "      <td>3120.830078</td>\n",
              "      <td>13705.589844</td>\n",
              "      <td>30089.250000</td>\n",
              "      <td>16815.359375</td>\n",
              "      <td>73.4101</td>\n",
              "      <td>1.707</td>\n",
              "      <td>6737.30</td>\n",
              "      <td>3209.74</td>\n",
              "      <td>4077.91</td>\n",
              "      <td>14637.80</td>\n",
              "    </tr>\n",
              "    <tr>\n",
              "      <th>5</th>\n",
              "      <td>14867.35</td>\n",
              "      <td>15107.169922</td>\n",
              "      <td>33153.21</td>\n",
              "      <td>92.930000</td>\n",
              "      <td>28938.740234</td>\n",
              "      <td>3087.399902</td>\n",
              "      <td>13480.110352</td>\n",
              "      <td>29388.869141</td>\n",
              "      <td>16571.279297</td>\n",
              "      <td>73.4101</td>\n",
              "      <td>1.673</td>\n",
              "      <td>6737.30</td>\n",
              "      <td>3181.68</td>\n",
              "      <td>4019.87</td>\n",
              "      <td>14867.35</td>\n",
              "    </tr>\n",
              "    <tr>\n",
              "      <th>...</th>\n",
              "      <td>...</td>\n",
              "      <td>...</td>\n",
              "      <td>...</td>\n",
              "      <td>...</td>\n",
              "      <td>...</td>\n",
              "      <td>...</td>\n",
              "      <td>...</td>\n",
              "      <td>...</td>\n",
              "      <td>...</td>\n",
              "      <td>...</td>\n",
              "      <td>...</td>\n",
              "      <td>...</td>\n",
              "      <td>...</td>\n",
              "      <td>...</td>\n",
              "      <td>...</td>\n",
              "    </tr>\n",
              "    <tr>\n",
              "      <th>5288</th>\n",
              "      <td>1613.30</td>\n",
              "      <td>6780.959961</td>\n",
              "      <td>11522.56</td>\n",
              "      <td>100.800003</td>\n",
              "      <td>15405.629883</td>\n",
              "      <td>948.650024</td>\n",
              "      <td>3882.620117</td>\n",
              "      <td>18193.410156</td>\n",
              "      <td>8849.870117</td>\n",
              "      <td>0.0000</td>\n",
              "      <td>6.513</td>\n",
              "      <td>6504.75</td>\n",
              "      <td>2449.96</td>\n",
              "      <td>1441.47</td>\n",
              "      <td>1613.30</td>\n",
              "    </tr>\n",
              "    <tr>\n",
              "      <th>5289</th>\n",
              "      <td>1617.60</td>\n",
              "      <td>6474.919922</td>\n",
              "      <td>11253.26</td>\n",
              "      <td>100.650002</td>\n",
              "      <td>15153.230469</td>\n",
              "      <td>960.789978</td>\n",
              "      <td>3727.129883</td>\n",
              "      <td>18168.269531</td>\n",
              "      <td>8922.030273</td>\n",
              "      <td>0.0000</td>\n",
              "      <td>6.540</td>\n",
              "      <td>6447.24</td>\n",
              "      <td>2409.00</td>\n",
              "      <td>1403.45</td>\n",
              "      <td>1617.60</td>\n",
              "    </tr>\n",
              "    <tr>\n",
              "      <th>5290</th>\n",
              "      <td>1595.80</td>\n",
              "      <td>6502.069824</td>\n",
              "      <td>11122.65</td>\n",
              "      <td>100.379997</td>\n",
              "      <td>15846.719727</td>\n",
              "      <td>986.309998</td>\n",
              "      <td>3877.540039</td>\n",
              "      <td>18542.550781</td>\n",
              "      <td>8849.870117</td>\n",
              "      <td>0.0000</td>\n",
              "      <td>6.599</td>\n",
              "      <td>6535.90</td>\n",
              "      <td>2425.90</td>\n",
              "      <td>1402.11</td>\n",
              "      <td>1595.80</td>\n",
              "    </tr>\n",
              "    <tr>\n",
              "      <th>5291</th>\n",
              "      <td>1638.70</td>\n",
              "      <td>6586.950195</td>\n",
              "      <td>10997.93</td>\n",
              "      <td>100.410004</td>\n",
              "      <td>17072.820313</td>\n",
              "      <td>1059.040039</td>\n",
              "      <td>3901.689941</td>\n",
              "      <td>19002.859375</td>\n",
              "      <td>8756.549805</td>\n",
              "      <td>0.0000</td>\n",
              "      <td>6.499</td>\n",
              "      <td>6665.86</td>\n",
              "      <td>2549.01</td>\n",
              "      <td>1399.42</td>\n",
              "      <td>1638.70</td>\n",
              "    </tr>\n",
              "    <tr>\n",
              "      <th>5292</th>\n",
              "      <td>1592.20</td>\n",
              "      <td>6750.759766</td>\n",
              "      <td>11357.51</td>\n",
              "      <td>100.220001</td>\n",
              "      <td>17369.630859</td>\n",
              "      <td>1059.040039</td>\n",
              "      <td>4131.149902</td>\n",
              "      <td>19002.859375</td>\n",
              "      <td>8756.549805</td>\n",
              "      <td>0.0000</td>\n",
              "      <td>6.594</td>\n",
              "      <td>6665.86</td>\n",
              "      <td>2608.48</td>\n",
              "      <td>1455.22</td>\n",
              "      <td>1592.20</td>\n",
              "    </tr>\n",
              "  </tbody>\n",
              "</table>\n",
              "<p>5292 rows × 15 columns</p>\n",
              "</div>"
            ],
            "text/plain": [
              "         nifty           dax       dji  ...      sti      snp  tech-ind\n",
              "1     14873.80  15202.679688  33503.57  ...  3186.40  4097.17  14873.80\n",
              "2     14819.05  15176.360352  33446.26  ...  3195.76  4079.95  14819.05\n",
              "3     14683.50  15212.679688  33430.24  ...  3207.63  4073.94  14683.50\n",
              "4     14637.80  15212.679688  33527.19  ...  3209.74  4077.91  14637.80\n",
              "5     14867.35  15107.169922  33153.21  ...  3181.68  4019.87  14867.35\n",
              "...        ...           ...       ...  ...      ...      ...       ...\n",
              "5288   1613.30   6780.959961  11522.56  ...  2449.96  1441.47   1613.30\n",
              "5289   1617.60   6474.919922  11253.26  ...  2409.00  1403.45   1617.60\n",
              "5290   1595.80   6502.069824  11122.65  ...  2425.90  1402.11   1595.80\n",
              "5291   1638.70   6586.950195  10997.93  ...  2549.01  1399.42   1638.70\n",
              "5292   1592.20   6750.759766  11357.51  ...  2608.48  1455.22   1592.20\n",
              "\n",
              "[5292 rows x 15 columns]"
            ]
          },
          "metadata": {
            "tags": []
          },
          "execution_count": 192
        }
      ]
    },
    {
      "cell_type": "code",
      "metadata": {
        "id": "kcm4wmQAEvrL"
      },
      "source": [
        "new_df_copy = new_df_copy.reindex(index=new_df_copy.index[::-1])"
      ],
      "execution_count": null,
      "outputs": []
    },
    {
      "cell_type": "code",
      "metadata": {
        "colab": {
          "base_uri": "https://localhost:8080/",
          "height": 391
        },
        "id": "qjc4k4AiFSp0",
        "outputId": "837a4ee8-e980-47cd-9f1e-b68d5bc3de53"
      },
      "source": [
        "new_df_copy"
      ],
      "execution_count": null,
      "outputs": [
        {
          "output_type": "execute_result",
          "data": {
            "text/html": [
              "<div>\n",
              "<style scoped>\n",
              "    .dataframe tbody tr th:only-of-type {\n",
              "        vertical-align: middle;\n",
              "    }\n",
              "\n",
              "    .dataframe tbody tr th {\n",
              "        vertical-align: top;\n",
              "    }\n",
              "\n",
              "    .dataframe thead th {\n",
              "        text-align: right;\n",
              "    }\n",
              "</style>\n",
              "<table border=\"1\" class=\"dataframe\">\n",
              "  <thead>\n",
              "    <tr style=\"text-align: right;\">\n",
              "      <th></th>\n",
              "      <th>nifty</th>\n",
              "      <th>dax</th>\n",
              "      <th>dji</th>\n",
              "      <th>dxy</th>\n",
              "      <th>hsi</th>\n",
              "      <th>kospi</th>\n",
              "      <th>nasdaq</th>\n",
              "      <th>nikkei</th>\n",
              "      <th>twse</th>\n",
              "      <th>usdinr</th>\n",
              "      <th>us_10</th>\n",
              "      <th>ftse</th>\n",
              "      <th>sti</th>\n",
              "      <th>snp</th>\n",
              "      <th>tech-ind</th>\n",
              "    </tr>\n",
              "  </thead>\n",
              "  <tbody>\n",
              "    <tr>\n",
              "      <th>5292</th>\n",
              "      <td>1592.20</td>\n",
              "      <td>6750.759766</td>\n",
              "      <td>11357.51</td>\n",
              "      <td>100.220001</td>\n",
              "      <td>17369.630859</td>\n",
              "      <td>1059.040039</td>\n",
              "      <td>4131.149902</td>\n",
              "      <td>19002.859375</td>\n",
              "      <td>8756.549805</td>\n",
              "      <td>0.0000</td>\n",
              "      <td>6.594</td>\n",
              "      <td>6665.86</td>\n",
              "      <td>2608.48</td>\n",
              "      <td>1455.22</td>\n",
              "      <td>1592.20</td>\n",
              "    </tr>\n",
              "    <tr>\n",
              "      <th>5291</th>\n",
              "      <td>1638.70</td>\n",
              "      <td>6586.950195</td>\n",
              "      <td>10997.93</td>\n",
              "      <td>100.410004</td>\n",
              "      <td>17072.820313</td>\n",
              "      <td>1059.040039</td>\n",
              "      <td>3901.689941</td>\n",
              "      <td>19002.859375</td>\n",
              "      <td>8756.549805</td>\n",
              "      <td>0.0000</td>\n",
              "      <td>6.499</td>\n",
              "      <td>6665.86</td>\n",
              "      <td>2549.01</td>\n",
              "      <td>1399.42</td>\n",
              "      <td>1638.70</td>\n",
              "    </tr>\n",
              "    <tr>\n",
              "      <th>5290</th>\n",
              "      <td>1595.80</td>\n",
              "      <td>6502.069824</td>\n",
              "      <td>11122.65</td>\n",
              "      <td>100.379997</td>\n",
              "      <td>15846.719727</td>\n",
              "      <td>986.309998</td>\n",
              "      <td>3877.540039</td>\n",
              "      <td>18542.550781</td>\n",
              "      <td>8849.870117</td>\n",
              "      <td>0.0000</td>\n",
              "      <td>6.599</td>\n",
              "      <td>6535.90</td>\n",
              "      <td>2425.90</td>\n",
              "      <td>1402.11</td>\n",
              "      <td>1595.80</td>\n",
              "    </tr>\n",
              "    <tr>\n",
              "      <th>5289</th>\n",
              "      <td>1617.60</td>\n",
              "      <td>6474.919922</td>\n",
              "      <td>11253.26</td>\n",
              "      <td>100.650002</td>\n",
              "      <td>15153.230469</td>\n",
              "      <td>960.789978</td>\n",
              "      <td>3727.129883</td>\n",
              "      <td>18168.269531</td>\n",
              "      <td>8922.030273</td>\n",
              "      <td>0.0000</td>\n",
              "      <td>6.540</td>\n",
              "      <td>6447.24</td>\n",
              "      <td>2409.00</td>\n",
              "      <td>1403.45</td>\n",
              "      <td>1617.60</td>\n",
              "    </tr>\n",
              "    <tr>\n",
              "      <th>5288</th>\n",
              "      <td>1613.30</td>\n",
              "      <td>6780.959961</td>\n",
              "      <td>11522.56</td>\n",
              "      <td>100.800003</td>\n",
              "      <td>15405.629883</td>\n",
              "      <td>948.650024</td>\n",
              "      <td>3882.620117</td>\n",
              "      <td>18193.410156</td>\n",
              "      <td>8849.870117</td>\n",
              "      <td>0.0000</td>\n",
              "      <td>6.513</td>\n",
              "      <td>6504.75</td>\n",
              "      <td>2449.96</td>\n",
              "      <td>1441.47</td>\n",
              "      <td>1613.30</td>\n",
              "    </tr>\n",
              "    <tr>\n",
              "      <th>...</th>\n",
              "      <td>...</td>\n",
              "      <td>...</td>\n",
              "      <td>...</td>\n",
              "      <td>...</td>\n",
              "      <td>...</td>\n",
              "      <td>...</td>\n",
              "      <td>...</td>\n",
              "      <td>...</td>\n",
              "      <td>...</td>\n",
              "      <td>...</td>\n",
              "      <td>...</td>\n",
              "      <td>...</td>\n",
              "      <td>...</td>\n",
              "      <td>...</td>\n",
              "      <td>...</td>\n",
              "    </tr>\n",
              "    <tr>\n",
              "      <th>5</th>\n",
              "      <td>14867.35</td>\n",
              "      <td>15107.169922</td>\n",
              "      <td>33153.21</td>\n",
              "      <td>92.930000</td>\n",
              "      <td>28938.740234</td>\n",
              "      <td>3087.399902</td>\n",
              "      <td>13480.110352</td>\n",
              "      <td>29388.869141</td>\n",
              "      <td>16571.279297</td>\n",
              "      <td>73.4101</td>\n",
              "      <td>1.673</td>\n",
              "      <td>6737.30</td>\n",
              "      <td>3181.68</td>\n",
              "      <td>4019.87</td>\n",
              "      <td>14867.35</td>\n",
              "    </tr>\n",
              "    <tr>\n",
              "      <th>4</th>\n",
              "      <td>14637.80</td>\n",
              "      <td>15212.679688</td>\n",
              "      <td>33527.19</td>\n",
              "      <td>92.599998</td>\n",
              "      <td>28674.800781</td>\n",
              "      <td>3120.830078</td>\n",
              "      <td>13705.589844</td>\n",
              "      <td>30089.250000</td>\n",
              "      <td>16815.359375</td>\n",
              "      <td>73.4101</td>\n",
              "      <td>1.707</td>\n",
              "      <td>6737.30</td>\n",
              "      <td>3209.74</td>\n",
              "      <td>4077.91</td>\n",
              "      <td>14637.80</td>\n",
              "    </tr>\n",
              "    <tr>\n",
              "      <th>3</th>\n",
              "      <td>14683.50</td>\n",
              "      <td>15212.679688</td>\n",
              "      <td>33430.24</td>\n",
              "      <td>92.339996</td>\n",
              "      <td>28674.800781</td>\n",
              "      <td>3127.080078</td>\n",
              "      <td>13698.379883</td>\n",
              "      <td>29696.630859</td>\n",
              "      <td>16815.359375</td>\n",
              "      <td>73.3999</td>\n",
              "      <td>1.658</td>\n",
              "      <td>6823.55</td>\n",
              "      <td>3207.63</td>\n",
              "      <td>4073.94</td>\n",
              "      <td>14683.50</td>\n",
              "    </tr>\n",
              "    <tr>\n",
              "      <th>2</th>\n",
              "      <td>14819.05</td>\n",
              "      <td>15176.360352</td>\n",
              "      <td>33446.26</td>\n",
              "      <td>92.459999</td>\n",
              "      <td>28674.800781</td>\n",
              "      <td>3137.409912</td>\n",
              "      <td>13688.839844</td>\n",
              "      <td>29730.789063</td>\n",
              "      <td>16815.359375</td>\n",
              "      <td>74.3584</td>\n",
              "      <td>1.679</td>\n",
              "      <td>6885.32</td>\n",
              "      <td>3195.76</td>\n",
              "      <td>4079.95</td>\n",
              "      <td>14819.05</td>\n",
              "    </tr>\n",
              "    <tr>\n",
              "      <th>1</th>\n",
              "      <td>14873.80</td>\n",
              "      <td>15202.679688</td>\n",
              "      <td>33503.57</td>\n",
              "      <td>92.059998</td>\n",
              "      <td>29008.070313</td>\n",
              "      <td>3143.260010</td>\n",
              "      <td>13829.309570</td>\n",
              "      <td>29708.980469</td>\n",
              "      <td>16926.439453</td>\n",
              "      <td>74.6134</td>\n",
              "      <td>1.626</td>\n",
              "      <td>6942.22</td>\n",
              "      <td>3186.40</td>\n",
              "      <td>4097.17</td>\n",
              "      <td>14873.80</td>\n",
              "    </tr>\n",
              "  </tbody>\n",
              "</table>\n",
              "<p>5292 rows × 15 columns</p>\n",
              "</div>"
            ],
            "text/plain": [
              "         nifty           dax       dji  ...      sti      snp  tech-ind\n",
              "5292   1592.20   6750.759766  11357.51  ...  2608.48  1455.22   1592.20\n",
              "5291   1638.70   6586.950195  10997.93  ...  2549.01  1399.42   1638.70\n",
              "5290   1595.80   6502.069824  11122.65  ...  2425.90  1402.11   1595.80\n",
              "5289   1617.60   6474.919922  11253.26  ...  2409.00  1403.45   1617.60\n",
              "5288   1613.30   6780.959961  11522.56  ...  2449.96  1441.47   1613.30\n",
              "...        ...           ...       ...  ...      ...      ...       ...\n",
              "5     14867.35  15107.169922  33153.21  ...  3181.68  4019.87  14867.35\n",
              "4     14637.80  15212.679688  33527.19  ...  3209.74  4077.91  14637.80\n",
              "3     14683.50  15212.679688  33430.24  ...  3207.63  4073.94  14683.50\n",
              "2     14819.05  15176.360352  33446.26  ...  3195.76  4079.95  14819.05\n",
              "1     14873.80  15202.679688  33503.57  ...  3186.40  4097.17  14873.80\n",
              "\n",
              "[5292 rows x 15 columns]"
            ]
          },
          "metadata": {
            "tags": []
          },
          "execution_count": 194
        }
      ]
    },
    {
      "cell_type": "markdown",
      "metadata": {
        "id": "4fVtT7shHMDs"
      },
      "source": [
        "### Normalising the Data"
      ]
    },
    {
      "cell_type": "markdown",
      "metadata": {
        "id": "aeaUIuWNEs-r"
      },
      "source": [
        "1. Using MinMax Scaler for Normalisation"
      ]
    },
    {
      "cell_type": "code",
      "metadata": {
        "colab": {
          "base_uri": "https://localhost:8080/"
        },
        "id": "-K42SXVO_kVK",
        "outputId": "446d8c8c-72bd-49d5-e6bd-070f44039bb6"
      },
      "source": [
        "X = new_df_copy.values\n",
        "X =X[:,:-1]\n",
        "from sklearn.preprocessing import MinMaxScaler\n",
        "scaler = MinMaxScaler()\n",
        "X= scaler.fit_transform(X)\n",
        "df = pd.DataFrame(X)\n",
        "print(X)\n",
        "print('\\n')\n",
        "print(X.shape)"
      ],
      "execution_count": null,
      "outputs": [
        {
          "output_type": "stream",
          "text": [
            "[[0.05103558 0.34956939 0.17829633 ... 0.73606061 0.54039333 0.22764453]\n",
            " [0.05425124 0.33697807 0.16496875 ... 0.73606061 0.51803905 0.2113318 ]\n",
            " [0.05128453 0.33045369 0.16959141 ... 0.70774942 0.47176301 0.2121182 ]\n",
            " ...\n",
            " [0.95635006 1.         0.99640662 ... 0.77041266 0.76560891 0.99320887]\n",
            " [0.96572387 0.99720829 0.99700039 ... 0.78386898 0.76114707 0.99496585]\n",
            " [0.96951004 0.99923134 0.99912454 ... 0.79626439 0.75762872 1.        ]]\n",
            "\n",
            "\n",
            "(5292, 14)\n"
          ],
          "name": "stdout"
        }
      ]
    },
    {
      "cell_type": "markdown",
      "metadata": {
        "id": "VXvTGA4SExGI"
      },
      "source": [
        "2. Using StandardScaler for Normalisation"
      ]
    },
    {
      "cell_type": "code",
      "metadata": {
        "id": "zSU04UGBCTPN"
      },
      "source": [
        "# x = new_df_copy.values #returns a numpy array\n",
        "# standardScaler = preprocessing.StandardScaler()\n",
        "# x_scaled = standardScaler.fit_transform(x)\n",
        "# df = pd.DataFrame(x_scaled)\n"
      ],
      "execution_count": null,
      "outputs": []
    },
    {
      "cell_type": "code",
      "metadata": {
        "colab": {
          "base_uri": "https://localhost:8080/"
        },
        "id": "_Q8dAonu7zmw",
        "outputId": "6a31a857-7a22-4977-e9b9-2737f410e925"
      },
      "source": [
        "print(df)"
      ],
      "execution_count": null,
      "outputs": [
        {
          "output_type": "stream",
          "text": [
            "            0         1         2   ...        11        12        13\n",
            "0     0.051036  0.349569  0.178296  ...  0.736061  0.540393  0.227645\n",
            "1     0.054251  0.336978  0.164969  ...  0.736061  0.518039  0.211332\n",
            "2     0.051285  0.330454  0.169591  ...  0.707749  0.471763  0.212118\n",
            "3     0.052792  0.328367  0.174432  ...  0.688435  0.465410  0.212510\n",
            "4     0.052495  0.351891  0.184414  ...  0.700964  0.480807  0.223625\n",
            "...        ...       ...       ...  ...       ...       ...       ...\n",
            "5287  0.969064  0.991890  0.986139  ...  0.751623  0.755855  0.977402\n",
            "5288  0.953190  1.000000  1.000000  ...  0.751623  0.766402  0.994369\n",
            "5289  0.956350  1.000000  0.996407  ...  0.770413  0.765609  0.993209\n",
            "5290  0.965724  0.997208  0.997000  ...  0.783869  0.761147  0.994966\n",
            "5291  0.969510  0.999231  0.999125  ...  0.796264  0.757629  1.000000\n",
            "\n",
            "[5292 rows x 14 columns]\n"
          ],
          "name": "stdout"
        }
      ]
    },
    {
      "cell_type": "code",
      "metadata": {
        "id": "1K6wEpXECdzp"
      },
      "source": [
        "new_normalised_df_with_date = pd.concat((new_df['Date'],df),axis=1)"
      ],
      "execution_count": null,
      "outputs": []
    },
    {
      "cell_type": "code",
      "metadata": {
        "id": "xX411vGbMuiR"
      },
      "source": [
        "new_normalised_df_without_date = new_normalised_df_with_date.drop(columns = 'Date')"
      ],
      "execution_count": null,
      "outputs": []
    },
    {
      "cell_type": "code",
      "metadata": {
        "id": "efdNnekbSfi4"
      },
      "source": [
        "for col in new_normalised_df_without_date.columns:\n",
        "  new_normalised_df_without_date[col].fillna(value=new_normalised_df_without_date[col].mean(), inplace=True)"
      ],
      "execution_count": null,
      "outputs": []
    },
    {
      "cell_type": "code",
      "metadata": {
        "colab": {
          "base_uri": "https://localhost:8080/",
          "height": 391
        },
        "id": "e0FLAeVVS7ko",
        "outputId": "82567264-860f-4cd4-c5b1-7c00e0ae96fa"
      },
      "source": [
        "new_normalised_df_without_date"
      ],
      "execution_count": null,
      "outputs": [
        {
          "output_type": "execute_result",
          "data": {
            "text/html": [
              "<div>\n",
              "<style scoped>\n",
              "    .dataframe tbody tr th:only-of-type {\n",
              "        vertical-align: middle;\n",
              "    }\n",
              "\n",
              "    .dataframe tbody tr th {\n",
              "        vertical-align: top;\n",
              "    }\n",
              "\n",
              "    .dataframe thead th {\n",
              "        text-align: right;\n",
              "    }\n",
              "</style>\n",
              "<table border=\"1\" class=\"dataframe\">\n",
              "  <thead>\n",
              "    <tr style=\"text-align: right;\">\n",
              "      <th></th>\n",
              "      <th>0</th>\n",
              "      <th>1</th>\n",
              "      <th>2</th>\n",
              "      <th>3</th>\n",
              "      <th>4</th>\n",
              "      <th>5</th>\n",
              "      <th>6</th>\n",
              "      <th>7</th>\n",
              "      <th>8</th>\n",
              "      <th>9</th>\n",
              "      <th>10</th>\n",
              "      <th>11</th>\n",
              "      <th>12</th>\n",
              "      <th>13</th>\n",
              "    </tr>\n",
              "  </thead>\n",
              "  <tbody>\n",
              "    <tr>\n",
              "      <th>0</th>\n",
              "      <td>0.051036</td>\n",
              "      <td>0.349569</td>\n",
              "      <td>0.178296</td>\n",
              "      <td>0.582812</td>\n",
              "      <td>0.364878</td>\n",
              "      <td>0.215413</td>\n",
              "      <td>0.232413</td>\n",
              "      <td>0.509664</td>\n",
              "      <td>0.393933</td>\n",
              "      <td>0.000000</td>\n",
              "      <td>0.968780</td>\n",
              "      <td>0.736061</td>\n",
              "      <td>0.540393</td>\n",
              "      <td>0.227645</td>\n",
              "    </tr>\n",
              "    <tr>\n",
              "      <th>1</th>\n",
              "      <td>0.054251</td>\n",
              "      <td>0.336978</td>\n",
              "      <td>0.164969</td>\n",
              "      <td>0.586645</td>\n",
              "      <td>0.352791</td>\n",
              "      <td>0.215413</td>\n",
              "      <td>0.214737</td>\n",
              "      <td>0.509664</td>\n",
              "      <td>0.393933</td>\n",
              "      <td>0.000000</td>\n",
              "      <td>0.953648</td>\n",
              "      <td>0.736061</td>\n",
              "      <td>0.518039</td>\n",
              "      <td>0.211332</td>\n",
              "    </tr>\n",
              "    <tr>\n",
              "      <th>2</th>\n",
              "      <td>0.051285</td>\n",
              "      <td>0.330454</td>\n",
              "      <td>0.169591</td>\n",
              "      <td>0.586040</td>\n",
              "      <td>0.302864</td>\n",
              "      <td>0.188871</td>\n",
              "      <td>0.212877</td>\n",
              "      <td>0.489978</td>\n",
              "      <td>0.400856</td>\n",
              "      <td>0.000000</td>\n",
              "      <td>0.969576</td>\n",
              "      <td>0.707749</td>\n",
              "      <td>0.471763</td>\n",
              "      <td>0.212118</td>\n",
              "    </tr>\n",
              "    <tr>\n",
              "      <th>3</th>\n",
              "      <td>0.052792</td>\n",
              "      <td>0.328367</td>\n",
              "      <td>0.174432</td>\n",
              "      <td>0.591487</td>\n",
              "      <td>0.274626</td>\n",
              "      <td>0.179558</td>\n",
              "      <td>0.201290</td>\n",
              "      <td>0.473970</td>\n",
              "      <td>0.406209</td>\n",
              "      <td>0.000000</td>\n",
              "      <td>0.960178</td>\n",
              "      <td>0.688435</td>\n",
              "      <td>0.465410</td>\n",
              "      <td>0.212510</td>\n",
              "    </tr>\n",
              "    <tr>\n",
              "      <th>4</th>\n",
              "      <td>0.052495</td>\n",
              "      <td>0.351891</td>\n",
              "      <td>0.184414</td>\n",
              "      <td>0.594513</td>\n",
              "      <td>0.284903</td>\n",
              "      <td>0.175128</td>\n",
              "      <td>0.213268</td>\n",
              "      <td>0.475045</td>\n",
              "      <td>0.400856</td>\n",
              "      <td>0.000000</td>\n",
              "      <td>0.955878</td>\n",
              "      <td>0.700964</td>\n",
              "      <td>0.480807</td>\n",
              "      <td>0.223625</td>\n",
              "    </tr>\n",
              "    <tr>\n",
              "      <th>...</th>\n",
              "      <td>...</td>\n",
              "      <td>...</td>\n",
              "      <td>...</td>\n",
              "      <td>...</td>\n",
              "      <td>...</td>\n",
              "      <td>...</td>\n",
              "      <td>...</td>\n",
              "      <td>...</td>\n",
              "      <td>...</td>\n",
              "      <td>...</td>\n",
              "      <td>...</td>\n",
              "      <td>...</td>\n",
              "      <td>...</td>\n",
              "      <td>...</td>\n",
              "    </tr>\n",
              "    <tr>\n",
              "      <th>5288</th>\n",
              "      <td>0.953190</td>\n",
              "      <td>1.000000</td>\n",
              "      <td>1.000000</td>\n",
              "      <td>0.429090</td>\n",
              "      <td>0.825226</td>\n",
              "      <td>0.967828</td>\n",
              "      <td>0.969966</td>\n",
              "      <td>0.983812</td>\n",
              "      <td>0.991760</td>\n",
              "      <td>0.954166</td>\n",
              "      <td>0.190347</td>\n",
              "      <td>0.751623</td>\n",
              "      <td>0.766402</td>\n",
              "      <td>0.994369</td>\n",
              "    </tr>\n",
              "    <tr>\n",
              "      <th>5289</th>\n",
              "      <td>0.956350</td>\n",
              "      <td>1.000000</td>\n",
              "      <td>0.996407</td>\n",
              "      <td>0.423845</td>\n",
              "      <td>0.825226</td>\n",
              "      <td>0.970108</td>\n",
              "      <td>0.969411</td>\n",
              "      <td>0.967020</td>\n",
              "      <td>0.991760</td>\n",
              "      <td>0.954033</td>\n",
              "      <td>0.182542</td>\n",
              "      <td>0.770413</td>\n",
              "      <td>0.765609</td>\n",
              "      <td>0.993209</td>\n",
              "    </tr>\n",
              "    <tr>\n",
              "      <th>5290</th>\n",
              "      <td>0.965724</td>\n",
              "      <td>0.997208</td>\n",
              "      <td>0.997000</td>\n",
              "      <td>0.426266</td>\n",
              "      <td>0.825226</td>\n",
              "      <td>0.973878</td>\n",
              "      <td>0.968676</td>\n",
              "      <td>0.968481</td>\n",
              "      <td>0.991760</td>\n",
              "      <td>0.966492</td>\n",
              "      <td>0.185887</td>\n",
              "      <td>0.783869</td>\n",
              "      <td>0.761147</td>\n",
              "      <td>0.994966</td>\n",
              "    </tr>\n",
              "    <tr>\n",
              "      <th>5291</th>\n",
              "      <td>0.969510</td>\n",
              "      <td>0.999231</td>\n",
              "      <td>0.999125</td>\n",
              "      <td>0.418196</td>\n",
              "      <td>0.838796</td>\n",
              "      <td>0.976013</td>\n",
              "      <td>0.979497</td>\n",
              "      <td>0.967549</td>\n",
              "      <td>1.000000</td>\n",
              "      <td>0.969806</td>\n",
              "      <td>0.177445</td>\n",
              "      <td>0.796264</td>\n",
              "      <td>0.757629</td>\n",
              "      <td>1.000000</td>\n",
              "    </tr>\n",
              "    <tr>\n",
              "      <th>5292</th>\n",
              "      <td>0.323051</td>\n",
              "      <td>0.426132</td>\n",
              "      <td>0.307740</td>\n",
              "      <td>0.395706</td>\n",
              "      <td>0.472997</td>\n",
              "      <td>0.413070</td>\n",
              "      <td>0.214912</td>\n",
              "      <td>0.330632</td>\n",
              "      <td>0.338483</td>\n",
              "      <td>0.451691</td>\n",
              "      <td>0.441330</td>\n",
              "      <td>0.571104</td>\n",
              "      <td>0.553684</td>\n",
              "      <td>0.293165</td>\n",
              "    </tr>\n",
              "  </tbody>\n",
              "</table>\n",
              "<p>5293 rows × 14 columns</p>\n",
              "</div>"
            ],
            "text/plain": [
              "            0         1         2   ...        11        12        13\n",
              "0     0.051036  0.349569  0.178296  ...  0.736061  0.540393  0.227645\n",
              "1     0.054251  0.336978  0.164969  ...  0.736061  0.518039  0.211332\n",
              "2     0.051285  0.330454  0.169591  ...  0.707749  0.471763  0.212118\n",
              "3     0.052792  0.328367  0.174432  ...  0.688435  0.465410  0.212510\n",
              "4     0.052495  0.351891  0.184414  ...  0.700964  0.480807  0.223625\n",
              "...        ...       ...       ...  ...       ...       ...       ...\n",
              "5288  0.953190  1.000000  1.000000  ...  0.751623  0.766402  0.994369\n",
              "5289  0.956350  1.000000  0.996407  ...  0.770413  0.765609  0.993209\n",
              "5290  0.965724  0.997208  0.997000  ...  0.783869  0.761147  0.994966\n",
              "5291  0.969510  0.999231  0.999125  ...  0.796264  0.757629  1.000000\n",
              "5292  0.323051  0.426132  0.307740  ...  0.571104  0.553684  0.293165\n",
              "\n",
              "[5293 rows x 14 columns]"
            ]
          },
          "metadata": {
            "tags": []
          },
          "execution_count": 201
        }
      ]
    },
    {
      "cell_type": "code",
      "metadata": {
        "id": "rpPn9Vn5M5CR"
      },
      "source": [
        "final_data = new_normalised_df_without_date.values"
      ],
      "execution_count": null,
      "outputs": []
    },
    {
      "cell_type": "code",
      "metadata": {
        "colab": {
          "base_uri": "https://localhost:8080/"
        },
        "id": "mt_n9qFqSXKb",
        "outputId": "7376ff7f-cffd-490c-a5e0-5c7ab2619b57"
      },
      "source": [
        "final_data"
      ],
      "execution_count": null,
      "outputs": [
        {
          "output_type": "execute_result",
          "data": {
            "text/plain": [
              "array([[0.05103558, 0.34956939, 0.17829633, ..., 0.73606061, 0.54039333,\n",
              "        0.22764453],\n",
              "       [0.05425124, 0.33697807, 0.16496875, ..., 0.73606061, 0.51803905,\n",
              "        0.2113318 ],\n",
              "       [0.05128453, 0.33045369, 0.16959141, ..., 0.70774942, 0.47176301,\n",
              "        0.2121182 ],\n",
              "       ...,\n",
              "       [0.96572387, 0.99720829, 0.99700039, ..., 0.78386898, 0.76114707,\n",
              "        0.99496585],\n",
              "       [0.96951004, 0.99923134, 0.99912454, ..., 0.79626439, 0.75762872,\n",
              "        1.        ],\n",
              "       [0.32305122, 0.42613159, 0.30773973, ..., 0.57110387, 0.55368417,\n",
              "        0.29316463]])"
            ]
          },
          "metadata": {
            "tags": []
          },
          "execution_count": 203
        }
      ]
    },
    {
      "cell_type": "code",
      "metadata": {
        "id": "ctiRRP0DNOqS"
      },
      "source": [
        "X = final_data[:int(0.8*final_data.shape[0]),:]"
      ],
      "execution_count": null,
      "outputs": []
    },
    {
      "cell_type": "code",
      "metadata": {
        "id": "MZKjubmms8pH"
      },
      "source": [
        "X_test = final_data[int(0.8*final_data.shape[0]):,:]"
      ],
      "execution_count": null,
      "outputs": []
    },
    {
      "cell_type": "code",
      "metadata": {
        "colab": {
          "base_uri": "https://localhost:8080/"
        },
        "id": "yazAymsyrV8v",
        "outputId": "7af4a650-f3a8-4d33-d6f0-4781c44a5b60"
      },
      "source": [
        "print(X.shape, X_test.shape)"
      ],
      "execution_count": null,
      "outputs": [
        {
          "output_type": "stream",
          "text": [
            "(4234, 14) (1059, 14)\n"
          ],
          "name": "stdout"
        }
      ]
    },
    {
      "cell_type": "code",
      "metadata": {
        "colab": {
          "base_uri": "https://localhost:8080/"
        },
        "id": "6TARw1Jv_NbW",
        "outputId": "1c236dff-12b5-4359-fe4e-233f54ae3e66"
      },
      "source": [
        "print(X)"
      ],
      "execution_count": null,
      "outputs": [
        {
          "output_type": "stream",
          "text": [
            "[[0.05103558 0.34956939 0.17829633 ... 0.73606061 0.54039333 0.22764453]\n",
            " [0.05425124 0.33697807 0.16496875 ... 0.73606061 0.51803905 0.2113318 ]\n",
            " [0.05128453 0.33045369 0.16959141 ... 0.70774942 0.47176301 0.2121182 ]\n",
            " ...\n",
            " [0.49643166 0.71248885 0.49658712 ... 0.82370202 0.64462061 0.4655123 ]\n",
            " [0.49656997 0.71270023 0.49245964 ... 0.83196054 0.6493343  0.45996948]\n",
            " [0.5013243  0.71086004 0.49194445 ... 0.83504959 0.64589489 0.45977653]]\n"
          ],
          "name": "stdout"
        }
      ]
    },
    {
      "cell_type": "code",
      "metadata": {
        "id": "P_63sxgyPgu1",
        "colab": {
          "base_uri": "https://localhost:8080/"
        },
        "outputId": "45db2d2c-c1bb-496b-adde-428747c9ba53"
      },
      "source": [
        "# shaping data from neural network\n",
        "X_train = []\n",
        "y_train = []\n",
        "for i in range(60, X.shape[0]):\n",
        "  X_train.append(X[i-60:i,1:])\n",
        "  y_train.append(X[i,0])\n",
        "  if i <= 61:\n",
        "    print(X_train)\n",
        "    print('\\n')\n",
        "    print(y_train)\n",
        "    print()"
      ],
      "execution_count": null,
      "outputs": [
        {
          "output_type": "stream",
          "text": [
            "[array([[0.34956939, 0.17829633, 0.58281216, 0.36487762, 0.21541259,\n",
            "        0.23241324, 0.50966437, 0.39393317, 0.        , 0.96877987,\n",
            "        0.73606061, 0.54039333, 0.22764453],\n",
            "       [0.33697807, 0.16496875, 0.58664519, 0.35279146, 0.21541259,\n",
            "        0.21473713, 0.50966437, 0.39393317, 0.        , 0.95364766,\n",
            "        0.73606061, 0.51803905, 0.2113318 ],\n",
            "       [0.33045369, 0.16959141, 0.58603984, 0.30286449, 0.188871  ,\n",
            "        0.21287678, 0.48997768, 0.40085595, 0.        , 0.9695763 ,\n",
            "        0.70774942, 0.47176301, 0.2121182 ],\n",
            "       [0.32836679, 0.17443238, 0.59148679, 0.27462552, 0.17955791,\n",
            "        0.20129015, 0.47397025, 0.406209  , 0.        , 0.9601784 ,\n",
            "        0.68843524, 0.46541044, 0.21250994],\n",
            "       [0.35189075, 0.18441379, 0.59451283, 0.28490325, 0.17512764,\n",
            "        0.21326812, 0.47504547, 0.40085595, 0.        , 0.95587767,\n",
            "        0.70096353, 0.48080696, 0.22362482],\n",
            "       [0.36300244, 0.18625367, 0.59834569, 0.30292274, 0.18921039,\n",
            "        0.22613655, 0.50316615, 0.41960418, 0.        , 0.96240841,\n",
            "        0.7233929 , 0.48367502, 0.22834031],\n",
            "       [0.36036826, 0.1839883 , 0.58967109, 0.30349076, 0.18705365,\n",
            "        0.21623929, 0.50316615, 0.40657992, 0.        , 0.97913348,\n",
            "        0.70405476, 0.48072427, 0.2227741 ],\n",
            "       [0.36202549, 0.18547161, 0.5908816 , 0.29746827, 0.17744861,\n",
            "        0.21075682, 0.49574582, 0.42272363, 0.        , 0.98582351,\n",
            "        0.70708281, 0.48180308, 0.22092942],\n",
            "       [0.36534377, 0.18663283, 0.59854747, 0.29420088, 0.17600347,\n",
            "        0.21901403, 0.50241211, 0.41994474, 0.        , 0.97483275,\n",
            "        0.70678218, 0.46672982, 0.22602495],\n",
            "       [0.38204207, 0.19184222, 0.6130724 , 0.29046564, 0.17490139,\n",
            "        0.22726125, 0.50768382, 0.41371706, 0.        , 0.98375279,\n",
            "        0.73438756, 0.46900772, 0.2305475 ],\n",
            "       [0.38862789, 0.18582817, 0.6197297 , 0.29178209, 0.18776162,\n",
            "        0.23238706, 0.52824174, 0.43539255, 0.        , 0.98295636,\n",
            "        0.73684486, 0.44968312, 0.22762115],\n",
            "       [0.37427095, 0.18582817, 0.61589669, 0.30052228, 0.18712664,\n",
            "        0.23238706, 0.51794908, 0.43055291, 0.        , 0.9941064 ,\n",
            "        0.70092432, 0.44061661, 0.22762115],\n",
            "       [0.37572524, 0.18318326, 0.61387936, 0.27959783, 0.17152576,\n",
            "        0.23396471, 0.505169  , 0.42322733, 0.        , 0.99044282,\n",
            "        0.68804529, 0.41942007, 0.22784333],\n",
            "       [0.37738708, 0.17806616, 0.60580995, 0.27715338, 0.17412408,\n",
            "        0.23690891, 0.50988464, 0.42215241, 0.        , 1.        ,\n",
            "        0.66697528, 0.44223295, 0.22482342],\n",
            "       [0.36817012, 0.17437493, 0.61387936, 0.27280043, 0.16655535,\n",
            "        0.24044399, 0.50432817, 0.43097946, 0.        , 0.99713284,\n",
            "        0.6664481 , 0.41902915, 0.22359266],\n",
            "       [0.36349978, 0.16534829, 0.6227556 , 0.2752086 , 0.16714291,\n",
            "        0.22971169, 0.51196751, 0.44070706, 0.        , 0.98391207,\n",
            "        0.67375028, 0.40821474, 0.21194864],\n",
            "       [0.35409527, 0.16615333, 0.62699217, 0.27258176, 0.15416953,\n",
            "        0.2352065 , 0.50507402, 0.43961656, 0.        , 0.98470851,\n",
            "        0.65071747, 0.40756821, 0.21443356],\n",
            "       [0.37842244, 0.16608402, 0.64232391, 0.30575927, 0.16074197,\n",
            "        0.22535775, 0.5185115 , 0.45865268, 0.        , 0.98550494,\n",
            "        0.68706935, 0.42582527, 0.21108038],\n",
            "       [0.37384665, 0.15536687, 0.66875128, 0.3166776 , 0.1725804 ,\n",
            "        0.21361091, 0.52813691, 0.46369191, 0.        , 0.9789742 ,\n",
            "        0.67283097, 0.41537548, 0.19985441],\n",
            "       [0.35609069, 0.16284126, 0.68186393, 0.2900629 , 0.1733869 ,\n",
            "        0.21771526, 0.53262417, 0.46725117, 0.        , 0.97961134,\n",
            "        0.64950625, 0.39880993, 0.20988178],\n",
            "       [0.37260603, 0.16656696, 0.67762752, 0.29501123, 0.16786547,\n",
            "        0.2263145 , 0.52764942, 0.47552257, 0.        , 0.97387703,\n",
            "        0.65438381, 0.40212153, 0.2142143 ],\n",
            "       [0.38194445, 0.16516408, 0.67500502, 0.30054753, 0.17328108,\n",
            "        0.2280077 , 0.53430117, 0.48683476, 0.        , 0.96575342,\n",
            "        0.65697617, 0.41597315, 0.21416752],\n",
            "       [0.39595778, 0.16554362, 0.65503331, 0.30780793, 0.17570057,\n",
            "        0.23856284, 0.54317604, 0.48683476, 0.        , 0.94552405,\n",
            "        0.66165985, 0.40947774, 0.21880116],\n",
            "       [0.4029026 , 0.16370375, 0.66491828, 0.31842001, 0.18406119,\n",
            "        0.24111728, 0.54218   , 0.48683476, 0.        , 0.96304556,\n",
            "        0.63130309, 0.41352985, 0.21862575],\n",
            "       [0.3915042 , 0.16155365, 0.67197896, 0.31842001, 0.18406119,\n",
            "        0.24709738, 0.54997664, 0.48683476, 0.        , 0.97690347,\n",
            "        0.61685122, 0.40989498, 0.21858775],\n",
            "       [0.41099424, 0.16347395, 0.66350613, 0.31842001, 0.17971483,\n",
            "        0.25524214, 0.54670276, 0.48683476, 0.        , 0.97260274,\n",
            "        0.65326844, 0.40989498, 0.2236979 ],\n",
            "       [0.4170843 , 0.15389505, 0.65261243, 0.34247463, 0.18512679,\n",
            "        0.25029198, 0.55264282, 0.48683476, 0.        , 0.98072635,\n",
            "        0.65971667, 0.40552711, 0.21492177],\n",
            "       [0.42324586, 0.15183687, 0.66169044, 0.3435215 , 0.1815249 ,\n",
            "        0.25972009, 0.53990851, 0.49045415, 0.        , 0.98136349,\n",
            "        0.65196137, 0.4006518 , 0.21642149],\n",
            "       [0.41573454, 0.14374129, 0.66290095, 0.3653121 , 0.17679537,\n",
            "        0.25277323, 0.53334105, 0.49572114, 0.        , 0.96893915,\n",
            "        0.63311992, 0.40156521, 0.20773598],\n",
            "       [0.41829032, 0.14724868, 0.67359288, 0.35752072, 0.16134047,\n",
            "        0.25455267, 0.53334105, 0.48405811, 0.        , 0.96336413,\n",
            "        0.60595459, 0.40108407, 0.20856039],\n",
            "       [0.39917616, 0.15459668, 0.67298769, 0.33712805, 0.14996552,\n",
            "        0.2547237 , 0.5252736 , 0.48304106, 0.        , 0.96208984,\n",
            "        0.59213665, 0.39058541, 0.21210066],\n",
            "       [0.40641612, 0.14878944, 0.6647165 , 0.35159308, 0.14989252,\n",
            "        0.25525369, 0.53516806, 0.4909601 , 0.        , 0.96065626,\n",
            "        0.6231121 , 0.39386319, 0.20789677],\n",
            "       [0.41335017, 0.14705335, 0.66451473, 0.34906191, 0.15646862,\n",
            "        0.26459554, 0.54338904, 0.50117583, 0.        , 0.96336413,\n",
            "        0.6366098 , 0.40258764, 0.20806925],\n",
            "       [0.41283132, 0.13611753, 0.67177718, 0.33350395, 0.15646862,\n",
            "        0.25402811, 0.54328764, 0.49332577, 0.        , 0.95109908,\n",
            "        0.62694182, 0.37923724, 0.19574115],\n",
            "       [0.41411882, 0.13927986, 0.67076861, 0.32223303, 0.13741912,\n",
            "        0.25174637, 0.53279742, 0.47969761, 0.        , 0.93198471,\n",
            "        0.60878658, 0.3569243 , 0.19751859],\n",
            "       [0.41545707, 0.13927986, 0.64454301, 0.31949663, 0.13913431,\n",
            "        0.25174637, 0.52624658, 0.46628976, 0.        , 0.93198471,\n",
            "        0.5942149 , 0.3545637 , 0.19751859],\n",
            "       [0.42245416, 0.1363477 , 0.64958638, 0.32444902, 0.15031949,\n",
            "        0.26470417, 0.53176246, 0.45963778, 0.        , 0.94138261,\n",
            "        0.62239756, 0.36530669, 0.20000935],\n",
            "       [0.4179621 , 0.13141444, 0.65926972, 0.35221485, 0.14546589,\n",
            "        0.26989006, 0.53398166, 0.45644125, 0.        , 0.93262185,\n",
            "        0.60989323, 0.35967583, 0.19788695],\n",
            "       [0.42550649, 0.12287075, 0.68448658, 0.35801015, 0.14451342,\n",
            "        0.2677986 , 0.54452157, 0.44407645, 0.        , 0.92784326,\n",
            "        0.63413508, 0.36543825, 0.19201962],\n",
            "       [0.41385749, 0.12941371, 0.68468822, 0.34919258, 0.12781774,\n",
            "        0.26682414, 0.54033962, 0.4443324 , 0.        , 0.94074546,\n",
            "        0.61271215, 0.36090876, 0.19631414],\n",
            "       [0.4182711 , 0.13273689, 0.69780101, 0.3567258 , 0.13123716,\n",
            "        0.27597879, 0.55057924, 0.4443324 , 0.        , 0.93931188,\n",
            "        0.64166817, 0.37322297, 0.20168448],\n",
            "       [0.42468019, 0.13309345, 0.67702233, 0.34345716, 0.1554249 ,\n",
            "        0.28271076, 0.55580342, 0.4631125 , 0.        , 0.93532972,\n",
            "        0.67049566, 0.37296737, 0.2054177 ],\n",
            "       [0.44142458, 0.13409382, 0.69235425, 0.34725312, 0.1554249 ,\n",
            "        0.28043286, 0.55509515, 0.45233525, 0.        , 0.93596687,\n",
            "        0.68513706, 0.36721998, 0.20616902],\n",
            "       [0.44252066, 0.14159119, 0.69941493, 0.36144122, 0.15548695,\n",
            "        0.29277981, 0.54921148, 0.45561487, 0.        , 0.93453329,\n",
            "        0.69719698, 0.36390085, 0.21418214],\n",
            "       [0.4437313 , 0.13430064, 0.70264277, 0.380723  , 0.16077848,\n",
            "        0.2920141 , 0.54360071, 0.43928571, 0.        , 0.93994903,\n",
            "        0.71470087, 0.3734861 , 0.20895213],\n",
            "       [0.45058697, 0.12042117, 0.70123046, 0.38506375, 0.16005227,\n",
            "        0.2876224 , 0.54992577, 0.44018778, 0.        , 0.933259  ,\n",
            "        0.69263966, 0.37121571, 0.19852718],\n",
            "       [0.44459375, 0.12266356, 0.69800278, 0.38856854, 0.16293522,\n",
            "        0.29142939, 0.54233696, 0.44088658, 0.        , 0.93660401,\n",
            "        0.68058627, 0.36857695, 0.20176634],\n",
            "       [0.44168438, 0.12837887, 0.68670569, 0.37576612, 0.15175004,\n",
            "        0.30295362, 0.53786891, 0.45555844, 0.        , 0.9297547 ,\n",
            "        0.70692378, 0.36831007, 0.21199542],\n",
            "       [0.4437444 , 0.12534294, 0.6935646 , 0.38369962, 0.15422062,\n",
            "        0.30308921, 0.54163554, 0.44386201, 0.        , 0.93580758,\n",
            "        0.71490128, 0.37929362, 0.21006011],\n",
            "       [0.4220606 , 0.12602158, 0.68932818, 0.35376301, 0.14082758,\n",
            "        0.29219822, 0.51766507, 0.39804293, 0.        , 0.93309971,\n",
            "        0.69271154, 0.35934129, 0.20671278],\n",
            "       [0.41869387, 0.12098492, 0.68529354, 0.3469416 , 0.13793732,\n",
            "        0.2767445 , 0.51560834, 0.39979587, 0.        , 0.92099395,\n",
            "        0.69712074, 0.362277  , 0.19955915],\n",
            "       [0.40058511, 0.13285179, 0.6869073 , 0.33953212, 0.1345763 ,\n",
            "        0.26719159, 0.51290366, 0.3852894 , 0.        , 0.91956037,\n",
            "        0.68838078, 0.35044393, 0.20920646],\n",
            "       [0.41361383, 0.15135392, 0.68287266, 0.3237246 , 0.13592288,\n",
            "        0.2775734 , 0.52037235, 0.3884592 , 0.        , 0.91350749,\n",
            "        0.71240042, 0.3802935 , 0.22859465],\n",
            "       [0.43082944, 0.1616111 , 0.69558192, 0.35796943, 0.14402074,\n",
            "        0.27713354, 0.53530405, 0.41232541, 0.        , 0.89662313,\n",
            "        0.72560621, 0.3802935 , 0.23894359],\n",
            "       [0.43011381, 0.1601048 , 0.70022189, 0.3721017 , 0.15096178,\n",
            "        0.28892505, 0.54091658, 0.41714056, 0.        , 0.89327811,\n",
            "        0.72380898, 0.38479668, 0.24092275],\n",
            "       [0.42213206, 0.169488  , 0.6838814 , 0.37896471, 0.14555712,\n",
            "        0.2947688 , 0.53967671, 0.45159711, 0.        , 0.88802166,\n",
            "        0.72053912, 0.38320666, 0.24873123],\n",
            "       [0.44039842, 0.16922336, 0.67460147, 0.38177401, 0.15344697,\n",
            "        0.29649589, 0.55051768, 0.44779668, 0.        , 0.90458745,\n",
            "        0.75188491, 0.38669869, 0.24876339],\n",
            "       [0.4373292 , 0.16600359, 0.68831945, 0.4024716 , 0.1525237 ,\n",
            "        0.29615157, 0.56432972, 0.47190101, 0.        , 0.9039503 ,\n",
            "        0.7407029 , 0.4103498 , 0.24771095],\n",
            "       [0.44036077, 0.16267744, 0.68993337, 0.40283116, 0.15419508,\n",
            "        0.28654781, 0.56832046, 0.47553815, 0.        , 0.89853457,\n",
            "        0.73263608, 0.40330559, 0.24299546],\n",
            "       [0.43519768, 0.16573932, 0.7044583 , 0.39447049, 0.16047923,\n",
            "        0.2719715 , 0.58253287, 0.47176156, 0.        , 0.89789742,\n",
            "        0.72145843, 0.39625386, 0.24322641]])]\n",
            "\n",
            "\n",
            "[0.04808270806680266]\n",
            "\n",
            "[array([[0.34956939, 0.17829633, 0.58281216, 0.36487762, 0.21541259,\n",
            "        0.23241324, 0.50966437, 0.39393317, 0.        , 0.96877987,\n",
            "        0.73606061, 0.54039333, 0.22764453],\n",
            "       [0.33697807, 0.16496875, 0.58664519, 0.35279146, 0.21541259,\n",
            "        0.21473713, 0.50966437, 0.39393317, 0.        , 0.95364766,\n",
            "        0.73606061, 0.51803905, 0.2113318 ],\n",
            "       [0.33045369, 0.16959141, 0.58603984, 0.30286449, 0.188871  ,\n",
            "        0.21287678, 0.48997768, 0.40085595, 0.        , 0.9695763 ,\n",
            "        0.70774942, 0.47176301, 0.2121182 ],\n",
            "       [0.32836679, 0.17443238, 0.59148679, 0.27462552, 0.17955791,\n",
            "        0.20129015, 0.47397025, 0.406209  , 0.        , 0.9601784 ,\n",
            "        0.68843524, 0.46541044, 0.21250994],\n",
            "       [0.35189075, 0.18441379, 0.59451283, 0.28490325, 0.17512764,\n",
            "        0.21326812, 0.47504547, 0.40085595, 0.        , 0.95587767,\n",
            "        0.70096353, 0.48080696, 0.22362482],\n",
            "       [0.36300244, 0.18625367, 0.59834569, 0.30292274, 0.18921039,\n",
            "        0.22613655, 0.50316615, 0.41960418, 0.        , 0.96240841,\n",
            "        0.7233929 , 0.48367502, 0.22834031],\n",
            "       [0.36036826, 0.1839883 , 0.58967109, 0.30349076, 0.18705365,\n",
            "        0.21623929, 0.50316615, 0.40657992, 0.        , 0.97913348,\n",
            "        0.70405476, 0.48072427, 0.2227741 ],\n",
            "       [0.36202549, 0.18547161, 0.5908816 , 0.29746827, 0.17744861,\n",
            "        0.21075682, 0.49574582, 0.42272363, 0.        , 0.98582351,\n",
            "        0.70708281, 0.48180308, 0.22092942],\n",
            "       [0.36534377, 0.18663283, 0.59854747, 0.29420088, 0.17600347,\n",
            "        0.21901403, 0.50241211, 0.41994474, 0.        , 0.97483275,\n",
            "        0.70678218, 0.46672982, 0.22602495],\n",
            "       [0.38204207, 0.19184222, 0.6130724 , 0.29046564, 0.17490139,\n",
            "        0.22726125, 0.50768382, 0.41371706, 0.        , 0.98375279,\n",
            "        0.73438756, 0.46900772, 0.2305475 ],\n",
            "       [0.38862789, 0.18582817, 0.6197297 , 0.29178209, 0.18776162,\n",
            "        0.23238706, 0.52824174, 0.43539255, 0.        , 0.98295636,\n",
            "        0.73684486, 0.44968312, 0.22762115],\n",
            "       [0.37427095, 0.18582817, 0.61589669, 0.30052228, 0.18712664,\n",
            "        0.23238706, 0.51794908, 0.43055291, 0.        , 0.9941064 ,\n",
            "        0.70092432, 0.44061661, 0.22762115],\n",
            "       [0.37572524, 0.18318326, 0.61387936, 0.27959783, 0.17152576,\n",
            "        0.23396471, 0.505169  , 0.42322733, 0.        , 0.99044282,\n",
            "        0.68804529, 0.41942007, 0.22784333],\n",
            "       [0.37738708, 0.17806616, 0.60580995, 0.27715338, 0.17412408,\n",
            "        0.23690891, 0.50988464, 0.42215241, 0.        , 1.        ,\n",
            "        0.66697528, 0.44223295, 0.22482342],\n",
            "       [0.36817012, 0.17437493, 0.61387936, 0.27280043, 0.16655535,\n",
            "        0.24044399, 0.50432817, 0.43097946, 0.        , 0.99713284,\n",
            "        0.6664481 , 0.41902915, 0.22359266],\n",
            "       [0.36349978, 0.16534829, 0.6227556 , 0.2752086 , 0.16714291,\n",
            "        0.22971169, 0.51196751, 0.44070706, 0.        , 0.98391207,\n",
            "        0.67375028, 0.40821474, 0.21194864],\n",
            "       [0.35409527, 0.16615333, 0.62699217, 0.27258176, 0.15416953,\n",
            "        0.2352065 , 0.50507402, 0.43961656, 0.        , 0.98470851,\n",
            "        0.65071747, 0.40756821, 0.21443356],\n",
            "       [0.37842244, 0.16608402, 0.64232391, 0.30575927, 0.16074197,\n",
            "        0.22535775, 0.5185115 , 0.45865268, 0.        , 0.98550494,\n",
            "        0.68706935, 0.42582527, 0.21108038],\n",
            "       [0.37384665, 0.15536687, 0.66875128, 0.3166776 , 0.1725804 ,\n",
            "        0.21361091, 0.52813691, 0.46369191, 0.        , 0.9789742 ,\n",
            "        0.67283097, 0.41537548, 0.19985441],\n",
            "       [0.35609069, 0.16284126, 0.68186393, 0.2900629 , 0.1733869 ,\n",
            "        0.21771526, 0.53262417, 0.46725117, 0.        , 0.97961134,\n",
            "        0.64950625, 0.39880993, 0.20988178],\n",
            "       [0.37260603, 0.16656696, 0.67762752, 0.29501123, 0.16786547,\n",
            "        0.2263145 , 0.52764942, 0.47552257, 0.        , 0.97387703,\n",
            "        0.65438381, 0.40212153, 0.2142143 ],\n",
            "       [0.38194445, 0.16516408, 0.67500502, 0.30054753, 0.17328108,\n",
            "        0.2280077 , 0.53430117, 0.48683476, 0.        , 0.96575342,\n",
            "        0.65697617, 0.41597315, 0.21416752],\n",
            "       [0.39595778, 0.16554362, 0.65503331, 0.30780793, 0.17570057,\n",
            "        0.23856284, 0.54317604, 0.48683476, 0.        , 0.94552405,\n",
            "        0.66165985, 0.40947774, 0.21880116],\n",
            "       [0.4029026 , 0.16370375, 0.66491828, 0.31842001, 0.18406119,\n",
            "        0.24111728, 0.54218   , 0.48683476, 0.        , 0.96304556,\n",
            "        0.63130309, 0.41352985, 0.21862575],\n",
            "       [0.3915042 , 0.16155365, 0.67197896, 0.31842001, 0.18406119,\n",
            "        0.24709738, 0.54997664, 0.48683476, 0.        , 0.97690347,\n",
            "        0.61685122, 0.40989498, 0.21858775],\n",
            "       [0.41099424, 0.16347395, 0.66350613, 0.31842001, 0.17971483,\n",
            "        0.25524214, 0.54670276, 0.48683476, 0.        , 0.97260274,\n",
            "        0.65326844, 0.40989498, 0.2236979 ],\n",
            "       [0.4170843 , 0.15389505, 0.65261243, 0.34247463, 0.18512679,\n",
            "        0.25029198, 0.55264282, 0.48683476, 0.        , 0.98072635,\n",
            "        0.65971667, 0.40552711, 0.21492177],\n",
            "       [0.42324586, 0.15183687, 0.66169044, 0.3435215 , 0.1815249 ,\n",
            "        0.25972009, 0.53990851, 0.49045415, 0.        , 0.98136349,\n",
            "        0.65196137, 0.4006518 , 0.21642149],\n",
            "       [0.41573454, 0.14374129, 0.66290095, 0.3653121 , 0.17679537,\n",
            "        0.25277323, 0.53334105, 0.49572114, 0.        , 0.96893915,\n",
            "        0.63311992, 0.40156521, 0.20773598],\n",
            "       [0.41829032, 0.14724868, 0.67359288, 0.35752072, 0.16134047,\n",
            "        0.25455267, 0.53334105, 0.48405811, 0.        , 0.96336413,\n",
            "        0.60595459, 0.40108407, 0.20856039],\n",
            "       [0.39917616, 0.15459668, 0.67298769, 0.33712805, 0.14996552,\n",
            "        0.2547237 , 0.5252736 , 0.48304106, 0.        , 0.96208984,\n",
            "        0.59213665, 0.39058541, 0.21210066],\n",
            "       [0.40641612, 0.14878944, 0.6647165 , 0.35159308, 0.14989252,\n",
            "        0.25525369, 0.53516806, 0.4909601 , 0.        , 0.96065626,\n",
            "        0.6231121 , 0.39386319, 0.20789677],\n",
            "       [0.41335017, 0.14705335, 0.66451473, 0.34906191, 0.15646862,\n",
            "        0.26459554, 0.54338904, 0.50117583, 0.        , 0.96336413,\n",
            "        0.6366098 , 0.40258764, 0.20806925],\n",
            "       [0.41283132, 0.13611753, 0.67177718, 0.33350395, 0.15646862,\n",
            "        0.25402811, 0.54328764, 0.49332577, 0.        , 0.95109908,\n",
            "        0.62694182, 0.37923724, 0.19574115],\n",
            "       [0.41411882, 0.13927986, 0.67076861, 0.32223303, 0.13741912,\n",
            "        0.25174637, 0.53279742, 0.47969761, 0.        , 0.93198471,\n",
            "        0.60878658, 0.3569243 , 0.19751859],\n",
            "       [0.41545707, 0.13927986, 0.64454301, 0.31949663, 0.13913431,\n",
            "        0.25174637, 0.52624658, 0.46628976, 0.        , 0.93198471,\n",
            "        0.5942149 , 0.3545637 , 0.19751859],\n",
            "       [0.42245416, 0.1363477 , 0.64958638, 0.32444902, 0.15031949,\n",
            "        0.26470417, 0.53176246, 0.45963778, 0.        , 0.94138261,\n",
            "        0.62239756, 0.36530669, 0.20000935],\n",
            "       [0.4179621 , 0.13141444, 0.65926972, 0.35221485, 0.14546589,\n",
            "        0.26989006, 0.53398166, 0.45644125, 0.        , 0.93262185,\n",
            "        0.60989323, 0.35967583, 0.19788695],\n",
            "       [0.42550649, 0.12287075, 0.68448658, 0.35801015, 0.14451342,\n",
            "        0.2677986 , 0.54452157, 0.44407645, 0.        , 0.92784326,\n",
            "        0.63413508, 0.36543825, 0.19201962],\n",
            "       [0.41385749, 0.12941371, 0.68468822, 0.34919258, 0.12781774,\n",
            "        0.26682414, 0.54033962, 0.4443324 , 0.        , 0.94074546,\n",
            "        0.61271215, 0.36090876, 0.19631414],\n",
            "       [0.4182711 , 0.13273689, 0.69780101, 0.3567258 , 0.13123716,\n",
            "        0.27597879, 0.55057924, 0.4443324 , 0.        , 0.93931188,\n",
            "        0.64166817, 0.37322297, 0.20168448],\n",
            "       [0.42468019, 0.13309345, 0.67702233, 0.34345716, 0.1554249 ,\n",
            "        0.28271076, 0.55580342, 0.4631125 , 0.        , 0.93532972,\n",
            "        0.67049566, 0.37296737, 0.2054177 ],\n",
            "       [0.44142458, 0.13409382, 0.69235425, 0.34725312, 0.1554249 ,\n",
            "        0.28043286, 0.55509515, 0.45233525, 0.        , 0.93596687,\n",
            "        0.68513706, 0.36721998, 0.20616902],\n",
            "       [0.44252066, 0.14159119, 0.69941493, 0.36144122, 0.15548695,\n",
            "        0.29277981, 0.54921148, 0.45561487, 0.        , 0.93453329,\n",
            "        0.69719698, 0.36390085, 0.21418214],\n",
            "       [0.4437313 , 0.13430064, 0.70264277, 0.380723  , 0.16077848,\n",
            "        0.2920141 , 0.54360071, 0.43928571, 0.        , 0.93994903,\n",
            "        0.71470087, 0.3734861 , 0.20895213],\n",
            "       [0.45058697, 0.12042117, 0.70123046, 0.38506375, 0.16005227,\n",
            "        0.2876224 , 0.54992577, 0.44018778, 0.        , 0.933259  ,\n",
            "        0.69263966, 0.37121571, 0.19852718],\n",
            "       [0.44459375, 0.12266356, 0.69800278, 0.38856854, 0.16293522,\n",
            "        0.29142939, 0.54233696, 0.44088658, 0.        , 0.93660401,\n",
            "        0.68058627, 0.36857695, 0.20176634],\n",
            "       [0.44168438, 0.12837887, 0.68670569, 0.37576612, 0.15175004,\n",
            "        0.30295362, 0.53786891, 0.45555844, 0.        , 0.9297547 ,\n",
            "        0.70692378, 0.36831007, 0.21199542],\n",
            "       [0.4437444 , 0.12534294, 0.6935646 , 0.38369962, 0.15422062,\n",
            "        0.30308921, 0.54163554, 0.44386201, 0.        , 0.93580758,\n",
            "        0.71490128, 0.37929362, 0.21006011],\n",
            "       [0.4220606 , 0.12602158, 0.68932818, 0.35376301, 0.14082758,\n",
            "        0.29219822, 0.51766507, 0.39804293, 0.        , 0.93309971,\n",
            "        0.69271154, 0.35934129, 0.20671278],\n",
            "       [0.41869387, 0.12098492, 0.68529354, 0.3469416 , 0.13793732,\n",
            "        0.2767445 , 0.51560834, 0.39979587, 0.        , 0.92099395,\n",
            "        0.69712074, 0.362277  , 0.19955915],\n",
            "       [0.40058511, 0.13285179, 0.6869073 , 0.33953212, 0.1345763 ,\n",
            "        0.26719159, 0.51290366, 0.3852894 , 0.        , 0.91956037,\n",
            "        0.68838078, 0.35044393, 0.20920646],\n",
            "       [0.41361383, 0.15135392, 0.68287266, 0.3237246 , 0.13592288,\n",
            "        0.2775734 , 0.52037235, 0.3884592 , 0.        , 0.91350749,\n",
            "        0.71240042, 0.3802935 , 0.22859465],\n",
            "       [0.43082944, 0.1616111 , 0.69558192, 0.35796943, 0.14402074,\n",
            "        0.27713354, 0.53530405, 0.41232541, 0.        , 0.89662313,\n",
            "        0.72560621, 0.3802935 , 0.23894359],\n",
            "       [0.43011381, 0.1601048 , 0.70022189, 0.3721017 , 0.15096178,\n",
            "        0.28892505, 0.54091658, 0.41714056, 0.        , 0.89327811,\n",
            "        0.72380898, 0.38479668, 0.24092275],\n",
            "       [0.42213206, 0.169488  , 0.6838814 , 0.37896471, 0.14555712,\n",
            "        0.2947688 , 0.53967671, 0.45159711, 0.        , 0.88802166,\n",
            "        0.72053912, 0.38320666, 0.24873123],\n",
            "       [0.44039842, 0.16922336, 0.67460147, 0.38177401, 0.15344697,\n",
            "        0.29649589, 0.55051768, 0.44779668, 0.        , 0.90458745,\n",
            "        0.75188491, 0.38669869, 0.24876339],\n",
            "       [0.4373292 , 0.16600359, 0.68831945, 0.4024716 , 0.1525237 ,\n",
            "        0.29615157, 0.56432972, 0.47190101, 0.        , 0.9039503 ,\n",
            "        0.7407029 , 0.4103498 , 0.24771095],\n",
            "       [0.44036077, 0.16267744, 0.68993337, 0.40283116, 0.15419508,\n",
            "        0.28654781, 0.56832046, 0.47553815, 0.        , 0.89853457,\n",
            "        0.73263608, 0.40330559, 0.24299546],\n",
            "       [0.43519768, 0.16573932, 0.7044583 , 0.39447049, 0.16047923,\n",
            "        0.2719715 , 0.58253287, 0.47176156, 0.        , 0.89789742,\n",
            "        0.72145843, 0.39625386, 0.24322641]]), array([[0.33697807, 0.16496875, 0.58664519, 0.35279146, 0.21541259,\n",
            "        0.21473713, 0.50966437, 0.39393317, 0.        , 0.95364766,\n",
            "        0.73606061, 0.51803905, 0.2113318 ],\n",
            "       [0.33045369, 0.16959141, 0.58603984, 0.30286449, 0.188871  ,\n",
            "        0.21287678, 0.48997768, 0.40085595, 0.        , 0.9695763 ,\n",
            "        0.70774942, 0.47176301, 0.2121182 ],\n",
            "       [0.32836679, 0.17443238, 0.59148679, 0.27462552, 0.17955791,\n",
            "        0.20129015, 0.47397025, 0.406209  , 0.        , 0.9601784 ,\n",
            "        0.68843524, 0.46541044, 0.21250994],\n",
            "       [0.35189075, 0.18441379, 0.59451283, 0.28490325, 0.17512764,\n",
            "        0.21326812, 0.47504547, 0.40085595, 0.        , 0.95587767,\n",
            "        0.70096353, 0.48080696, 0.22362482],\n",
            "       [0.36300244, 0.18625367, 0.59834569, 0.30292274, 0.18921039,\n",
            "        0.22613655, 0.50316615, 0.41960418, 0.        , 0.96240841,\n",
            "        0.7233929 , 0.48367502, 0.22834031],\n",
            "       [0.36036826, 0.1839883 , 0.58967109, 0.30349076, 0.18705365,\n",
            "        0.21623929, 0.50316615, 0.40657992, 0.        , 0.97913348,\n",
            "        0.70405476, 0.48072427, 0.2227741 ],\n",
            "       [0.36202549, 0.18547161, 0.5908816 , 0.29746827, 0.17744861,\n",
            "        0.21075682, 0.49574582, 0.42272363, 0.        , 0.98582351,\n",
            "        0.70708281, 0.48180308, 0.22092942],\n",
            "       [0.36534377, 0.18663283, 0.59854747, 0.29420088, 0.17600347,\n",
            "        0.21901403, 0.50241211, 0.41994474, 0.        , 0.97483275,\n",
            "        0.70678218, 0.46672982, 0.22602495],\n",
            "       [0.38204207, 0.19184222, 0.6130724 , 0.29046564, 0.17490139,\n",
            "        0.22726125, 0.50768382, 0.41371706, 0.        , 0.98375279,\n",
            "        0.73438756, 0.46900772, 0.2305475 ],\n",
            "       [0.38862789, 0.18582817, 0.6197297 , 0.29178209, 0.18776162,\n",
            "        0.23238706, 0.52824174, 0.43539255, 0.        , 0.98295636,\n",
            "        0.73684486, 0.44968312, 0.22762115],\n",
            "       [0.37427095, 0.18582817, 0.61589669, 0.30052228, 0.18712664,\n",
            "        0.23238706, 0.51794908, 0.43055291, 0.        , 0.9941064 ,\n",
            "        0.70092432, 0.44061661, 0.22762115],\n",
            "       [0.37572524, 0.18318326, 0.61387936, 0.27959783, 0.17152576,\n",
            "        0.23396471, 0.505169  , 0.42322733, 0.        , 0.99044282,\n",
            "        0.68804529, 0.41942007, 0.22784333],\n",
            "       [0.37738708, 0.17806616, 0.60580995, 0.27715338, 0.17412408,\n",
            "        0.23690891, 0.50988464, 0.42215241, 0.        , 1.        ,\n",
            "        0.66697528, 0.44223295, 0.22482342],\n",
            "       [0.36817012, 0.17437493, 0.61387936, 0.27280043, 0.16655535,\n",
            "        0.24044399, 0.50432817, 0.43097946, 0.        , 0.99713284,\n",
            "        0.6664481 , 0.41902915, 0.22359266],\n",
            "       [0.36349978, 0.16534829, 0.6227556 , 0.2752086 , 0.16714291,\n",
            "        0.22971169, 0.51196751, 0.44070706, 0.        , 0.98391207,\n",
            "        0.67375028, 0.40821474, 0.21194864],\n",
            "       [0.35409527, 0.16615333, 0.62699217, 0.27258176, 0.15416953,\n",
            "        0.2352065 , 0.50507402, 0.43961656, 0.        , 0.98470851,\n",
            "        0.65071747, 0.40756821, 0.21443356],\n",
            "       [0.37842244, 0.16608402, 0.64232391, 0.30575927, 0.16074197,\n",
            "        0.22535775, 0.5185115 , 0.45865268, 0.        , 0.98550494,\n",
            "        0.68706935, 0.42582527, 0.21108038],\n",
            "       [0.37384665, 0.15536687, 0.66875128, 0.3166776 , 0.1725804 ,\n",
            "        0.21361091, 0.52813691, 0.46369191, 0.        , 0.9789742 ,\n",
            "        0.67283097, 0.41537548, 0.19985441],\n",
            "       [0.35609069, 0.16284126, 0.68186393, 0.2900629 , 0.1733869 ,\n",
            "        0.21771526, 0.53262417, 0.46725117, 0.        , 0.97961134,\n",
            "        0.64950625, 0.39880993, 0.20988178],\n",
            "       [0.37260603, 0.16656696, 0.67762752, 0.29501123, 0.16786547,\n",
            "        0.2263145 , 0.52764942, 0.47552257, 0.        , 0.97387703,\n",
            "        0.65438381, 0.40212153, 0.2142143 ],\n",
            "       [0.38194445, 0.16516408, 0.67500502, 0.30054753, 0.17328108,\n",
            "        0.2280077 , 0.53430117, 0.48683476, 0.        , 0.96575342,\n",
            "        0.65697617, 0.41597315, 0.21416752],\n",
            "       [0.39595778, 0.16554362, 0.65503331, 0.30780793, 0.17570057,\n",
            "        0.23856284, 0.54317604, 0.48683476, 0.        , 0.94552405,\n",
            "        0.66165985, 0.40947774, 0.21880116],\n",
            "       [0.4029026 , 0.16370375, 0.66491828, 0.31842001, 0.18406119,\n",
            "        0.24111728, 0.54218   , 0.48683476, 0.        , 0.96304556,\n",
            "        0.63130309, 0.41352985, 0.21862575],\n",
            "       [0.3915042 , 0.16155365, 0.67197896, 0.31842001, 0.18406119,\n",
            "        0.24709738, 0.54997664, 0.48683476, 0.        , 0.97690347,\n",
            "        0.61685122, 0.40989498, 0.21858775],\n",
            "       [0.41099424, 0.16347395, 0.66350613, 0.31842001, 0.17971483,\n",
            "        0.25524214, 0.54670276, 0.48683476, 0.        , 0.97260274,\n",
            "        0.65326844, 0.40989498, 0.2236979 ],\n",
            "       [0.4170843 , 0.15389505, 0.65261243, 0.34247463, 0.18512679,\n",
            "        0.25029198, 0.55264282, 0.48683476, 0.        , 0.98072635,\n",
            "        0.65971667, 0.40552711, 0.21492177],\n",
            "       [0.42324586, 0.15183687, 0.66169044, 0.3435215 , 0.1815249 ,\n",
            "        0.25972009, 0.53990851, 0.49045415, 0.        , 0.98136349,\n",
            "        0.65196137, 0.4006518 , 0.21642149],\n",
            "       [0.41573454, 0.14374129, 0.66290095, 0.3653121 , 0.17679537,\n",
            "        0.25277323, 0.53334105, 0.49572114, 0.        , 0.96893915,\n",
            "        0.63311992, 0.40156521, 0.20773598],\n",
            "       [0.41829032, 0.14724868, 0.67359288, 0.35752072, 0.16134047,\n",
            "        0.25455267, 0.53334105, 0.48405811, 0.        , 0.96336413,\n",
            "        0.60595459, 0.40108407, 0.20856039],\n",
            "       [0.39917616, 0.15459668, 0.67298769, 0.33712805, 0.14996552,\n",
            "        0.2547237 , 0.5252736 , 0.48304106, 0.        , 0.96208984,\n",
            "        0.59213665, 0.39058541, 0.21210066],\n",
            "       [0.40641612, 0.14878944, 0.6647165 , 0.35159308, 0.14989252,\n",
            "        0.25525369, 0.53516806, 0.4909601 , 0.        , 0.96065626,\n",
            "        0.6231121 , 0.39386319, 0.20789677],\n",
            "       [0.41335017, 0.14705335, 0.66451473, 0.34906191, 0.15646862,\n",
            "        0.26459554, 0.54338904, 0.50117583, 0.        , 0.96336413,\n",
            "        0.6366098 , 0.40258764, 0.20806925],\n",
            "       [0.41283132, 0.13611753, 0.67177718, 0.33350395, 0.15646862,\n",
            "        0.25402811, 0.54328764, 0.49332577, 0.        , 0.95109908,\n",
            "        0.62694182, 0.37923724, 0.19574115],\n",
            "       [0.41411882, 0.13927986, 0.67076861, 0.32223303, 0.13741912,\n",
            "        0.25174637, 0.53279742, 0.47969761, 0.        , 0.93198471,\n",
            "        0.60878658, 0.3569243 , 0.19751859],\n",
            "       [0.41545707, 0.13927986, 0.64454301, 0.31949663, 0.13913431,\n",
            "        0.25174637, 0.52624658, 0.46628976, 0.        , 0.93198471,\n",
            "        0.5942149 , 0.3545637 , 0.19751859],\n",
            "       [0.42245416, 0.1363477 , 0.64958638, 0.32444902, 0.15031949,\n",
            "        0.26470417, 0.53176246, 0.45963778, 0.        , 0.94138261,\n",
            "        0.62239756, 0.36530669, 0.20000935],\n",
            "       [0.4179621 , 0.13141444, 0.65926972, 0.35221485, 0.14546589,\n",
            "        0.26989006, 0.53398166, 0.45644125, 0.        , 0.93262185,\n",
            "        0.60989323, 0.35967583, 0.19788695],\n",
            "       [0.42550649, 0.12287075, 0.68448658, 0.35801015, 0.14451342,\n",
            "        0.2677986 , 0.54452157, 0.44407645, 0.        , 0.92784326,\n",
            "        0.63413508, 0.36543825, 0.19201962],\n",
            "       [0.41385749, 0.12941371, 0.68468822, 0.34919258, 0.12781774,\n",
            "        0.26682414, 0.54033962, 0.4443324 , 0.        , 0.94074546,\n",
            "        0.61271215, 0.36090876, 0.19631414],\n",
            "       [0.4182711 , 0.13273689, 0.69780101, 0.3567258 , 0.13123716,\n",
            "        0.27597879, 0.55057924, 0.4443324 , 0.        , 0.93931188,\n",
            "        0.64166817, 0.37322297, 0.20168448],\n",
            "       [0.42468019, 0.13309345, 0.67702233, 0.34345716, 0.1554249 ,\n",
            "        0.28271076, 0.55580342, 0.4631125 , 0.        , 0.93532972,\n",
            "        0.67049566, 0.37296737, 0.2054177 ],\n",
            "       [0.44142458, 0.13409382, 0.69235425, 0.34725312, 0.1554249 ,\n",
            "        0.28043286, 0.55509515, 0.45233525, 0.        , 0.93596687,\n",
            "        0.68513706, 0.36721998, 0.20616902],\n",
            "       [0.44252066, 0.14159119, 0.69941493, 0.36144122, 0.15548695,\n",
            "        0.29277981, 0.54921148, 0.45561487, 0.        , 0.93453329,\n",
            "        0.69719698, 0.36390085, 0.21418214],\n",
            "       [0.4437313 , 0.13430064, 0.70264277, 0.380723  , 0.16077848,\n",
            "        0.2920141 , 0.54360071, 0.43928571, 0.        , 0.93994903,\n",
            "        0.71470087, 0.3734861 , 0.20895213],\n",
            "       [0.45058697, 0.12042117, 0.70123046, 0.38506375, 0.16005227,\n",
            "        0.2876224 , 0.54992577, 0.44018778, 0.        , 0.933259  ,\n",
            "        0.69263966, 0.37121571, 0.19852718],\n",
            "       [0.44459375, 0.12266356, 0.69800278, 0.38856854, 0.16293522,\n",
            "        0.29142939, 0.54233696, 0.44088658, 0.        , 0.93660401,\n",
            "        0.68058627, 0.36857695, 0.20176634],\n",
            "       [0.44168438, 0.12837887, 0.68670569, 0.37576612, 0.15175004,\n",
            "        0.30295362, 0.53786891, 0.45555844, 0.        , 0.9297547 ,\n",
            "        0.70692378, 0.36831007, 0.21199542],\n",
            "       [0.4437444 , 0.12534294, 0.6935646 , 0.38369962, 0.15422062,\n",
            "        0.30308921, 0.54163554, 0.44386201, 0.        , 0.93580758,\n",
            "        0.71490128, 0.37929362, 0.21006011],\n",
            "       [0.4220606 , 0.12602158, 0.68932818, 0.35376301, 0.14082758,\n",
            "        0.29219822, 0.51766507, 0.39804293, 0.        , 0.93309971,\n",
            "        0.69271154, 0.35934129, 0.20671278],\n",
            "       [0.41869387, 0.12098492, 0.68529354, 0.3469416 , 0.13793732,\n",
            "        0.2767445 , 0.51560834, 0.39979587, 0.        , 0.92099395,\n",
            "        0.69712074, 0.362277  , 0.19955915],\n",
            "       [0.40058511, 0.13285179, 0.6869073 , 0.33953212, 0.1345763 ,\n",
            "        0.26719159, 0.51290366, 0.3852894 , 0.        , 0.91956037,\n",
            "        0.68838078, 0.35044393, 0.20920646],\n",
            "       [0.41361383, 0.15135392, 0.68287266, 0.3237246 , 0.13592288,\n",
            "        0.2775734 , 0.52037235, 0.3884592 , 0.        , 0.91350749,\n",
            "        0.71240042, 0.3802935 , 0.22859465],\n",
            "       [0.43082944, 0.1616111 , 0.69558192, 0.35796943, 0.14402074,\n",
            "        0.27713354, 0.53530405, 0.41232541, 0.        , 0.89662313,\n",
            "        0.72560621, 0.3802935 , 0.23894359],\n",
            "       [0.43011381, 0.1601048 , 0.70022189, 0.3721017 , 0.15096178,\n",
            "        0.28892505, 0.54091658, 0.41714056, 0.        , 0.89327811,\n",
            "        0.72380898, 0.38479668, 0.24092275],\n",
            "       [0.42213206, 0.169488  , 0.6838814 , 0.37896471, 0.14555712,\n",
            "        0.2947688 , 0.53967671, 0.45159711, 0.        , 0.88802166,\n",
            "        0.72053912, 0.38320666, 0.24873123],\n",
            "       [0.44039842, 0.16922336, 0.67460147, 0.38177401, 0.15344697,\n",
            "        0.29649589, 0.55051768, 0.44779668, 0.        , 0.90458745,\n",
            "        0.75188491, 0.38669869, 0.24876339],\n",
            "       [0.4373292 , 0.16600359, 0.68831945, 0.4024716 , 0.1525237 ,\n",
            "        0.29615157, 0.56432972, 0.47190101, 0.        , 0.9039503 ,\n",
            "        0.7407029 , 0.4103498 , 0.24771095],\n",
            "       [0.44036077, 0.16267744, 0.68993337, 0.40283116, 0.15419508,\n",
            "        0.28654781, 0.56832046, 0.47553815, 0.        , 0.89853457,\n",
            "        0.73263608, 0.40330559, 0.24299546],\n",
            "       [0.43519768, 0.16573932, 0.7044583 , 0.39447049, 0.16047923,\n",
            "        0.2719715 , 0.58253287, 0.47176156, 0.        , 0.89789742,\n",
            "        0.72145843, 0.39625386, 0.24322641],\n",
            "       [0.41829726, 0.16431345, 0.688723  , 0.36884863, 0.15370608,\n",
            "        0.2575832 , 0.5711928 , 0.48112716, 0.        , 0.88180949,\n",
            "        0.6879843 , 0.36900547, 0.23720415]])]\n",
            "\n",
            "\n",
            "[0.04808270806680266, 0.04662701842951489]\n",
            "\n"
          ],
          "name": "stdout"
        }
      ]
    },
    {
      "cell_type": "code",
      "metadata": {
        "id": "7yHYX9DHPFgI"
      },
      "source": [
        "X_train = np.array(X_train)\n",
        "y_train = np.array(y_train)"
      ],
      "execution_count": null,
      "outputs": []
    },
    {
      "cell_type": "code",
      "metadata": {
        "colab": {
          "base_uri": "https://localhost:8080/"
        },
        "id": "j0eCQzs8US1c",
        "outputId": "439e7477-9c82-4ae6-cba3-d4607aa9a949"
      },
      "source": [
        "X_train.shape"
      ],
      "execution_count": null,
      "outputs": [
        {
          "output_type": "execute_result",
          "data": {
            "text/plain": [
              "(4174, 60, 13)"
            ]
          },
          "metadata": {
            "tags": []
          },
          "execution_count": 210
        }
      ]
    },
    {
      "cell_type": "code",
      "metadata": {
        "id": "q2e9JbLarlfq"
      },
      "source": [
        "look_back = X[-60:]\n",
        "\n",
        "data = np.concatenate((look_back,X_test),axis=0)\n",
        "inputs = data"
      ],
      "execution_count": null,
      "outputs": []
    },
    {
      "cell_type": "code",
      "metadata": {
        "colab": {
          "base_uri": "https://localhost:8080/"
        },
        "id": "2udENPUdsPTE",
        "outputId": "d41f4b71-807e-4d10-9429-ba203251a0ea"
      },
      "source": [
        "print(inputs.shape)"
      ],
      "execution_count": null,
      "outputs": [
        {
          "output_type": "stream",
          "text": [
            "(1119, 14)\n"
          ],
          "name": "stdout"
        }
      ]
    },
    {
      "cell_type": "code",
      "metadata": {
        "colab": {
          "base_uri": "https://localhost:8080/"
        },
        "id": "ufipQnYrrmZK",
        "outputId": "787999b3-971f-40c8-d88f-31393efaa78c"
      },
      "source": [
        "X_test = []\n",
        "y_test = []\n",
        "for i in range(60, inputs.shape[0]):\n",
        "  X_test.append(inputs[i-60:i,1:])\n",
        "  y_test.append(inputs[i,0])\n",
        "  if i <= 61:\n",
        "    print(X_test)\n",
        "    print('\\n')\n",
        "    print(y_test)\n",
        "    print()"
      ],
      "execution_count": null,
      "outputs": [
        {
          "output_type": "stream",
          "text": [
            "[array([[0.64695094, 0.43073905, 0.50010089, 0.62222102, 0.57882007,\n",
            "        0.32165738, 0.41269934, 0.43334064, 0.86415013, 0.18763938,\n",
            "        0.82504613, 0.64419961, 0.43090182],\n",
            "       [0.64435057, 0.43491175, 0.5003025 , 0.62624706, 0.57814125,\n",
            "        0.32368797, 0.41627435, 0.4321916 , 0.86529783, 0.19018796,\n",
            "        0.81609486, 0.64312832, 0.43360307],\n",
            "       [0.64304536, 0.43444734, 0.51099459, 0.63293288, 0.58262994,\n",
            "        0.32298158, 0.41968981, 0.43308396, 0.86742166, 0.19544441,\n",
            "        0.80884278, 0.64441763, 0.43390711],\n",
            "       [0.63705449, 0.43340917, 0.50817016, 0.62883319, 0.57843322,\n",
            "        0.32186843, 0.41802143, 0.43171158, 0.86702783, 0.19289583,\n",
            "        0.81852166, 0.64066623, 0.43185193],\n",
            "       [0.64729451, 0.43669121, 0.52834366, 0.59542153, 0.57953532,\n",
            "        0.32466244, 0.41434977, 0.42825171, 0.86456606, 0.19958586,\n",
            "        0.83009143, 0.63878677, 0.43475198],\n",
            "       [0.63115198, 0.42816272, 0.52834366, 0.59542153, 0.56443435,\n",
            "        0.31577741, 0.41434977, 0.42825171, 0.86947011, 0.19655941,\n",
            "        0.80400226, 0.61444402, 0.42565719],\n",
            "       [0.64393547, 0.42962453, 0.5384304 , 0.60364739, 0.5670692 ,\n",
            "        0.31584135, 0.4178623 , 0.42424583, 0.86759583, 0.20595731,\n",
            "        0.8118033 , 0.61811272, 0.42578289],\n",
            "       [0.63803145, 0.42769793, 0.53580789, 0.59567555, 0.5688756 ,\n",
            "        0.31473666, 0.41973342, 0.42506554, 0.86844589, 0.20006371,\n",
            "        0.7974255 , 0.6188006 , 0.42388851],\n",
            "       [0.64786867, 0.43049777, 0.53600968, 0.61020659, 0.57355406,\n",
            "        0.31812768, 0.4224488 , 0.42850469, 0.86708242, 0.1956037 ,\n",
            "        0.80886457, 0.6238977 , 0.4277182 ],\n",
            "       [0.64895477, 0.43200554, 0.5354045 , 0.6065654 , 0.57374014,\n",
            "        0.31832568, 0.42395856, 0.43306028, 0.86646503, 0.1967187 ,\n",
            "        0.81362667, 0.62915642, 0.42908929],\n",
            "       [0.65323695, 0.43051296, 0.54448251, 0.60939259, 0.57361608,\n",
            "        0.31797286, 0.43407714, 0.43552686, 0.86822752, 0.19815228,\n",
            "        0.81471154, 0.62840464, 0.42822688],\n",
            "       [0.65395494, 0.42989621, 0.55214838, 0.61874518, 0.57084259,\n",
            "        0.31917226, 0.43189979, 0.43473533, 0.8695221 , 0.19496655,\n",
            "        0.81331079, 0.62405933, 0.42817426],\n",
            "       [0.657832  , 0.43276202, 0.55154319, 0.61874518, 0.5762217 ,\n",
            "        0.32321114, 0.43403095, 0.43591705, 0.86879422, 0.19974514,\n",
            "        0.8058888 , 0.63368968, 0.43114739],\n",
            "       [0.65753527, 0.43076945, 0.55255193, 0.61715828, 0.57236438,\n",
            "        0.32117513, 0.43962635, 0.44060173, 0.86839389, 0.19847085,\n",
            "        0.81269429, 0.63270108, 0.42875895],\n",
            "       [0.65387417, 0.4318836 , 0.55073623, 0.6073985 , 0.56386873,\n",
            "        0.31862302, 0.44076355, 0.43886582, 0.86880332, 0.2037273 ,\n",
            "        0.79972159, 0.62312336, 0.42766851],\n",
            "       [0.65444301, 0.43078464, 0.55598138, 0.59953625, 0.56760199,\n",
            "        0.31598078, 0.43839333, 0.43421453, 0.86850048, 0.2131252 ,\n",
            "        0.80592583, 0.62326244, 0.42580044],\n",
            "       [0.65283731, 0.43046997, 0.54508767, 0.59230684, 0.56588682,\n",
            "        0.31398792, 0.44309744, 0.43476127, 0.86823272, 0.21296591,\n",
            "        0.80803675, 0.61849613, 0.4238622 ],\n",
            "       [0.63976783, 0.42587066, 0.53197488, 0.60013568, 0.56149667,\n",
            "        0.31117465, 0.44292595, 0.43222275, 0.86823272, 0.21169162,\n",
            "        0.79080082, 0.61753009, 0.41956768],\n",
            "       [0.63976783, 0.42587066, 0.53197488, 0.60013568, 0.56149667,\n",
            "        0.31117465, 0.44292595, 0.43222275, 0.86701743, 0.20946161,\n",
            "        0.79080082, 0.61753009, 0.41956768],\n",
            "       [0.62783595, 0.42299966, 0.52592294, 0.5864305 , 0.5511143 ,\n",
            "        0.30747625, 0.42976521, 0.42230744, 0.86656771, 0.20532017,\n",
            "        0.77517694, 0.615068  , 0.4155392 ],\n",
            "       [0.62437317, 0.42192591, 0.52108134, 0.58125944, 0.55288791,\n",
            "        0.30384338, 0.41995754, 0.41698329, 0.86752694, 0.20675374,\n",
            "        0.76321505, 0.61316599, 0.41282625],\n",
            "       [0.61924239, 0.42035475, 0.51926564, 0.57959437, 0.55223832,\n",
            "        0.30291589, 0.41995754, 0.41704863, 0.86752564, 0.20165658,\n",
            "        0.74202958, 0.60817414, 0.4118089 ],\n",
            "       [0.63444797, 0.43411747, 0.5335888 , 0.58605996, 0.55791666,\n",
            "        0.31214449, 0.43158421, 0.42607592, 0.86766082, 0.2096209 ,\n",
            "        0.76678554, 0.61274123, 0.42535607],\n",
            "       [0.63639806, 0.43682835, 0.53520272, 0.59046059, 0.56003328,\n",
            "        0.31424907, 0.43133486, 0.42812262, 0.86559678, 0.21439949,\n",
            "        0.77467808, 0.61999218, 0.42770651],\n",
            "       [0.64898015, 0.44635202, 0.54811374, 0.5703334 , 0.5436113 ,\n",
            "        0.31868463, 0.39199469, 0.40777945, 0.86529653, 0.24784963,\n",
            "        0.78964624, 0.60858011, 0.43463504],\n",
            "       [0.64775878, 0.45443908, 0.55396407, 0.58759547, 0.55974863,\n",
            "        0.31542842, 0.43873548, 0.42328218, 0.86741386, 0.25899968,\n",
            "        0.77137772, 0.62519828, 0.43586873],\n",
            "       [0.65066661, 0.4559135 , 0.58220698, 0.57505288, 0.55311782,\n",
            "        0.31760925, 0.44003432, 0.40885952, 0.87409991, 0.27349474,\n",
            "        0.75012689, 0.61787215, 0.43498293],\n",
            "       [0.65583117, 0.45870815, 0.58220698, 0.5666165 , 0.54695045,\n",
            "        0.32057583, 0.45258093, 0.40687665, 0.88066507, 0.27349474,\n",
            "        0.76370085, 0.6114632 , 0.43964287],\n",
            "       [0.65035299, 0.45667257, 0.58664519, 0.56485002, 0.55137343,\n",
            "        0.32203638, 0.4608806 , 0.40919038, 0.88473856, 0.27110545,\n",
            "        0.75432913, 0.61012502, 0.43863429],\n",
            "       [0.65201866, 0.45799503, 0.59632836, 0.56413137, 0.55170188,\n",
            "        0.32507074, 0.46089856, 0.41164139, 0.88214161, 0.28432622,\n",
            "        0.76413   , 0.61745115, 0.44161034],\n",
            "       [0.65040599, 0.45666479, 0.60278388, 0.56744315, 0.5495232 ,\n",
            "        0.32411087, 0.4653798 , 0.4126451 , 0.88311125, 0.29244982,\n",
            "        0.76000401, 0.62691235, 0.44008431],\n",
            "       [0.65198714, 0.45995462, 0.5995562 , 0.56799565, 0.54641036,\n",
            "        0.32775841, 0.47130791, 0.41504272, 0.88578098, 0.28703409,\n",
            "        0.76048109, 0.61865025, 0.44484365],\n",
            "       [0.6541947 , 0.4624446 , 0.59935443, 0.58103794, 0.55276746,\n",
            "        0.32910575, 0.47374229, 0.42188827, 0.88768385, 0.28703409,\n",
            "        0.76957832, 0.62072893, 0.44623521],\n",
            "       [0.6502431 , 0.46464288, 0.61266885, 0.58098171, 0.55440235,\n",
            "        0.32866897, 0.48103306, 0.4252147 , 0.89342106, 0.29356483,\n",
            "        0.76914045, 0.62730328, 0.44675558],\n",
            "       [0.65230458, 0.46719884, 0.60843244, 0.57820463, 0.54831164,\n",
            "        0.33007405, 0.48103306, 0.42327703, 0.89368101, 0.29786556,\n",
            "        0.77164349, 0.62881812, 0.4492785 ],\n",
            "       [0.65307399, 0.46719884, 0.60843244, 0.58288578, 0.54947941,\n",
            "        0.33007405, 0.48307784, 0.42379334, 0.89080331, 0.29420198,\n",
            "        0.77415961, 0.63468579, 0.4492785 ],\n",
            "       [0.64411149, 0.46518847, 0.60520476, 0.58724776, 0.55081873,\n",
            "        0.32775458, 0.48203728, 0.42847948, 0.8932079 , 0.28671551,\n",
            "        0.76516695, 0.64044445, 0.44587855],\n",
            "       [0.64701857, 0.46606689, 0.59713532, 0.58344043, 0.55091362,\n",
            "        0.32861041, 0.47990521, 0.42626435, 0.89293754, 0.28368907,\n",
            "        0.75918273, 0.64213221, 0.44673804],\n",
            "       [0.64854125, 0.46614028, 0.60863421, 0.58558635, 0.55277111,\n",
            "        0.32427806, 0.47996685, 0.42984962, 0.89045887, 0.29913985,\n",
            "        0.76175113, 0.65191667, 0.44502783],\n",
            "       [0.64037428, 0.46867362, 0.59935443, 0.58918849, 0.55286965,\n",
            "        0.31868772, 0.48871893, 0.43154249, 0.88841433, 0.30933418,\n",
            "        0.75502842, 0.6607163 , 0.44276802],\n",
            "       [0.63878314, 0.46787637, 0.5939075 , 0.57642639, 0.54807443,\n",
            "        0.31903745, 0.48499641, 0.42604998, 0.88717434, 0.29945843,\n",
            "        0.75019007, 0.65725434, 0.44302236],\n",
            "       [0.65196409, 0.46957466, 0.58119824, 0.57401292, 0.54542866,\n",
            "        0.32313873, 0.47853453, 0.42391128, 0.88598375, 0.300892  ,\n",
            "        0.75369956, 0.66615545, 0.44675265],\n",
            "       [0.65891968, 0.47089192, 0.58825895, 0.58091904, 0.55509938,\n",
            "        0.324996  , 0.48219332, 0.43059586, 0.88125907, 0.29945843,\n",
            "        0.76089064, 0.66843712, 0.44895107],\n",
            "       [0.67516677, 0.48193115, 0.58301394, 0.58604039, 0.55584021,\n",
            "        0.32967654, 0.48801626, 0.43156915, 0.87923142, 0.29181268,\n",
            "        0.78755275, 0.67246668, 0.4574641 ],\n",
            "       [0.68998104, 0.48434738, 0.59995961, 0.58852106, 0.57013825,\n",
            "        0.33149454, 0.49951162, 0.43987548, 0.87568173, 0.30216629,\n",
            "        0.79393997, 0.6720983 , 0.45887904],\n",
            "       [0.69184195, 0.48961199, 0.61004636, 0.58441405, 0.56780998,\n",
            "        0.33358524, 0.50938679, 0.44112318, 0.8781825 , 0.31124562,\n",
            "        0.79887635, 0.67107212, 0.4627789 ],\n",
            "       [0.69081042, 0.49107899, 0.59774051, 0.57105944, 0.56874058,\n",
            "        0.33112325, 0.51617244, 0.43795266, 0.8764343 , 0.31299777,\n",
            "        0.78497999, 0.6695911 , 0.46202757],\n",
            "       [0.69806964, 0.49533323, 0.59915265, 0.57161648, 0.57193009,\n",
            "        0.3350743 , 0.52025641, 0.44034129, 0.87785626, 0.31236062,\n",
            "        0.80200461, 0.67073382, 0.46634256],\n",
            "       [0.69500958, 0.49093444, 0.61872096, 0.57202042, 0.57225488,\n",
            "        0.33298206, 0.52038855, 0.43933091, 0.87707379, 0.32733355,\n",
            "        0.79778277, 0.67029402, 0.46095175],\n",
            "       [0.70435341, 0.49314755, 0.64151695, 0.55584562, 0.57217461,\n",
            "        0.33453661, 0.52125161, 0.43872484, 0.88126816, 0.33354572,\n",
            "        0.80863583, 0.6615395 , 0.46350975],\n",
            "       [0.70724428, 0.49282027, 0.63788572, 0.55427178, 0.57421457,\n",
            "        0.33301983, 0.52669866, 0.43623457, 0.88124867, 0.33243071,\n",
            "        0.81138722, 0.66420458, 0.46235207],\n",
            "       [0.70898839, 0.49428987, 0.64171872, 0.54661353, 0.57280959,\n",
            "        0.33458205, 0.52629018, 0.42974653, 0.88201294, 0.32366996,\n",
            "        0.81258973, 0.65488998, 0.46365592],\n",
            "       [0.71191236, 0.49768348, 0.64474479, 0.54239414, 0.57410507,\n",
            "        0.33662344, 0.53069233, 0.42997574, 0.88475416, 0.32637783,\n",
            "        0.81842798, 0.65422465, 0.46606191],\n",
            "       [0.71221209, 0.49647296, 0.63929786, 0.5456819 , 0.57265265,\n",
            "        0.33565977, 0.52855223, 0.42714563, 0.88228979, 0.32271424,\n",
            "        0.81787466, 0.65061233, 0.46443063],\n",
            "       [0.71124819, 0.49561752, 0.64070999, 0.53861282, 0.57183885,\n",
            "        0.33381017, 0.52783286, 0.42080226, 0.88361426, 0.32510354,\n",
            "        0.8227239 , 0.64322229, 0.46319695],\n",
            "       [0.71077394, 0.49617089, 0.63909623, 0.536111  , 0.57190091,\n",
            "        0.33498648, 0.52650578, 0.41782676, 0.88129286, 0.32351067,\n",
            "        0.82370202, 0.63909124, 0.46402428],\n",
            "       [0.71248885, 0.49658712, 0.63929786, 0.54343982, 0.57257603,\n",
            "        0.33689306, 0.52650578, 0.42019322, 0.88129286, 0.32351067,\n",
            "        0.82370202, 0.64462061, 0.4655123 ],\n",
            "       [0.71248885, 0.49658712, 0.63929786, 0.54343982, 0.57418904,\n",
            "        0.33689306, 0.52678035, 0.42009897, 0.88405878, 0.32637783,\n",
            "        0.82370202, 0.64462061, 0.4655123 ],\n",
            "       [0.71270023, 0.49245964, 0.6441396 , 0.54343982, 0.56773701,\n",
            "        0.33312767, 0.52672305, 0.42693351, 0.88686759, 0.31857279,\n",
            "        0.83196054, 0.6493343 , 0.45996948],\n",
            "       [0.71086004, 0.49194445, 0.63243893, 0.54491267, 0.56845592,\n",
            "        0.33262924, 0.51574951, 0.42334969, 0.88402889, 0.31299777,\n",
            "        0.83504959, 0.64589489, 0.45977653]])]\n",
            "\n",
            "\n",
            "[0.5070087479686042]\n",
            "\n",
            "[array([[0.64695094, 0.43073905, 0.50010089, 0.62222102, 0.57882007,\n",
            "        0.32165738, 0.41269934, 0.43334064, 0.86415013, 0.18763938,\n",
            "        0.82504613, 0.64419961, 0.43090182],\n",
            "       [0.64435057, 0.43491175, 0.5003025 , 0.62624706, 0.57814125,\n",
            "        0.32368797, 0.41627435, 0.4321916 , 0.86529783, 0.19018796,\n",
            "        0.81609486, 0.64312832, 0.43360307],\n",
            "       [0.64304536, 0.43444734, 0.51099459, 0.63293288, 0.58262994,\n",
            "        0.32298158, 0.41968981, 0.43308396, 0.86742166, 0.19544441,\n",
            "        0.80884278, 0.64441763, 0.43390711],\n",
            "       [0.63705449, 0.43340917, 0.50817016, 0.62883319, 0.57843322,\n",
            "        0.32186843, 0.41802143, 0.43171158, 0.86702783, 0.19289583,\n",
            "        0.81852166, 0.64066623, 0.43185193],\n",
            "       [0.64729451, 0.43669121, 0.52834366, 0.59542153, 0.57953532,\n",
            "        0.32466244, 0.41434977, 0.42825171, 0.86456606, 0.19958586,\n",
            "        0.83009143, 0.63878677, 0.43475198],\n",
            "       [0.63115198, 0.42816272, 0.52834366, 0.59542153, 0.56443435,\n",
            "        0.31577741, 0.41434977, 0.42825171, 0.86947011, 0.19655941,\n",
            "        0.80400226, 0.61444402, 0.42565719],\n",
            "       [0.64393547, 0.42962453, 0.5384304 , 0.60364739, 0.5670692 ,\n",
            "        0.31584135, 0.4178623 , 0.42424583, 0.86759583, 0.20595731,\n",
            "        0.8118033 , 0.61811272, 0.42578289],\n",
            "       [0.63803145, 0.42769793, 0.53580789, 0.59567555, 0.5688756 ,\n",
            "        0.31473666, 0.41973342, 0.42506554, 0.86844589, 0.20006371,\n",
            "        0.7974255 , 0.6188006 , 0.42388851],\n",
            "       [0.64786867, 0.43049777, 0.53600968, 0.61020659, 0.57355406,\n",
            "        0.31812768, 0.4224488 , 0.42850469, 0.86708242, 0.1956037 ,\n",
            "        0.80886457, 0.6238977 , 0.4277182 ],\n",
            "       [0.64895477, 0.43200554, 0.5354045 , 0.6065654 , 0.57374014,\n",
            "        0.31832568, 0.42395856, 0.43306028, 0.86646503, 0.1967187 ,\n",
            "        0.81362667, 0.62915642, 0.42908929],\n",
            "       [0.65323695, 0.43051296, 0.54448251, 0.60939259, 0.57361608,\n",
            "        0.31797286, 0.43407714, 0.43552686, 0.86822752, 0.19815228,\n",
            "        0.81471154, 0.62840464, 0.42822688],\n",
            "       [0.65395494, 0.42989621, 0.55214838, 0.61874518, 0.57084259,\n",
            "        0.31917226, 0.43189979, 0.43473533, 0.8695221 , 0.19496655,\n",
            "        0.81331079, 0.62405933, 0.42817426],\n",
            "       [0.657832  , 0.43276202, 0.55154319, 0.61874518, 0.5762217 ,\n",
            "        0.32321114, 0.43403095, 0.43591705, 0.86879422, 0.19974514,\n",
            "        0.8058888 , 0.63368968, 0.43114739],\n",
            "       [0.65753527, 0.43076945, 0.55255193, 0.61715828, 0.57236438,\n",
            "        0.32117513, 0.43962635, 0.44060173, 0.86839389, 0.19847085,\n",
            "        0.81269429, 0.63270108, 0.42875895],\n",
            "       [0.65387417, 0.4318836 , 0.55073623, 0.6073985 , 0.56386873,\n",
            "        0.31862302, 0.44076355, 0.43886582, 0.86880332, 0.2037273 ,\n",
            "        0.79972159, 0.62312336, 0.42766851],\n",
            "       [0.65444301, 0.43078464, 0.55598138, 0.59953625, 0.56760199,\n",
            "        0.31598078, 0.43839333, 0.43421453, 0.86850048, 0.2131252 ,\n",
            "        0.80592583, 0.62326244, 0.42580044],\n",
            "       [0.65283731, 0.43046997, 0.54508767, 0.59230684, 0.56588682,\n",
            "        0.31398792, 0.44309744, 0.43476127, 0.86823272, 0.21296591,\n",
            "        0.80803675, 0.61849613, 0.4238622 ],\n",
            "       [0.63976783, 0.42587066, 0.53197488, 0.60013568, 0.56149667,\n",
            "        0.31117465, 0.44292595, 0.43222275, 0.86823272, 0.21169162,\n",
            "        0.79080082, 0.61753009, 0.41956768],\n",
            "       [0.63976783, 0.42587066, 0.53197488, 0.60013568, 0.56149667,\n",
            "        0.31117465, 0.44292595, 0.43222275, 0.86701743, 0.20946161,\n",
            "        0.79080082, 0.61753009, 0.41956768],\n",
            "       [0.62783595, 0.42299966, 0.52592294, 0.5864305 , 0.5511143 ,\n",
            "        0.30747625, 0.42976521, 0.42230744, 0.86656771, 0.20532017,\n",
            "        0.77517694, 0.615068  , 0.4155392 ],\n",
            "       [0.62437317, 0.42192591, 0.52108134, 0.58125944, 0.55288791,\n",
            "        0.30384338, 0.41995754, 0.41698329, 0.86752694, 0.20675374,\n",
            "        0.76321505, 0.61316599, 0.41282625],\n",
            "       [0.61924239, 0.42035475, 0.51926564, 0.57959437, 0.55223832,\n",
            "        0.30291589, 0.41995754, 0.41704863, 0.86752564, 0.20165658,\n",
            "        0.74202958, 0.60817414, 0.4118089 ],\n",
            "       [0.63444797, 0.43411747, 0.5335888 , 0.58605996, 0.55791666,\n",
            "        0.31214449, 0.43158421, 0.42607592, 0.86766082, 0.2096209 ,\n",
            "        0.76678554, 0.61274123, 0.42535607],\n",
            "       [0.63639806, 0.43682835, 0.53520272, 0.59046059, 0.56003328,\n",
            "        0.31424907, 0.43133486, 0.42812262, 0.86559678, 0.21439949,\n",
            "        0.77467808, 0.61999218, 0.42770651],\n",
            "       [0.64898015, 0.44635202, 0.54811374, 0.5703334 , 0.5436113 ,\n",
            "        0.31868463, 0.39199469, 0.40777945, 0.86529653, 0.24784963,\n",
            "        0.78964624, 0.60858011, 0.43463504],\n",
            "       [0.64775878, 0.45443908, 0.55396407, 0.58759547, 0.55974863,\n",
            "        0.31542842, 0.43873548, 0.42328218, 0.86741386, 0.25899968,\n",
            "        0.77137772, 0.62519828, 0.43586873],\n",
            "       [0.65066661, 0.4559135 , 0.58220698, 0.57505288, 0.55311782,\n",
            "        0.31760925, 0.44003432, 0.40885952, 0.87409991, 0.27349474,\n",
            "        0.75012689, 0.61787215, 0.43498293],\n",
            "       [0.65583117, 0.45870815, 0.58220698, 0.5666165 , 0.54695045,\n",
            "        0.32057583, 0.45258093, 0.40687665, 0.88066507, 0.27349474,\n",
            "        0.76370085, 0.6114632 , 0.43964287],\n",
            "       [0.65035299, 0.45667257, 0.58664519, 0.56485002, 0.55137343,\n",
            "        0.32203638, 0.4608806 , 0.40919038, 0.88473856, 0.27110545,\n",
            "        0.75432913, 0.61012502, 0.43863429],\n",
            "       [0.65201866, 0.45799503, 0.59632836, 0.56413137, 0.55170188,\n",
            "        0.32507074, 0.46089856, 0.41164139, 0.88214161, 0.28432622,\n",
            "        0.76413   , 0.61745115, 0.44161034],\n",
            "       [0.65040599, 0.45666479, 0.60278388, 0.56744315, 0.5495232 ,\n",
            "        0.32411087, 0.4653798 , 0.4126451 , 0.88311125, 0.29244982,\n",
            "        0.76000401, 0.62691235, 0.44008431],\n",
            "       [0.65198714, 0.45995462, 0.5995562 , 0.56799565, 0.54641036,\n",
            "        0.32775841, 0.47130791, 0.41504272, 0.88578098, 0.28703409,\n",
            "        0.76048109, 0.61865025, 0.44484365],\n",
            "       [0.6541947 , 0.4624446 , 0.59935443, 0.58103794, 0.55276746,\n",
            "        0.32910575, 0.47374229, 0.42188827, 0.88768385, 0.28703409,\n",
            "        0.76957832, 0.62072893, 0.44623521],\n",
            "       [0.6502431 , 0.46464288, 0.61266885, 0.58098171, 0.55440235,\n",
            "        0.32866897, 0.48103306, 0.4252147 , 0.89342106, 0.29356483,\n",
            "        0.76914045, 0.62730328, 0.44675558],\n",
            "       [0.65230458, 0.46719884, 0.60843244, 0.57820463, 0.54831164,\n",
            "        0.33007405, 0.48103306, 0.42327703, 0.89368101, 0.29786556,\n",
            "        0.77164349, 0.62881812, 0.4492785 ],\n",
            "       [0.65307399, 0.46719884, 0.60843244, 0.58288578, 0.54947941,\n",
            "        0.33007405, 0.48307784, 0.42379334, 0.89080331, 0.29420198,\n",
            "        0.77415961, 0.63468579, 0.4492785 ],\n",
            "       [0.64411149, 0.46518847, 0.60520476, 0.58724776, 0.55081873,\n",
            "        0.32775458, 0.48203728, 0.42847948, 0.8932079 , 0.28671551,\n",
            "        0.76516695, 0.64044445, 0.44587855],\n",
            "       [0.64701857, 0.46606689, 0.59713532, 0.58344043, 0.55091362,\n",
            "        0.32861041, 0.47990521, 0.42626435, 0.89293754, 0.28368907,\n",
            "        0.75918273, 0.64213221, 0.44673804],\n",
            "       [0.64854125, 0.46614028, 0.60863421, 0.58558635, 0.55277111,\n",
            "        0.32427806, 0.47996685, 0.42984962, 0.89045887, 0.29913985,\n",
            "        0.76175113, 0.65191667, 0.44502783],\n",
            "       [0.64037428, 0.46867362, 0.59935443, 0.58918849, 0.55286965,\n",
            "        0.31868772, 0.48871893, 0.43154249, 0.88841433, 0.30933418,\n",
            "        0.75502842, 0.6607163 , 0.44276802],\n",
            "       [0.63878314, 0.46787637, 0.5939075 , 0.57642639, 0.54807443,\n",
            "        0.31903745, 0.48499641, 0.42604998, 0.88717434, 0.29945843,\n",
            "        0.75019007, 0.65725434, 0.44302236],\n",
            "       [0.65196409, 0.46957466, 0.58119824, 0.57401292, 0.54542866,\n",
            "        0.32313873, 0.47853453, 0.42391128, 0.88598375, 0.300892  ,\n",
            "        0.75369956, 0.66615545, 0.44675265],\n",
            "       [0.65891968, 0.47089192, 0.58825895, 0.58091904, 0.55509938,\n",
            "        0.324996  , 0.48219332, 0.43059586, 0.88125907, 0.29945843,\n",
            "        0.76089064, 0.66843712, 0.44895107],\n",
            "       [0.67516677, 0.48193115, 0.58301394, 0.58604039, 0.55584021,\n",
            "        0.32967654, 0.48801626, 0.43156915, 0.87923142, 0.29181268,\n",
            "        0.78755275, 0.67246668, 0.4574641 ],\n",
            "       [0.68998104, 0.48434738, 0.59995961, 0.58852106, 0.57013825,\n",
            "        0.33149454, 0.49951162, 0.43987548, 0.87568173, 0.30216629,\n",
            "        0.79393997, 0.6720983 , 0.45887904],\n",
            "       [0.69184195, 0.48961199, 0.61004636, 0.58441405, 0.56780998,\n",
            "        0.33358524, 0.50938679, 0.44112318, 0.8781825 , 0.31124562,\n",
            "        0.79887635, 0.67107212, 0.4627789 ],\n",
            "       [0.69081042, 0.49107899, 0.59774051, 0.57105944, 0.56874058,\n",
            "        0.33112325, 0.51617244, 0.43795266, 0.8764343 , 0.31299777,\n",
            "        0.78497999, 0.6695911 , 0.46202757],\n",
            "       [0.69806964, 0.49533323, 0.59915265, 0.57161648, 0.57193009,\n",
            "        0.3350743 , 0.52025641, 0.44034129, 0.87785626, 0.31236062,\n",
            "        0.80200461, 0.67073382, 0.46634256],\n",
            "       [0.69500958, 0.49093444, 0.61872096, 0.57202042, 0.57225488,\n",
            "        0.33298206, 0.52038855, 0.43933091, 0.87707379, 0.32733355,\n",
            "        0.79778277, 0.67029402, 0.46095175],\n",
            "       [0.70435341, 0.49314755, 0.64151695, 0.55584562, 0.57217461,\n",
            "        0.33453661, 0.52125161, 0.43872484, 0.88126816, 0.33354572,\n",
            "        0.80863583, 0.6615395 , 0.46350975],\n",
            "       [0.70724428, 0.49282027, 0.63788572, 0.55427178, 0.57421457,\n",
            "        0.33301983, 0.52669866, 0.43623457, 0.88124867, 0.33243071,\n",
            "        0.81138722, 0.66420458, 0.46235207],\n",
            "       [0.70898839, 0.49428987, 0.64171872, 0.54661353, 0.57280959,\n",
            "        0.33458205, 0.52629018, 0.42974653, 0.88201294, 0.32366996,\n",
            "        0.81258973, 0.65488998, 0.46365592],\n",
            "       [0.71191236, 0.49768348, 0.64474479, 0.54239414, 0.57410507,\n",
            "        0.33662344, 0.53069233, 0.42997574, 0.88475416, 0.32637783,\n",
            "        0.81842798, 0.65422465, 0.46606191],\n",
            "       [0.71221209, 0.49647296, 0.63929786, 0.5456819 , 0.57265265,\n",
            "        0.33565977, 0.52855223, 0.42714563, 0.88228979, 0.32271424,\n",
            "        0.81787466, 0.65061233, 0.46443063],\n",
            "       [0.71124819, 0.49561752, 0.64070999, 0.53861282, 0.57183885,\n",
            "        0.33381017, 0.52783286, 0.42080226, 0.88361426, 0.32510354,\n",
            "        0.8227239 , 0.64322229, 0.46319695],\n",
            "       [0.71077394, 0.49617089, 0.63909623, 0.536111  , 0.57190091,\n",
            "        0.33498648, 0.52650578, 0.41782676, 0.88129286, 0.32351067,\n",
            "        0.82370202, 0.63909124, 0.46402428],\n",
            "       [0.71248885, 0.49658712, 0.63929786, 0.54343982, 0.57257603,\n",
            "        0.33689306, 0.52650578, 0.42019322, 0.88129286, 0.32351067,\n",
            "        0.82370202, 0.64462061, 0.4655123 ],\n",
            "       [0.71248885, 0.49658712, 0.63929786, 0.54343982, 0.57418904,\n",
            "        0.33689306, 0.52678035, 0.42009897, 0.88405878, 0.32637783,\n",
            "        0.82370202, 0.64462061, 0.4655123 ],\n",
            "       [0.71270023, 0.49245964, 0.6441396 , 0.54343982, 0.56773701,\n",
            "        0.33312767, 0.52672305, 0.42693351, 0.88686759, 0.31857279,\n",
            "        0.83196054, 0.6493343 , 0.45996948],\n",
            "       [0.71086004, 0.49194445, 0.63243893, 0.54491267, 0.56845592,\n",
            "        0.33262924, 0.51574951, 0.42334969, 0.88402889, 0.31299777,\n",
            "        0.83504959, 0.64589489, 0.45977653]]), array([[0.64435057, 0.43491175, 0.5003025 , 0.62624706, 0.57814125,\n",
            "        0.32368797, 0.41627435, 0.4321916 , 0.86529783, 0.19018796,\n",
            "        0.81609486, 0.64312832, 0.43360307],\n",
            "       [0.64304536, 0.43444734, 0.51099459, 0.63293288, 0.58262994,\n",
            "        0.32298158, 0.41968981, 0.43308396, 0.86742166, 0.19544441,\n",
            "        0.80884278, 0.64441763, 0.43390711],\n",
            "       [0.63705449, 0.43340917, 0.50817016, 0.62883319, 0.57843322,\n",
            "        0.32186843, 0.41802143, 0.43171158, 0.86702783, 0.19289583,\n",
            "        0.81852166, 0.64066623, 0.43185193],\n",
            "       [0.64729451, 0.43669121, 0.52834366, 0.59542153, 0.57953532,\n",
            "        0.32466244, 0.41434977, 0.42825171, 0.86456606, 0.19958586,\n",
            "        0.83009143, 0.63878677, 0.43475198],\n",
            "       [0.63115198, 0.42816272, 0.52834366, 0.59542153, 0.56443435,\n",
            "        0.31577741, 0.41434977, 0.42825171, 0.86947011, 0.19655941,\n",
            "        0.80400226, 0.61444402, 0.42565719],\n",
            "       [0.64393547, 0.42962453, 0.5384304 , 0.60364739, 0.5670692 ,\n",
            "        0.31584135, 0.4178623 , 0.42424583, 0.86759583, 0.20595731,\n",
            "        0.8118033 , 0.61811272, 0.42578289],\n",
            "       [0.63803145, 0.42769793, 0.53580789, 0.59567555, 0.5688756 ,\n",
            "        0.31473666, 0.41973342, 0.42506554, 0.86844589, 0.20006371,\n",
            "        0.7974255 , 0.6188006 , 0.42388851],\n",
            "       [0.64786867, 0.43049777, 0.53600968, 0.61020659, 0.57355406,\n",
            "        0.31812768, 0.4224488 , 0.42850469, 0.86708242, 0.1956037 ,\n",
            "        0.80886457, 0.6238977 , 0.4277182 ],\n",
            "       [0.64895477, 0.43200554, 0.5354045 , 0.6065654 , 0.57374014,\n",
            "        0.31832568, 0.42395856, 0.43306028, 0.86646503, 0.1967187 ,\n",
            "        0.81362667, 0.62915642, 0.42908929],\n",
            "       [0.65323695, 0.43051296, 0.54448251, 0.60939259, 0.57361608,\n",
            "        0.31797286, 0.43407714, 0.43552686, 0.86822752, 0.19815228,\n",
            "        0.81471154, 0.62840464, 0.42822688],\n",
            "       [0.65395494, 0.42989621, 0.55214838, 0.61874518, 0.57084259,\n",
            "        0.31917226, 0.43189979, 0.43473533, 0.8695221 , 0.19496655,\n",
            "        0.81331079, 0.62405933, 0.42817426],\n",
            "       [0.657832  , 0.43276202, 0.55154319, 0.61874518, 0.5762217 ,\n",
            "        0.32321114, 0.43403095, 0.43591705, 0.86879422, 0.19974514,\n",
            "        0.8058888 , 0.63368968, 0.43114739],\n",
            "       [0.65753527, 0.43076945, 0.55255193, 0.61715828, 0.57236438,\n",
            "        0.32117513, 0.43962635, 0.44060173, 0.86839389, 0.19847085,\n",
            "        0.81269429, 0.63270108, 0.42875895],\n",
            "       [0.65387417, 0.4318836 , 0.55073623, 0.6073985 , 0.56386873,\n",
            "        0.31862302, 0.44076355, 0.43886582, 0.86880332, 0.2037273 ,\n",
            "        0.79972159, 0.62312336, 0.42766851],\n",
            "       [0.65444301, 0.43078464, 0.55598138, 0.59953625, 0.56760199,\n",
            "        0.31598078, 0.43839333, 0.43421453, 0.86850048, 0.2131252 ,\n",
            "        0.80592583, 0.62326244, 0.42580044],\n",
            "       [0.65283731, 0.43046997, 0.54508767, 0.59230684, 0.56588682,\n",
            "        0.31398792, 0.44309744, 0.43476127, 0.86823272, 0.21296591,\n",
            "        0.80803675, 0.61849613, 0.4238622 ],\n",
            "       [0.63976783, 0.42587066, 0.53197488, 0.60013568, 0.56149667,\n",
            "        0.31117465, 0.44292595, 0.43222275, 0.86823272, 0.21169162,\n",
            "        0.79080082, 0.61753009, 0.41956768],\n",
            "       [0.63976783, 0.42587066, 0.53197488, 0.60013568, 0.56149667,\n",
            "        0.31117465, 0.44292595, 0.43222275, 0.86701743, 0.20946161,\n",
            "        0.79080082, 0.61753009, 0.41956768],\n",
            "       [0.62783595, 0.42299966, 0.52592294, 0.5864305 , 0.5511143 ,\n",
            "        0.30747625, 0.42976521, 0.42230744, 0.86656771, 0.20532017,\n",
            "        0.77517694, 0.615068  , 0.4155392 ],\n",
            "       [0.62437317, 0.42192591, 0.52108134, 0.58125944, 0.55288791,\n",
            "        0.30384338, 0.41995754, 0.41698329, 0.86752694, 0.20675374,\n",
            "        0.76321505, 0.61316599, 0.41282625],\n",
            "       [0.61924239, 0.42035475, 0.51926564, 0.57959437, 0.55223832,\n",
            "        0.30291589, 0.41995754, 0.41704863, 0.86752564, 0.20165658,\n",
            "        0.74202958, 0.60817414, 0.4118089 ],\n",
            "       [0.63444797, 0.43411747, 0.5335888 , 0.58605996, 0.55791666,\n",
            "        0.31214449, 0.43158421, 0.42607592, 0.86766082, 0.2096209 ,\n",
            "        0.76678554, 0.61274123, 0.42535607],\n",
            "       [0.63639806, 0.43682835, 0.53520272, 0.59046059, 0.56003328,\n",
            "        0.31424907, 0.43133486, 0.42812262, 0.86559678, 0.21439949,\n",
            "        0.77467808, 0.61999218, 0.42770651],\n",
            "       [0.64898015, 0.44635202, 0.54811374, 0.5703334 , 0.5436113 ,\n",
            "        0.31868463, 0.39199469, 0.40777945, 0.86529653, 0.24784963,\n",
            "        0.78964624, 0.60858011, 0.43463504],\n",
            "       [0.64775878, 0.45443908, 0.55396407, 0.58759547, 0.55974863,\n",
            "        0.31542842, 0.43873548, 0.42328218, 0.86741386, 0.25899968,\n",
            "        0.77137772, 0.62519828, 0.43586873],\n",
            "       [0.65066661, 0.4559135 , 0.58220698, 0.57505288, 0.55311782,\n",
            "        0.31760925, 0.44003432, 0.40885952, 0.87409991, 0.27349474,\n",
            "        0.75012689, 0.61787215, 0.43498293],\n",
            "       [0.65583117, 0.45870815, 0.58220698, 0.5666165 , 0.54695045,\n",
            "        0.32057583, 0.45258093, 0.40687665, 0.88066507, 0.27349474,\n",
            "        0.76370085, 0.6114632 , 0.43964287],\n",
            "       [0.65035299, 0.45667257, 0.58664519, 0.56485002, 0.55137343,\n",
            "        0.32203638, 0.4608806 , 0.40919038, 0.88473856, 0.27110545,\n",
            "        0.75432913, 0.61012502, 0.43863429],\n",
            "       [0.65201866, 0.45799503, 0.59632836, 0.56413137, 0.55170188,\n",
            "        0.32507074, 0.46089856, 0.41164139, 0.88214161, 0.28432622,\n",
            "        0.76413   , 0.61745115, 0.44161034],\n",
            "       [0.65040599, 0.45666479, 0.60278388, 0.56744315, 0.5495232 ,\n",
            "        0.32411087, 0.4653798 , 0.4126451 , 0.88311125, 0.29244982,\n",
            "        0.76000401, 0.62691235, 0.44008431],\n",
            "       [0.65198714, 0.45995462, 0.5995562 , 0.56799565, 0.54641036,\n",
            "        0.32775841, 0.47130791, 0.41504272, 0.88578098, 0.28703409,\n",
            "        0.76048109, 0.61865025, 0.44484365],\n",
            "       [0.6541947 , 0.4624446 , 0.59935443, 0.58103794, 0.55276746,\n",
            "        0.32910575, 0.47374229, 0.42188827, 0.88768385, 0.28703409,\n",
            "        0.76957832, 0.62072893, 0.44623521],\n",
            "       [0.6502431 , 0.46464288, 0.61266885, 0.58098171, 0.55440235,\n",
            "        0.32866897, 0.48103306, 0.4252147 , 0.89342106, 0.29356483,\n",
            "        0.76914045, 0.62730328, 0.44675558],\n",
            "       [0.65230458, 0.46719884, 0.60843244, 0.57820463, 0.54831164,\n",
            "        0.33007405, 0.48103306, 0.42327703, 0.89368101, 0.29786556,\n",
            "        0.77164349, 0.62881812, 0.4492785 ],\n",
            "       [0.65307399, 0.46719884, 0.60843244, 0.58288578, 0.54947941,\n",
            "        0.33007405, 0.48307784, 0.42379334, 0.89080331, 0.29420198,\n",
            "        0.77415961, 0.63468579, 0.4492785 ],\n",
            "       [0.64411149, 0.46518847, 0.60520476, 0.58724776, 0.55081873,\n",
            "        0.32775458, 0.48203728, 0.42847948, 0.8932079 , 0.28671551,\n",
            "        0.76516695, 0.64044445, 0.44587855],\n",
            "       [0.64701857, 0.46606689, 0.59713532, 0.58344043, 0.55091362,\n",
            "        0.32861041, 0.47990521, 0.42626435, 0.89293754, 0.28368907,\n",
            "        0.75918273, 0.64213221, 0.44673804],\n",
            "       [0.64854125, 0.46614028, 0.60863421, 0.58558635, 0.55277111,\n",
            "        0.32427806, 0.47996685, 0.42984962, 0.89045887, 0.29913985,\n",
            "        0.76175113, 0.65191667, 0.44502783],\n",
            "       [0.64037428, 0.46867362, 0.59935443, 0.58918849, 0.55286965,\n",
            "        0.31868772, 0.48871893, 0.43154249, 0.88841433, 0.30933418,\n",
            "        0.75502842, 0.6607163 , 0.44276802],\n",
            "       [0.63878314, 0.46787637, 0.5939075 , 0.57642639, 0.54807443,\n",
            "        0.31903745, 0.48499641, 0.42604998, 0.88717434, 0.29945843,\n",
            "        0.75019007, 0.65725434, 0.44302236],\n",
            "       [0.65196409, 0.46957466, 0.58119824, 0.57401292, 0.54542866,\n",
            "        0.32313873, 0.47853453, 0.42391128, 0.88598375, 0.300892  ,\n",
            "        0.75369956, 0.66615545, 0.44675265],\n",
            "       [0.65891968, 0.47089192, 0.58825895, 0.58091904, 0.55509938,\n",
            "        0.324996  , 0.48219332, 0.43059586, 0.88125907, 0.29945843,\n",
            "        0.76089064, 0.66843712, 0.44895107],\n",
            "       [0.67516677, 0.48193115, 0.58301394, 0.58604039, 0.55584021,\n",
            "        0.32967654, 0.48801626, 0.43156915, 0.87923142, 0.29181268,\n",
            "        0.78755275, 0.67246668, 0.4574641 ],\n",
            "       [0.68998104, 0.48434738, 0.59995961, 0.58852106, 0.57013825,\n",
            "        0.33149454, 0.49951162, 0.43987548, 0.87568173, 0.30216629,\n",
            "        0.79393997, 0.6720983 , 0.45887904],\n",
            "       [0.69184195, 0.48961199, 0.61004636, 0.58441405, 0.56780998,\n",
            "        0.33358524, 0.50938679, 0.44112318, 0.8781825 , 0.31124562,\n",
            "        0.79887635, 0.67107212, 0.4627789 ],\n",
            "       [0.69081042, 0.49107899, 0.59774051, 0.57105944, 0.56874058,\n",
            "        0.33112325, 0.51617244, 0.43795266, 0.8764343 , 0.31299777,\n",
            "        0.78497999, 0.6695911 , 0.46202757],\n",
            "       [0.69806964, 0.49533323, 0.59915265, 0.57161648, 0.57193009,\n",
            "        0.3350743 , 0.52025641, 0.44034129, 0.87785626, 0.31236062,\n",
            "        0.80200461, 0.67073382, 0.46634256],\n",
            "       [0.69500958, 0.49093444, 0.61872096, 0.57202042, 0.57225488,\n",
            "        0.33298206, 0.52038855, 0.43933091, 0.87707379, 0.32733355,\n",
            "        0.79778277, 0.67029402, 0.46095175],\n",
            "       [0.70435341, 0.49314755, 0.64151695, 0.55584562, 0.57217461,\n",
            "        0.33453661, 0.52125161, 0.43872484, 0.88126816, 0.33354572,\n",
            "        0.80863583, 0.6615395 , 0.46350975],\n",
            "       [0.70724428, 0.49282027, 0.63788572, 0.55427178, 0.57421457,\n",
            "        0.33301983, 0.52669866, 0.43623457, 0.88124867, 0.33243071,\n",
            "        0.81138722, 0.66420458, 0.46235207],\n",
            "       [0.70898839, 0.49428987, 0.64171872, 0.54661353, 0.57280959,\n",
            "        0.33458205, 0.52629018, 0.42974653, 0.88201294, 0.32366996,\n",
            "        0.81258973, 0.65488998, 0.46365592],\n",
            "       [0.71191236, 0.49768348, 0.64474479, 0.54239414, 0.57410507,\n",
            "        0.33662344, 0.53069233, 0.42997574, 0.88475416, 0.32637783,\n",
            "        0.81842798, 0.65422465, 0.46606191],\n",
            "       [0.71221209, 0.49647296, 0.63929786, 0.5456819 , 0.57265265,\n",
            "        0.33565977, 0.52855223, 0.42714563, 0.88228979, 0.32271424,\n",
            "        0.81787466, 0.65061233, 0.46443063],\n",
            "       [0.71124819, 0.49561752, 0.64070999, 0.53861282, 0.57183885,\n",
            "        0.33381017, 0.52783286, 0.42080226, 0.88361426, 0.32510354,\n",
            "        0.8227239 , 0.64322229, 0.46319695],\n",
            "       [0.71077394, 0.49617089, 0.63909623, 0.536111  , 0.57190091,\n",
            "        0.33498648, 0.52650578, 0.41782676, 0.88129286, 0.32351067,\n",
            "        0.82370202, 0.63909124, 0.46402428],\n",
            "       [0.71248885, 0.49658712, 0.63929786, 0.54343982, 0.57257603,\n",
            "        0.33689306, 0.52650578, 0.42019322, 0.88129286, 0.32351067,\n",
            "        0.82370202, 0.64462061, 0.4655123 ],\n",
            "       [0.71248885, 0.49658712, 0.63929786, 0.54343982, 0.57418904,\n",
            "        0.33689306, 0.52678035, 0.42009897, 0.88405878, 0.32637783,\n",
            "        0.82370202, 0.64462061, 0.4655123 ],\n",
            "       [0.71270023, 0.49245964, 0.6441396 , 0.54343982, 0.56773701,\n",
            "        0.33312767, 0.52672305, 0.42693351, 0.88686759, 0.31857279,\n",
            "        0.83196054, 0.6493343 , 0.45996948],\n",
            "       [0.71086004, 0.49194445, 0.63243893, 0.54491267, 0.56845592,\n",
            "        0.33262924, 0.51574951, 0.42334969, 0.88402889, 0.31299777,\n",
            "        0.83504959, 0.64589489, 0.45977653],\n",
            "       [0.71316676, 0.48982511, 0.6265886 , 0.55344966, 0.56834647,\n",
            "        0.32885693, 0.51443347, 0.43079842, 0.8827954 , 0.30805989,\n",
            "        0.83996636, 0.64274115, 0.4567274 ]])]\n",
            "\n",
            "\n",
            "[0.5070087479686042, 0.5065730783859479]\n",
            "\n"
          ],
          "name": "stdout"
        }
      ]
    },
    {
      "cell_type": "code",
      "metadata": {
        "colab": {
          "base_uri": "https://localhost:8080/"
        },
        "id": "przrJQ2TAiLF",
        "outputId": "8cabd754-7dcb-4ddc-e959-dc63dc1ee7f4"
      },
      "source": [
        "print(y_train)"
      ],
      "execution_count": null,
      "outputs": [
        {
          "output_type": "stream",
          "text": [
            "[0.04808271 0.04662702 0.04706269 ... 0.49643166 0.49656997 0.5013243 ]\n"
          ],
          "name": "stdout"
        }
      ]
    },
    {
      "cell_type": "code",
      "metadata": {
        "id": "Fr2fV7MgwD1t"
      },
      "source": [
        "import tensorflow as tf\n",
        "from tensorflow.keras import layers\n",
        "from tensorflow.keras.layers import Dense, Dropout, LSTM\n",
        "from tensorflow.keras.callbacks import ModelCheckpoint, ReduceLROnPlateau, EarlyStopping\n",
        "\n",
        "reduceLROnPlato = ReduceLROnPlateau(monitor=\"val_loss\", factor=0.5, patience=4, verbose=1, mode='min')\n",
        "earlyStop = EarlyStopping(monitor=\"val_loss\", mode='min', verbose=1, patience=8)"
      ],
      "execution_count": null,
      "outputs": []
    },
    {
      "cell_type": "markdown",
      "metadata": {
        "id": "Ux59_45ruQyn"
      },
      "source": [
        "model 1"
      ]
    },
    {
      "cell_type": "code",
      "metadata": {
        "id": "7bfGiVnxwD1u",
        "colab": {
          "base_uri": "https://localhost:8080/"
        },
        "outputId": "6a462b68-99e5-4607-e568-f1697cb85bda"
      },
      "source": [
        "#create model\n",
        "model_lstm = tf.keras.Sequential()\n",
        "model_lstm.add(tf.keras.layers.LSTM(units = 60, return_sequences = True, \n",
        "                                   input_shape = (X_train.shape[1],X_train.shape[2])))\n",
        "# model_lstm.add(tf.keras.layers.LSTM(units = 60,return_sequences = True))\n",
        "# model_lstm.add(tf.keras.layers.LSTM(units = 30, return_sequences = True))\n",
        "  \n",
        "model_lstm.add(tf.keras.layers.Dense(units = 1))\n",
        "\n",
        "model_lstm.compile(loss='mae', optimizer='adam')\n",
        "model_lstm.summary()"
      ],
      "execution_count": null,
      "outputs": [
        {
          "output_type": "stream",
          "text": [
            "Model: \"sequential_2\"\n",
            "_________________________________________________________________\n",
            "Layer (type)                 Output Shape              Param #   \n",
            "=================================================================\n",
            "lstm_2 (LSTM)                (None, 60, 60)            17760     \n",
            "_________________________________________________________________\n",
            "dense_2 (Dense)              (None, 60, 1)             61        \n",
            "=================================================================\n",
            "Total params: 17,821\n",
            "Trainable params: 17,821\n",
            "Non-trainable params: 0\n",
            "_________________________________________________________________\n"
          ],
          "name": "stdout"
        }
      ]
    },
    {
      "cell_type": "markdown",
      "metadata": {
        "id": "7e2sndPquSOc"
      },
      "source": [
        "model 2"
      ]
    },
    {
      "cell_type": "code",
      "metadata": {
        "id": "6M5nifkTuNWP"
      },
      "source": [
        "# model_lstm = tf.keras.Sequential()\n",
        "# model_lstm.add(tf.keras.layers.LSTM(units = 128,return_sequences = True, \n",
        "#                                    input_shape = (X_train.shape[1], X_train.shape[2])))\n",
        "# model_lstm.add(LSTM(64, return_sequences=False))\n",
        "# model_lstm.add(Dense(25))\n",
        "# model_lstm.add(Dense(1))\n",
        "\n",
        "# model_lstm.compile(optimizer='adam', loss='mean_squared_error')\n",
        "# model_lstm.summary()"
      ],
      "execution_count": null,
      "outputs": []
    },
    {
      "cell_type": "code",
      "metadata": {
        "id": "D_h_1lEYMGDp",
        "colab": {
          "base_uri": "https://localhost:8080/"
        },
        "outputId": "e911d61f-e6c5-4aab-8793-9bc911798e06"
      },
      "source": [
        "X_test, y_test = np.array(X_test), np.array(y_test)\n",
        "print(X_train.shape,y_train.shape,X_test.shape, y_test.shape)"
      ],
      "execution_count": null,
      "outputs": [
        {
          "output_type": "stream",
          "text": [
            "(4174, 60, 13) (4174,) (1059, 60, 13) (1059,)\n"
          ],
          "name": "stdout"
        }
      ]
    },
    {
      "cell_type": "code",
      "metadata": {
        "colab": {
          "base_uri": "https://localhost:8080/"
        },
        "id": "Qokk9dPssBzy",
        "outputId": "cd45181d-e43c-4faa-f6c0-d3a0f17e6d66"
      },
      "source": [
        "# fit network\n",
        "history_lstm = model_lstm.fit(X_train, y_train, \n",
        "                              epochs = 100, \n",
        "                              batch_size = 64, \n",
        "                              validation_data = (X_test, y_test),  \n",
        "                              shuffle=False,\n",
        "                              callbacks=[reduceLROnPlato, earlyStop])"
      ],
      "execution_count": null,
      "outputs": [
        {
          "output_type": "stream",
          "text": [
            "Epoch 1/100\n",
            "66/66 [==============================] - 5s 46ms/step - loss: 0.0593 - val_loss: 0.1046\n",
            "Epoch 2/100\n",
            "66/66 [==============================] - 3s 40ms/step - loss: 0.0561 - val_loss: 0.1689\n",
            "Epoch 3/100\n",
            "66/66 [==============================] - 3s 40ms/step - loss: 0.0554 - val_loss: 0.1148\n",
            "Epoch 4/100\n",
            "66/66 [==============================] - 3s 39ms/step - loss: 0.0644 - val_loss: 0.1026\n",
            "Epoch 5/100\n",
            "66/66 [==============================] - 3s 40ms/step - loss: 0.0569 - val_loss: 0.0916\n",
            "Epoch 6/100\n",
            "66/66 [==============================] - 3s 39ms/step - loss: 0.0687 - val_loss: 0.0869\n",
            "Epoch 7/100\n",
            "66/66 [==============================] - 3s 39ms/step - loss: 0.0649 - val_loss: 0.0648\n",
            "Epoch 8/100\n",
            "66/66 [==============================] - 3s 40ms/step - loss: 0.0581 - val_loss: 0.0605\n",
            "Epoch 9/100\n",
            "66/66 [==============================] - 3s 39ms/step - loss: 0.0489 - val_loss: 0.0570\n",
            "Epoch 10/100\n",
            "66/66 [==============================] - 3s 40ms/step - loss: 0.0478 - val_loss: 0.0552\n",
            "Epoch 11/100\n",
            "66/66 [==============================] - 3s 40ms/step - loss: 0.0592 - val_loss: 0.0637\n",
            "Epoch 12/100\n",
            "66/66 [==============================] - 3s 39ms/step - loss: 0.0548 - val_loss: 0.0558\n",
            "Epoch 13/100\n",
            "66/66 [==============================] - 3s 39ms/step - loss: 0.0505 - val_loss: 0.0511\n",
            "Epoch 14/100\n",
            "66/66 [==============================] - 3s 39ms/step - loss: 0.0524 - val_loss: 0.0495\n",
            "Epoch 15/100\n",
            "66/66 [==============================] - 3s 40ms/step - loss: 0.0467 - val_loss: 0.0496\n",
            "Epoch 16/100\n",
            "66/66 [==============================] - 3s 39ms/step - loss: 0.0438 - val_loss: 0.0502\n",
            "Epoch 17/100\n",
            "66/66 [==============================] - 3s 39ms/step - loss: 0.0408 - val_loss: 0.0502\n",
            "Epoch 18/100\n",
            "66/66 [==============================] - 3s 39ms/step - loss: 0.0387 - val_loss: 0.0541\n",
            "\n",
            "Epoch 00018: ReduceLROnPlateau reducing learning rate to 0.0005000000237487257.\n",
            "Epoch 19/100\n",
            "66/66 [==============================] - 3s 39ms/step - loss: 0.0371 - val_loss: 0.0562\n",
            "Epoch 20/100\n",
            "66/66 [==============================] - 3s 39ms/step - loss: 0.0368 - val_loss: 0.0554\n",
            "Epoch 21/100\n",
            "66/66 [==============================] - 3s 39ms/step - loss: 0.0313 - val_loss: 0.0540\n",
            "Epoch 22/100\n",
            "66/66 [==============================] - 3s 39ms/step - loss: 0.0303 - val_loss: 0.0540\n",
            "\n",
            "Epoch 00022: ReduceLROnPlateau reducing learning rate to 0.0002500000118743628.\n",
            "Epoch 00022: early stopping\n"
          ],
          "name": "stdout"
        }
      ]
    },
    {
      "cell_type": "code",
      "metadata": {
        "colab": {
          "base_uri": "https://localhost:8080/",
          "height": 555
        },
        "id": "cdiEXQo5smaP",
        "outputId": "1fb4fb0b-ca1c-4dfe-d809-3356b7455146"
      },
      "source": [
        "plt.figure(figsize=(10, 6), dpi=100)\n",
        "plt.plot(history_lstm.history['loss'], label='LSTM train loss', color='red')\n",
        "plt.plot(history_lstm.history['val_loss'], label='LSTM val loss', color= 'green')\n",
        "# plt.plot(gru_history.history['loss'], label='GRU train', color='brown')\n",
        "# plt.plot(gru_history.history['val_loss'], label='GRU test', color='blue')\n",
        "plt.xlabel('epochs')\n",
        "plt.ylabel('loss')\n",
        "plt.legend()\n",
        "plt.title('Training and Validation loss')\n",
        "plt.show()"
      ],
      "execution_count": null,
      "outputs": [
        {
          "output_type": "display_data",
          "data": {
            "image/png": "[encoded data removed]",
            "text/plain": [
              "<Figure size 1000x600 with 1 Axes>"
            ]
          },
          "metadata": {
            "tags": [],
            "needs_background": "light"
          }
        }
      ]
    },
    {
      "cell_type": "code",
      "metadata": {
        "id": "KPzkHwAgwQ1N"
      },
      "source": [
        ""
      ],
      "execution_count": null,
      "outputs": []
    },
    {
      "cell_type": "code",
      "metadata": {
        "id": "lhratOq5tw5y"
      },
      "source": [
        "y_pred = model_lstm.predict(X_test)"
      ],
      "execution_count": null,
      "outputs": []
    },
    {
      "cell_type": "code",
      "metadata": {
        "colab": {
          "base_uri": "https://localhost:8080/"
        },
        "id": "a-f1dX_OvUHh",
        "outputId": "a3de9448-4b95-4dba-d88c-ad66568a1730"
      },
      "source": [
        "print(y_test.shape,y_pred.shape)"
      ],
      "execution_count": null,
      "outputs": [
        {
          "output_type": "stream",
          "text": [
            "(1059,) (1059, 60, 1)\n"
          ],
          "name": "stdout"
        }
      ]
    },
    {
      "cell_type": "code",
      "metadata": {
        "colab": {
          "base_uri": "https://localhost:8080/"
        },
        "id": "P1i-Rs_T86di",
        "outputId": "43cd9f48-8779-4fd4-91cc-d066d277902a"
      },
      "source": [
        "import numpy as np\n",
        "np.isnan(y_test)"
      ],
      "execution_count": null,
      "outputs": [
        {
          "output_type": "execute_result",
          "data": {
            "text/plain": [
              "array([False, False, False, ..., False, False, False])"
            ]
          },
          "metadata": {
            "tags": []
          },
          "execution_count": 223
        }
      ]
    },
    {
      "cell_type": "code",
      "metadata": {
        "id": "gjrGXdE1uHuq"
      },
      "source": [
        "# normal_scale = 1/0.00143499\n",
        "# normal_scale"
      ],
      "execution_count": null,
      "outputs": []
    },
    {
      "cell_type": "code",
      "metadata": {
        "id": "1Eh3CX2_uqnr"
      },
      "source": [
        "# y_pred = y_pred * normal_scale\n",
        "# y_pred\n"
      ],
      "execution_count": null,
      "outputs": []
    },
    {
      "cell_type": "code",
      "metadata": {
        "id": "4iAH1xeZut81"
      },
      "source": [
        "# y_test = y_test * normal_scale\n",
        "# y_test "
      ],
      "execution_count": null,
      "outputs": []
    },
    {
      "cell_type": "markdown",
      "metadata": {
        "id": "mHH0xCQi0KEc"
      },
      "source": [
        "## denormalizing"
      ]
    },
    {
      "cell_type": "code",
      "metadata": {
        "id": "46d5HMeO0Jce"
      },
      "source": [
        "def invTransform(scaler, data):\n",
        "    dummy = pd.DataFrame(np.zeros((len(data), 14)))\n",
        "    dummy[0] = data\n",
        "    dummy = pd.DataFrame(scaler.inverse_transform(dummy), columns=dummy.columns)\n",
        "    return dummy[0].values"
      ],
      "execution_count": null,
      "outputs": []
    },
    {
      "cell_type": "code",
      "metadata": {
        "colab": {
          "base_uri": "https://localhost:8080/"
        },
        "id": "c9_cZAiN05I6",
        "outputId": "68cae7b0-0d81-484d-9ff8-9165c31221ae"
      },
      "source": [
        "y_pred[:,-1,-1].shape"
      ],
      "execution_count": null,
      "outputs": [
        {
          "output_type": "execute_result",
          "data": {
            "text/plain": [
              "(1059,)"
            ]
          },
          "metadata": {
            "tags": []
          },
          "execution_count": 228
        }
      ]
    },
    {
      "cell_type": "code",
      "metadata": {
        "id": "0fdR8Hs90aXK"
      },
      "source": [
        "y_pred = invTransform(scaler, y_pred[:,-1,-1])\n",
        "y_test = invTransform(scaler, y_test)"
      ],
      "execution_count": null,
      "outputs": []
    },
    {
      "cell_type": "code",
      "metadata": {
        "colab": {
          "base_uri": "https://localhost:8080/"
        },
        "id": "jWLvDqTF0cyH",
        "outputId": "76626537-1b24-4356-d91a-cb8a102c24b0"
      },
      "source": [
        "y_pred, y_test"
      ],
      "execution_count": null,
      "outputs": [
        {
          "output_type": "execute_result",
          "data": {
            "text/plain": [
              "(array([ 8563.27109562,  8563.55897455,  8611.32101963, ...,\n",
              "        14652.02338774, 14702.11173592, 14766.84829496]),\n",
              " array([ 8185.8       ,  8179.5       ,  8192.25      , ...,\n",
              "        14819.05      , 14873.8       ,  5525.68214286]))"
            ]
          },
          "metadata": {
            "tags": []
          },
          "execution_count": 230
        }
      ]
    },
    {
      "cell_type": "code",
      "metadata": {
        "colab": {
          "base_uri": "https://localhost:8080/"
        },
        "id": "TkzS6ER4vI_w",
        "outputId": "6c2ff2d8-10fa-4160-a26a-ff9e1e615f01"
      },
      "source": [
        "mean_y_test = y_test.mean()\n",
        "mean_y_pred = y_pred.mean()\n",
        "print(mean_y_test, mean_y_pred)"
      ],
      "execution_count": null,
      "outputs": [
        {
          "output_type": "stream",
          "text": [
            "10973.08223054094 11002.360936178016\n"
          ],
          "name": "stdout"
        }
      ]
    },
    {
      "cell_type": "code",
      "metadata": {
        "colab": {
          "base_uri": "https://localhost:8080/"
        },
        "id": "f-STMixCvLzU",
        "outputId": "6042a911-f099-4e0d-f635-2b4088f7c23b"
      },
      "source": [
        "accuracy = round((mean_y_test / mean_y_pred)*100,2)\n",
        "accuracy"
      ],
      "execution_count": null,
      "outputs": [
        {
          "output_type": "execute_result",
          "data": {
            "text/plain": [
              "99.73"
            ]
          },
          "metadata": {
            "tags": []
          },
          "execution_count": 232
        }
      ]
    },
    {
      "cell_type": "code",
      "metadata": {
        "id": "ysQ7Ao3QvNuc"
      },
      "source": [
        "from math import sqrt\n",
        "m = len(y_pred)\n",
        "rmse = sqrt(mean_squared_error(y_pred,y_test,squared=False))"
      ],
      "execution_count": null,
      "outputs": []
    },
    {
      "cell_type": "markdown",
      "metadata": {
        "id": "BX9BRSFCJnWb"
      },
      "source": [
        "#RMSE\n"
      ]
    },
    {
      "cell_type": "code",
      "metadata": {
        "colab": {
          "base_uri": "https://localhost:8080/"
        },
        "id": "uCFhmBnEvuZz",
        "outputId": "451d416e-0b93-4121-d576-ce2b28ab9403"
      },
      "source": [
        "rmse"
      ],
      "execution_count": null,
      "outputs": [
        {
          "output_type": "execute_result",
          "data": {
            "text/plain": [
              "26.656408152538056"
            ]
          },
          "metadata": {
            "tags": []
          },
          "execution_count": 234
        }
      ]
    },
    {
      "cell_type": "code",
      "metadata": {
        "id": "7nN44qUMvzHH"
      },
      "source": [
        "from sklearn.metrics import mean_absolute_error\n",
        "\n",
        "mae = mean_absolute_error(y_test, y_pred, multioutput='raw_values')"
      ],
      "execution_count": null,
      "outputs": []
    },
    {
      "cell_type": "markdown",
      "metadata": {
        "id": "bgir9IEGJpap"
      },
      "source": [
        "#MAE"
      ]
    },
    {
      "cell_type": "code",
      "metadata": {
        "id": "dCCU3qvGetaG",
        "colab": {
          "base_uri": "https://localhost:8080/"
        },
        "outputId": "155915a0-502e-4b7e-ebc2-aaece72cdc8e"
      },
      "source": [
        "mae"
      ],
      "execution_count": null,
      "outputs": [
        {
          "output_type": "execute_result",
          "data": {
            "text/plain": [
              "array([502.37696957])"
            ]
          },
          "metadata": {
            "tags": []
          },
          "execution_count": 236
        }
      ]
    },
    {
      "cell_type": "markdown",
      "metadata": {
        "id": "ZMwIi9jLJedY"
      },
      "source": [
        "# R2"
      ]
    },
    {
      "cell_type": "code",
      "metadata": {
        "id": "ID2yC1mZoOcn",
        "colab": {
          "base_uri": "https://localhost:8080/"
        },
        "outputId": "3818e53e-f6a6-48dd-f956-619e12b5a3d2"
      },
      "source": [
        "from sklearn.metrics import r2_score\n",
        "\n",
        "r2 = r2_score(y_test,y_pred)\n",
        "print(r2)"
      ],
      "execution_count": null,
      "outputs": [
        {
          "output_type": "stream",
          "text": [
            "0.7554723161722996\n"
          ],
          "name": "stdout"
        }
      ]
    },
    {
      "cell_type": "code",
      "metadata": {
        "colab": {
          "base_uri": "https://localhost:8080/"
        },
        "id": "rWYfxDLD53YP",
        "outputId": "ba89836c-7823-4ee6-afa1-564ad46ba8d4"
      },
      "source": [
        "y_train_pred = model_lstm.predict(X_train)\n",
        "print(y_train.shape,y_train_pred.shape)\n"
      ],
      "execution_count": null,
      "outputs": [
        {
          "output_type": "stream",
          "text": [
            "(4174,) (4174, 60, 1)\n"
          ],
          "name": "stdout"
        }
      ]
    },
    {
      "cell_type": "code",
      "metadata": {
        "colab": {
          "base_uri": "https://localhost:8080/"
        },
        "id": "cRp1F1wA7AMG",
        "outputId": "2dc2f595-0f38-44d8-fcc7-b476a8af35b8"
      },
      "source": [
        "import numpy as np\n",
        "np.isnan(y_train)\n"
      ],
      "execution_count": null,
      "outputs": [
        {
          "output_type": "execute_result",
          "data": {
            "text/plain": [
              "array([False, False, False, ..., False, False, False])"
            ]
          },
          "metadata": {
            "tags": []
          },
          "execution_count": 239
        }
      ]
    },
    {
      "cell_type": "code",
      "metadata": {
        "id": "a30C6P2v7DGE"
      },
      "source": [
        "# normal_scale = 1/0.00143499\n",
        "# normal_scale\n",
        "# y_train_pred = y_train_pred * normal_scale\n",
        "# y_train_pred\n"
      ],
      "execution_count": null,
      "outputs": []
    },
    {
      "cell_type": "code",
      "metadata": {
        "id": "kIVxVH1u7Fk2"
      },
      "source": [
        "# y_train = y_train * normal_scale\n",
        "# y_train \n"
      ],
      "execution_count": null,
      "outputs": []
    },
    {
      "cell_type": "code",
      "metadata": {
        "colab": {
          "base_uri": "https://localhost:8080/"
        },
        "id": "ljSP10DK4J1v",
        "outputId": "8810801e-c2e9-4de7-eb82-971908946cf5"
      },
      "source": [
        "y_train_pred.shape"
      ],
      "execution_count": null,
      "outputs": [
        {
          "output_type": "execute_result",
          "data": {
            "text/plain": [
              "(4174, 60, 1)"
            ]
          },
          "metadata": {
            "tags": []
          },
          "execution_count": 242
        }
      ]
    },
    {
      "cell_type": "code",
      "metadata": {
        "id": "1slCO9PQ7Hqx"
      },
      "source": [
        "y_train = invTransform(scaler,y_train)\n",
        "y_train_pred = invTransform(scaler, y_train_pred[:,-1,-1])"
      ],
      "execution_count": null,
      "outputs": []
    },
    {
      "cell_type": "code",
      "metadata": {
        "colab": {
          "base_uri": "https://localhost:8080/"
        },
        "id": "vXOosC9X7JCN",
        "outputId": "c4cb870c-7801-4e77-eca8-c4a930aafd54"
      },
      "source": [
        "from math import sqrt\n",
        "m = len(y_train_pred)\n",
        "rmse = sqrt(mean_squared_error(y_train_pred,y_train,squared=False))\n",
        "rmse"
      ],
      "execution_count": null,
      "outputs": [
        {
          "output_type": "execute_result",
          "data": {
            "text/plain": [
              "19.899356136909063"
            ]
          },
          "metadata": {
            "tags": []
          },
          "execution_count": 244
        }
      ]
    },
    {
      "cell_type": "code",
      "metadata": {
        "colab": {
          "base_uri": "https://localhost:8080/",
          "height": 282
        },
        "id": "c-Qqslbf78lF",
        "outputId": "c20c6b3d-ea57-4256-9e55-7b50c7322926"
      },
      "source": [
        "# y_pred[2]\n",
        "# plt.plot(y_test)\n",
        "# y_pred = y_pred.reshape(1059,60)\n",
        "# print(type(y_pred[:-2]))\n",
        "# print(y_pred[:,0,-2].shape)\n",
        "plt.plot(y_pred[:-1], c='b')\n",
        "plt.plot(y_test[:-1], c='r')\n"
      ],
      "execution_count": null,
      "outputs": [
        {
          "output_type": "execute_result",
          "data": {
            "text/plain": [
              "[<matplotlib.lines.Line2D at 0x7fb60f386f10>]"
            ]
          },
          "metadata": {
            "tags": []
          },
          "execution_count": 245
        },
        {
          "output_type": "display_data",
          "data": {
            "image/png": "[encoded data removed]",
            "text/plain": [
              "<Figure size 432x288 with 1 Axes>"
            ]
          },
          "metadata": {
            "tags": [],
            "needs_background": "light"
          }
        }
      ]
    },
    {
      "cell_type": "markdown",
      "metadata": {
        "id": "rTTLYRHRKsOj"
      },
      "source": [
        "# Adjusted R2"
      ]
    },
    {
      "cell_type": "code",
      "metadata": {
        "id": "beWjZY7sJuoT",
        "colab": {
          "base_uri": "https://localhost:8080/"
        },
        "outputId": "9bfe6aac-1482-4313-e9bd-9dca85db0782"
      },
      "source": [
        "n = 2518\n",
        "p = 14\n",
        "adj_r2 = 1-(1-r2)*(n-1)/(n-p-1)\n",
        "print(adj_r2)"
      ],
      "execution_count": null,
      "outputs": [
        {
          "output_type": "stream",
          "text": [
            "0.7541046023993919\n"
          ],
          "name": "stdout"
        }
      ]
    },
    {
      "cell_type": "markdown",
      "metadata": {
        "id": "TNMGwWte7P9J"
      },
      "source": [
        "RMSE of training data: 3.6755\n",
        "RMSE of testing data: 4.5184"
      ]
    },
    {
      "cell_type": "code",
      "metadata": {
        "id": "h6SHCQrkItZI"
      },
      "source": [
        "# results = pd.read_csv('/content/gdrive/MyDrive/results.csv', index_col=[0])"
      ],
      "execution_count": null,
      "outputs": []
    },
    {
      "cell_type": "code",
      "metadata": {
        "id": "X8jvHduSEHR3"
      },
      "source": [
        "# results.describe()"
      ],
      "execution_count": null,
      "outputs": []
    },
    {
      "cell_type": "code",
      "metadata": {
        "id": "7YoH87FkESWL"
      },
      "source": [
        "# len(y_pred)"
      ],
      "execution_count": null,
      "outputs": []
    },
    {
      "cell_type": "code",
      "metadata": {
        "id": "QCy8woEHBgwW"
      },
      "source": [
        "ypred = {\"global20\": y_pred}"
      ],
      "execution_count": null,
      "outputs": []
    },
    {
      "cell_type": "code",
      "metadata": {
        "colab": {
          "base_uri": "https://localhost:8080/"
        },
        "id": "eW_4xS_8M1_h",
        "outputId": "adb3c0a8-bb55-4038-afa6-aee300f3994a"
      },
      "source": [
        "ypred"
      ],
      "execution_count": null,
      "outputs": [
        {
          "output_type": "execute_result",
          "data": {
            "text/plain": [
              "{'global20': array([ 8563.27109562,  8563.55897455,  8611.32101963, ...,\n",
              "        14652.02338774, 14702.11173592, 14766.84829496])}"
            ]
          },
          "metadata": {
            "tags": []
          },
          "execution_count": 251
        }
      ]
    },
    {
      "cell_type": "code",
      "metadata": {
        "id": "UgNH3GlwCYU1"
      },
      "source": [
        "# testdf = results.join(pd.DataFrame(ypred))"
      ],
      "execution_count": null,
      "outputs": []
    },
    {
      "cell_type": "code",
      "metadata": {
        "id": "friiLqp9H73s"
      },
      "source": [
        "testdf = pd.DataFrame(ypred)"
      ],
      "execution_count": null,
      "outputs": []
    },
    {
      "cell_type": "code",
      "metadata": {
        "id": "ezgEZAKfJVsk"
      },
      "source": [
        "testdf.to_csv('/content/gdrive/MyDrive/global20.csv');"
      ],
      "execution_count": null,
      "outputs": []
    },
    {
      "cell_type": "code",
      "metadata": {
        "id": "eu3GaVFRJi6x"
      },
      "source": [
        ""
      ],
      "execution_count": null,
      "outputs": []
    }
  ]
}